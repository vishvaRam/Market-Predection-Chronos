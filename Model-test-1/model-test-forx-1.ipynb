{
 "cells": [
  {
   "cell_type": "code",
   "execution_count": 2,
   "id": "1c8a7fe7",
   "metadata": {},
   "outputs": [],
   "source": [
    "import pandas as pd\n",
    "import numpy as np\n",
    "import torch\n",
    "from chronos import BaseChronosPipeline\n",
    "import plotly.graph_objects as go\n",
    "from plotly.subplots import make_subplots\n",
    "import warnings\n",
    "warnings.filterwarnings('ignore')"
   ]
  },
  {
   "cell_type": "code",
   "execution_count": 9,
   "id": "fc8959f6",
   "metadata": {},
   "outputs": [],
   "source": [
    "\n",
    "\n",
    "class ShortTermFinancialPredictor:\n",
    "    def __init__(self, model_name=\"amazon/chronos-bolt-base\", device=\"cuda\"):\n",
    "        \"\"\"Initialize predictor for short-term (1-day) forecasting\"\"\"\n",
    "        self.model_name = model_name\n",
    "        self.device = device if torch.cuda.is_available() else \"cpu\"\n",
    "        self.pipeline = None\n",
    "        self.df = None\n",
    "        self.features_df = None\n",
    "        \n",
    "    def load_data(self, csv_file_path, date_col=\"DATE\", close_col=\"CLOSE PRICE\"):\n",
    "        \"\"\"Load and preprocess financial data\"\"\"\n",
    "        print(\"Loading financial data for short-term prediction...\")\n",
    "        \n",
    "        # Load CSV\n",
    "        self.df = pd.read_csv(csv_file_path)\n",
    "        self.df.columns = self.df.columns.str.strip()\n",
    "        \n",
    "        # Convert date and sort\n",
    "        self.df[date_col.strip()] = pd.to_datetime(self.df[date_col.strip()], format='%d-%b-%Y')\n",
    "        self.df = self.df.sort_values(date_col.strip()).reset_index(drop=True)\n",
    "        \n",
    "        # Convert price columns to numeric\n",
    "        price_cols = ['OPEN PRICE', 'HIGH PRICE', 'LOW PRICE', 'CLOSE PRICE', 'SETTLE PRICE']\n",
    "        for col in price_cols:\n",
    "            if col in self.df.columns:\n",
    "                self.df[col] = pd.to_numeric(self.df[col], errors='coerce')\n",
    "        \n",
    "        # Handle volume (remove commas)\n",
    "        if 'Volume' in self.df.columns:\n",
    "            self.df['Volume'] = self.df['Volume'].astype(str).str.replace(',', '')\n",
    "            self.df['Volume'] = pd.to_numeric(self.df['Volume'], errors='coerce')\n",
    "        \n",
    "        # Remove rows with missing OHLC data\n",
    "        self.df = self.df.dropna(subset=price_cols[:4])\n",
    "        \n",
    "        print(f\"Data loaded: {len(self.df)} records from {self.df[date_col.strip()].min()} to {self.df[date_col.strip()].max()}\")\n",
    "        return self.df\n",
    "    \n",
    "    def engineer_short_term_features(self, target_col=\"CLOSE PRICE\"):\n",
    "        \"\"\"Create features optimized for short-term (1-day) prediction\"\"\"\n",
    "        print(\"Engineering short-term features...\")\n",
    "        \n",
    "        df = self.df.copy()\n",
    "        \n",
    "        # Short-term price patterns (last 3-7 days)\n",
    "        df['price_change_1d'] = df[target_col].pct_change(1)\n",
    "        df['price_change_2d'] = df[target_col].pct_change(2)\n",
    "        df['price_change_3d'] = df[target_col].pct_change(3)\n",
    "        \n",
    "        # Short-term momentum\n",
    "        df['momentum_3d'] = df[target_col] / df[target_col].shift(3) - 1\n",
    "        df['momentum_5d'] = df[target_col] / df[target_col].shift(5) - 1\n",
    "        \n",
    "        # Short-term volatility\n",
    "        df['volatility_3d'] = df['price_change_1d'].rolling(window=3).std()\n",
    "        df['volatility_5d'] = df['price_change_1d'].rolling(window=5).std()\n",
    "        \n",
    "        # High-Low spread (intraday volatility)\n",
    "        df['hl_spread'] = (df['HIGH PRICE'] - df['LOW PRICE']) / df[target_col]\n",
    "        df['hl_spread_ma3'] = df['hl_spread'].rolling(window=3).mean()\n",
    "        \n",
    "        # Short-term moving averages\n",
    "        df['SMA_3'] = df[target_col].rolling(window=3).mean()\n",
    "        df['SMA_5'] = df[target_col].rolling(window=5).mean()\n",
    "        df['SMA_7'] = df[target_col].rolling(window=7).mean()\n",
    "        \n",
    "        # Price position relative to recent range\n",
    "        df['price_position_3d'] = (df[target_col] - df[target_col].rolling(3).min()) / (df[target_col].rolling(3).max() - df[target_col].rolling(3).min())\n",
    "        df['price_position_5d'] = (df[target_col] - df[target_col].rolling(5).min()) / (df[target_col].rolling(5).max() - df[target_col].rolling(5).min())\n",
    "        \n",
    "        # Volume patterns (if available)\n",
    "        if 'Volume' in df.columns:\n",
    "            df['volume_change_1d'] = df['Volume'].pct_change(1)\n",
    "            df['volume_ma3'] = df['Volume'].rolling(window=3).mean()\n",
    "            df['volume_ratio'] = df['Volume'] / df['volume_ma3']\n",
    "        \n",
    "        # Gap analysis (open vs previous close)\n",
    "        df['gap'] = (df['OPEN PRICE'] - df[target_col].shift(1)) / df[target_col].shift(1)\n",
    "        \n",
    "        # Create feature matrix focusing on recent patterns\n",
    "        feature_columns = [\n",
    "            target_col, 'price_change_1d', 'price_change_2d', 'price_change_3d',\n",
    "            'momentum_3d', 'momentum_5d', 'volatility_3d', 'volatility_5d',\n",
    "            'hl_spread', 'SMA_3', 'SMA_5', 'SMA_7', \n",
    "            'price_position_3d', 'price_position_5d', 'gap'\n",
    "        ]\n",
    "        \n",
    "        # Add volume features if available\n",
    "        if 'Volume' in df.columns:\n",
    "            feature_columns.extend(['volume_change_1d', 'volume_ratio'])\n",
    "        \n",
    "        # Select available columns\n",
    "        available_features = [col for col in feature_columns if col in df.columns]\n",
    "        self.features_df = df[['DATE'] + available_features].copy()\n",
    "        \n",
    "        # Fill missing values with forward fill only for short-term\n",
    "        self.features_df = self.features_df.fillna(method='ffill')\n",
    "        \n",
    "        print(f\"Created {len(available_features)} short-term features\")\n",
    "        return self.features_df\n",
    "    \n",
    "    def load_model(self):\n",
    "        \"\"\"Load the Chronos-Bolt model\"\"\"\n",
    "        print(f\"Loading {self.model_name} model...\")\n",
    "        \n",
    "        self.pipeline = BaseChronosPipeline.from_pretrained(\n",
    "            self.model_name,\n",
    "            device_map=self.device,\n",
    "            torch_dtype=torch.bfloat16,\n",
    "        )\n",
    "        print(\"Model loaded successfully!\")\n",
    "    \n",
    "    def predict_next_day(self, context_days=7):\n",
    "        \"\"\"Predict next day using only last 7 days of data\"\"\"\n",
    "        if self.pipeline is None:\n",
    "            self.load_model()\n",
    "        \n",
    "        print(f\"Generating next-day forecast using last {context_days} days...\")\n",
    "        \n",
    "        # Use only close price for context (univariate works best for Chronos)\n",
    "        target_col = 'CLOSE PRICE'\n",
    "        close_prices = self.features_df[target_col].values\n",
    "        \n",
    "        # Take only last context_days observations\n",
    "        context = torch.tensor(close_prices[-context_days:], dtype=torch.float32)\n",
    "        \n",
    "        # Predict only 1 day ahead\n",
    "        forecast = self.pipeline.predict(\n",
    "            context=context,\n",
    "            prediction_length=1\n",
    "        )\n",
    "        \n",
    "        # Extract forecast\n",
    "        forecast_np = forecast[0].cpu().numpy()  # Remove batch dimension\n",
    "        \n",
    "        if len(forecast_np.shape) == 2:  # [prediction_length, num_quantiles]\n",
    "            num_quantiles = forecast_np.shape[1]\n",
    "            if num_quantiles >= 5:\n",
    "                quantiles = {\n",
    "                    'q10': forecast_np[0, 0],  # 10th percentile\n",
    "                    'q30': forecast_np[0, min(2, num_quantiles-1)],  # 30th percentile\n",
    "                    'q50': forecast_np[0, num_quantiles//2],  # Median\n",
    "                    'q70': forecast_np[0, min(num_quantiles-2, 3*num_quantiles//4)],  # 70th percentile\n",
    "                    'q90': forecast_np[0, -1]   # 90th percentile\n",
    "                }\n",
    "            else:\n",
    "                # Fallback if fewer quantiles\n",
    "                quantiles = {\n",
    "                    'q10': forecast_np[0, 0],\n",
    "                    'q30': forecast_np[0, 0],\n",
    "                    'q50': forecast_np[0, num_quantiles//2],\n",
    "                    'q70': forecast_np[0, -1],\n",
    "                    'q90': forecast_np[0, -1]\n",
    "                }\n",
    "            \n",
    "            mean_forecast = quantiles['q50']\n",
    "        else:\n",
    "            # Single forecast value\n",
    "            mean_forecast = float(forecast_np[0])\n",
    "            std_forecast = abs(mean_forecast * 0.02)  # 2% std dev assumption\n",
    "            quantiles = {\n",
    "                'q10': mean_forecast - 1.28 * std_forecast,\n",
    "                'q30': mean_forecast - 0.52 * std_forecast,\n",
    "                'q50': mean_forecast,\n",
    "                'q70': mean_forecast + 0.52 * std_forecast,\n",
    "                'q90': mean_forecast + 1.28 * std_forecast\n",
    "            }\n",
    "        \n",
    "        return {\n",
    "            'mean_forecast': mean_forecast,\n",
    "            'quantiles': quantiles,\n",
    "            'context_used': context.numpy(),\n",
    "            'current_price': close_prices[-1]\n",
    "        }\n",
    "    \n",
    "    def rolling_validation(self, validation_days=10, context_days=7):\n",
    "        \"\"\"Validate model using rolling window approach\"\"\"\n",
    "        print(f\"Running rolling validation for last {validation_days} days...\")\n",
    "        \n",
    "        if self.pipeline is None:\n",
    "            self.load_model()\n",
    "        \n",
    "        target_col = 'CLOSE PRICE'\n",
    "        close_prices = self.features_df[target_col].values\n",
    "        dates = self.features_df['DATE'].values\n",
    "        \n",
    "        predictions = []\n",
    "        actuals = []\n",
    "        prediction_dates = []\n",
    "        \n",
    "        # Start validation from day that has enough history\n",
    "        start_idx = max(context_days, len(close_prices) - validation_days - 1)\n",
    "        \n",
    "        for i in range(start_idx, len(close_prices) - 1):\n",
    "            # Use last context_days for prediction\n",
    "            context = torch.tensor(close_prices[i-context_days+1:i+1], dtype=torch.float32)\n",
    "            actual_next = close_prices[i+1]\n",
    "            \n",
    "            try:\n",
    "                # Predict next day\n",
    "                forecast = self.pipeline.predict(\n",
    "                    context=context,\n",
    "                    prediction_length=1\n",
    "                )\n",
    "                \n",
    "                forecast_np = forecast[0].cpu().numpy()\n",
    "                if len(forecast_np.shape) == 2:\n",
    "                    pred_next = forecast_np[0, forecast_np.shape[1]//2]  # Use median\n",
    "                else:\n",
    "                    pred_next = float(forecast_np[0])\n",
    "                \n",
    "                predictions.append(pred_next)\n",
    "                actuals.append(actual_next)\n",
    "                prediction_dates.append(dates[i+1])\n",
    "                \n",
    "            except Exception as e:\n",
    "                print(f\"Prediction failed for day {i}: {e}\")\n",
    "                continue\n",
    "        \n",
    "        # Calculate accuracy metrics\n",
    "        predictions = np.array(predictions)\n",
    "        actuals = np.array(actuals)\n",
    "        \n",
    "        mape = np.mean(np.abs((actuals - predictions) / actuals)) * 100\n",
    "        rmse = np.sqrt(np.mean((actuals - predictions) ** 2))\n",
    "        mae = np.mean(np.abs(actuals - predictions))\n",
    "        \n",
    "        # Direction accuracy (up/down prediction)\n",
    "        actual_directions = np.sign(np.diff(actuals))\n",
    "        pred_directions = np.sign(predictions[1:] - actuals[:-1])\n",
    "        direction_accuracy = np.mean(actual_directions == pred_directions) * 100\n",
    "        \n",
    "        print(f\"\\nValidation Results ({len(predictions)} predictions):\")\n",
    "        print(f\"MAPE: {mape:.2f}%\")\n",
    "        print(f\"RMSE: {rmse:.4f}\")\n",
    "        print(f\"MAE: {mae:.4f}\")\n",
    "        print(f\"Direction Accuracy: {direction_accuracy:.1f}%\")\n",
    "        \n",
    "        return {\n",
    "            'predictions': predictions,\n",
    "            'actuals': actuals,\n",
    "            'dates': prediction_dates,\n",
    "            'mape': mape,\n",
    "            'rmse': rmse,\n",
    "            'mae': mae,\n",
    "            'direction_accuracy': direction_accuracy\n",
    "        }\n",
    "    \n",
    "    def plot_short_term_forecast(self, forecast_result, validation_result=None):\n",
    "        \"\"\"Corrected plot for short-term forecast with proper validation visualization\"\"\"\n",
    "        \n",
    "        # Get recent data for context\n",
    "        lookback = 20  # Show more context\n",
    "        recent_dates = self.features_df['DATE'].values[-lookback:]\n",
    "        recent_prices = self.features_df['CLOSE PRICE'].values[-lookback:]\n",
    "        \n",
    "        # Create next day date\n",
    "        last_date = pd.to_datetime(recent_dates[-1])\n",
    "        next_date = last_date + pd.Timedelta(days=1)\n",
    "        \n",
    "        fig = make_subplots(\n",
    "            rows=3, cols=1,\n",
    "            shared_xaxes=True,\n",
    "            vertical_spacing=0.05,\n",
    "            subplot_titles=[\n",
    "                'Historical Prices + Next Day Prediction',\n",
    "                'Validation: Actual vs Predicted (Recent 10 Days)',\n",
    "                'Prediction Accuracy Analysis'\n",
    "            ],\n",
    "            row_heights=[0.4, 0.35, 0.25]\n",
    "        )\n",
    "        \n",
    "        # --- ROW 1: Historical prices with next day prediction ---\n",
    "        fig.add_trace(\n",
    "            go.Scatter(\n",
    "                x=recent_dates,\n",
    "                y=recent_prices,\n",
    "                mode='lines+markers',\n",
    "                name='Historical Prices',\n",
    "                line=dict(color='blue', width=2),\n",
    "                marker=dict(size=4)\n",
    "            ),\n",
    "            row=1, col=1\n",
    "        )\n",
    "        \n",
    "        # Next day prediction with error bars\n",
    "        mean_pred = forecast_result['mean_forecast']\n",
    "        quantiles = forecast_result['quantiles']\n",
    "        \n",
    "        # Main prediction point\n",
    "        fig.add_trace(\n",
    "            go.Scatter(\n",
    "                x=[next_date],\n",
    "                y=[mean_pred],\n",
    "                mode='markers',\n",
    "                name='Next Day Prediction',\n",
    "                marker=dict(color='red', size=15, symbol='star'),\n",
    "                error_y=dict(\n",
    "                    type='data',\n",
    "                    symmetric=False,\n",
    "                    array=[quantiles['q90'] - mean_pred],  # Upper error\n",
    "                    arrayminus=[mean_pred - quantiles['q10']],  # Lower error\n",
    "                    visible=True,\n",
    "                    color='red',\n",
    "                    thickness=3,\n",
    "                    width=5\n",
    "                )\n",
    "            ),\n",
    "            row=1, col=1\n",
    "        )\n",
    "        \n",
    "        # Add prediction range as shaded area\n",
    "        fig.add_trace(\n",
    "            go.Scatter(\n",
    "                x=[next_date, next_date, next_date],\n",
    "                y=[quantiles['q10'], mean_pred, quantiles['q90']],\n",
    "                mode='markers',\n",
    "                name='90% Range',\n",
    "                marker=dict(color='red', size=8, opacity=0.3),\n",
    "                showlegend=False\n",
    "            ),\n",
    "            row=1, col=1\n",
    "        )\n",
    "        \n",
    "        # --- ROW 2: Validation results (if available) ---\n",
    "        if validation_result is not None:\n",
    "            val_dates = pd.to_datetime(validation_result['dates'])\n",
    "            val_actuals = validation_result['actuals']\n",
    "            val_predictions = validation_result['predictions']\n",
    "            \n",
    "            # Actual prices\n",
    "            fig.add_trace(\n",
    "                go.Scatter(\n",
    "                    x=val_dates,\n",
    "                    y=val_actuals,\n",
    "                    mode='lines+markers',\n",
    "                    name='Actual Prices',\n",
    "                    line=dict(color='green', width=2),\n",
    "                    marker=dict(size=6)\n",
    "                ),\n",
    "                row=2, col=1\n",
    "            )\n",
    "            \n",
    "            # Predicted prices\n",
    "            fig.add_trace(\n",
    "                go.Scatter(\n",
    "                    x=val_dates,\n",
    "                    y=val_predictions,\n",
    "                    mode='lines+markers',\n",
    "                    name='Predicted Prices',\n",
    "                    line=dict(color='red', width=2, dash='dash'),\n",
    "                    marker=dict(size=6, symbol='x')\n",
    "                ),\n",
    "                row=2, col=1\n",
    "            )\n",
    "            \n",
    "            # --- ROW 3: Prediction accuracy analysis ---\n",
    "            # Prediction errors\n",
    "            errors = val_actuals - val_predictions\n",
    "            error_pct = (errors / val_actuals) * 100\n",
    "            \n",
    "            # Error bars\n",
    "            colors = ['green' if abs(e) < 0.5 else 'orange' if abs(e) < 1.0 else 'red' for e in error_pct]\n",
    "            \n",
    "            fig.add_trace(\n",
    "                go.Bar(\n",
    "                    x=val_dates,\n",
    "                    y=error_pct,\n",
    "                    name='Prediction Error %',\n",
    "                    marker_color=colors,\n",
    "                    text=[f'{e:.1f}%' for e in error_pct],\n",
    "                    textposition='outside'\n",
    "                ),\n",
    "                row=3, col=1\n",
    "            )\n",
    "            \n",
    "            # Add horizontal lines for acceptable error ranges\n",
    "            fig.add_hline(y=1.0, line_dash=\"dash\", line_color=\"orange\", \n",
    "                        annotation_text=\"±1% Error\", row=3, col=1)\n",
    "            fig.add_hline(y=-1.0, line_dash=\"dash\", line_color=\"orange\", row=3, col=1)\n",
    "            fig.add_hline(y=0.5, line_dash=\"dot\", line_color=\"green\", row=3, col=1)\n",
    "            fig.add_hline(y=-0.5, line_dash=\"dot\", line_color=\"green\", row=3, col=1)\n",
    "        \n",
    "        # Update layout\n",
    "        fig.update_layout(\n",
    "            title='Short-Term Financial Forecast Analysis (7-Day Context → 1-Day Prediction)',\n",
    "            height=800,\n",
    "            showlegend=True,\n",
    "            legend=dict(\n",
    "                orientation=\"v\",\n",
    "                yanchor=\"top\",\n",
    "                y=0.99,\n",
    "                xanchor=\"left\",\n",
    "                x=1.01\n",
    "            )\n",
    "        )\n",
    "        \n",
    "        # Update axes\n",
    "        fig.update_xaxes(title_text=\"Date\", row=3, col=1)\n",
    "        fig.update_yaxes(title_text=\"Price (₹)\", row=1, col=1)\n",
    "        fig.update_yaxes(title_text=\"Price (₹)\", row=2, col=1)\n",
    "        fig.update_yaxes(title_text=\"Error (%)\", row=3, col=1)\n",
    "        \n",
    "        # Add current price and prediction info as annotation\n",
    "        current_price = forecast_result['current_price']\n",
    "        change_pct = (mean_pred / current_price - 1) * 100\n",
    "        \n",
    "        fig.add_annotation(\n",
    "            x=0.02, y=0.98,\n",
    "            xref=\"paper\", yref=\"paper\",\n",
    "            text=f\"Current: ₹{current_price:.4f}<br>Predicted: ₹{mean_pred:.4f}<br>Change: {change_pct:+.2f}%\",\n",
    "            showarrow=False,\n",
    "            align=\"left\",\n",
    "            bgcolor=\"rgba(255,255,255,0.8)\",\n",
    "            bordercolor=\"black\",\n",
    "            borderwidth=1\n",
    "        )\n",
    "        \n",
    "        # Save as HTML\n",
    "        fig.write_html(\"corrected_short_term_forecast.html\")\n",
    "        print(\"Corrected forecast chart saved to 'corrected_short_term_forecast.html'\")\n",
    "        \n",
    "        fig.show()\n",
    "        return fig\n",
    "\n",
    "    # Additional function to create a model performance summary\n",
    "    def plot_model_performance_summary(self, validation_result):\n",
    "        \"\"\"Create a comprehensive model performance dashboard\"\"\"\n",
    "        \n",
    "        if validation_result is None:\n",
    "            print(\"No validation results available for performance analysis\")\n",
    "            return None\n",
    "        \n",
    "        val_actuals = validation_result['actuals']\n",
    "        val_predictions = validation_result['predictions']\n",
    "        dates = pd.to_datetime(validation_result['dates'])\n",
    "        \n",
    "        # Calculate metrics\n",
    "        errors = val_actuals - val_predictions\n",
    "        error_pct = (errors / val_actuals) * 100\n",
    "        abs_error_pct = np.abs(error_pct)\n",
    "        \n",
    "        # Direction accuracy\n",
    "        actual_directions = np.diff(val_actuals) > 0  # True if price went up\n",
    "        pred_directions = val_predictions[1:] > val_actuals[:-1]  # True if predicted higher than previous actual\n",
    "        direction_matches = actual_directions == pred_directions\n",
    "        \n",
    "        fig = make_subplots(\n",
    "            rows=2, cols=2,\n",
    "            subplot_titles=[\n",
    "                'Prediction vs Actual Scatter',\n",
    "                'Error Distribution',\n",
    "                'Direction Accuracy Over Time',\n",
    "                'Model Performance Metrics'\n",
    "            ],\n",
    "            specs=[[{\"type\": \"scatter\"}, {\"type\": \"histogram\"}],\n",
    "                [{\"type\": \"scatter\"}, {\"type\": \"table\"}]]\n",
    "        )\n",
    "        \n",
    "        # 1. Prediction vs Actual scatter plot\n",
    "        fig.add_trace(\n",
    "            go.Scatter(\n",
    "                x=val_actuals,\n",
    "                y=val_predictions,\n",
    "                mode='markers',\n",
    "                name='Predictions',\n",
    "                marker=dict(size=8, color='blue', opacity=0.6)\n",
    "            ),\n",
    "            row=1, col=1\n",
    "        )\n",
    "        \n",
    "        # Perfect prediction line\n",
    "        min_val, max_val = min(val_actuals.min(), val_predictions.min()), max(val_actuals.max(), val_predictions.max())\n",
    "        fig.add_trace(\n",
    "            go.Scatter(\n",
    "                x=[min_val, max_val],\n",
    "                y=[min_val, max_val],\n",
    "                mode='lines',\n",
    "                name='Perfect Prediction',\n",
    "                line=dict(color='red', dash='dash')\n",
    "            ),\n",
    "            row=1, col=1\n",
    "        )\n",
    "        \n",
    "        # 2. Error distribution histogram\n",
    "        fig.add_trace(\n",
    "            go.Histogram(\n",
    "                x=error_pct,\n",
    "                nbinsx=15,\n",
    "                name='Error Distribution',\n",
    "                marker_color='lightblue'\n",
    "            ),\n",
    "            row=1, col=2\n",
    "        )\n",
    "        \n",
    "        # 3. Direction accuracy over time\n",
    "        fig.add_trace(\n",
    "            go.Scatter(\n",
    "                x=dates[1:],  # Skip first date since we need differences\n",
    "                y=direction_matches.astype(int),\n",
    "                mode='markers+lines',\n",
    "                name='Direction Correct',\n",
    "                marker=dict(\n",
    "                    size=8,\n",
    "                    color=['green' if x else 'red' for x in direction_matches]\n",
    "                )\n",
    "            ),\n",
    "            row=2, col=1\n",
    "        )\n",
    "        \n",
    "        # 4. Performance metrics table\n",
    "        metrics_data = [\n",
    "            ['MAPE', f\"{validation_result['mape']:.2f}%\"],\n",
    "            ['RMSE', f\"{validation_result['rmse']:.4f}\"],\n",
    "            ['MAE', f\"{validation_result['mae']:.4f}\"],\n",
    "            ['Direction Accuracy', f\"{validation_result['direction_accuracy']:.1f}%\"],\n",
    "            ['Avg Error', f\"{np.mean(error_pct):.2f}%\"],\n",
    "            ['Std Error', f\"{np.std(error_pct):.2f}%\"],\n",
    "            ['Max Error', f\"{np.max(abs_error_pct):.2f}%\"],\n",
    "            ['Errors < 0.5%', f\"{np.sum(abs_error_pct < 0.5)/len(abs_error_pct)*100:.1f}%\"],\n",
    "            ['Errors < 1.0%', f\"{np.sum(abs_error_pct < 1.0)/len(abs_error_pct)*100:.1f}%\"]\n",
    "        ]\n",
    "        \n",
    "        fig.add_trace(\n",
    "            go.Table(\n",
    "                header=dict(values=['Metric', 'Value']),\n",
    "                cells=dict(values=[[row[0] for row in metrics_data], \n",
    "                                [row[1] for row in metrics_data]])\n",
    "            ),\n",
    "            row=2, col=2\n",
    "        )\n",
    "        \n",
    "        fig.update_layout(\n",
    "            title='Model Performance Analysis Dashboard',\n",
    "            height=700,\n",
    "            showlegend=True\n",
    "        )\n",
    "        \n",
    "        fig.update_xaxes(title_text=\"Actual Price\", row=1, col=1)\n",
    "        fig.update_yaxes(title_text=\"Predicted Price\", row=1, col=1)\n",
    "        fig.update_xaxes(title_text=\"Error %\", row=1, col=2)\n",
    "        fig.update_yaxes(title_text=\"Frequency\", row=1, col=2)\n",
    "        fig.update_xaxes(title_text=\"Date\", row=2, col=1)\n",
    "        fig.update_yaxes(title_text=\"Correct (1) / Wrong (0)\", row=2, col=1)\n",
    "        \n",
    "        fig.write_html(\"model_performance_dashboard.html\")\n",
    "        print(\"Performance dashboard saved to 'model_performance_dashboard.html'\")\n",
    "        \n",
    "        fig.show()\n",
    "        return fig\n",
    "\n",
    "    # Update the main class to include these corrected methods\n",
    "    def add_corrected_plotting_methods(predictor_instance):\n",
    "        \"\"\"Add corrected plotting methods to existing predictor instance\"\"\"\n",
    "        import types\n",
    "        \n",
    "        predictor_instance.plot_short_term_forecast = types.MethodType(plot_short_term_forecast, predictor_instance)\n",
    "        predictor_instance.plot_model_performance_summary = types.MethodType(plot_model_performance_summary, predictor_instance)\n",
    "        \n",
    "        return predictor_instance\n",
    "\n",
    "# Usage example:\n",
    "# predictor = add_corrected_plotting_methods(predictor)\n",
    "# predictor.plot_short_term_forecast(forecast, validation)\n",
    "# predictor.plot_model_performance_summary(validation)\n",
    "\n",
    "    \n"
   ]
  },
  {
   "cell_type": "code",
   "execution_count": 10,
   "id": "98c090ba",
   "metadata": {},
   "outputs": [],
   "source": [
    "\n",
    "\n",
    "# Main execution function for short-term prediction\n",
    "def run_short_term_forecast(csv_file=\"Quote-CD-USDINR-15-09-2024-to-15-09-2025.csv\"):\n",
    "    \"\"\"Run short-term (next day) forecasting pipeline\"\"\"\n",
    "    \n",
    "    # Initialize predictor\n",
    "    predictor = ShortTermFinancialPredictor(\n",
    "        model_name=\"amazon/chronos-bolt-base\",\n",
    "        device=\"cuda\"\n",
    "    )\n",
    "    \n",
    "    # Load and process data\n",
    "    predictor.load_data(csv_file)\n",
    "    predictor.engineer_short_term_features()\n",
    "    \n",
    "    # Run validation first to check accuracy\n",
    "    validation_results = predictor.rolling_validation(\n",
    "        validation_days=10,\n",
    "        context_days=20\n",
    "    )\n",
    "    \n",
    "    # Generate next day forecast\n",
    "    forecast_result = predictor.predict_next_day(context_days=7)\n",
    "    \n",
    "    # Plot results\n",
    "    fig = predictor.plot_short_term_forecast(forecast_result, validation_results)\n",
    "    \n",
    "    # Print detailed results\n",
    "    current_price = forecast_result['current_price']\n",
    "    predicted_price = forecast_result['mean_forecast']\n",
    "    change_pct = (predicted_price / current_price - 1) * 100\n",
    "    \n",
    "    print(\"\\n\" + \"=\"*60)\n",
    "    print(\"SHORT-TERM FORECAST SUMMARY (NEXT DAY)\")\n",
    "    print(\"=\"*60)\n",
    "    print(f\"Current Price: ₹{current_price:.4f}\")\n",
    "    print(f\"Predicted Next Day Price: ₹{predicted_price:.4f}\")\n",
    "    print(f\"Expected Change: {change_pct:.2f}%\")\n",
    "    print(f\"Confidence Range: ₹{forecast_result['quantiles']['q10']:.4f} - ₹{forecast_result['quantiles']['q90']:.4f}\")\n",
    "    \n",
    "    # Trading signal\n",
    "    if abs(change_pct) > 0.5:\n",
    "        signal = \"BUY 📈\" if change_pct > 0 else \"SELL 📉\"\n",
    "        strength = \"STRONG\" if abs(change_pct) > 1.0 else \"WEAK\"\n",
    "    else:\n",
    "        signal = \"HOLD ➖\"\n",
    "        strength = \"\"\n",
    "    \n",
    "    print(f\"Trading Signal: {strength} {signal}\")\n",
    "    print(f\"Model Validation Accuracy: {validation_results['direction_accuracy']:.1f}%\")\n",
    "    \n",
    "    return predictor, forecast_result, validation_results\n"
   ]
  },
  {
   "cell_type": "code",
   "execution_count": 11,
   "id": "50ce9ce1",
   "metadata": {},
   "outputs": [
    {
     "name": "stdout",
     "output_type": "stream",
     "text": [
      "Loading financial data for short-term prediction...\n",
      "Data loaded: 92 records from 2024-09-30 00:00:00 to 2025-09-12 00:00:00\n",
      "Engineering short-term features...\n",
      "Created 17 short-term features\n",
      "Running rolling validation for last 10 days...\n",
      "Loading amazon/chronos-bolt-base model...\n",
      "Model loaded successfully!\n",
      "\n",
      "Validation Results (10 predictions):\n",
      "MAPE: 0.53%\n",
      "RMSE: 0.4996\n",
      "MAE: 0.4679\n",
      "Direction Accuracy: 55.6%\n",
      "Generating next-day forecast using last 7 days...\n",
      "Corrected forecast chart saved to 'corrected_short_term_forecast.html'\n"
     ]
    },
    {
     "data": {
      "application/vnd.plotly.v1+json": {
       "config": {
        "plotlyServerURL": "https://plot.ly"
       },
       "data": [
        {
         "line": {
          "color": "blue",
          "width": 2
         },
         "marker": {
          "size": 4
         },
         "mode": "lines+markers",
         "name": "Historical Prices",
         "type": "scatter",
         "x": [
          "2025-08-13T00:00:00.000000000",
          "2025-08-14T00:00:00.000000000",
          "2025-08-18T00:00:00.000000000",
          "2025-08-19T00:00:00.000000000",
          "2025-08-20T00:00:00.000000000",
          "2025-08-21T00:00:00.000000000",
          "2025-08-22T00:00:00.000000000",
          "2025-08-25T00:00:00.000000000",
          "2025-08-26T00:00:00.000000000",
          "2025-08-28T00:00:00.000000000",
          "2025-08-29T00:00:00.000000000",
          "2025-09-01T00:00:00.000000000",
          "2025-09-02T00:00:00.000000000",
          "2025-09-03T00:00:00.000000000",
          "2025-09-04T00:00:00.000000000",
          "2025-09-05T00:00:00.000000000",
          "2025-09-09T00:00:00.000000000",
          "2025-09-10T00:00:00.000000000",
          "2025-09-11T00:00:00.000000000",
          "2025-09-12T00:00:00.000000000"
         ],
         "xaxis": "x",
         "y": {
          "bdata": "KVyPwvXoVUCPwvUoXO9VQDMzMzMz41VAexSuR+HKVUAfhetRuM5VQHsUrkfh2lVACtejcD3qVUA9CtejcO1VQKRwPQrX81VAzczMzMzsVUAzMzMzMxNWQBSuR+F6FFZAcT0K16MQVkApXI/C9QhWQK5H4XoUDlZAhetRuB4VVkAfhetRuA5WQM3MzMzMDFZAAAAAAAAgVkAUrkfhehRWQA==",
          "dtype": "f8"
         },
         "yaxis": "y"
        },
        {
         "error_y": {
          "array": [
           0
          ],
          "arrayminus": [
           0
          ],
          "color": "red",
          "symmetric": false,
          "thickness": 3,
          "type": "data",
          "visible": true,
          "width": 5
         },
         "marker": {
          "color": "red",
          "size": 15,
          "symbol": "star"
         },
         "mode": "markers",
         "name": "Next Day Prediction",
         "type": "scatter",
         "x": [
          "2025-09-13T00:00:00"
         ],
         "xaxis": "x",
         "y": [
          88.16724395751953
         ],
         "yaxis": "y"
        },
        {
         "marker": {
          "color": "red",
          "opacity": 0.3,
          "size": 8
         },
         "mode": "markers",
         "name": "90% Range",
         "showlegend": false,
         "type": "scatter",
         "x": [
          "2025-09-13T00:00:00",
          "2025-09-13T00:00:00",
          "2025-09-13T00:00:00"
         ],
         "xaxis": "x",
         "y": [
          88.16724395751953,
          88.16724395751953,
          88.16724395751953
         ],
         "yaxis": "y"
        },
        {
         "line": {
          "color": "green",
          "width": 2
         },
         "marker": {
          "size": 6
         },
         "mode": "lines+markers",
         "name": "Actual Prices",
         "type": "scatter",
         "x": [
          "2025-08-29T00:00:00.000000000",
          "2025-09-01T00:00:00.000000000",
          "2025-09-02T00:00:00.000000000",
          "2025-09-03T00:00:00.000000000",
          "2025-09-04T00:00:00.000000000",
          "2025-09-05T00:00:00.000000000",
          "2025-09-09T00:00:00.000000000",
          "2025-09-10T00:00:00.000000000",
          "2025-09-11T00:00:00.000000000",
          "2025-09-12T00:00:00.000000000"
         ],
         "xaxis": "x2",
         "y": {
          "bdata": "MzMzMzMTVkAUrkfhehRWQHE9CtejEFZAKVyPwvUIVkCuR+F6FA5WQIXrUbgeFVZAH4XrUbgOVkDNzMzMzAxWQAAAAAAAIFZAFK5H4XoUVkA=",
          "dtype": "f8"
         },
         "yaxis": "y2"
        },
        {
         "line": {
          "color": "red",
          "dash": "dash",
          "width": 2
         },
         "marker": {
          "size": 6,
          "symbol": "x"
         },
         "mode": "lines+markers",
         "name": "Predicted Prices",
         "type": "scatter",
         "x": [
          "2025-08-29T00:00:00.000000000",
          "2025-09-01T00:00:00.000000000",
          "2025-09-02T00:00:00.000000000",
          "2025-09-03T00:00:00.000000000",
          "2025-09-04T00:00:00.000000000",
          "2025-09-05T00:00:00.000000000",
          "2025-09-09T00:00:00.000000000",
          "2025-09-10T00:00:00.000000000",
          "2025-09-11T00:00:00.000000000",
          "2025-09-12T00:00:00.000000000"
         ],
         "xaxis": "x2",
         "y": {
          "bdata": "fvauQrlur0Kem69CSbSvQi11r0KLlq9ClvWvQgvHr0ICvq9CkgywQg==",
          "dtype": "f4"
         },
         "yaxis": "y2"
        },
        {
         "marker": {
          "color": [
           "orange",
           "orange",
           "orange",
           "green",
           "orange",
           "orange",
           "green",
           "green",
           "orange",
           "green"
          ]
         },
         "name": "Prediction Error %",
         "text": [
          "0.9%",
          "0.7%",
          "0.5%",
          "0.3%",
          "0.6%",
          "0.6%",
          "0.3%",
          "0.4%",
          "0.7%",
          "0.3%"
         ],
         "textposition": "outside",
         "type": "bar",
         "x": [
          "2025-08-29T00:00:00.000000000",
          "2025-09-01T00:00:00.000000000",
          "2025-09-02T00:00:00.000000000",
          "2025-09-03T00:00:00.000000000",
          "2025-09-04T00:00:00.000000000",
          "2025-09-05T00:00:00.000000000",
          "2025-09-09T00:00:00.000000000",
          "2025-09-10T00:00:00.000000000",
          "2025-09-11T00:00:00.000000000",
          "2025-09-12T00:00:00.000000000"
         ],
         "xaxis": "x3",
         "y": {
          "bdata": "yoz+pkCq7T90dmCu89/lP5HqmMT/iOA/I1HUj0zn1D/bD+rNrNDhP7v3mp3CauM/NBGWlLko0j+6uyU3qZXWP2HNEuNTveY/GcTPKMlo1T8=",
          "dtype": "f8"
         },
         "yaxis": "y3"
        }
       ],
       "layout": {
        "annotations": [
         {
          "font": {
           "size": 16
          },
          "showarrow": false,
          "text": "Historical Prices + Next Day Prediction",
          "x": 0.5,
          "xanchor": "center",
          "xref": "paper",
          "y": 1,
          "yanchor": "bottom",
          "yref": "paper"
         },
         {
          "font": {
           "size": 16
          },
          "showarrow": false,
          "text": "Validation: Actual vs Predicted (Recent 10 Days)",
          "x": 0.5,
          "xanchor": "center",
          "xref": "paper",
          "y": 0.5900000000000001,
          "yanchor": "bottom",
          "yref": "paper"
         },
         {
          "font": {
           "size": 16
          },
          "showarrow": false,
          "text": "Prediction Accuracy Analysis",
          "x": 0.5,
          "xanchor": "center",
          "xref": "paper",
          "y": 0.225,
          "yanchor": "bottom",
          "yref": "paper"
         },
         {
          "showarrow": false,
          "text": "±1% Error",
          "x": 1,
          "xanchor": "right",
          "xref": "x3 domain",
          "y": 1,
          "yanchor": "bottom",
          "yref": "y3"
         },
         {
          "align": "left",
          "bgcolor": "rgba(255,255,255,0.8)",
          "bordercolor": "black",
          "borderwidth": 1,
          "showarrow": false,
          "text": "Current: ₹88.3200<br>Predicted: ₹88.1672<br>Change: -0.17%",
          "x": 0.02,
          "xref": "paper",
          "y": 0.98,
          "yref": "paper"
         }
        ],
        "height": 800,
        "legend": {
         "orientation": "v",
         "x": 1.01,
         "xanchor": "left",
         "y": 0.99,
         "yanchor": "top"
        },
        "shapes": [
         {
          "line": {
           "color": "orange",
           "dash": "dash"
          },
          "type": "line",
          "x0": 0,
          "x1": 1,
          "xref": "x3 domain",
          "y0": 1,
          "y1": 1,
          "yref": "y3"
         },
         {
          "line": {
           "color": "orange",
           "dash": "dash"
          },
          "type": "line",
          "x0": 0,
          "x1": 1,
          "xref": "x3 domain",
          "y0": -1,
          "y1": -1,
          "yref": "y3"
         },
         {
          "line": {
           "color": "green",
           "dash": "dot"
          },
          "type": "line",
          "x0": 0,
          "x1": 1,
          "xref": "x3 domain",
          "y0": 0.5,
          "y1": 0.5,
          "yref": "y3"
         },
         {
          "line": {
           "color": "green",
           "dash": "dot"
          },
          "type": "line",
          "x0": 0,
          "x1": 1,
          "xref": "x3 domain",
          "y0": -0.5,
          "y1": -0.5,
          "yref": "y3"
         }
        ],
        "showlegend": true,
        "template": {
         "data": {
          "bar": [
           {
            "error_x": {
             "color": "#2a3f5f"
            },
            "error_y": {
             "color": "#2a3f5f"
            },
            "marker": {
             "line": {
              "color": "#E5ECF6",
              "width": 0.5
             },
             "pattern": {
              "fillmode": "overlay",
              "size": 10,
              "solidity": 0.2
             }
            },
            "type": "bar"
           }
          ],
          "barpolar": [
           {
            "marker": {
             "line": {
              "color": "#E5ECF6",
              "width": 0.5
             },
             "pattern": {
              "fillmode": "overlay",
              "size": 10,
              "solidity": 0.2
             }
            },
            "type": "barpolar"
           }
          ],
          "carpet": [
           {
            "aaxis": {
             "endlinecolor": "#2a3f5f",
             "gridcolor": "white",
             "linecolor": "white",
             "minorgridcolor": "white",
             "startlinecolor": "#2a3f5f"
            },
            "baxis": {
             "endlinecolor": "#2a3f5f",
             "gridcolor": "white",
             "linecolor": "white",
             "minorgridcolor": "white",
             "startlinecolor": "#2a3f5f"
            },
            "type": "carpet"
           }
          ],
          "choropleth": [
           {
            "colorbar": {
             "outlinewidth": 0,
             "ticks": ""
            },
            "type": "choropleth"
           }
          ],
          "contour": [
           {
            "colorbar": {
             "outlinewidth": 0,
             "ticks": ""
            },
            "colorscale": [
             [
              0,
              "#0d0887"
             ],
             [
              0.1111111111111111,
              "#46039f"
             ],
             [
              0.2222222222222222,
              "#7201a8"
             ],
             [
              0.3333333333333333,
              "#9c179e"
             ],
             [
              0.4444444444444444,
              "#bd3786"
             ],
             [
              0.5555555555555556,
              "#d8576b"
             ],
             [
              0.6666666666666666,
              "#ed7953"
             ],
             [
              0.7777777777777778,
              "#fb9f3a"
             ],
             [
              0.8888888888888888,
              "#fdca26"
             ],
             [
              1,
              "#f0f921"
             ]
            ],
            "type": "contour"
           }
          ],
          "contourcarpet": [
           {
            "colorbar": {
             "outlinewidth": 0,
             "ticks": ""
            },
            "type": "contourcarpet"
           }
          ],
          "heatmap": [
           {
            "colorbar": {
             "outlinewidth": 0,
             "ticks": ""
            },
            "colorscale": [
             [
              0,
              "#0d0887"
             ],
             [
              0.1111111111111111,
              "#46039f"
             ],
             [
              0.2222222222222222,
              "#7201a8"
             ],
             [
              0.3333333333333333,
              "#9c179e"
             ],
             [
              0.4444444444444444,
              "#bd3786"
             ],
             [
              0.5555555555555556,
              "#d8576b"
             ],
             [
              0.6666666666666666,
              "#ed7953"
             ],
             [
              0.7777777777777778,
              "#fb9f3a"
             ],
             [
              0.8888888888888888,
              "#fdca26"
             ],
             [
              1,
              "#f0f921"
             ]
            ],
            "type": "heatmap"
           }
          ],
          "histogram": [
           {
            "marker": {
             "pattern": {
              "fillmode": "overlay",
              "size": 10,
              "solidity": 0.2
             }
            },
            "type": "histogram"
           }
          ],
          "histogram2d": [
           {
            "colorbar": {
             "outlinewidth": 0,
             "ticks": ""
            },
            "colorscale": [
             [
              0,
              "#0d0887"
             ],
             [
              0.1111111111111111,
              "#46039f"
             ],
             [
              0.2222222222222222,
              "#7201a8"
             ],
             [
              0.3333333333333333,
              "#9c179e"
             ],
             [
              0.4444444444444444,
              "#bd3786"
             ],
             [
              0.5555555555555556,
              "#d8576b"
             ],
             [
              0.6666666666666666,
              "#ed7953"
             ],
             [
              0.7777777777777778,
              "#fb9f3a"
             ],
             [
              0.8888888888888888,
              "#fdca26"
             ],
             [
              1,
              "#f0f921"
             ]
            ],
            "type": "histogram2d"
           }
          ],
          "histogram2dcontour": [
           {
            "colorbar": {
             "outlinewidth": 0,
             "ticks": ""
            },
            "colorscale": [
             [
              0,
              "#0d0887"
             ],
             [
              0.1111111111111111,
              "#46039f"
             ],
             [
              0.2222222222222222,
              "#7201a8"
             ],
             [
              0.3333333333333333,
              "#9c179e"
             ],
             [
              0.4444444444444444,
              "#bd3786"
             ],
             [
              0.5555555555555556,
              "#d8576b"
             ],
             [
              0.6666666666666666,
              "#ed7953"
             ],
             [
              0.7777777777777778,
              "#fb9f3a"
             ],
             [
              0.8888888888888888,
              "#fdca26"
             ],
             [
              1,
              "#f0f921"
             ]
            ],
            "type": "histogram2dcontour"
           }
          ],
          "mesh3d": [
           {
            "colorbar": {
             "outlinewidth": 0,
             "ticks": ""
            },
            "type": "mesh3d"
           }
          ],
          "parcoords": [
           {
            "line": {
             "colorbar": {
              "outlinewidth": 0,
              "ticks": ""
             }
            },
            "type": "parcoords"
           }
          ],
          "pie": [
           {
            "automargin": true,
            "type": "pie"
           }
          ],
          "scatter": [
           {
            "fillpattern": {
             "fillmode": "overlay",
             "size": 10,
             "solidity": 0.2
            },
            "type": "scatter"
           }
          ],
          "scatter3d": [
           {
            "line": {
             "colorbar": {
              "outlinewidth": 0,
              "ticks": ""
             }
            },
            "marker": {
             "colorbar": {
              "outlinewidth": 0,
              "ticks": ""
             }
            },
            "type": "scatter3d"
           }
          ],
          "scattercarpet": [
           {
            "marker": {
             "colorbar": {
              "outlinewidth": 0,
              "ticks": ""
             }
            },
            "type": "scattercarpet"
           }
          ],
          "scattergeo": [
           {
            "marker": {
             "colorbar": {
              "outlinewidth": 0,
              "ticks": ""
             }
            },
            "type": "scattergeo"
           }
          ],
          "scattergl": [
           {
            "marker": {
             "colorbar": {
              "outlinewidth": 0,
              "ticks": ""
             }
            },
            "type": "scattergl"
           }
          ],
          "scattermap": [
           {
            "marker": {
             "colorbar": {
              "outlinewidth": 0,
              "ticks": ""
             }
            },
            "type": "scattermap"
           }
          ],
          "scattermapbox": [
           {
            "marker": {
             "colorbar": {
              "outlinewidth": 0,
              "ticks": ""
             }
            },
            "type": "scattermapbox"
           }
          ],
          "scatterpolar": [
           {
            "marker": {
             "colorbar": {
              "outlinewidth": 0,
              "ticks": ""
             }
            },
            "type": "scatterpolar"
           }
          ],
          "scatterpolargl": [
           {
            "marker": {
             "colorbar": {
              "outlinewidth": 0,
              "ticks": ""
             }
            },
            "type": "scatterpolargl"
           }
          ],
          "scatterternary": [
           {
            "marker": {
             "colorbar": {
              "outlinewidth": 0,
              "ticks": ""
             }
            },
            "type": "scatterternary"
           }
          ],
          "surface": [
           {
            "colorbar": {
             "outlinewidth": 0,
             "ticks": ""
            },
            "colorscale": [
             [
              0,
              "#0d0887"
             ],
             [
              0.1111111111111111,
              "#46039f"
             ],
             [
              0.2222222222222222,
              "#7201a8"
             ],
             [
              0.3333333333333333,
              "#9c179e"
             ],
             [
              0.4444444444444444,
              "#bd3786"
             ],
             [
              0.5555555555555556,
              "#d8576b"
             ],
             [
              0.6666666666666666,
              "#ed7953"
             ],
             [
              0.7777777777777778,
              "#fb9f3a"
             ],
             [
              0.8888888888888888,
              "#fdca26"
             ],
             [
              1,
              "#f0f921"
             ]
            ],
            "type": "surface"
           }
          ],
          "table": [
           {
            "cells": {
             "fill": {
              "color": "#EBF0F8"
             },
             "line": {
              "color": "white"
             }
            },
            "header": {
             "fill": {
              "color": "#C8D4E3"
             },
             "line": {
              "color": "white"
             }
            },
            "type": "table"
           }
          ]
         },
         "layout": {
          "annotationdefaults": {
           "arrowcolor": "#2a3f5f",
           "arrowhead": 0,
           "arrowwidth": 1
          },
          "autotypenumbers": "strict",
          "coloraxis": {
           "colorbar": {
            "outlinewidth": 0,
            "ticks": ""
           }
          },
          "colorscale": {
           "diverging": [
            [
             0,
             "#8e0152"
            ],
            [
             0.1,
             "#c51b7d"
            ],
            [
             0.2,
             "#de77ae"
            ],
            [
             0.3,
             "#f1b6da"
            ],
            [
             0.4,
             "#fde0ef"
            ],
            [
             0.5,
             "#f7f7f7"
            ],
            [
             0.6,
             "#e6f5d0"
            ],
            [
             0.7,
             "#b8e186"
            ],
            [
             0.8,
             "#7fbc41"
            ],
            [
             0.9,
             "#4d9221"
            ],
            [
             1,
             "#276419"
            ]
           ],
           "sequential": [
            [
             0,
             "#0d0887"
            ],
            [
             0.1111111111111111,
             "#46039f"
            ],
            [
             0.2222222222222222,
             "#7201a8"
            ],
            [
             0.3333333333333333,
             "#9c179e"
            ],
            [
             0.4444444444444444,
             "#bd3786"
            ],
            [
             0.5555555555555556,
             "#d8576b"
            ],
            [
             0.6666666666666666,
             "#ed7953"
            ],
            [
             0.7777777777777778,
             "#fb9f3a"
            ],
            [
             0.8888888888888888,
             "#fdca26"
            ],
            [
             1,
             "#f0f921"
            ]
           ],
           "sequentialminus": [
            [
             0,
             "#0d0887"
            ],
            [
             0.1111111111111111,
             "#46039f"
            ],
            [
             0.2222222222222222,
             "#7201a8"
            ],
            [
             0.3333333333333333,
             "#9c179e"
            ],
            [
             0.4444444444444444,
             "#bd3786"
            ],
            [
             0.5555555555555556,
             "#d8576b"
            ],
            [
             0.6666666666666666,
             "#ed7953"
            ],
            [
             0.7777777777777778,
             "#fb9f3a"
            ],
            [
             0.8888888888888888,
             "#fdca26"
            ],
            [
             1,
             "#f0f921"
            ]
           ]
          },
          "colorway": [
           "#636efa",
           "#EF553B",
           "#00cc96",
           "#ab63fa",
           "#FFA15A",
           "#19d3f3",
           "#FF6692",
           "#B6E880",
           "#FF97FF",
           "#FECB52"
          ],
          "font": {
           "color": "#2a3f5f"
          },
          "geo": {
           "bgcolor": "white",
           "lakecolor": "white",
           "landcolor": "#E5ECF6",
           "showlakes": true,
           "showland": true,
           "subunitcolor": "white"
          },
          "hoverlabel": {
           "align": "left"
          },
          "hovermode": "closest",
          "mapbox": {
           "style": "light"
          },
          "paper_bgcolor": "white",
          "plot_bgcolor": "#E5ECF6",
          "polar": {
           "angularaxis": {
            "gridcolor": "white",
            "linecolor": "white",
            "ticks": ""
           },
           "bgcolor": "#E5ECF6",
           "radialaxis": {
            "gridcolor": "white",
            "linecolor": "white",
            "ticks": ""
           }
          },
          "scene": {
           "xaxis": {
            "backgroundcolor": "#E5ECF6",
            "gridcolor": "white",
            "gridwidth": 2,
            "linecolor": "white",
            "showbackground": true,
            "ticks": "",
            "zerolinecolor": "white"
           },
           "yaxis": {
            "backgroundcolor": "#E5ECF6",
            "gridcolor": "white",
            "gridwidth": 2,
            "linecolor": "white",
            "showbackground": true,
            "ticks": "",
            "zerolinecolor": "white"
           },
           "zaxis": {
            "backgroundcolor": "#E5ECF6",
            "gridcolor": "white",
            "gridwidth": 2,
            "linecolor": "white",
            "showbackground": true,
            "ticks": "",
            "zerolinecolor": "white"
           }
          },
          "shapedefaults": {
           "line": {
            "color": "#2a3f5f"
           }
          },
          "ternary": {
           "aaxis": {
            "gridcolor": "white",
            "linecolor": "white",
            "ticks": ""
           },
           "baxis": {
            "gridcolor": "white",
            "linecolor": "white",
            "ticks": ""
           },
           "bgcolor": "#E5ECF6",
           "caxis": {
            "gridcolor": "white",
            "linecolor": "white",
            "ticks": ""
           }
          },
          "title": {
           "x": 0.05
          },
          "xaxis": {
           "automargin": true,
           "gridcolor": "white",
           "linecolor": "white",
           "ticks": "",
           "title": {
            "standoff": 15
           },
           "zerolinecolor": "white",
           "zerolinewidth": 2
          },
          "yaxis": {
           "automargin": true,
           "gridcolor": "white",
           "linecolor": "white",
           "ticks": "",
           "title": {
            "standoff": 15
           },
           "zerolinecolor": "white",
           "zerolinewidth": 2
          }
         }
        },
        "title": {
         "text": "Short-Term Financial Forecast Analysis (7-Day Context → 1-Day Prediction)"
        },
        "xaxis": {
         "anchor": "y",
         "domain": [
          0,
          1
         ],
         "matches": "x3",
         "showticklabels": false
        },
        "xaxis2": {
         "anchor": "y2",
         "domain": [
          0,
          1
         ],
         "matches": "x3",
         "showticklabels": false
        },
        "xaxis3": {
         "anchor": "y3",
         "domain": [
          0,
          1
         ],
         "title": {
          "text": "Date"
         }
        },
        "yaxis": {
         "anchor": "x",
         "domain": [
          0.64,
          1
         ],
         "title": {
          "text": "Price (₹)"
         }
        },
        "yaxis2": {
         "anchor": "x2",
         "domain": [
          0.275,
          0.5900000000000001
         ],
         "title": {
          "text": "Price (₹)"
         }
        },
        "yaxis3": {
         "anchor": "x3",
         "domain": [
          0,
          0.225
         ],
         "title": {
          "text": "Error (%)"
         }
        }
       }
      }
     },
     "metadata": {},
     "output_type": "display_data"
    },
    {
     "name": "stdout",
     "output_type": "stream",
     "text": [
      "\n",
      "============================================================\n",
      "SHORT-TERM FORECAST SUMMARY (NEXT DAY)\n",
      "============================================================\n",
      "Current Price: ₹88.3200\n",
      "Predicted Next Day Price: ₹88.1672\n",
      "Expected Change: -0.17%\n",
      "Confidence Range: ₹88.1672 - ₹88.1672\n",
      "Trading Signal:  HOLD ➖\n",
      "Model Validation Accuracy: 55.6%\n"
     ]
    }
   ],
   "source": [
    "\n",
    "# Run the short-term forecast\n",
    "predictor, forecast, validation = run_short_term_forecast(\n",
    "    csv_file=\"Data/Quote-CD-USDINR-15-09-2024-to-15-09-2025.csv\"\n",
    ")\n"
   ]
  },
  {
   "cell_type": "code",
   "execution_count": null,
   "id": "3274e1c5",
   "metadata": {},
   "outputs": [],
   "source": []
  }
 ],
 "metadata": {
  "kernelspec": {
   "display_name": "base",
   "language": "python",
   "name": "python3"
  },
  "language_info": {
   "codemirror_mode": {
    "name": "ipython",
    "version": 3
   },
   "file_extension": ".py",
   "mimetype": "text/x-python",
   "name": "python",
   "nbconvert_exporter": "python",
   "pygments_lexer": "ipython3",
   "version": "3.11.11"
  }
 },
 "nbformat": 4,
 "nbformat_minor": 5
}
