{
 "cells": [
  {
   "cell_type": "code",
   "execution_count": 4,
   "id": "f1a1d8a5",
   "metadata": {},
   "outputs": [
    {
     "name": "stdout",
     "output_type": "stream",
     "text": [
      "📊 BEL Stock Forecasting with Technical Indicators\n",
      "============================================================\n"
     ]
    }
   ],
   "source": [
    "# ============================================================================\n",
    "# BEL Stock Price Forecasting with Chronos and Technical Indicators\n",
    "# ============================================================================\n",
    "\n",
    "import pandas as pd\n",
    "import numpy as np\n",
    "import plotly.graph_objects as go\n",
    "from plotly.subplots import make_subplots\n",
    "import warnings\n",
    "warnings.filterwarnings('ignore')\n",
    "\n",
    "# AutoGluon imports\n",
    "from autogluon.timeseries import TimeSeriesDataFrame, TimeSeriesPredictor\n",
    "\n",
    "print(\"📊 BEL Stock Forecasting with Technical Indicators\")\n",
    "print(\"=\" * 60)\n"
   ]
  },
  {
   "cell_type": "code",
   "execution_count": null,
   "id": "1f23d723",
   "metadata": {},
   "outputs": [
    {
     "ename": "ValueError",
     "evalue": "could not convert string to float: '-'",
     "output_type": "error",
     "traceback": [
      "\u001b[0;31m---------------------------------------------------------------------------\u001b[0m",
      "\u001b[0;31mValueError\u001b[0m                                Traceback (most recent call last)",
      "Cell \u001b[0;32mIn[6], line 32\u001b[0m\n\u001b[1;32m     29\u001b[0m     \u001b[38;5;28;01mreturn\u001b[39;00m data\n\u001b[1;32m     31\u001b[0m \u001b[38;5;66;03m# Load the data\u001b[39;00m\n\u001b[0;32m---> 32\u001b[0m raw_data \u001b[38;5;241m=\u001b[39m \u001b[43mload_and_clean_data\u001b[49m\u001b[43m(\u001b[49m\u001b[43m)\u001b[49m\n\u001b[1;32m     33\u001b[0m raw_data\u001b[38;5;241m.\u001b[39mhead()\n",
      "Cell \u001b[0;32mIn[6], line 21\u001b[0m, in \u001b[0;36mload_and_clean_data\u001b[0;34m()\u001b[0m\n\u001b[1;32m     19\u001b[0m numeric_cols \u001b[38;5;241m=\u001b[39m [\u001b[38;5;124m'\u001b[39m\u001b[38;5;124mVolume\u001b[39m\u001b[38;5;124m'\u001b[39m, \u001b[38;5;124m'\u001b[39m\u001b[38;5;124mVALUE\u001b[39m\u001b[38;5;124m'\u001b[39m, \u001b[38;5;124m'\u001b[39m\u001b[38;5;124mNo of trades\u001b[39m\u001b[38;5;124m'\u001b[39m]\n\u001b[1;32m     20\u001b[0m \u001b[38;5;28;01mfor\u001b[39;00m col \u001b[38;5;129;01min\u001b[39;00m numeric_cols:\n\u001b[0;32m---> 21\u001b[0m     data[col] \u001b[38;5;241m=\u001b[39m \u001b[43mdata\u001b[49m\u001b[43m[\u001b[49m\u001b[43mcol\u001b[49m\u001b[43m]\u001b[49m\u001b[38;5;241;43m.\u001b[39;49m\u001b[43mstr\u001b[49m\u001b[38;5;241;43m.\u001b[39;49m\u001b[43mreplace\u001b[49m\u001b[43m(\u001b[49m\u001b[38;5;124;43m'\u001b[39;49m\u001b[38;5;124;43m,\u001b[39;49m\u001b[38;5;124;43m'\u001b[39;49m\u001b[43m,\u001b[49m\u001b[43m \u001b[49m\u001b[38;5;124;43m'\u001b[39;49m\u001b[38;5;124;43m'\u001b[39;49m\u001b[43m)\u001b[49m\u001b[38;5;241;43m.\u001b[39;49m\u001b[43mastype\u001b[49m\u001b[43m(\u001b[49m\u001b[38;5;28;43mfloat\u001b[39;49m\u001b[43m)\u001b[49m\n\u001b[1;32m     23\u001b[0m \u001b[38;5;28mprint\u001b[39m(\u001b[38;5;124mf\u001b[39m\u001b[38;5;124m\"\u001b[39m\u001b[38;5;124m✅ Data loaded: \u001b[39m\u001b[38;5;132;01m{\u001b[39;00m\u001b[38;5;28mlen\u001b[39m(data)\u001b[38;5;132;01m}\u001b[39;00m\u001b[38;5;124m records\u001b[39m\u001b[38;5;124m\"\u001b[39m)\n\u001b[1;32m     24\u001b[0m \u001b[38;5;28mprint\u001b[39m(\u001b[38;5;124mf\u001b[39m\u001b[38;5;124m\"\u001b[39m\u001b[38;5;124m📅 Date range: \u001b[39m\u001b[38;5;132;01m{\u001b[39;00mdata[\u001b[38;5;124m'\u001b[39m\u001b[38;5;124mDATE\u001b[39m\u001b[38;5;124m'\u001b[39m]\u001b[38;5;241m.\u001b[39mmin()\u001b[38;5;241m.\u001b[39mdate()\u001b[38;5;132;01m}\u001b[39;00m\u001b[38;5;124m to \u001b[39m\u001b[38;5;132;01m{\u001b[39;00mdata[\u001b[38;5;124m'\u001b[39m\u001b[38;5;124mDATE\u001b[39m\u001b[38;5;124m'\u001b[39m]\u001b[38;5;241m.\u001b[39mmax()\u001b[38;5;241m.\u001b[39mdate()\u001b[38;5;132;01m}\u001b[39;00m\u001b[38;5;124m\"\u001b[39m)\n",
      "File \u001b[0;32m/opt/conda/lib/python3.11/site-packages/pandas/core/generic.py:6662\u001b[0m, in \u001b[0;36mNDFrame.astype\u001b[0;34m(self, dtype, copy, errors)\u001b[0m\n\u001b[1;32m   6656\u001b[0m     results \u001b[38;5;241m=\u001b[39m [\n\u001b[1;32m   6657\u001b[0m         ser\u001b[38;5;241m.\u001b[39mastype(dtype, copy\u001b[38;5;241m=\u001b[39mcopy, errors\u001b[38;5;241m=\u001b[39merrors) \u001b[38;5;28;01mfor\u001b[39;00m _, ser \u001b[38;5;129;01min\u001b[39;00m \u001b[38;5;28mself\u001b[39m\u001b[38;5;241m.\u001b[39mitems()\n\u001b[1;32m   6658\u001b[0m     ]\n\u001b[1;32m   6660\u001b[0m \u001b[38;5;28;01melse\u001b[39;00m:\n\u001b[1;32m   6661\u001b[0m     \u001b[38;5;66;03m# else, only a single dtype is given\u001b[39;00m\n\u001b[0;32m-> 6662\u001b[0m     new_data \u001b[38;5;241m=\u001b[39m \u001b[38;5;28;43mself\u001b[39;49m\u001b[38;5;241;43m.\u001b[39;49m\u001b[43m_mgr\u001b[49m\u001b[38;5;241;43m.\u001b[39;49m\u001b[43mastype\u001b[49m\u001b[43m(\u001b[49m\u001b[43mdtype\u001b[49m\u001b[38;5;241;43m=\u001b[39;49m\u001b[43mdtype\u001b[49m\u001b[43m,\u001b[49m\u001b[43m \u001b[49m\u001b[43mcopy\u001b[49m\u001b[38;5;241;43m=\u001b[39;49m\u001b[43mcopy\u001b[49m\u001b[43m,\u001b[49m\u001b[43m \u001b[49m\u001b[43merrors\u001b[49m\u001b[38;5;241;43m=\u001b[39;49m\u001b[43merrors\u001b[49m\u001b[43m)\u001b[49m\n\u001b[1;32m   6663\u001b[0m     res \u001b[38;5;241m=\u001b[39m \u001b[38;5;28mself\u001b[39m\u001b[38;5;241m.\u001b[39m_constructor_from_mgr(new_data, axes\u001b[38;5;241m=\u001b[39mnew_data\u001b[38;5;241m.\u001b[39maxes)\n\u001b[1;32m   6664\u001b[0m     \u001b[38;5;28;01mreturn\u001b[39;00m res\u001b[38;5;241m.\u001b[39m__finalize__(\u001b[38;5;28mself\u001b[39m, method\u001b[38;5;241m=\u001b[39m\u001b[38;5;124m\"\u001b[39m\u001b[38;5;124mastype\u001b[39m\u001b[38;5;124m\"\u001b[39m)\n",
      "File \u001b[0;32m/opt/conda/lib/python3.11/site-packages/pandas/core/internals/managers.py:430\u001b[0m, in \u001b[0;36mBaseBlockManager.astype\u001b[0;34m(self, dtype, copy, errors)\u001b[0m\n\u001b[1;32m    427\u001b[0m \u001b[38;5;28;01melif\u001b[39;00m using_copy_on_write():\n\u001b[1;32m    428\u001b[0m     copy \u001b[38;5;241m=\u001b[39m \u001b[38;5;28;01mFalse\u001b[39;00m\n\u001b[0;32m--> 430\u001b[0m \u001b[38;5;28;01mreturn\u001b[39;00m \u001b[38;5;28;43mself\u001b[39;49m\u001b[38;5;241;43m.\u001b[39;49m\u001b[43mapply\u001b[49m\u001b[43m(\u001b[49m\n\u001b[1;32m    431\u001b[0m \u001b[43m    \u001b[49m\u001b[38;5;124;43m\"\u001b[39;49m\u001b[38;5;124;43mastype\u001b[39;49m\u001b[38;5;124;43m\"\u001b[39;49m\u001b[43m,\u001b[49m\n\u001b[1;32m    432\u001b[0m \u001b[43m    \u001b[49m\u001b[43mdtype\u001b[49m\u001b[38;5;241;43m=\u001b[39;49m\u001b[43mdtype\u001b[49m\u001b[43m,\u001b[49m\n\u001b[1;32m    433\u001b[0m \u001b[43m    \u001b[49m\u001b[43mcopy\u001b[49m\u001b[38;5;241;43m=\u001b[39;49m\u001b[43mcopy\u001b[49m\u001b[43m,\u001b[49m\n\u001b[1;32m    434\u001b[0m \u001b[43m    \u001b[49m\u001b[43merrors\u001b[49m\u001b[38;5;241;43m=\u001b[39;49m\u001b[43merrors\u001b[49m\u001b[43m,\u001b[49m\n\u001b[1;32m    435\u001b[0m \u001b[43m    \u001b[49m\u001b[43musing_cow\u001b[49m\u001b[38;5;241;43m=\u001b[39;49m\u001b[43musing_copy_on_write\u001b[49m\u001b[43m(\u001b[49m\u001b[43m)\u001b[49m\u001b[43m,\u001b[49m\n\u001b[1;32m    436\u001b[0m \u001b[43m\u001b[49m\u001b[43m)\u001b[49m\n",
      "File \u001b[0;32m/opt/conda/lib/python3.11/site-packages/pandas/core/internals/managers.py:363\u001b[0m, in \u001b[0;36mBaseBlockManager.apply\u001b[0;34m(self, f, align_keys, **kwargs)\u001b[0m\n\u001b[1;32m    361\u001b[0m         applied \u001b[38;5;241m=\u001b[39m b\u001b[38;5;241m.\u001b[39mapply(f, \u001b[38;5;241m*\u001b[39m\u001b[38;5;241m*\u001b[39mkwargs)\n\u001b[1;32m    362\u001b[0m     \u001b[38;5;28;01melse\u001b[39;00m:\n\u001b[0;32m--> 363\u001b[0m         applied \u001b[38;5;241m=\u001b[39m \u001b[38;5;28;43mgetattr\u001b[39;49m\u001b[43m(\u001b[49m\u001b[43mb\u001b[49m\u001b[43m,\u001b[49m\u001b[43m \u001b[49m\u001b[43mf\u001b[49m\u001b[43m)\u001b[49m\u001b[43m(\u001b[49m\u001b[38;5;241;43m*\u001b[39;49m\u001b[38;5;241;43m*\u001b[39;49m\u001b[43mkwargs\u001b[49m\u001b[43m)\u001b[49m\n\u001b[1;32m    364\u001b[0m     result_blocks \u001b[38;5;241m=\u001b[39m extend_blocks(applied, result_blocks)\n\u001b[1;32m    366\u001b[0m out \u001b[38;5;241m=\u001b[39m \u001b[38;5;28mtype\u001b[39m(\u001b[38;5;28mself\u001b[39m)\u001b[38;5;241m.\u001b[39mfrom_blocks(result_blocks, \u001b[38;5;28mself\u001b[39m\u001b[38;5;241m.\u001b[39maxes)\n",
      "File \u001b[0;32m/opt/conda/lib/python3.11/site-packages/pandas/core/internals/blocks.py:784\u001b[0m, in \u001b[0;36mBlock.astype\u001b[0;34m(self, dtype, copy, errors, using_cow, squeeze)\u001b[0m\n\u001b[1;32m    781\u001b[0m         \u001b[38;5;28;01mraise\u001b[39;00m \u001b[38;5;167;01mValueError\u001b[39;00m(\u001b[38;5;124m\"\u001b[39m\u001b[38;5;124mCan not squeeze with more than one column.\u001b[39m\u001b[38;5;124m\"\u001b[39m)\n\u001b[1;32m    782\u001b[0m     values \u001b[38;5;241m=\u001b[39m values[\u001b[38;5;241m0\u001b[39m, :]  \u001b[38;5;66;03m# type: ignore[call-overload]\u001b[39;00m\n\u001b[0;32m--> 784\u001b[0m new_values \u001b[38;5;241m=\u001b[39m \u001b[43mastype_array_safe\u001b[49m\u001b[43m(\u001b[49m\u001b[43mvalues\u001b[49m\u001b[43m,\u001b[49m\u001b[43m \u001b[49m\u001b[43mdtype\u001b[49m\u001b[43m,\u001b[49m\u001b[43m \u001b[49m\u001b[43mcopy\u001b[49m\u001b[38;5;241;43m=\u001b[39;49m\u001b[43mcopy\u001b[49m\u001b[43m,\u001b[49m\u001b[43m \u001b[49m\u001b[43merrors\u001b[49m\u001b[38;5;241;43m=\u001b[39;49m\u001b[43merrors\u001b[49m\u001b[43m)\u001b[49m\n\u001b[1;32m    786\u001b[0m new_values \u001b[38;5;241m=\u001b[39m maybe_coerce_values(new_values)\n\u001b[1;32m    788\u001b[0m refs \u001b[38;5;241m=\u001b[39m \u001b[38;5;28;01mNone\u001b[39;00m\n",
      "File \u001b[0;32m/opt/conda/lib/python3.11/site-packages/pandas/core/dtypes/astype.py:237\u001b[0m, in \u001b[0;36mastype_array_safe\u001b[0;34m(values, dtype, copy, errors)\u001b[0m\n\u001b[1;32m    234\u001b[0m     dtype \u001b[38;5;241m=\u001b[39m dtype\u001b[38;5;241m.\u001b[39mnumpy_dtype\n\u001b[1;32m    236\u001b[0m \u001b[38;5;28;01mtry\u001b[39;00m:\n\u001b[0;32m--> 237\u001b[0m     new_values \u001b[38;5;241m=\u001b[39m \u001b[43mastype_array\u001b[49m\u001b[43m(\u001b[49m\u001b[43mvalues\u001b[49m\u001b[43m,\u001b[49m\u001b[43m \u001b[49m\u001b[43mdtype\u001b[49m\u001b[43m,\u001b[49m\u001b[43m \u001b[49m\u001b[43mcopy\u001b[49m\u001b[38;5;241;43m=\u001b[39;49m\u001b[43mcopy\u001b[49m\u001b[43m)\u001b[49m\n\u001b[1;32m    238\u001b[0m \u001b[38;5;28;01mexcept\u001b[39;00m (\u001b[38;5;167;01mValueError\u001b[39;00m, \u001b[38;5;167;01mTypeError\u001b[39;00m):\n\u001b[1;32m    239\u001b[0m     \u001b[38;5;66;03m# e.g. _astype_nansafe can fail on object-dtype of strings\u001b[39;00m\n\u001b[1;32m    240\u001b[0m     \u001b[38;5;66;03m#  trying to convert to float\u001b[39;00m\n\u001b[1;32m    241\u001b[0m     \u001b[38;5;28;01mif\u001b[39;00m errors \u001b[38;5;241m==\u001b[39m \u001b[38;5;124m\"\u001b[39m\u001b[38;5;124mignore\u001b[39m\u001b[38;5;124m\"\u001b[39m:\n",
      "File \u001b[0;32m/opt/conda/lib/python3.11/site-packages/pandas/core/dtypes/astype.py:182\u001b[0m, in \u001b[0;36mastype_array\u001b[0;34m(values, dtype, copy)\u001b[0m\n\u001b[1;32m    179\u001b[0m     values \u001b[38;5;241m=\u001b[39m values\u001b[38;5;241m.\u001b[39mastype(dtype, copy\u001b[38;5;241m=\u001b[39mcopy)\n\u001b[1;32m    181\u001b[0m \u001b[38;5;28;01melse\u001b[39;00m:\n\u001b[0;32m--> 182\u001b[0m     values \u001b[38;5;241m=\u001b[39m \u001b[43m_astype_nansafe\u001b[49m\u001b[43m(\u001b[49m\u001b[43mvalues\u001b[49m\u001b[43m,\u001b[49m\u001b[43m \u001b[49m\u001b[43mdtype\u001b[49m\u001b[43m,\u001b[49m\u001b[43m \u001b[49m\u001b[43mcopy\u001b[49m\u001b[38;5;241;43m=\u001b[39;49m\u001b[43mcopy\u001b[49m\u001b[43m)\u001b[49m\n\u001b[1;32m    184\u001b[0m \u001b[38;5;66;03m# in pandas we don't store numpy str dtypes, so convert to object\u001b[39;00m\n\u001b[1;32m    185\u001b[0m \u001b[38;5;28;01mif\u001b[39;00m \u001b[38;5;28misinstance\u001b[39m(dtype, np\u001b[38;5;241m.\u001b[39mdtype) \u001b[38;5;129;01mand\u001b[39;00m \u001b[38;5;28missubclass\u001b[39m(values\u001b[38;5;241m.\u001b[39mdtype\u001b[38;5;241m.\u001b[39mtype, \u001b[38;5;28mstr\u001b[39m):\n",
      "File \u001b[0;32m/opt/conda/lib/python3.11/site-packages/pandas/core/dtypes/astype.py:133\u001b[0m, in \u001b[0;36m_astype_nansafe\u001b[0;34m(arr, dtype, copy, skipna)\u001b[0m\n\u001b[1;32m    129\u001b[0m     \u001b[38;5;28;01mraise\u001b[39;00m \u001b[38;5;167;01mValueError\u001b[39;00m(msg)\n\u001b[1;32m    131\u001b[0m \u001b[38;5;28;01mif\u001b[39;00m copy \u001b[38;5;129;01mor\u001b[39;00m arr\u001b[38;5;241m.\u001b[39mdtype \u001b[38;5;241m==\u001b[39m \u001b[38;5;28mobject\u001b[39m \u001b[38;5;129;01mor\u001b[39;00m dtype \u001b[38;5;241m==\u001b[39m \u001b[38;5;28mobject\u001b[39m:\n\u001b[1;32m    132\u001b[0m     \u001b[38;5;66;03m# Explicit copy, or required since NumPy can't view from / to object.\u001b[39;00m\n\u001b[0;32m--> 133\u001b[0m     \u001b[38;5;28;01mreturn\u001b[39;00m \u001b[43marr\u001b[49m\u001b[38;5;241;43m.\u001b[39;49m\u001b[43mastype\u001b[49m\u001b[43m(\u001b[49m\u001b[43mdtype\u001b[49m\u001b[43m,\u001b[49m\u001b[43m \u001b[49m\u001b[43mcopy\u001b[49m\u001b[38;5;241;43m=\u001b[39;49m\u001b[38;5;28;43;01mTrue\u001b[39;49;00m\u001b[43m)\u001b[49m\n\u001b[1;32m    135\u001b[0m \u001b[38;5;28;01mreturn\u001b[39;00m arr\u001b[38;5;241m.\u001b[39mastype(dtype, copy\u001b[38;5;241m=\u001b[39mcopy)\n",
      "\u001b[0;31mValueError\u001b[0m: could not convert string to float: '-'"
     ]
    }
   ],
   "source": [
    "# ============================================================================\n",
    "# 1. DATA LOADING AND PREPARATION\n",
    "# ============================================================================\n",
    "\n",
    "def load_and_clean_data():\n",
    "    \"\"\"Load BEL stock data and perform initial cleaning\"\"\"\n",
    "    \n",
    "    # Load the CSV file\n",
    "    data = pd.read_csv('Data/Quote-CD-USDINR-15-09-2024-to-15-09-2025.csv', skipinitialspace=True)\n",
    "    \n",
    "    # Clean column names\n",
    "    data.columns = data.columns.str.strip()\n",
    "    \n",
    "    # Convert date and sort chronologically\n",
    "    data['DATE'] = pd.to_datetime(data['DATE'], format='%d-%b-%Y')\n",
    "    data = data.sort_values('DATE').reset_index(drop=True)\n",
    "\n",
    "    # Clean numeric columns (remove commas and convert to float)\n",
    "    numeric_cols = ['Volume', 'VALUE', 'No of trades']\n",
    "    for col in numeric_cols:\n",
    "        data[col] = data[col].str.replace(',', '').astype(float)\n",
    "    \n",
    "    print(f\"✅ Data loaded: {len(data)} records\")\n",
    "    print(f\"📅 Date range: {data['DATE'].min().date()} to {data['DATE'].max().date()}\")\n",
    "    print(f\"💰 Price range: ₹{data['CLOSE'].min():.2f} to ₹{data['CLOSE'].max():.2f}\")\n",
    "    print(f\"📊 Columns: {', '.join(data.columns)}\")\n",
    "    print(f\"Shape: {data.shape}\")\n",
    "    \n",
    "    return data\n",
    "\n",
    "# Load the data\n",
    "raw_data = load_and_clean_data()\n",
    "raw_data.head()\n"
   ]
  },
  {
   "cell_type": "code",
   "execution_count": 3,
   "id": "d12c80e9",
   "metadata": {},
   "outputs": [],
   "source": [
    "\n",
    "def calculate_expiry_week(dates: pd.Series) -> pd.Series:\n",
    "    \"\"\"\n",
    "    Calculate if a date falls in F&O expiry week (Indian stock market).\n",
    "    Expiry is typically the last Thursday of each month.\n",
    "    \n",
    "    Args:\n",
    "        dates: pandas Series of datetime objects\n",
    "    \n",
    "    Returns:\n",
    "        pandas Series of boolean values (True if in expiry week)\n",
    "    \"\"\"\n",
    "    def get_last_thursday(year, month):\n",
    "        \"\"\"Get the last Thursday of a given month\"\"\"\n",
    "        # Start from the last day of the month and work backwards\n",
    "        if month == 12:\n",
    "            last_day = pd.Timestamp(year + 1, 1, 1) - pd.Timedelta(days=1)\n",
    "        else:\n",
    "            last_day = pd.Timestamp(year, month + 1, 1) - pd.Timedelta(days=1)\n",
    "        \n",
    "        # Find the last Thursday\n",
    "        days_back = (last_day.weekday() - 3) % 7\n",
    "        if days_back == 0 and last_day.weekday() != 3:\n",
    "            days_back = 7\n",
    "        last_thursday = last_day - pd.Timedelta(days=days_back)\n",
    "        \n",
    "        return last_thursday\n",
    "    \n",
    "    expiry_week_flags = []\n",
    "    \n",
    "    for date in dates:\n",
    "        # Get last Thursday of this month\n",
    "        last_thursday = get_last_thursday(date.year, date.month)\n",
    "        \n",
    "        # Define expiry week as 4 days before to 1 day after last Thursday\n",
    "        start_expiry_week = last_thursday - pd.Timedelta(days=4)\n",
    "        end_expiry_week = last_thursday + pd.Timedelta(days=1)\n",
    "        \n",
    "        is_expiry_week = start_expiry_week <= date <= end_expiry_week\n",
    "        expiry_week_flags.append(is_expiry_week)\n",
    "    \n",
    "    return pd.Series(expiry_week_flags, index=dates.index)\n",
    "\n",
    "\n",
    "def calculate_stochastic(df, k_window=14, d_window=3):\n",
    "    \"\"\"\n",
    "    Calculate Stochastic Oscillator (%K and %D).\n",
    "    \n",
    "    %K = (Current Close - Lowest Low) / (Highest High - Lowest Low) * 100\n",
    "    %D = Simple Moving Average of %K\n",
    "    \n",
    "    Args:\n",
    "        df: DataFrame with 'HIGH', 'LOW', 'close' columns\n",
    "        k_window: Period for %K calculation (default 14)\n",
    "        d_window: Period for %D smoothing (default 3)\n",
    "    \n",
    "    Returns:\n",
    "        tuple: (stoch_k, stoch_d) as pandas Series\n",
    "    \"\"\"\n",
    "    # Calculate rolling minimum of lows and maximum of highs\n",
    "    lowest_low = df['LOW'].rolling(window=k_window, min_periods=1).min()\n",
    "    highest_high = df['HIGH'].rolling(window=k_window, min_periods=1).max()\n",
    "    \n",
    "    # Calculate %K\n",
    "    stoch_k = 100 * ((df['close'] - lowest_low) / (highest_high - lowest_low))\n",
    "    \n",
    "    # Calculate %D (smoothed %K)\n",
    "    stoch_d = stoch_k.rolling(window=d_window, min_periods=1).mean()\n",
    "    \n",
    "    return stoch_k, stoch_d\n",
    "\n",
    "\n",
    "def calculate_obv(df):\n",
    "    \"\"\"\n",
    "    Calculate On Balance Volume (OBV).\n",
    "    \n",
    "    OBV adds volume on up days and subtracts volume on down days.\n",
    "    It's used to confirm price trends with volume flow.\n",
    "    \n",
    "    Args:\n",
    "        df: DataFrame with 'close' and 'VOLUME' columns\n",
    "    \n",
    "    Returns:\n",
    "        pandas Series: OBV values\n",
    "    \"\"\"\n",
    "    obv = [0]  # Start with 0\n",
    "    close_prices = df['close'].values\n",
    "    volumes = df['VOLUME'].values\n",
    "    \n",
    "    for i in range(1, len(df)):\n",
    "        if close_prices[i] > close_prices[i-1]:\n",
    "            # Price went up, add volume\n",
    "            obv.append(obv[-1] + volumes[i])\n",
    "        elif close_prices[i] < close_prices[i-1]:\n",
    "            # Price went down, subtract volume\n",
    "            obv.append(obv[-1] - volumes[i])\n",
    "        else:\n",
    "            # Price unchanged, OBV unchanged\n",
    "            obv.append(obv[-1])\n",
    "    \n",
    "    return pd.Series(obv, index=df.index)\n",
    "\n",
    "\n",
    "def calculate_williams_r(df, lookback=14):\n",
    "    \"\"\"\n",
    "    Calculate Williams %R oscillator.\n",
    "    \n",
    "    Williams %R = (Highest High - Close) / (Highest High - Lowest Low) * -100\n",
    "    \n",
    "    Values range from 0 to -100:\n",
    "    - Above -20: Overbought\n",
    "    - Below -80: Oversold\n",
    "    \n",
    "    Args:\n",
    "        df: DataFrame with 'HIGH', 'LOW', 'close' columns\n",
    "        lookback: Period for calculation (default 14)\n",
    "    \n",
    "    Returns:\n",
    "        pandas Series: Williams %R values\n",
    "    \"\"\"\n",
    "    # Calculate rolling highs and lows\n",
    "    highest_high = df['HIGH'].rolling(window=lookback, min_periods=1).max()\n",
    "    lowest_low = df['LOW'].rolling(window=lookback, min_periods=1).min()\n",
    "    \n",
    "    # Calculate Williams %R\n",
    "    williams_r = -100 * ((highest_high - df['close']) / (highest_high - lowest_low))\n",
    "    \n",
    "    return williams_r"
   ]
  },
  {
   "cell_type": "code",
   "execution_count": 4,
   "id": "746d7ab8",
   "metadata": {},
   "outputs": [
    {
     "name": "stdout",
     "output_type": "stream",
     "text": [
      "🔧 Enhanced Technical indicators calculated:\n",
      "   📈 Moving Averages: SMA(5,10,20,50,200), EMA(12,26)\n",
      "   📊 Oscillators: RSI(7,14,21), MACD, Stochastic, Williams %R\n",
      "   🎯 Bollinger Bands & Position\n",
      "   📉 Volatility: BB Width, ATR, Volatility\n",
      "   🚀 Momentum: ROC, Momentum\n",
      "   📦 Volume: OBV, Volume Ratio, Price-Volume\n",
      "   ⚖️ Support/Resistance levels\n",
      "   📅 Temporal: Day/Month effects, F&O expiry\n",
      "\n",
      "📋 Dataset shape: (248, 59)\n"
     ]
    }
   ],
   "source": [
    "def calculate_technical_indicators(df):\n",
    "    \"\"\"Calculate comprehensive technical indicators for stock analysis - FIXED\"\"\"\n",
    "    \n",
    "    data = df.copy()\n",
    "    \n",
    "    # Simple Moving Averages\n",
    "    data['SMA_5'] = data['close'].rolling(window=5).mean()\n",
    "    data['SMA_10'] = data['close'].rolling(window=10).mean()\n",
    "    data['SMA_20'] = data['close'].rolling(window=20).mean()\n",
    "    data['SMA_50'] = data['close'].rolling(window=50).mean()\n",
    "    data['SMA_200'] = data['close'].rolling(window=200).mean()  # Long-term trend\n",
    "    \n",
    "    # Exponential Moving Averages\n",
    "    data['EMA_12'] = data['close'].ewm(span=12).mean()\n",
    "    data['EMA_26'] = data['close'].ewm(span=26).mean()\n",
    "    \n",
    "    # FIXED: Temporal features\n",
    "    data['day_of_week'] = data['Date'].dt.dayofweek\n",
    "    data['day_of_month'] = data['Date'].dt.day\n",
    "    data['month'] = data['Date'].dt.month\n",
    "    data['quarter'] = data['Date'].dt.quarter\n",
    "    \n",
    "    # Market-specific patterns\n",
    "    data['is_month_end'] = (data['Date'].dt.day > 25).astype(int)\n",
    "    data['is_expiry_week'] = calculate_expiry_week(data['Date']).astype(int)  # FIXED: Convert to int\n",
    "    \n",
    "    # Price vs long-term trend\n",
    "    data['price_vs_200sma'] = (data['close'] / data['SMA_200'] - 1) * 100  # FIXED: Multiply by 100 for percentage\n",
    "    \n",
    "    # FIXED: Momentum oscillators - properly unpack tuples\n",
    "    stoch_k, stoch_d = calculate_stochastic(data)\n",
    "    data['stoch_k'] = stoch_k\n",
    "    data['stoch_d'] = stoch_d\n",
    "    data['williams_r'] = calculate_williams_r(data)\n",
    "    \n",
    "    # FIXED: Volume-price analysis\n",
    "    data['obv'] = calculate_obv(data)\n",
    "    data['volume_ma_50'] = data['VOLUME'].rolling(window=50).mean()\n",
    "    data['volume_breakout'] = (data['VOLUME'] > data['volume_ma_50'] * 1.5).astype(int)\n",
    "    \n",
    "    # RSI (Relative Strength Index)\n",
    "    def calculate_rsi(prices, window=14):\n",
    "        delta = prices.diff()\n",
    "        gain = (delta.where(delta > 0, 0)).rolling(window=window).mean()\n",
    "        loss = (-delta.where(delta < 0, 0)).rolling(window=window).mean()\n",
    "        rs = gain / loss\n",
    "        return 100 - (100 / (1 + rs))\n",
    "    \n",
    "    data['RSI'] = calculate_rsi(data['close'])\n",
    "    data['RSI_7'] = calculate_rsi(data['close'], window=7)   # Short-term\n",
    "    data['RSI_21'] = calculate_rsi(data['close'], window=21) # Long-term\n",
    "    \n",
    "    # MACD (Moving Average Convergence Divergence)\n",
    "    data['MACD'] = data['EMA_12'] - data['EMA_26']\n",
    "    data['MACD_signal'] = data['MACD'].ewm(span=9).mean()\n",
    "    data['MACD_histogram'] = data['MACD'] - data['MACD_signal']\n",
    "    \n",
    "    # Bollinger Bands\n",
    "    data['BB_middle'] = data['close'].rolling(window=20).mean()\n",
    "    bb_std = data['close'].rolling(window=20).std()\n",
    "    data['BB_upper'] = data['BB_middle'] + (bb_std * 2)\n",
    "    data['BB_lower'] = data['BB_middle'] - (bb_std * 2)\n",
    "    data['BB_width'] = data['BB_upper'] - data['BB_lower']\n",
    "    data['BB_position'] = (data['close'] - data['BB_lower']) / (data['BB_upper'] - data['BB_lower'])\n",
    "    \n",
    "    # Price-based indicators\n",
    "    data['price_change'] = data['close'].pct_change()\n",
    "    data['high_low_pct'] = (data['HIGH'] - data['LOW']) / data['close']\n",
    "    data['open_close_pct'] = (data['close'] - data['OPEN']) / data['OPEN']\n",
    "    \n",
    "    # Volume indicators\n",
    "    data['volume_sma'] = data['VOLUME'].rolling(window=20).mean()\n",
    "    data['volume_ratio'] = data['VOLUME'] / data['volume_sma']\n",
    "    data['price_volume'] = data['close'] * data['VOLUME']\n",
    "    \n",
    "    # Volatility indicators\n",
    "    data['volatility'] = data['close'].rolling(window=20).std()\n",
    "    data['atr'] = ((data['HIGH'] - data['LOW']).rolling(window=14).mean())  # Simplified ATR\n",
    "    \n",
    "    # Momentum indicators\n",
    "    data['momentum'] = data['close'] / data['close'].shift(10) - 1\n",
    "    data['roc'] = data['close'].pct_change(periods=12)  # Rate of Change\n",
    "    \n",
    "    # Support/Resistance levels\n",
    "    data['support'] = data['LOW'].rolling(window=20).min()\n",
    "    data['resistance'] = data['HIGH'].rolling(window=20).max()\n",
    "    data['support_distance'] = (data['close'] - data['support']) / data['close']\n",
    "    data['resistance_distance'] = (data['resistance'] - data['close']) / data['close']\n",
    "    \n",
    "    print(\"🔧 Enhanced Technical indicators calculated:\")\n",
    "    print(\"   📈 Moving Averages: SMA(5,10,20,50,200), EMA(12,26)\")\n",
    "    print(\"   📊 Oscillators: RSI(7,14,21), MACD, Stochastic, Williams %R\")\n",
    "    print(\"   🎯 Bollinger Bands & Position\")\n",
    "    print(\"   📉 Volatility: BB Width, ATR, Volatility\")\n",
    "    print(\"   🚀 Momentum: ROC, Momentum\")\n",
    "    print(\"   📦 Volume: OBV, Volume Ratio, Price-Volume\")\n",
    "    print(\"   ⚖️ Support/Resistance levels\")\n",
    "    print(\"   📅 Temporal: Day/Month effects, F&O expiry\")\n",
    "    \n",
    "    return data\n",
    "\n",
    "\n",
    "# Calculate indicators\n",
    "data_with_indicators = calculate_technical_indicators(raw_data)\n",
    "print(f\"\\n📋 Dataset shape: {data_with_indicators.shape}\")\n"
   ]
  },
  {
   "cell_type": "code",
   "execution_count": 5,
   "id": "cc76a48c",
   "metadata": {},
   "outputs": [
    {
     "name": "stdout",
     "output_type": "stream",
     "text": [
      "🎯 Features selected for modeling: 26 covariates\n",
      "📊 Clean dataset: 229 records (removed 19 NaN rows)\n",
      "📋 Covariates: ['RSI', 'RSI_7', 'stoch_k', 'stoch_d', 'williams_r', 'MACD', 'MACD_signal', 'SMA_5', 'SMA_10', 'SMA_20', 'EMA_12', 'EMA_26', 'high_low_pct', 'open_close_pct', 'obv', 'volume_ratio', 'volume_breakout', 'BB_position', 'BB_width', 'support_distance', 'resistance_distance', 'volatility', 'momentum', 'day_of_week', 'is_expiry_week', 'is_month_end']\n"
     ]
    },
    {
     "data": {
      "text/html": [
       "<div>\n",
       "<style scoped>\n",
       "    .dataframe tbody tr th:only-of-type {\n",
       "        vertical-align: middle;\n",
       "    }\n",
       "\n",
       "    .dataframe tbody tr th {\n",
       "        vertical-align: top;\n",
       "    }\n",
       "\n",
       "    .dataframe thead th {\n",
       "        text-align: right;\n",
       "    }\n",
       "</style>\n",
       "<table border=\"1\" class=\"dataframe\">\n",
       "  <thead>\n",
       "    <tr style=\"text-align: right;\">\n",
       "      <th></th>\n",
       "      <th>item_id</th>\n",
       "      <th>timestamp</th>\n",
       "      <th>target</th>\n",
       "      <th>RSI</th>\n",
       "      <th>RSI_7</th>\n",
       "      <th>stoch_k</th>\n",
       "      <th>stoch_d</th>\n",
       "      <th>williams_r</th>\n",
       "      <th>MACD</th>\n",
       "      <th>MACD_signal</th>\n",
       "      <th>...</th>\n",
       "      <th>volume_breakout</th>\n",
       "      <th>BB_position</th>\n",
       "      <th>BB_width</th>\n",
       "      <th>support_distance</th>\n",
       "      <th>resistance_distance</th>\n",
       "      <th>volatility</th>\n",
       "      <th>momentum</th>\n",
       "      <th>day_of_week</th>\n",
       "      <th>is_expiry_week</th>\n",
       "      <th>is_month_end</th>\n",
       "    </tr>\n",
       "  </thead>\n",
       "  <tbody>\n",
       "    <tr>\n",
       "      <th>0</th>\n",
       "      <td>BEL</td>\n",
       "      <td>2024-10-14</td>\n",
       "      <td>285.70</td>\n",
       "      <td>49.481865</td>\n",
       "      <td>60.903427</td>\n",
       "      <td>69.000000</td>\n",
       "      <td>70.555556</td>\n",
       "      <td>-31.000000</td>\n",
       "      <td>-0.117059</td>\n",
       "      <td>-0.453722</td>\n",
       "      <td>...</td>\n",
       "      <td>0</td>\n",
       "      <td>0.577729</td>\n",
       "      <td>26.405779</td>\n",
       "      <td>0.072454</td>\n",
       "      <td>0.032552</td>\n",
       "      <td>6.601445</td>\n",
       "      <td>-0.026410</td>\n",
       "      <td>0</td>\n",
       "      <td>0</td>\n",
       "      <td>0</td>\n",
       "    </tr>\n",
       "    <tr>\n",
       "      <th>1</th>\n",
       "      <td>BEL</td>\n",
       "      <td>2024-10-15</td>\n",
       "      <td>288.85</td>\n",
       "      <td>47.344734</td>\n",
       "      <td>67.259259</td>\n",
       "      <td>79.500000</td>\n",
       "      <td>72.722222</td>\n",
       "      <td>-20.500000</td>\n",
       "      <td>0.267773</td>\n",
       "      <td>-0.308080</td>\n",
       "      <td>...</td>\n",
       "      <td>0</td>\n",
       "      <td>0.702247</td>\n",
       "      <td>26.106696</td>\n",
       "      <td>0.082569</td>\n",
       "      <td>0.021291</td>\n",
       "      <td>6.526674</td>\n",
       "      <td>0.013153</td>\n",
       "      <td>1</td>\n",
       "      <td>0</td>\n",
       "      <td>0</td>\n",
       "    </tr>\n",
       "    <tr>\n",
       "      <th>2</th>\n",
       "      <td>BEL</td>\n",
       "      <td>2024-10-16</td>\n",
       "      <td>285.70</td>\n",
       "      <td>46.343612</td>\n",
       "      <td>83.918669</td>\n",
       "      <td>69.346734</td>\n",
       "      <td>72.615578</td>\n",
       "      <td>-30.653266</td>\n",
       "      <td>0.351232</td>\n",
       "      <td>-0.175237</td>\n",
       "      <td>...</td>\n",
       "      <td>0</td>\n",
       "      <td>0.578717</td>\n",
       "      <td>26.169617</td>\n",
       "      <td>0.072454</td>\n",
       "      <td>0.032552</td>\n",
       "      <td>6.542404</td>\n",
       "      <td>0.006163</td>\n",
       "      <td>2</td>\n",
       "      <td>0</td>\n",
       "      <td>0</td>\n",
       "    </tr>\n",
       "    <tr>\n",
       "      <th>3</th>\n",
       "      <td>BEL</td>\n",
       "      <td>2024-10-17</td>\n",
       "      <td>284.55</td>\n",
       "      <td>44.803493</td>\n",
       "      <td>64.052288</td>\n",
       "      <td>65.494137</td>\n",
       "      <td>71.446957</td>\n",
       "      <td>-34.505863</td>\n",
       "      <td>0.333666</td>\n",
       "      <td>-0.072852</td>\n",
       "      <td>...</td>\n",
       "      <td>0</td>\n",
       "      <td>0.531524</td>\n",
       "      <td>26.170574</td>\n",
       "      <td>0.068705</td>\n",
       "      <td>0.036725</td>\n",
       "      <td>6.542644</td>\n",
       "      <td>0.020990</td>\n",
       "      <td>3</td>\n",
       "      <td>0</td>\n",
       "      <td>0</td>\n",
       "    </tr>\n",
       "    <tr>\n",
       "      <th>4</th>\n",
       "      <td>BEL</td>\n",
       "      <td>2024-10-18</td>\n",
       "      <td>287.15</td>\n",
       "      <td>44.463972</td>\n",
       "      <td>65.079365</td>\n",
       "      <td>74.831081</td>\n",
       "      <td>69.890651</td>\n",
       "      <td>-25.168919</td>\n",
       "      <td>0.494827</td>\n",
       "      <td>0.041222</td>\n",
       "      <td>...</td>\n",
       "      <td>0</td>\n",
       "      <td>0.611866</td>\n",
       "      <td>24.158379</td>\n",
       "      <td>0.077137</td>\n",
       "      <td>0.027338</td>\n",
       "      <td>6.039595</td>\n",
       "      <td>0.035895</td>\n",
       "      <td>4</td>\n",
       "      <td>0</td>\n",
       "      <td>0</td>\n",
       "    </tr>\n",
       "  </tbody>\n",
       "</table>\n",
       "<p>5 rows × 29 columns</p>\n",
       "</div>"
      ],
      "text/plain": [
       "  item_id  timestamp  target        RSI      RSI_7    stoch_k    stoch_d  \\\n",
       "0     BEL 2024-10-14  285.70  49.481865  60.903427  69.000000  70.555556   \n",
       "1     BEL 2024-10-15  288.85  47.344734  67.259259  79.500000  72.722222   \n",
       "2     BEL 2024-10-16  285.70  46.343612  83.918669  69.346734  72.615578   \n",
       "3     BEL 2024-10-17  284.55  44.803493  64.052288  65.494137  71.446957   \n",
       "4     BEL 2024-10-18  287.15  44.463972  65.079365  74.831081  69.890651   \n",
       "\n",
       "   williams_r      MACD  MACD_signal  ...  volume_breakout  BB_position  \\\n",
       "0  -31.000000 -0.117059    -0.453722  ...                0     0.577729   \n",
       "1  -20.500000  0.267773    -0.308080  ...                0     0.702247   \n",
       "2  -30.653266  0.351232    -0.175237  ...                0     0.578717   \n",
       "3  -34.505863  0.333666    -0.072852  ...                0     0.531524   \n",
       "4  -25.168919  0.494827     0.041222  ...                0     0.611866   \n",
       "\n",
       "    BB_width  support_distance  resistance_distance  volatility  momentum  \\\n",
       "0  26.405779          0.072454             0.032552    6.601445 -0.026410   \n",
       "1  26.106696          0.082569             0.021291    6.526674  0.013153   \n",
       "2  26.169617          0.072454             0.032552    6.542404  0.006163   \n",
       "3  26.170574          0.068705             0.036725    6.542644  0.020990   \n",
       "4  24.158379          0.077137             0.027338    6.039595  0.035895   \n",
       "\n",
       "   day_of_week  is_expiry_week  is_month_end  \n",
       "0            0               0             0  \n",
       "1            1               0             0  \n",
       "2            2               0             0  \n",
       "3            3               0             0  \n",
       "4            4               0             0  \n",
       "\n",
       "[5 rows x 29 columns]"
      ]
     },
     "execution_count": 5,
     "metadata": {},
     "output_type": "execute_result"
    }
   ],
   "source": [
    "# ============================================================================\n",
    "# 3. FEATURE SELECTION AND DATA PREPARATION\n",
    "# ============================================================================\n",
    "\n",
    "def prepare_features_for_modeling(df, target_col='close'):\n",
    "    \"\"\"Select and prepare features for time series modeling\"\"\"\n",
    "    \n",
    "    # Select the most relevant features for forecasting\n",
    "    feature_columns = [\n",
    "        'Date', target_col,\n",
    "        \n",
    "        # **Short-term momentum indicators** (most important for 3-day)\n",
    "        'RSI', 'RSI_7',                    # Momentum signals\n",
    "        'stoch_k', 'stoch_d',              # Overbought/oversold\n",
    "        'williams_r',                       # Momentum confirmation\n",
    "        'MACD', 'MACD_signal',             # Trend changes\n",
    "        \n",
    "        # **Price action** \n",
    "        'SMA_5', 'SMA_10', 'SMA_20',      # Short-term trends\n",
    "        'EMA_12', 'EMA_26',               # Responsive averages\n",
    "        'high_low_pct', 'open_close_pct', # Daily volatility\n",
    "        \n",
    "        # **Volume confirmation**\n",
    "        'obv',                             # Volume flow\n",
    "        'volume_ratio',                    # Volume spikes\n",
    "        'volume_breakout',                 # Unusual activity\n",
    "        \n",
    "        # **Bollinger Bands** (for volatility regime)\n",
    "        'BB_position', 'BB_width',\n",
    "        \n",
    "        # **Market structure**\n",
    "        'support_distance', 'resistance_distance',\n",
    "        'volatility', 'momentum',\n",
    "        \n",
    "        # **Temporal patterns** (crucial for 3-day)\n",
    "        'day_of_week', 'is_expiry_week',   # Weekly patterns\n",
    "        'is_month_end'                     # Monthly patterns\n",
    "    ]\n",
    "    \n",
    "    # Create modeling dataset\n",
    "    model_data = df[feature_columns].copy()\n",
    "    \n",
    "    # Drop rows with NaN values (from rolling calculations)\n",
    "    model_data = model_data.dropna().reset_index(drop=True)\n",
    "    \n",
    "    # Prepare for AutoGluon TimeSeriesDataFrame\n",
    "    ts_data = model_data.rename(columns={'Date': 'timestamp', target_col: 'target'})\n",
    "    ts_data['item_id'] = 'BEL'\n",
    "    \n",
    "    # Reorder columns: item_id, timestamp, target, covariates...\n",
    "    covariate_cols = [col for col in ts_data.columns if col not in ['item_id', 'timestamp', 'target']]\n",
    "    column_order = ['item_id', 'timestamp', 'target'] + covariate_cols\n",
    "    ts_data = ts_data[column_order]\n",
    "    \n",
    "    print(f\"🎯 Features selected for modeling: {len(covariate_cols)} covariates\")\n",
    "    print(f\"📊 Clean dataset: {len(ts_data)} records (removed {len(df) - len(ts_data)} NaN rows)\")\n",
    "    print(f\"📋 Covariates: {covariate_cols}\")\n",
    "    \n",
    "    return ts_data, covariate_cols\n",
    "\n",
    "# Prepare features\n",
    "ts_data, covariate_names = prepare_features_for_modeling(data_with_indicators)\n",
    "ts_data.head()\n"
   ]
  },
  {
   "cell_type": "code",
   "execution_count": 6,
   "id": "1e516153",
   "metadata": {},
   "outputs": [
    {
     "name": "stdout",
     "output_type": "stream",
     "text": [
      "🔄 Train-Test Split:\n",
      "   📈 Training data: 324 points (until 2025-09-02)\n",
      "   🔍 Test data: 10 points\n",
      "   📊 Frequency: D\n",
      "   🎯 Covariates: 26 features\n"
     ]
    }
   ],
   "source": [
    "# ============================================================================\n",
    "# 4. TRAIN-TEST SPLIT WITH FREQUENCY HANDLING\n",
    "# ============================================================================\n",
    "\n",
    "def create_train_test_split_with_covariates(ts_data, covariate_names, test_days=30):\n",
    "    \"\"\"Create train-test split with proper frequency and covariate handling\"\"\"\n",
    "    \n",
    "    # Convert to TimeSeriesDataFrame with covariates\n",
    "    ts_df = TimeSeriesDataFrame.from_data_frame(\n",
    "        ts_data,\n",
    "        id_column='item_id',\n",
    "        timestamp_column='timestamp'\n",
    "    )\n",
    "    \n",
    "    # Set frequency to daily\n",
    "    ts_df = ts_df.convert_frequency(freq='D')\n",
    "    \n",
    "    # Train-test split based on time\n",
    "    last_date = ts_df.index.get_level_values('timestamp').max()\n",
    "    split_date = last_date - pd.Timedelta(days=test_days)\n",
    "    \n",
    "    train_data = ts_df.loc[ts_df.index.get_level_values('timestamp') <= split_date]\n",
    "    test_data = ts_df.loc[ts_df.index.get_level_values('timestamp') > split_date]\n",
    "    \n",
    "    # Ensure frequency is maintained\n",
    "    train_data = train_data.convert_frequency(freq='D')\n",
    "    test_data = test_data.convert_frequency(freq='D')\n",
    "    \n",
    "    print(\"🔄 Train-Test Split:\")\n",
    "    print(f\"   📈 Training data: {len(train_data)} points (until {split_date.date()})\")\n",
    "    print(f\"   🔍 Test data: {len(test_data)} points\")\n",
    "    print(f\"   📊 Frequency: {train_data.freq}\")\n",
    "    print(f\"   🎯 Covariates: {len(covariate_names)} features\")\n",
    "    \n",
    "    return train_data, test_data, split_date, ts_df\n",
    "\n",
    "# Create train-test split\n",
    "train_data, test_data, split_date, full_ts_df = create_train_test_split_with_covariates(\n",
    "    ts_data, covariate_names, test_days=10\n",
    ")\n"
   ]
  },
  {
   "cell_type": "code",
   "execution_count": 13,
   "id": "ce5277b4",
   "metadata": {},
   "outputs": [
    {
     "name": "stderr",
     "output_type": "stream",
     "text": [
      "Warning: path already exists! This predictor may overwrite an existing predictor! path=\"./chronos_models/bel_bolt_base_with_indicators\"\n",
      "Beginning AutoGluon training... Time limit = 600s\n",
      "AutoGluon will save models to '/workspaces/Market/chronos_models/bel_bolt_base_with_indicators'\n",
      "=================== System Info ===================\n",
      "AutoGluon Version:  1.4.0\n",
      "Python Version:     3.11.11\n",
      "Operating System:   Linux\n",
      "Platform Machine:   x86_64\n",
      "Platform Version:   #29~24.04.1-Ubuntu SMP PREEMPT_DYNAMIC Thu Aug 14 16:52:50 UTC 2\n",
      "CPU Count:          8\n",
      "GPU Count:          1\n",
      "Memory Avail:       12.17 GB / 23.31 GB (52.2%)\n",
      "Disk Space Avail:   357.68 GB / 931.51 GB (38.4%)\n",
      "===================================================\n",
      "Setting presets to: bolt_base\n",
      "\n",
      "Fitting with arguments:\n",
      "{'enable_ensemble': True,\n",
      " 'eval_metric': WQL,\n",
      " 'freq': 'D',\n",
      " 'hyperparameters': {'Chronos': [{'ag_args': {'name_suffix': 'ZeroShot'},\n",
      "                                  'model_path': 'bolt_base'}]},\n",
      " 'known_covariates_names': [],\n",
      " 'num_val_windows': 1,\n",
      " 'prediction_length': 10,\n",
      " 'quantile_levels': [0.1, 0.2, 0.3, 0.4, 0.5, 0.6, 0.7, 0.8, 0.9],\n",
      " 'random_seed': 123,\n",
      " 'refit_every_n_windows': 1,\n",
      " 'refit_full': False,\n",
      " 'skip_model_selection': False,\n",
      " 'target': 'target',\n",
      " 'time_limit': 600,\n",
      " 'verbosity': 2}\n",
      "\n",
      "Provided train_data has 324 rows (NaN fraction=31.8%), 1 time series. Median time series length is 324 (min=324, max=324). \n",
      "\n",
      "Provided data contains following columns:\n",
      "\ttarget: 'target'\n",
      "\tpast_covariates:\n",
      "\t\tcategorical:        []\n",
      "\t\tcontinuous (float): ['RSI', 'RSI_7', 'stoch_k', 'stoch_d', 'williams_r', 'MACD', ...]\n",
      "\n",
      "To learn how to fix incorrectly inferred types, please see documentation for TimeSeriesPredictor.fit\n",
      "\n",
      "AutoGluon will gauge predictive performance using evaluation metric: 'WQL'\n",
      "\tThis metric's sign has been flipped to adhere to being higher_is_better. The metric score can be multiplied by -1 to get the metric value.\n",
      "===================================================\n",
      "\n",
      "Starting training. Start time is 2025-09-14 18:59:45\n",
      "Models that will be trained: ['ChronosZeroShot[bolt_base]']\n",
      "Training timeseries model ChronosZeroShot[bolt_base]. Training for up to 600.0s of the 600.0s of remaining time.\n"
     ]
    },
    {
     "name": "stdout",
     "output_type": "stream",
     "text": [
      "🚀 Training Chronos-Bolt-Base Model\n",
      "   📏 Prediction length: 10 days\n",
      "   🎯 Using 26 covariates\n",
      "--------------------------------------------------\n"
     ]
    },
    {
     "name": "stderr",
     "output_type": "stream",
     "text": [
      "\t-0.0135       = Validation score (-WQL)\n",
      "\t0.02    s     = Training runtime\n",
      "\t2.02    s     = Validation (prediction) runtime\n",
      "Not fitting ensemble as only 1 model was trained.\n",
      "Training complete. Models trained: ['ChronosZeroShot[bolt_base]']\n",
      "Total runtime: 2.06 s\n",
      "Best model: ChronosZeroShot[bolt_base]\n",
      "Best model score: -0.0135\n",
      "Model not specified in predict, will default to the model with the best validation score: ChronosZeroShot[bolt_base]\n"
     ]
    },
    {
     "name": "stdout",
     "output_type": "stream",
     "text": [
      "✅ Chronos-Bolt-Base training completed successfully!\n"
     ]
    }
   ],
   "source": [
    "# ============================================================================\n",
    "# 5. CHRONOS MODEL TRAINING (BASE MODEL ONLY)\n",
    "# ============================================================================\n",
    "\n",
    "def train_chronos_base_model(train_data, test_data, covariate_names):\n",
    "    \"\"\"Train Chronos-Bolt-Base model with technical indicators\"\"\"\n",
    "    \n",
    "    prediction_length = len(test_data)\n",
    "    \n",
    "    print(\"🚀 Training Chronos-Bolt-Base Model\")\n",
    "    print(f\"   📏 Prediction length: {prediction_length} days\")\n",
    "    print(f\"   🎯 Using {len(covariate_names)} covariates\")\n",
    "    print(\"-\" * 50)\n",
    "    \n",
    "    try:\n",
    "        # Initialize predictor with explicit frequency and covariates\n",
    "        predictor = TimeSeriesPredictor(\n",
    "            target='target',\n",
    "            prediction_length=prediction_length,\n",
    "            path=\"./chronos_models/bel_bolt_base_with_indicators\",\n",
    "            freq='D',  # Daily frequency\n",
    "            verbosity=2\n",
    "        )\n",
    "        \n",
    "        # Train the model\n",
    "        predictor.fit(\n",
    "            train_data=train_data,\n",
    "            hyperparameters={\n",
    "                \"Chronos\": [\n",
    "                    {\n",
    "                        \"model_path\": \"bolt_base\",\n",
    "                        \"ag_args\": {\"name_suffix\": \"ZeroShot\"}\n",
    "                    }\n",
    "                ]\n",
    "            },\n",
    "            presets='bolt_base',  # Use bolt_base only\n",
    "            time_limit=600,  # 10 minutes max\n",
    "            skip_model_selection=False  # Use only the specified preset\n",
    "        )\n",
    "        \n",
    "        # Make predictions\n",
    "        predictions = predictor.predict(train_data)\n",
    "        \n",
    "        print(\"✅ Chronos-Bolt-Base training completed successfully!\")\n",
    "        \n",
    "        return predictor, predictions\n",
    "        \n",
    "    except Exception as e:\n",
    "        print(f\"❌ Model training failed: {str(e)}\")\n",
    "        return None, None\n",
    "\n",
    "# Train the model\n",
    "predictor, predictions = train_chronos_base_model(train_data, test_data, covariate_names)\n"
   ]
  },
  {
   "cell_type": "code",
   "execution_count": 14,
   "id": "ce1dc55b",
   "metadata": {},
   "outputs": [
    {
     "name": "stdout",
     "output_type": "stream",
     "text": [
      "📊 Model Performance Evaluation:\n",
      "   📏 MAE:  ₹14.10\n",
      "   📐 RMSE: ₹18.12\n",
      "   📊 MAPE: 3.64%\n",
      "   🎯 Direction Accuracy: 57.1%\n",
      "   ✅ Valid predictions: 8/10\n"
     ]
    }
   ],
   "source": [
    "# ============================================================================\n",
    "# 6. FIXED MODEL EVALUATION\n",
    "# ============================================================================\n",
    "\n",
    "def evaluate_predictions(predictions, test_data, ts_data):\n",
    "    \"\"\"Evaluate model performance with detailed metrics - FIXED VERSION\"\"\"\n",
    "    \n",
    "    if predictions is None:\n",
    "        print(\"❌ No predictions available for evaluation\")\n",
    "        return None\n",
    "    \n",
    "    # Get actual test values\n",
    "    test_dates = test_data.index.get_level_values('timestamp')\n",
    "    actual_values = test_data['target'].values\n",
    "    \n",
    "    # Get predicted values - FIXED\n",
    "    pred_df = predictions.reset_index()\n",
    "    \n",
    "    # Handle different column names in predictions\n",
    "    if 'mean' in pred_df.columns:\n",
    "        predicted_values = pred_df['mean'].values[:len(actual_values)]\n",
    "    elif '0.5' in pred_df.columns:  # Median prediction\n",
    "        predicted_values = pred_df['0.5'].values[:len(actual_values)]\n",
    "    elif 'target' in pred_df.columns:\n",
    "        predicted_values = pred_df['target'].values[:len(actual_values)]\n",
    "    else:\n",
    "        print(f\"⚠️ Available prediction columns: {pred_df.columns.tolist()}\")\n",
    "        predicted_values = pred_df.iloc[:, -1].values[:len(actual_values)]  # Use last column\n",
    "    \n",
    "    # Remove NaN values if present\n",
    "    valid_mask = ~(np.isnan(actual_values) | np.isnan(predicted_values))\n",
    "    actual_values_clean = actual_values[valid_mask]\n",
    "    predicted_values_clean = predicted_values[valid_mask]\n",
    "    test_dates_clean = test_dates[valid_mask]\n",
    "    \n",
    "    if len(actual_values_clean) == 0:\n",
    "        print(\"❌ No valid prediction-actual pairs found\")\n",
    "        return None\n",
    "    \n",
    "    # Calculate metrics\n",
    "    mae = np.mean(np.abs(actual_values_clean - predicted_values_clean))\n",
    "    rmse = np.sqrt(np.mean((actual_values_clean - predicted_values_clean) ** 2))\n",
    "    mape = np.mean(np.abs((actual_values_clean - predicted_values_clean) / actual_values_clean)) * 100\n",
    "    \n",
    "    # Direction accuracy (if price goes up/down correctly predicted)\n",
    "    if len(actual_values_clean) > 1:\n",
    "        actual_direction = np.diff(actual_values_clean) > 0\n",
    "        pred_direction = np.diff(predicted_values_clean) > 0\n",
    "        direction_accuracy = np.mean(actual_direction == pred_direction) * 100\n",
    "    else:\n",
    "        direction_accuracy = 0.0\n",
    "    \n",
    "    print(\"📊 Model Performance Evaluation:\")\n",
    "    print(f\"   📏 MAE:  ₹{mae:.2f}\")\n",
    "    print(f\"   📐 RMSE: ₹{rmse:.2f}\")\n",
    "    print(f\"   📊 MAPE: {mape:.2f}%\")\n",
    "    print(f\"   🎯 Direction Accuracy: {direction_accuracy:.1f}%\")\n",
    "    print(f\"   ✅ Valid predictions: {len(actual_values_clean)}/{len(actual_values)}\")\n",
    "    \n",
    "    # Create evaluation results\n",
    "    results = {\n",
    "        'actual_values': actual_values_clean,\n",
    "        'predicted_values': predicted_values_clean,\n",
    "        'test_dates': test_dates_clean,\n",
    "        'mae': mae,\n",
    "        'rmse': rmse,\n",
    "        'mape': mape,\n",
    "        'direction_accuracy': direction_accuracy\n",
    "    }\n",
    "    \n",
    "    return results\n",
    "\n",
    "# Re-evaluate the model with fixed function\n",
    "eval_results = evaluate_predictions(predictions, test_data, ts_data)\n"
   ]
  },
  {
   "cell_type": "code",
   "execution_count": 15,
   "id": "3b1bbd67",
   "metadata": {},
   "outputs": [
    {
     "data": {
      "application/vnd.plotly.v1+json": {
       "config": {
        "plotlyServerURL": "https://plot.ly"
       },
       "data": [
        {
         "line": {
          "color": "blue",
          "width": 2
         },
         "mode": "lines",
         "name": "Historical Prices",
         "type": "scatter",
         "x": [
          "2024-10-14T00:00:00",
          "2024-10-15T00:00:00",
          "2024-10-16T00:00:00",
          "2024-10-17T00:00:00",
          "2024-10-18T00:00:00",
          "2024-10-21T00:00:00",
          "2024-10-22T00:00:00",
          "2024-10-23T00:00:00",
          "2024-10-24T00:00:00",
          "2024-10-25T00:00:00",
          "2024-10-28T00:00:00",
          "2024-10-29T00:00:00",
          "2024-10-30T00:00:00",
          "2024-10-31T00:00:00",
          "2024-11-01T00:00:00",
          "2024-11-04T00:00:00",
          "2024-11-05T00:00:00",
          "2024-11-06T00:00:00",
          "2024-11-07T00:00:00",
          "2024-11-08T00:00:00",
          "2024-11-11T00:00:00",
          "2024-11-12T00:00:00",
          "2024-11-13T00:00:00",
          "2024-11-14T00:00:00",
          "2024-11-18T00:00:00",
          "2024-11-19T00:00:00",
          "2024-11-21T00:00:00",
          "2024-11-22T00:00:00",
          "2024-11-25T00:00:00",
          "2024-11-26T00:00:00",
          "2024-11-27T00:00:00",
          "2024-11-28T00:00:00",
          "2024-11-29T00:00:00",
          "2024-12-02T00:00:00",
          "2024-12-03T00:00:00",
          "2024-12-04T00:00:00",
          "2024-12-05T00:00:00",
          "2024-12-06T00:00:00",
          "2024-12-09T00:00:00",
          "2024-12-10T00:00:00",
          "2024-12-11T00:00:00",
          "2024-12-12T00:00:00",
          "2024-12-13T00:00:00",
          "2024-12-16T00:00:00",
          "2024-12-17T00:00:00",
          "2024-12-18T00:00:00",
          "2024-12-19T00:00:00",
          "2024-12-20T00:00:00",
          "2024-12-23T00:00:00",
          "2024-12-24T00:00:00",
          "2024-12-26T00:00:00",
          "2024-12-27T00:00:00",
          "2024-12-30T00:00:00",
          "2024-12-31T00:00:00",
          "2025-01-01T00:00:00",
          "2025-01-02T00:00:00",
          "2025-01-03T00:00:00",
          "2025-01-06T00:00:00",
          "2025-01-07T00:00:00",
          "2025-01-08T00:00:00",
          "2025-01-09T00:00:00",
          "2025-01-10T00:00:00",
          "2025-01-13T00:00:00",
          "2025-01-14T00:00:00",
          "2025-01-15T00:00:00",
          "2025-01-16T00:00:00",
          "2025-01-17T00:00:00",
          "2025-01-20T00:00:00",
          "2025-01-21T00:00:00",
          "2025-01-22T00:00:00",
          "2025-01-23T00:00:00",
          "2025-01-24T00:00:00",
          "2025-01-27T00:00:00",
          "2025-01-28T00:00:00",
          "2025-01-29T00:00:00",
          "2025-01-30T00:00:00",
          "2025-01-31T00:00:00",
          "2025-02-01T00:00:00",
          "2025-02-03T00:00:00",
          "2025-02-04T00:00:00",
          "2025-02-05T00:00:00",
          "2025-02-06T00:00:00",
          "2025-02-07T00:00:00",
          "2025-02-10T00:00:00",
          "2025-02-11T00:00:00",
          "2025-02-12T00:00:00",
          "2025-02-13T00:00:00",
          "2025-02-14T00:00:00",
          "2025-02-17T00:00:00",
          "2025-02-18T00:00:00",
          "2025-02-19T00:00:00",
          "2025-02-20T00:00:00",
          "2025-02-21T00:00:00",
          "2025-02-24T00:00:00",
          "2025-02-25T00:00:00",
          "2025-02-27T00:00:00",
          "2025-02-28T00:00:00",
          "2025-03-03T00:00:00",
          "2025-03-04T00:00:00",
          "2025-03-05T00:00:00",
          "2025-03-06T00:00:00",
          "2025-03-07T00:00:00",
          "2025-03-10T00:00:00",
          "2025-03-11T00:00:00",
          "2025-03-12T00:00:00",
          "2025-03-13T00:00:00",
          "2025-03-17T00:00:00",
          "2025-03-18T00:00:00",
          "2025-03-19T00:00:00",
          "2025-03-20T00:00:00",
          "2025-03-21T00:00:00",
          "2025-03-24T00:00:00",
          "2025-03-25T00:00:00",
          "2025-03-26T00:00:00",
          "2025-03-27T00:00:00",
          "2025-03-28T00:00:00",
          "2025-04-01T00:00:00",
          "2025-04-02T00:00:00",
          "2025-04-03T00:00:00",
          "2025-04-04T00:00:00",
          "2025-04-07T00:00:00",
          "2025-04-08T00:00:00",
          "2025-04-09T00:00:00",
          "2025-04-11T00:00:00",
          "2025-04-15T00:00:00",
          "2025-04-16T00:00:00",
          "2025-04-17T00:00:00",
          "2025-04-21T00:00:00",
          "2025-04-22T00:00:00",
          "2025-04-23T00:00:00",
          "2025-04-24T00:00:00",
          "2025-04-25T00:00:00",
          "2025-04-28T00:00:00",
          "2025-04-29T00:00:00",
          "2025-04-30T00:00:00",
          "2025-05-02T00:00:00",
          "2025-05-05T00:00:00",
          "2025-05-06T00:00:00",
          "2025-05-07T00:00:00",
          "2025-05-08T00:00:00",
          "2025-05-09T00:00:00",
          "2025-05-12T00:00:00",
          "2025-05-13T00:00:00",
          "2025-05-14T00:00:00",
          "2025-05-15T00:00:00",
          "2025-05-16T00:00:00",
          "2025-05-19T00:00:00",
          "2025-05-20T00:00:00",
          "2025-05-21T00:00:00",
          "2025-05-22T00:00:00",
          "2025-05-23T00:00:00",
          "2025-05-26T00:00:00",
          "2025-05-27T00:00:00",
          "2025-05-28T00:00:00",
          "2025-05-29T00:00:00",
          "2025-05-30T00:00:00",
          "2025-06-02T00:00:00",
          "2025-06-03T00:00:00",
          "2025-06-04T00:00:00",
          "2025-06-05T00:00:00",
          "2025-06-06T00:00:00",
          "2025-06-09T00:00:00",
          "2025-06-10T00:00:00",
          "2025-06-11T00:00:00",
          "2025-06-12T00:00:00",
          "2025-06-13T00:00:00",
          "2025-06-16T00:00:00",
          "2025-06-17T00:00:00",
          "2025-06-18T00:00:00",
          "2025-06-19T00:00:00",
          "2025-06-20T00:00:00",
          "2025-06-23T00:00:00",
          "2025-06-24T00:00:00",
          "2025-06-25T00:00:00",
          "2025-06-26T00:00:00",
          "2025-06-27T00:00:00",
          "2025-06-30T00:00:00",
          "2025-07-01T00:00:00",
          "2025-07-02T00:00:00",
          "2025-07-03T00:00:00",
          "2025-07-04T00:00:00",
          "2025-07-07T00:00:00",
          "2025-07-08T00:00:00",
          "2025-07-09T00:00:00",
          "2025-07-10T00:00:00",
          "2025-07-11T00:00:00",
          "2025-07-14T00:00:00",
          "2025-07-15T00:00:00",
          "2025-07-16T00:00:00",
          "2025-07-17T00:00:00",
          "2025-07-18T00:00:00",
          "2025-07-21T00:00:00",
          "2025-07-22T00:00:00",
          "2025-07-23T00:00:00",
          "2025-07-24T00:00:00",
          "2025-07-25T00:00:00",
          "2025-07-28T00:00:00",
          "2025-07-29T00:00:00",
          "2025-07-30T00:00:00",
          "2025-07-31T00:00:00",
          "2025-08-01T00:00:00",
          "2025-08-04T00:00:00",
          "2025-08-05T00:00:00",
          "2025-08-06T00:00:00",
          "2025-08-07T00:00:00",
          "2025-08-08T00:00:00",
          "2025-08-11T00:00:00",
          "2025-08-12T00:00:00",
          "2025-08-13T00:00:00",
          "2025-08-14T00:00:00",
          "2025-08-18T00:00:00",
          "2025-08-19T00:00:00",
          "2025-08-20T00:00:00",
          "2025-08-21T00:00:00",
          "2025-08-22T00:00:00",
          "2025-08-25T00:00:00",
          "2025-08-26T00:00:00",
          "2025-08-28T00:00:00",
          "2025-08-29T00:00:00",
          "2025-09-01T00:00:00",
          "2025-09-02T00:00:00"
         ],
         "xaxis": "x",
         "y": {
          "bdata": "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",
          "dtype": "f8"
         },
         "yaxis": "y"
        },
        {
         "line": {
          "color": "white",
          "width": 3
         },
         "marker": {
          "size": 4
         },
         "mode": "lines+markers",
         "name": "Actual Prices",
         "type": "scatter",
         "x": [
          "2025-09-03T00:00:00",
          "2025-09-04T00:00:00",
          "2025-09-05T00:00:00",
          "2025-09-08T00:00:00",
          "2025-09-09T00:00:00",
          "2025-09-10T00:00:00",
          "2025-09-11T00:00:00",
          "2025-09-12T00:00:00"
         ],
         "xaxis": "x",
         "y": {
          "bdata": "MzMzMzOrd0AAAAAAAEh3QM3MzMzMLHdAZmZmZmY+d0AzMzMzMz93QM3MzMzMQHhAZmZmZmYSeEDNzMzMzPR4QA==",
          "dtype": "f8"
         },
         "yaxis": "y"
        },
        {
         "line": {
          "color": "red",
          "dash": "dash",
          "width": 2
         },
         "marker": {
          "size": 4
         },
         "mode": "lines+markers",
         "name": "Chronos Forecast (RMSE: ₹18.12)",
         "type": "scatter",
         "x": [
          "2025-09-03T00:00:00",
          "2025-09-04T00:00:00",
          "2025-09-05T00:00:00",
          "2025-09-08T00:00:00",
          "2025-09-09T00:00:00",
          "2025-09-10T00:00:00",
          "2025-09-11T00:00:00",
          "2025-09-12T00:00:00"
         ],
         "xaxis": "x",
         "y": {
          "bdata": "x+W4Q3hOuENFw7ZDA0S2Q55Rt0M1nLZDXxi2QyOJtEM=",
          "dtype": "f4"
         },
         "yaxis": "y"
        },
        {
         "fill": "tonexty",
         "line": {
          "color": "purple",
          "width": 2
         },
         "mode": "lines+markers",
         "name": "Prediction Error (₹)",
         "type": "scatter",
         "x": [
          "2025-09-03T00:00:00",
          "2025-09-04T00:00:00",
          "2025-09-05T00:00:00",
          "2025-09-08T00:00:00",
          "2025-09-09T00:00:00",
          "2025-09-10T00:00:00",
          "2025-09-11T00:00:00",
          "2025-09-12T00:00:00"
         ],
         "xaxis": "x2",
         "y": {
          "bdata": "YGZmZkrPIUAAAAAAgBgPQEAzMzMLGRVAgJmZmYF5HUDAzMzM3D8VQNDMzMxi1DZAYGZmZqj1NEBoZmZmQx1DQA==",
          "dtype": "f8"
         },
         "yaxis": "y2"
        },
        {
         "line": {
          "color": "orange",
          "width": 1
         },
         "mode": "lines",
         "name": "RSI",
         "type": "scatter",
         "x": [
          "2024-10-14T00:00:00",
          "2024-10-15T00:00:00",
          "2024-10-16T00:00:00",
          "2024-10-17T00:00:00",
          "2024-10-18T00:00:00",
          "2024-10-21T00:00:00",
          "2024-10-22T00:00:00",
          "2024-10-23T00:00:00",
          "2024-10-24T00:00:00",
          "2024-10-25T00:00:00",
          "2024-10-28T00:00:00",
          "2024-10-29T00:00:00",
          "2024-10-30T00:00:00",
          "2024-10-31T00:00:00",
          "2024-11-01T00:00:00",
          "2024-11-04T00:00:00",
          "2024-11-05T00:00:00",
          "2024-11-06T00:00:00",
          "2024-11-07T00:00:00",
          "2024-11-08T00:00:00",
          "2024-11-11T00:00:00",
          "2024-11-12T00:00:00",
          "2024-11-13T00:00:00",
          "2024-11-14T00:00:00",
          "2024-11-18T00:00:00",
          "2024-11-19T00:00:00",
          "2024-11-21T00:00:00",
          "2024-11-22T00:00:00",
          "2024-11-25T00:00:00",
          "2024-11-26T00:00:00",
          "2024-11-27T00:00:00",
          "2024-11-28T00:00:00",
          "2024-11-29T00:00:00",
          "2024-12-02T00:00:00",
          "2024-12-03T00:00:00",
          "2024-12-04T00:00:00",
          "2024-12-05T00:00:00",
          "2024-12-06T00:00:00",
          "2024-12-09T00:00:00",
          "2024-12-10T00:00:00",
          "2024-12-11T00:00:00",
          "2024-12-12T00:00:00",
          "2024-12-13T00:00:00",
          "2024-12-16T00:00:00",
          "2024-12-17T00:00:00",
          "2024-12-18T00:00:00",
          "2024-12-19T00:00:00",
          "2024-12-20T00:00:00",
          "2024-12-23T00:00:00",
          "2024-12-24T00:00:00",
          "2024-12-26T00:00:00",
          "2024-12-27T00:00:00",
          "2024-12-30T00:00:00",
          "2024-12-31T00:00:00",
          "2025-01-01T00:00:00",
          "2025-01-02T00:00:00",
          "2025-01-03T00:00:00",
          "2025-01-06T00:00:00",
          "2025-01-07T00:00:00",
          "2025-01-08T00:00:00",
          "2025-01-09T00:00:00",
          "2025-01-10T00:00:00",
          "2025-01-13T00:00:00",
          "2025-01-14T00:00:00",
          "2025-01-15T00:00:00",
          "2025-01-16T00:00:00",
          "2025-01-17T00:00:00",
          "2025-01-20T00:00:00",
          "2025-01-21T00:00:00",
          "2025-01-22T00:00:00",
          "2025-01-23T00:00:00",
          "2025-01-24T00:00:00",
          "2025-01-27T00:00:00",
          "2025-01-28T00:00:00",
          "2025-01-29T00:00:00",
          "2025-01-30T00:00:00",
          "2025-01-31T00:00:00",
          "2025-02-01T00:00:00",
          "2025-02-03T00:00:00",
          "2025-02-04T00:00:00",
          "2025-02-05T00:00:00",
          "2025-02-06T00:00:00",
          "2025-02-07T00:00:00",
          "2025-02-10T00:00:00",
          "2025-02-11T00:00:00",
          "2025-02-12T00:00:00",
          "2025-02-13T00:00:00",
          "2025-02-14T00:00:00",
          "2025-02-17T00:00:00",
          "2025-02-18T00:00:00",
          "2025-02-19T00:00:00",
          "2025-02-20T00:00:00",
          "2025-02-21T00:00:00",
          "2025-02-24T00:00:00",
          "2025-02-25T00:00:00",
          "2025-02-27T00:00:00",
          "2025-02-28T00:00:00",
          "2025-03-03T00:00:00",
          "2025-03-04T00:00:00",
          "2025-03-05T00:00:00",
          "2025-03-06T00:00:00",
          "2025-03-07T00:00:00",
          "2025-03-10T00:00:00",
          "2025-03-11T00:00:00",
          "2025-03-12T00:00:00",
          "2025-03-13T00:00:00",
          "2025-03-17T00:00:00",
          "2025-03-18T00:00:00",
          "2025-03-19T00:00:00",
          "2025-03-20T00:00:00",
          "2025-03-21T00:00:00",
          "2025-03-24T00:00:00",
          "2025-03-25T00:00:00",
          "2025-03-26T00:00:00",
          "2025-03-27T00:00:00",
          "2025-03-28T00:00:00",
          "2025-04-01T00:00:00",
          "2025-04-02T00:00:00",
          "2025-04-03T00:00:00",
          "2025-04-04T00:00:00",
          "2025-04-07T00:00:00",
          "2025-04-08T00:00:00",
          "2025-04-09T00:00:00",
          "2025-04-11T00:00:00",
          "2025-04-15T00:00:00",
          "2025-04-16T00:00:00",
          "2025-04-17T00:00:00",
          "2025-04-21T00:00:00",
          "2025-04-22T00:00:00",
          "2025-04-23T00:00:00",
          "2025-04-24T00:00:00",
          "2025-04-25T00:00:00",
          "2025-04-28T00:00:00",
          "2025-04-29T00:00:00",
          "2025-04-30T00:00:00",
          "2025-05-02T00:00:00",
          "2025-05-05T00:00:00",
          "2025-05-06T00:00:00",
          "2025-05-07T00:00:00",
          "2025-05-08T00:00:00",
          "2025-05-09T00:00:00",
          "2025-05-12T00:00:00",
          "2025-05-13T00:00:00",
          "2025-05-14T00:00:00",
          "2025-05-15T00:00:00",
          "2025-05-16T00:00:00",
          "2025-05-19T00:00:00",
          "2025-05-20T00:00:00",
          "2025-05-21T00:00:00",
          "2025-05-22T00:00:00",
          "2025-05-23T00:00:00",
          "2025-05-26T00:00:00",
          "2025-05-27T00:00:00",
          "2025-05-28T00:00:00",
          "2025-05-29T00:00:00",
          "2025-05-30T00:00:00",
          "2025-06-02T00:00:00",
          "2025-06-03T00:00:00",
          "2025-06-04T00:00:00",
          "2025-06-05T00:00:00",
          "2025-06-06T00:00:00",
          "2025-06-09T00:00:00",
          "2025-06-10T00:00:00",
          "2025-06-11T00:00:00",
          "2025-06-12T00:00:00",
          "2025-06-13T00:00:00",
          "2025-06-16T00:00:00",
          "2025-06-17T00:00:00",
          "2025-06-18T00:00:00",
          "2025-06-19T00:00:00",
          "2025-06-20T00:00:00",
          "2025-06-23T00:00:00",
          "2025-06-24T00:00:00",
          "2025-06-25T00:00:00",
          "2025-06-26T00:00:00",
          "2025-06-27T00:00:00",
          "2025-06-30T00:00:00",
          "2025-07-01T00:00:00",
          "2025-07-02T00:00:00",
          "2025-07-03T00:00:00",
          "2025-07-04T00:00:00",
          "2025-07-07T00:00:00",
          "2025-07-08T00:00:00",
          "2025-07-09T00:00:00",
          "2025-07-10T00:00:00",
          "2025-07-11T00:00:00",
          "2025-07-14T00:00:00",
          "2025-07-15T00:00:00",
          "2025-07-16T00:00:00",
          "2025-07-17T00:00:00",
          "2025-07-18T00:00:00",
          "2025-07-21T00:00:00",
          "2025-07-22T00:00:00",
          "2025-07-23T00:00:00",
          "2025-07-24T00:00:00",
          "2025-07-25T00:00:00",
          "2025-07-28T00:00:00",
          "2025-07-29T00:00:00",
          "2025-07-30T00:00:00",
          "2025-07-31T00:00:00",
          "2025-08-01T00:00:00",
          "2025-08-04T00:00:00",
          "2025-08-05T00:00:00",
          "2025-08-06T00:00:00",
          "2025-08-07T00:00:00",
          "2025-08-08T00:00:00",
          "2025-08-11T00:00:00",
          "2025-08-12T00:00:00",
          "2025-08-13T00:00:00",
          "2025-08-14T00:00:00",
          "2025-08-18T00:00:00",
          "2025-08-19T00:00:00",
          "2025-08-20T00:00:00",
          "2025-08-21T00:00:00",
          "2025-08-22T00:00:00",
          "2025-08-25T00:00:00",
          "2025-08-26T00:00:00",
          "2025-08-28T00:00:00",
          "2025-08-29T00:00:00",
          "2025-09-01T00:00:00",
          "2025-09-02T00:00:00",
          "2025-09-03T00:00:00",
          "2025-09-04T00:00:00",
          "2025-09-05T00:00:00",
          "2025-09-08T00:00:00",
          "2025-09-09T00:00:00",
          "2025-09-10T00:00:00",
          "2025-09-11T00:00:00",
          "2025-09-12T00:00:00"
         ],
         "xaxis": "x3",
         "y": {
          "bdata": "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",
          "dtype": "f8"
         },
         "yaxis": "y3"
        }
       ],
       "layout": {
        "annotations": [
         {
          "font": {
           "size": 16
          },
          "showarrow": false,
          "text": "Price Forecast vs Actual",
          "x": 0.5,
          "xanchor": "center",
          "xref": "paper",
          "y": 1,
          "yanchor": "bottom",
          "yref": "paper"
         },
         {
          "font": {
           "size": 16
          },
          "showarrow": false,
          "text": "Prediction Error Analysis",
          "x": 0.5,
          "xanchor": "center",
          "xref": "paper",
          "y": 0.5,
          "yanchor": "bottom",
          "yref": "paper"
         },
         {
          "font": {
           "size": 16
          },
          "showarrow": false,
          "text": "Technical Indicators",
          "x": 0.5,
          "xanchor": "center",
          "xref": "paper",
          "y": 0.21,
          "yanchor": "bottom",
          "yref": "paper"
         },
         {
          "arrowcolor": "gray",
          "arrowhead": 2,
          "arrowsize": 1,
          "arrowwidth": 2,
          "showarrow": true,
          "text": "Train/Test Split",
          "x": "2025-09-02T00:00:00",
          "y": 410.6375
         }
        ],
        "height": 900,
        "hovermode": "x unified",
        "shapes": [
         {
          "line": {
           "color": "gray",
           "dash": "dot"
          },
          "type": "line",
          "x0": 0,
          "x1": 1,
          "xref": "x2 domain",
          "y0": 0,
          "y1": 0,
          "yref": "y2"
         },
         {
          "line": {
           "color": "red",
           "dash": "dash"
          },
          "opacity": 0.5,
          "type": "line",
          "x0": 0,
          "x1": 1,
          "xref": "x3 domain",
          "y0": 70,
          "y1": 70,
          "yref": "y3"
         },
         {
          "line": {
           "color": "green",
           "dash": "dash"
          },
          "opacity": 0.5,
          "type": "line",
          "x0": 0,
          "x1": 1,
          "xref": "x3 domain",
          "y0": 30,
          "y1": 30,
          "yref": "y3"
         },
         {
          "line": {
           "color": "gray",
           "dash": "dot"
          },
          "type": "line",
          "x0": "2025-09-02T00:00:00",
          "x1": "2025-09-02T00:00:00",
          "xref": "x",
          "y0": 0,
          "y1": 1,
          "yref": "y domain"
         },
         {
          "line": {
           "color": "gray",
           "dash": "dot"
          },
          "type": "line",
          "x0": "2025-09-02T00:00:00",
          "x1": "2025-09-02T00:00:00",
          "xref": "x2",
          "y0": 0,
          "y1": 1,
          "yref": "y2 domain"
         },
         {
          "line": {
           "color": "gray",
           "dash": "dot"
          },
          "type": "line",
          "x0": "2025-09-02T00:00:00",
          "x1": "2025-09-02T00:00:00",
          "xref": "x3",
          "y0": 0,
          "y1": 1,
          "yref": "y3 domain"
         }
        ],
        "showlegend": true,
        "template": {
         "data": {
          "bar": [
           {
            "error_x": {
             "color": "#f2f5fa"
            },
            "error_y": {
             "color": "#f2f5fa"
            },
            "marker": {
             "line": {
              "color": "rgb(17,17,17)",
              "width": 0.5
             },
             "pattern": {
              "fillmode": "overlay",
              "size": 10,
              "solidity": 0.2
             }
            },
            "type": "bar"
           }
          ],
          "barpolar": [
           {
            "marker": {
             "line": {
              "color": "rgb(17,17,17)",
              "width": 0.5
             },
             "pattern": {
              "fillmode": "overlay",
              "size": 10,
              "solidity": 0.2
             }
            },
            "type": "barpolar"
           }
          ],
          "carpet": [
           {
            "aaxis": {
             "endlinecolor": "#A2B1C6",
             "gridcolor": "#506784",
             "linecolor": "#506784",
             "minorgridcolor": "#506784",
             "startlinecolor": "#A2B1C6"
            },
            "baxis": {
             "endlinecolor": "#A2B1C6",
             "gridcolor": "#506784",
             "linecolor": "#506784",
             "minorgridcolor": "#506784",
             "startlinecolor": "#A2B1C6"
            },
            "type": "carpet"
           }
          ],
          "choropleth": [
           {
            "colorbar": {
             "outlinewidth": 0,
             "ticks": ""
            },
            "type": "choropleth"
           }
          ],
          "contour": [
           {
            "colorbar": {
             "outlinewidth": 0,
             "ticks": ""
            },
            "colorscale": [
             [
              0,
              "#0d0887"
             ],
             [
              0.1111111111111111,
              "#46039f"
             ],
             [
              0.2222222222222222,
              "#7201a8"
             ],
             [
              0.3333333333333333,
              "#9c179e"
             ],
             [
              0.4444444444444444,
              "#bd3786"
             ],
             [
              0.5555555555555556,
              "#d8576b"
             ],
             [
              0.6666666666666666,
              "#ed7953"
             ],
             [
              0.7777777777777778,
              "#fb9f3a"
             ],
             [
              0.8888888888888888,
              "#fdca26"
             ],
             [
              1,
              "#f0f921"
             ]
            ],
            "type": "contour"
           }
          ],
          "contourcarpet": [
           {
            "colorbar": {
             "outlinewidth": 0,
             "ticks": ""
            },
            "type": "contourcarpet"
           }
          ],
          "heatmap": [
           {
            "colorbar": {
             "outlinewidth": 0,
             "ticks": ""
            },
            "colorscale": [
             [
              0,
              "#0d0887"
             ],
             [
              0.1111111111111111,
              "#46039f"
             ],
             [
              0.2222222222222222,
              "#7201a8"
             ],
             [
              0.3333333333333333,
              "#9c179e"
             ],
             [
              0.4444444444444444,
              "#bd3786"
             ],
             [
              0.5555555555555556,
              "#d8576b"
             ],
             [
              0.6666666666666666,
              "#ed7953"
             ],
             [
              0.7777777777777778,
              "#fb9f3a"
             ],
             [
              0.8888888888888888,
              "#fdca26"
             ],
             [
              1,
              "#f0f921"
             ]
            ],
            "type": "heatmap"
           }
          ],
          "histogram": [
           {
            "marker": {
             "pattern": {
              "fillmode": "overlay",
              "size": 10,
              "solidity": 0.2
             }
            },
            "type": "histogram"
           }
          ],
          "histogram2d": [
           {
            "colorbar": {
             "outlinewidth": 0,
             "ticks": ""
            },
            "colorscale": [
             [
              0,
              "#0d0887"
             ],
             [
              0.1111111111111111,
              "#46039f"
             ],
             [
              0.2222222222222222,
              "#7201a8"
             ],
             [
              0.3333333333333333,
              "#9c179e"
             ],
             [
              0.4444444444444444,
              "#bd3786"
             ],
             [
              0.5555555555555556,
              "#d8576b"
             ],
             [
              0.6666666666666666,
              "#ed7953"
             ],
             [
              0.7777777777777778,
              "#fb9f3a"
             ],
             [
              0.8888888888888888,
              "#fdca26"
             ],
             [
              1,
              "#f0f921"
             ]
            ],
            "type": "histogram2d"
           }
          ],
          "histogram2dcontour": [
           {
            "colorbar": {
             "outlinewidth": 0,
             "ticks": ""
            },
            "colorscale": [
             [
              0,
              "#0d0887"
             ],
             [
              0.1111111111111111,
              "#46039f"
             ],
             [
              0.2222222222222222,
              "#7201a8"
             ],
             [
              0.3333333333333333,
              "#9c179e"
             ],
             [
              0.4444444444444444,
              "#bd3786"
             ],
             [
              0.5555555555555556,
              "#d8576b"
             ],
             [
              0.6666666666666666,
              "#ed7953"
             ],
             [
              0.7777777777777778,
              "#fb9f3a"
             ],
             [
              0.8888888888888888,
              "#fdca26"
             ],
             [
              1,
              "#f0f921"
             ]
            ],
            "type": "histogram2dcontour"
           }
          ],
          "mesh3d": [
           {
            "colorbar": {
             "outlinewidth": 0,
             "ticks": ""
            },
            "type": "mesh3d"
           }
          ],
          "parcoords": [
           {
            "line": {
             "colorbar": {
              "outlinewidth": 0,
              "ticks": ""
             }
            },
            "type": "parcoords"
           }
          ],
          "pie": [
           {
            "automargin": true,
            "type": "pie"
           }
          ],
          "scatter": [
           {
            "marker": {
             "line": {
              "color": "#283442"
             }
            },
            "type": "scatter"
           }
          ],
          "scatter3d": [
           {
            "line": {
             "colorbar": {
              "outlinewidth": 0,
              "ticks": ""
             }
            },
            "marker": {
             "colorbar": {
              "outlinewidth": 0,
              "ticks": ""
             }
            },
            "type": "scatter3d"
           }
          ],
          "scattercarpet": [
           {
            "marker": {
             "colorbar": {
              "outlinewidth": 0,
              "ticks": ""
             }
            },
            "type": "scattercarpet"
           }
          ],
          "scattergeo": [
           {
            "marker": {
             "colorbar": {
              "outlinewidth": 0,
              "ticks": ""
             }
            },
            "type": "scattergeo"
           }
          ],
          "scattergl": [
           {
            "marker": {
             "line": {
              "color": "#283442"
             }
            },
            "type": "scattergl"
           }
          ],
          "scattermap": [
           {
            "marker": {
             "colorbar": {
              "outlinewidth": 0,
              "ticks": ""
             }
            },
            "type": "scattermap"
           }
          ],
          "scattermapbox": [
           {
            "marker": {
             "colorbar": {
              "outlinewidth": 0,
              "ticks": ""
             }
            },
            "type": "scattermapbox"
           }
          ],
          "scatterpolar": [
           {
            "marker": {
             "colorbar": {
              "outlinewidth": 0,
              "ticks": ""
             }
            },
            "type": "scatterpolar"
           }
          ],
          "scatterpolargl": [
           {
            "marker": {
             "colorbar": {
              "outlinewidth": 0,
              "ticks": ""
             }
            },
            "type": "scatterpolargl"
           }
          ],
          "scatterternary": [
           {
            "marker": {
             "colorbar": {
              "outlinewidth": 0,
              "ticks": ""
             }
            },
            "type": "scatterternary"
           }
          ],
          "surface": [
           {
            "colorbar": {
             "outlinewidth": 0,
             "ticks": ""
            },
            "colorscale": [
             [
              0,
              "#0d0887"
             ],
             [
              0.1111111111111111,
              "#46039f"
             ],
             [
              0.2222222222222222,
              "#7201a8"
             ],
             [
              0.3333333333333333,
              "#9c179e"
             ],
             [
              0.4444444444444444,
              "#bd3786"
             ],
             [
              0.5555555555555556,
              "#d8576b"
             ],
             [
              0.6666666666666666,
              "#ed7953"
             ],
             [
              0.7777777777777778,
              "#fb9f3a"
             ],
             [
              0.8888888888888888,
              "#fdca26"
             ],
             [
              1,
              "#f0f921"
             ]
            ],
            "type": "surface"
           }
          ],
          "table": [
           {
            "cells": {
             "fill": {
              "color": "#506784"
             },
             "line": {
              "color": "rgb(17,17,17)"
             }
            },
            "header": {
             "fill": {
              "color": "#2a3f5f"
             },
             "line": {
              "color": "rgb(17,17,17)"
             }
            },
            "type": "table"
           }
          ]
         },
         "layout": {
          "annotationdefaults": {
           "arrowcolor": "#f2f5fa",
           "arrowhead": 0,
           "arrowwidth": 1
          },
          "autotypenumbers": "strict",
          "coloraxis": {
           "colorbar": {
            "outlinewidth": 0,
            "ticks": ""
           }
          },
          "colorscale": {
           "diverging": [
            [
             0,
             "#8e0152"
            ],
            [
             0.1,
             "#c51b7d"
            ],
            [
             0.2,
             "#de77ae"
            ],
            [
             0.3,
             "#f1b6da"
            ],
            [
             0.4,
             "#fde0ef"
            ],
            [
             0.5,
             "#f7f7f7"
            ],
            [
             0.6,
             "#e6f5d0"
            ],
            [
             0.7,
             "#b8e186"
            ],
            [
             0.8,
             "#7fbc41"
            ],
            [
             0.9,
             "#4d9221"
            ],
            [
             1,
             "#276419"
            ]
           ],
           "sequential": [
            [
             0,
             "#0d0887"
            ],
            [
             0.1111111111111111,
             "#46039f"
            ],
            [
             0.2222222222222222,
             "#7201a8"
            ],
            [
             0.3333333333333333,
             "#9c179e"
            ],
            [
             0.4444444444444444,
             "#bd3786"
            ],
            [
             0.5555555555555556,
             "#d8576b"
            ],
            [
             0.6666666666666666,
             "#ed7953"
            ],
            [
             0.7777777777777778,
             "#fb9f3a"
            ],
            [
             0.8888888888888888,
             "#fdca26"
            ],
            [
             1,
             "#f0f921"
            ]
           ],
           "sequentialminus": [
            [
             0,
             "#0d0887"
            ],
            [
             0.1111111111111111,
             "#46039f"
            ],
            [
             0.2222222222222222,
             "#7201a8"
            ],
            [
             0.3333333333333333,
             "#9c179e"
            ],
            [
             0.4444444444444444,
             "#bd3786"
            ],
            [
             0.5555555555555556,
             "#d8576b"
            ],
            [
             0.6666666666666666,
             "#ed7953"
            ],
            [
             0.7777777777777778,
             "#fb9f3a"
            ],
            [
             0.8888888888888888,
             "#fdca26"
            ],
            [
             1,
             "#f0f921"
            ]
           ]
          },
          "colorway": [
           "#636efa",
           "#EF553B",
           "#00cc96",
           "#ab63fa",
           "#FFA15A",
           "#19d3f3",
           "#FF6692",
           "#B6E880",
           "#FF97FF",
           "#FECB52"
          ],
          "font": {
           "color": "#f2f5fa"
          },
          "geo": {
           "bgcolor": "rgb(17,17,17)",
           "lakecolor": "rgb(17,17,17)",
           "landcolor": "rgb(17,17,17)",
           "showlakes": true,
           "showland": true,
           "subunitcolor": "#506784"
          },
          "hoverlabel": {
           "align": "left"
          },
          "hovermode": "closest",
          "mapbox": {
           "style": "dark"
          },
          "paper_bgcolor": "rgb(17,17,17)",
          "plot_bgcolor": "rgb(17,17,17)",
          "polar": {
           "angularaxis": {
            "gridcolor": "#506784",
            "linecolor": "#506784",
            "ticks": ""
           },
           "bgcolor": "rgb(17,17,17)",
           "radialaxis": {
            "gridcolor": "#506784",
            "linecolor": "#506784",
            "ticks": ""
           }
          },
          "scene": {
           "xaxis": {
            "backgroundcolor": "rgb(17,17,17)",
            "gridcolor": "#506784",
            "gridwidth": 2,
            "linecolor": "#506784",
            "showbackground": true,
            "ticks": "",
            "zerolinecolor": "#C8D4E3"
           },
           "yaxis": {
            "backgroundcolor": "rgb(17,17,17)",
            "gridcolor": "#506784",
            "gridwidth": 2,
            "linecolor": "#506784",
            "showbackground": true,
            "ticks": "",
            "zerolinecolor": "#C8D4E3"
           },
           "zaxis": {
            "backgroundcolor": "rgb(17,17,17)",
            "gridcolor": "#506784",
            "gridwidth": 2,
            "linecolor": "#506784",
            "showbackground": true,
            "ticks": "",
            "zerolinecolor": "#C8D4E3"
           }
          },
          "shapedefaults": {
           "line": {
            "color": "#f2f5fa"
           }
          },
          "sliderdefaults": {
           "bgcolor": "#C8D4E3",
           "bordercolor": "rgb(17,17,17)",
           "borderwidth": 1,
           "tickwidth": 0
          },
          "ternary": {
           "aaxis": {
            "gridcolor": "#506784",
            "linecolor": "#506784",
            "ticks": ""
           },
           "baxis": {
            "gridcolor": "#506784",
            "linecolor": "#506784",
            "ticks": ""
           },
           "bgcolor": "rgb(17,17,17)",
           "caxis": {
            "gridcolor": "#506784",
            "linecolor": "#506784",
            "ticks": ""
           }
          },
          "title": {
           "x": 0.05
          },
          "updatemenudefaults": {
           "bgcolor": "#506784",
           "borderwidth": 0
          },
          "xaxis": {
           "automargin": true,
           "gridcolor": "#283442",
           "linecolor": "#506784",
           "ticks": "",
           "title": {
            "standoff": 15
           },
           "zerolinecolor": "#283442",
           "zerolinewidth": 2
          },
          "yaxis": {
           "automargin": true,
           "gridcolor": "#283442",
           "linecolor": "#506784",
           "ticks": "",
           "title": {
            "standoff": 15
           },
           "zerolinecolor": "#283442",
           "zerolinewidth": 2
          }
         }
        },
        "title": {
         "text": "BEL Stock Price Forecasting with Chronos-Bolt-Base<br><sub>MAPE: 3.64% | Direction Accuracy: 57.1%</sub>"
        },
        "xaxis": {
         "anchor": "y",
         "domain": [
          0,
          1
         ],
         "matches": "x3",
         "showticklabels": false
        },
        "xaxis2": {
         "anchor": "y2",
         "domain": [
          0,
          1
         ],
         "matches": "x3",
         "showticklabels": false
        },
        "xaxis3": {
         "anchor": "y3",
         "domain": [
          0,
          1
         ],
         "title": {
          "text": "Date"
         }
        },
        "yaxis": {
         "anchor": "x",
         "domain": [
          0.58,
          1
         ],
         "title": {
          "text": "Price (₹)"
         }
        },
        "yaxis2": {
         "anchor": "x2",
         "domain": [
          0.29,
          0.5
         ],
         "title": {
          "text": "Error (₹)"
         }
        },
        "yaxis3": {
         "anchor": "x3",
         "domain": [
          0,
          0.21
         ],
         "title": {
          "text": "RSI"
         }
        }
       }
      }
     },
     "metadata": {},
     "output_type": "display_data"
    },
    {
     "name": "stdout",
     "output_type": "stream",
     "text": [
      "💾 Forecast visualization saved as 'bel_chronos_forecast_with_indicators.html'\n"
     ]
    }
   ],
   "source": [
    "# ============================================================================\n",
    "# 7. FIXED COMPREHENSIVE VISUALIZATION\n",
    "# ============================================================================\n",
    "\n",
    "def create_comprehensive_forecast_visualization(ts_data, eval_results, split_date):\n",
    "    \"\"\"Create detailed interactive visualization - FIXED VERSION\"\"\"\n",
    "    \n",
    "    if eval_results is None:\n",
    "        print(\"❌ No evaluation results available for visualization\")\n",
    "        return None\n",
    "    \n",
    "    # Convert split_date to Python datetime to fix Plotly compatibility\n",
    "    if hasattr(split_date, 'to_pydatetime'):\n",
    "        split_date_fixed = split_date.to_pydatetime()\n",
    "    else:\n",
    "        split_date_fixed = split_date\n",
    "    \n",
    "    # Prepare data for plotting\n",
    "    if hasattr(ts_data, 'reset_index'):\n",
    "        full_data = ts_data.reset_index()\n",
    "    else:\n",
    "        full_data = ts_data.copy()\n",
    "    \n",
    "    train_data_plot = full_data[full_data['timestamp'] <= split_date]\n",
    "    test_data_plot = full_data[full_data['timestamp'] > split_date]\n",
    "    \n",
    "    # Create subplots\n",
    "    fig = make_subplots(\n",
    "        rows=3, cols=1,\n",
    "        shared_xaxes=True,\n",
    "        vertical_spacing=0.08,\n",
    "        subplot_titles=(\n",
    "            'Price Forecast vs Actual', \n",
    "            'Prediction Error Analysis',\n",
    "            'Technical Indicators'\n",
    "        ),\n",
    "        row_heights=[0.5, 0.25, 0.25]\n",
    "    )\n",
    "    \n",
    "    # 1. Main price chart\n",
    "    # Historical prices\n",
    "    fig.add_trace(\n",
    "        go.Scatter(\n",
    "            x=train_data_plot['timestamp'],\n",
    "            y=train_data_plot['target'],\n",
    "            name='Historical Prices',\n",
    "            line=dict(color='blue', width=2),\n",
    "            mode='lines'\n",
    "        ),\n",
    "        row=1, col=1\n",
    "    )\n",
    "    \n",
    "    # Actual test prices\n",
    "    fig.add_trace(\n",
    "        go.Scatter(\n",
    "            x=eval_results['test_dates'],\n",
    "            y=eval_results['actual_values'],\n",
    "            name='Actual Prices',\n",
    "            line=dict(color='white', width=3),\n",
    "            mode='lines+markers',\n",
    "            marker=dict(size=4)\n",
    "        ),\n",
    "        row=1, col=1\n",
    "    )\n",
    "    \n",
    "    # Predicted prices\n",
    "    fig.add_trace(\n",
    "        go.Scatter(\n",
    "            x=eval_results['test_dates'],\n",
    "            y=eval_results['predicted_values'],\n",
    "            name=f'Chronos Forecast (RMSE: ₹{eval_results[\"rmse\"]:.2f})',\n",
    "            line=dict(color='red', width=2, dash='dash'),\n",
    "            mode='lines+markers',\n",
    "            marker=dict(size=4)\n",
    "        ),\n",
    "        row=1, col=1\n",
    "    )\n",
    "    \n",
    "    # 2. Error analysis\n",
    "    errors = eval_results['actual_values'] - eval_results['predicted_values']\n",
    "    fig.add_trace(\n",
    "        go.Scatter(\n",
    "            x=eval_results['test_dates'],\n",
    "            y=errors,\n",
    "            name='Prediction Error (₹)',\n",
    "            line=dict(color='purple', width=2),\n",
    "            mode='lines+markers',\n",
    "            fill='tonexty'\n",
    "        ),\n",
    "        row=2, col=1\n",
    "    )\n",
    "    \n",
    "    # Add zero line for errors\n",
    "    fig.add_hline(y=0, line_dash=\"dot\", line_color=\"gray\", row=2, col=1)\n",
    "    \n",
    "    # 3. Technical indicators (RSI as example)\n",
    "    if 'RSI' in full_data.columns:\n",
    "        rsi_data = full_data['RSI'].dropna()\n",
    "        rsi_dates = full_data.loc[rsi_data.index, 'timestamp']\n",
    "        \n",
    "        fig.add_trace(\n",
    "            go.Scatter(\n",
    "                x=rsi_dates,\n",
    "                y=rsi_data,\n",
    "                name='RSI',\n",
    "                line=dict(color='orange', width=1),\n",
    "                mode='lines'\n",
    "            ),\n",
    "            row=3, col=1\n",
    "        )\n",
    "        \n",
    "        # RSI reference lines\n",
    "        fig.add_hline(y=70, line_dash=\"dash\", line_color=\"red\", opacity=0.5, row=3, col=1)\n",
    "        fig.add_hline(y=30, line_dash=\"dash\", line_color=\"green\", opacity=0.5, row=3, col=1)\n",
    "    \n",
    "    # FIXED: Add split line with datetime conversion\n",
    "    fig.add_vline(\n",
    "        x=split_date_fixed,  # Use the fixed datetime\n",
    "        line_dash=\"dot\",\n",
    "        line_color=\"gray\"\n",
    "    )\n",
    "    \n",
    "    # Add annotation separately to avoid the timestamp addition issue\n",
    "    fig.add_annotation(\n",
    "        x=split_date_fixed,\n",
    "        y=max(train_data_plot['target']) * 0.95,\n",
    "        text=\"Train/Test Split\",\n",
    "        showarrow=True,\n",
    "        arrowhead=2,\n",
    "        arrowsize=1,\n",
    "        arrowwidth=2,\n",
    "        arrowcolor=\"gray\"\n",
    "    )\n",
    "    \n",
    "    # Update layout\n",
    "    fig.update_layout(\n",
    "        title='BEL Stock Price Forecasting with Chronos-Bolt-Base<br>' +\n",
    "              f'<sub>MAPE: {eval_results[\"mape\"]:.2f}% | Direction Accuracy: {eval_results[\"direction_accuracy\"]:.1f}%</sub>',\n",
    "        height=900,\n",
    "        template='plotly_dark',\n",
    "        hovermode='x unified',\n",
    "        showlegend=True\n",
    "    )\n",
    "    \n",
    "    # Update axes\n",
    "    fig.update_yaxes(title_text=\"Price (₹)\", row=1, col=1)\n",
    "    fig.update_yaxes(title_text=\"Error (₹)\", row=2, col=1)\n",
    "    fig.update_yaxes(title_text=\"RSI\", row=3, col=1)\n",
    "    fig.update_xaxes(title_text=\"Date\", row=3, col=1)\n",
    "    \n",
    "    return fig\n",
    "\n",
    "# Create comprehensive visualization with fixed function\n",
    "forecast_fig = create_comprehensive_forecast_visualization(ts_data, eval_results, split_date)\n",
    "\n",
    "if forecast_fig:\n",
    "    forecast_fig.show()\n",
    "    \n",
    "    # Save the chart\n",
    "    forecast_fig.write_html(\"bel_chronos_forecast_with_indicators.html\")\n",
    "    print(\"💾 Forecast visualization saved as 'bel_chronos_forecast_with_indicators.html'\")\n",
    "else:\n",
    "    print(\"⚠️ Visualization could not be created\")\n"
   ]
  },
  {
   "cell_type": "code",
   "execution_count": null,
   "id": "7ad7e4a8",
   "metadata": {},
   "outputs": [],
   "source": []
  }
 ],
 "metadata": {
  "kernelspec": {
   "display_name": "base",
   "language": "python",
   "name": "python3"
  },
  "language_info": {
   "codemirror_mode": {
    "name": "ipython",
    "version": 3
   },
   "file_extension": ".py",
   "mimetype": "text/x-python",
   "name": "python",
   "nbconvert_exporter": "python",
   "pygments_lexer": "ipython3",
   "version": "3.11.11"
  }
 },
 "nbformat": 4,
 "nbformat_minor": 5
}
