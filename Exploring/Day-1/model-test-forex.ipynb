{
 "cells": [
  {
   "cell_type": "code",
   "execution_count": 5,
   "id": "835fcad3",
   "metadata": {},
   "outputs": [],
   "source": [
    "import pandas as pd\n",
    "import numpy as np\n",
    "import torch\n",
    "from chronos import BaseChronosPipeline\n",
    "import plotly.graph_objects as go\n",
    "from plotly.subplots import make_subplots\n",
    "import warnings\n",
    "warnings.filterwarnings('ignore')"
   ]
  },
  {
   "cell_type": "code",
   "execution_count": 6,
   "metadata": {},
   "outputs": [],
   "source": [
    "\n",
    "\n",
    "class FinancialTimeSeriesPredictor:\n",
    "    def __init__(self, model_name=\"amazon/chronos-bolt-base\", device=\"cuda\"):\n",
    "        \"\"\"Initialize the financial predictor with Chronos-Bolt model\"\"\"\n",
    "        self.model_name = model_name\n",
    "        self.device = device if torch.cuda.is_available() else \"cpu\"\n",
    "        self.pipeline = None\n",
    "        self.df = None\n",
    "        self.features_df = None\n",
    "        \n",
    "    def load_data(self, csv_file_path, date_col=\"DATE\", close_col=\"CLOSE PRICE\"):\n",
    "        \"\"\"Load and preprocess financial data\"\"\"\n",
    "        print(\"Loading financial data...\")\n",
    "        \n",
    "        # Load CSV\n",
    "        self.df = pd.read_csv(csv_file_path)\n",
    "        self.df.columns = self.df.columns.str.strip()\n",
    "        \n",
    "        # Convert date and sort\n",
    "        self.df[date_col.strip()] = pd.to_datetime(self.df[date_col.strip()], format='%d-%b-%Y')\n",
    "        self.df = self.df.sort_values(date_col.strip()).reset_index(drop=True)\n",
    "        \n",
    "        # Convert price columns to numeric\n",
    "        price_cols = ['OPEN PRICE', 'HIGH PRICE', 'LOW PRICE', 'CLOSE PRICE', 'SETTLE PRICE']\n",
    "        for col in price_cols:\n",
    "            if col in self.df.columns:\n",
    "                self.df[col] = pd.to_numeric(self.df[col], errors='coerce')\n",
    "        \n",
    "        # Handle volume (remove commas)\n",
    "        if 'Volume' in self.df.columns:\n",
    "            self.df['Volume'] = self.df['Volume'].astype(str).str.replace(',', '')\n",
    "            self.df['Volume'] = pd.to_numeric(self.df['Volume'], errors='coerce')\n",
    "        \n",
    "        # Remove rows with missing OHLC data\n",
    "        self.df = self.df.dropna(subset=price_cols[:4])\n",
    "        \n",
    "        print(f\"Data loaded: {len(self.df)} records from {self.df[date_col.strip()].min()} to {self.df[date_col.strip()].max()}\")\n",
    "        return self.df\n",
    "    \n",
    "    def engineer_features(self, target_col=\"CLOSE PRICE\"):\n",
    "        \"\"\"Create comprehensive financial features for better forecasting\"\"\"\n",
    "        print(\"Engineering financial features...\")\n",
    "        \n",
    "        df = self.df.copy()\n",
    "        \n",
    "        # Price-based features\n",
    "        df['price_change'] = df[target_col].pct_change()\n",
    "        df['price_volatility'] = df['price_change'].rolling(window=5).std()\n",
    "        df['price_momentum'] = df[target_col].rolling(window=3).mean() / df[target_col].rolling(window=10).mean() - 1\n",
    "        \n",
    "        # Technical Indicators\n",
    "        # 1. Moving Averages\n",
    "        for window in [5, 10, 20]:\n",
    "            df[f'SMA_{window}'] = df[target_col].rolling(window=window).mean()\n",
    "            df[f'EMA_{window}'] = df[target_col].ewm(span=window).mean()\n",
    "        \n",
    "        # 2. RSI (Relative Strength Index)\n",
    "        def calculate_rsi(prices, window=14):\n",
    "            delta = prices.diff()\n",
    "            gain = (delta.where(delta > 0, 0)).rolling(window=window).mean()\n",
    "            loss = (-delta.where(delta < 0, 0)).rolling(window=window).mean()\n",
    "            rs = gain / loss\n",
    "            return 100 - (100 / (1 + rs))\n",
    "        \n",
    "        df['RSI'] = calculate_rsi(df[target_col])\n",
    "        df['RSI_normalized'] = (df['RSI'] - 50) / 50  # Normalize RSI to [-1, 1]\n",
    "        \n",
    "        # 3. MACD\n",
    "        exp1 = df[target_col].ewm(span=12).mean()\n",
    "        exp2 = df[target_col].ewm(span=26).mean()\n",
    "        df['MACD'] = exp1 - exp2\n",
    "        df['MACD_signal'] = df['MACD'].ewm(span=9).mean()\n",
    "        df['MACD_histogram'] = df['MACD'] - df['MACD_signal']\n",
    "        \n",
    "        # 4. Bollinger Bands\n",
    "        df['BB_middle'] = df[target_col].rolling(window=20).mean()\n",
    "        bb_std = df[target_col].rolling(window=20).std()\n",
    "        df['BB_upper'] = df['BB_middle'] + (2 * bb_std)\n",
    "        df['BB_lower'] = df['BB_middle'] - (2 * bb_std)\n",
    "        df['BB_position'] = (df[target_col] - df['BB_lower']) / (df['BB_upper'] - df['BB_lower'])\n",
    "        \n",
    "        # 5. Volume-based indicators (if volume available)\n",
    "        if 'Volume' in df.columns:\n",
    "            df['Volume_SMA'] = df['Volume'].rolling(window=20).mean()\n",
    "            df['Volume_ratio'] = df['Volume'] / df['Volume_SMA']\n",
    "        \n",
    "        # 6. ATR (Average True Range)\n",
    "        df['ATR'] = (df['HIGH PRICE'] - df['LOW PRICE']).rolling(window=14).mean()\n",
    "        df['ATR_normalized'] = df['ATR'] / df[target_col]\n",
    "        \n",
    "        # Create feature matrix for forecasting\n",
    "        feature_columns = [\n",
    "            target_col, 'SMA_5', 'SMA_10', 'SMA_20', 'EMA_5', 'EMA_10', \n",
    "            'RSI_normalized', 'MACD', 'MACD_signal', 'BB_position', \n",
    "            'ATR_normalized', 'price_momentum'\n",
    "        ]\n",
    "        \n",
    "        # Add volume features if available\n",
    "        if 'Volume' in df.columns:\n",
    "            feature_columns.extend(['Volume_ratio'])\n",
    "        \n",
    "        # Select available columns\n",
    "        available_features = [col for col in feature_columns if col in df.columns]\n",
    "        self.features_df = df[['DATE'] + available_features].copy()\n",
    "        \n",
    "        # Fill missing values\n",
    "        self.features_df = self.features_df.fillna(method='ffill').fillna(method='bfill')\n",
    "        \n",
    "        print(f\"Created {len(available_features)} features for forecasting\")\n",
    "        return self.features_df\n",
    "    \n",
    "    def load_model(self):\n",
    "        \"\"\"Load the Chronos-Bolt model\"\"\"\n",
    "        print(f\"Loading {self.model_name} model...\")\n",
    "        \n",
    "        self.pipeline = BaseChronosPipeline.from_pretrained(\n",
    "            self.model_name,\n",
    "            device_map=self.device,\n",
    "            torch_dtype=torch.bfloat16,\n",
    "        )\n",
    "        print(\"Model loaded successfully!\")\n",
    "        \n",
    "    def predict(self, prediction_length=30, lookback_window=60):\n",
    "        \"\"\"Generate forecasts using Chronos-Bolt (Fixed for Bolt models)\"\"\"\n",
    "        if self.pipeline is None:\n",
    "            self.load_model()\n",
    "        \n",
    "        print(f\"Generating forecasts for {prediction_length} periods...\")\n",
    "        \n",
    "        # Create context - use only close price (Chronos works best with univariate data)\n",
    "        target_col = 'CLOSE PRICE'\n",
    "        close_prices = self.features_df[target_col].values\n",
    "        \n",
    "        # Take last lookback_window observations\n",
    "        context_length = min(lookback_window, len(close_prices))\n",
    "        context = torch.tensor(close_prices[-context_length:], dtype=torch.float32)\n",
    "        \n",
    "        # Generate forecasts - Chronos-Bolt uses direct quantile prediction\n",
    "        try:\n",
    "            # For Chronos-Bolt models, use predict method without num_samples\n",
    "            forecast = self.pipeline.predict(\n",
    "                context=context,\n",
    "                prediction_length=prediction_length\n",
    "            )\n",
    "            \n",
    "            # Chronos-Bolt returns quantiles directly: [batch_size, prediction_length, num_quantiles]\n",
    "            forecast_np = forecast[0].cpu().numpy()  # Remove batch dimension\n",
    "            \n",
    "            # Extract different quantiles (Chronos-Bolt typically returns multiple quantiles)\n",
    "            if len(forecast_np.shape) == 2:  # [prediction_length, num_quantiles]\n",
    "                # Common quantiles: [0.1, 0.2, 0.3, 0.4, 0.5, 0.6, 0.7, 0.8, 0.9]\n",
    "                num_quantiles = forecast_np.shape[1]\n",
    "                if num_quantiles >= 9:\n",
    "                    quantiles = np.array([\n",
    "                        forecast_np[:, 0],  # 0.1 quantile (10th percentile)\n",
    "                        forecast_np[:, 2],  # 0.3 quantile (30th percentile) \n",
    "                        forecast_np[:, 4],  # 0.5 quantile (median)\n",
    "                        forecast_np[:, 6],  # 0.7 quantile (70th percentile)\n",
    "                        forecast_np[:, 8]   # 0.9 quantile (90th percentile)\n",
    "                    ])\n",
    "                else:\n",
    "                    # Fallback if fewer quantiles available\n",
    "                    quantiles = np.array([\n",
    "                        forecast_np[:, 0],\n",
    "                        forecast_np[:, num_quantiles//4],\n",
    "                        forecast_np[:, num_quantiles//2],\n",
    "                        forecast_np[:, 3*num_quantiles//4],\n",
    "                        forecast_np[:, -1]\n",
    "                    ])\n",
    "                \n",
    "                mean_forecast = forecast_np[:, num_quantiles//2]  # Use median as mean\n",
    "            else:\n",
    "                # If single forecast, create artificial quantiles around it\n",
    "                mean_forecast = forecast_np\n",
    "                std_forecast = np.std(forecast_np) if len(forecast_np) > 1 else np.abs(forecast_np * 0.05)\n",
    "                quantiles = np.array([\n",
    "                    mean_forecast - 1.5 * std_forecast,\n",
    "                    mean_forecast - 0.5 * std_forecast,\n",
    "                    mean_forecast,\n",
    "                    mean_forecast + 0.5 * std_forecast,\n",
    "                    mean_forecast + 1.5 * std_forecast\n",
    "                ])\n",
    "            \n",
    "        except Exception as e:\n",
    "            print(f\"Direct predict failed: {e}\")\n",
    "            # Fallback: try predict_quantiles method\n",
    "            try:\n",
    "                quantiles_out, mean_out = self.pipeline.predict_quantiles(\n",
    "                    context=context,\n",
    "                    prediction_length=prediction_length,\n",
    "                    quantile_levels=[0.1, 0.3, 0.5, 0.7, 0.9]\n",
    "                )\n",
    "                quantiles = quantiles_out[0].cpu().numpy().T  # Transpose to [num_quantiles, prediction_length]\n",
    "                mean_forecast = mean_out[0].cpu().numpy()\n",
    "            except Exception as e2:\n",
    "                print(f\"Both methods failed: {e2}\")\n",
    "                raise e2\n",
    "        \n",
    "        return {\n",
    "            'quantiles': quantiles,\n",
    "            'mean': mean_forecast,\n",
    "            'context': context.numpy()\n",
    "        }\n",
    "    \n",
    "    def plot_forecast_results(self, forecast_results, prediction_length=30, \n",
    "                            title=\"USD-INR Futures Forecast\", save_html=True):\n",
    "        \"\"\"Plot comprehensive forecast results with technical indicators\"\"\"\n",
    "        \n",
    "        # Prepare data for plotting\n",
    "        historical_dates = self.features_df['DATE'].values\n",
    "        historical_prices = self.features_df['CLOSE PRICE'].values\n",
    "        \n",
    "        # Create future dates\n",
    "        last_date = pd.to_datetime(historical_dates[-1])\n",
    "        future_dates = pd.date_range(start=last_date + pd.Timedelta(days=1), \n",
    "                                   periods=prediction_length, freq='D')\n",
    "        \n",
    "        # Get forecast data\n",
    "        quantiles = forecast_results['quantiles']\n",
    "        mean_forecast = forecast_results['mean']\n",
    "        \n",
    "        # Create subplots\n",
    "        fig = make_subplots(\n",
    "            rows=4, cols=1,\n",
    "            shared_xaxes=True,\n",
    "            vertical_spacing=0.03,\n",
    "            subplot_titles=[\n",
    "                f'{title} - Price Forecast',\n",
    "                'RSI Indicator',\n",
    "                'MACD',\n",
    "                'Volume (if available)'\n",
    "            ],\n",
    "            row_heights=[0.5, 0.2, 0.2, 0.1]\n",
    "        )\n",
    "        \n",
    "        # Main price chart with forecast\n",
    "        lookback = min(60, len(historical_dates))\n",
    "        recent_dates = historical_dates[-lookback:]\n",
    "        recent_prices = historical_prices[-lookback:]\n",
    "        \n",
    "        # Historical prices\n",
    "        fig.add_trace(\n",
    "            go.Scatter(\n",
    "                x=recent_dates,\n",
    "                y=recent_prices,\n",
    "                mode='lines',\n",
    "                name='Historical Price',\n",
    "                line=dict(color='blue', width=2)\n",
    "            ),\n",
    "            row=1, col=1\n",
    "        )\n",
    "        \n",
    "        # Forecast mean\n",
    "        fig.add_trace(\n",
    "            go.Scatter(\n",
    "                x=future_dates,\n",
    "                y=mean_forecast,\n",
    "                mode='lines',\n",
    "                name='Forecast (Mean)',\n",
    "                line=dict(color='red', width=2, dash='dash')\n",
    "            ),\n",
    "            row=1, col=1\n",
    "        )\n",
    "        \n",
    "        # Prediction intervals\n",
    "        fig.add_trace(\n",
    "            go.Scatter(\n",
    "                x=future_dates,\n",
    "                y=quantiles[4],  # 90th percentile\n",
    "                mode='lines',\n",
    "                name='90% Upper',\n",
    "                line=dict(color='red', width=1),\n",
    "                showlegend=False\n",
    "            ),\n",
    "            row=1, col=1\n",
    "        )\n",
    "        \n",
    "        fig.add_trace(\n",
    "            go.Scatter(\n",
    "                x=future_dates,\n",
    "                y=quantiles[0],  # 10th percentile\n",
    "                mode='lines',\n",
    "                name='90% Lower',\n",
    "                line=dict(color='red', width=1),\n",
    "                fill='tonexty',\n",
    "                fillcolor='rgba(255,0,0,0.2)',\n",
    "                showlegend=False\n",
    "            ),\n",
    "            row=1, col=1\n",
    "        )\n",
    "        \n",
    "        # 50% prediction interval\n",
    "        fig.add_trace(\n",
    "            go.Scatter(\n",
    "                x=future_dates,\n",
    "                y=quantiles[3],  # 70th percentile\n",
    "                mode='lines',\n",
    "                name='50% Upper',\n",
    "                line=dict(color='orange', width=1),\n",
    "                showlegend=False\n",
    "            ),\n",
    "            row=1, col=1\n",
    "        )\n",
    "        \n",
    "        fig.add_trace(\n",
    "            go.Scatter(\n",
    "                x=future_dates,\n",
    "                y=quantiles[1],  # 30th percentile\n",
    "                mode='lines',\n",
    "                name='50% Lower',\n",
    "                line=dict(color='orange', width=1),\n",
    "                fill='tonexty',\n",
    "                fillcolor='rgba(255,165,0,0.3)',\n",
    "                showlegend=False\n",
    "            ),\n",
    "            row=1, col=1\n",
    "        )\n",
    "        \n",
    "        # Add technical indicators\n",
    "        # RSI\n",
    "        if 'RSI' in self.features_df.columns:\n",
    "            fig.add_trace(\n",
    "                go.Scatter(\n",
    "                    x=recent_dates,\n",
    "                    y=self.features_df['RSI'].values[-lookback:],\n",
    "                    mode='lines',\n",
    "                    name='RSI',\n",
    "                    line=dict(color='purple'),\n",
    "                    showlegend=False\n",
    "                ),\n",
    "                row=2, col=1\n",
    "            )\n",
    "            \n",
    "            # RSI levels\n",
    "            fig.add_hline(y=70, line_dash=\"dash\", line_color=\"red\", row=2, col=1)\n",
    "            fig.add_hline(y=30, line_dash=\"dash\", line_color=\"green\", row=2, col=1)\n",
    "        \n",
    "        # MACD\n",
    "        if 'MACD' in self.features_df.columns:\n",
    "            fig.add_trace(\n",
    "                go.Scatter(\n",
    "                    x=recent_dates,\n",
    "                    y=self.features_df['MACD'].values[-lookback:],\n",
    "                    mode='lines',\n",
    "                    name='MACD',\n",
    "                    line=dict(color='blue'),\n",
    "                    showlegend=False\n",
    "                ),\n",
    "                row=3, col=1\n",
    "            )\n",
    "            \n",
    "            if 'MACD_signal' in self.features_df.columns:\n",
    "                fig.add_trace(\n",
    "                    go.Scatter(\n",
    "                        x=recent_dates,\n",
    "                        y=self.features_df['MACD_signal'].values[-lookback:],\n",
    "                        mode='lines',\n",
    "                        name='MACD Signal',\n",
    "                        line=dict(color='red'),\n",
    "                        showlegend=False\n",
    "                    ),\n",
    "                    row=3, col=1\n",
    "                )\n",
    "        \n",
    "        # Volume (if available)\n",
    "        if 'Volume' in self.features_df.columns:\n",
    "            fig.add_trace(\n",
    "                go.Bar(\n",
    "                    x=recent_dates,\n",
    "                    y=self.features_df['Volume'].values[-lookback:],\n",
    "                    name='Volume',\n",
    "                    marker_color='lightblue',\n",
    "                    showlegend=False\n",
    "                ),\n",
    "                row=4, col=1\n",
    "            )\n",
    "        \n",
    "        # Update layout\n",
    "        fig.update_layout(\n",
    "            title=f'{title} - Chronos-Bolt Forecast',\n",
    "            xaxis_title='Date',\n",
    "            yaxis_title='Price',\n",
    "            height=800,\n",
    "            showlegend=True,\n",
    "            legend=dict(\n",
    "                orientation=\"h\",\n",
    "                yanchor=\"bottom\",\n",
    "                y=1.02,\n",
    "                xanchor=\"right\",\n",
    "                x=1\n",
    "            )\n",
    "        )\n",
    "        \n",
    "        if save_html:\n",
    "            filename = f\"{title.lower().replace(' ', '_')}_chronos_forecast.html\"\n",
    "            fig.write_html(filename)\n",
    "            print(f\"Forecast chart saved to {filename}\")\n",
    "        \n",
    "        fig.show()\n",
    "        \n",
    "        return fig\n",
    "\n",
    "\n"
   ]
  },
  {
   "cell_type": "code",
   "execution_count": 7,
   "id": "14a23572",
   "metadata": {},
   "outputs": [],
   "source": [
    "def create_trading_signals(predictor, results):\n",
    "    \"\"\"Generate trading signals based on forecast\"\"\"\n",
    "    \n",
    "    mean_forecast = results['mean']\n",
    "    current_price = predictor.features_df['CLOSE PRICE'].iloc[-1]\n",
    "    \n",
    "    # Simple trading signals\n",
    "    if len(mean_forecast) >= 7:\n",
    "        short_term_change = (mean_forecast[6] / current_price - 1) * 100  # 7-day\n",
    "    else:\n",
    "        short_term_change = (mean_forecast[min(2, len(mean_forecast)-1)] / current_price - 1) * 100\n",
    "    \n",
    "    long_term_change = (mean_forecast[-1] / current_price - 1) * 100  # Full period\n",
    "    \n",
    "    print(\"\\n\" + \"=\"*40)\n",
    "    print(\"TRADING SIGNALS\")\n",
    "    print(\"=\"*40)\n",
    "    \n",
    "    if short_term_change > 2:\n",
    "        print(\"Short-term Signal: STRONG BUY 📈\")\n",
    "    elif short_term_change > 0.5:\n",
    "        print(\"Short-term Signal: BUY 📊\")\n",
    "    elif short_term_change < -2:\n",
    "        print(\"Short-term Signal: STRONG SELL 📉\")\n",
    "    elif short_term_change < -0.5:\n",
    "        print(\"Short-term Signal: SELL 📊\")\n",
    "    else:\n",
    "        print(\"Short-term Signal: HOLD ➖\")\n",
    "    \n",
    "    print(f\"Short-term Expected Change: {short_term_change:.2f}%\")\n",
    "    print(f\"Full Period Expected Change: {long_term_change:.2f}%\")\n",
    "    \n",
    "    # Risk analysis\n",
    "    volatility = np.std(results['quantiles']) / current_price * 100\n",
    "    print(f\"Forecast Volatility: {volatility:.2f}%\")\n",
    "    \n",
    "    return {\n",
    "        'short_term_change': short_term_change,\n",
    "        'long_term_change': long_term_change,\n",
    "        'volatility': volatility\n",
    "    }\n"
   ]
  },
  {
   "cell_type": "code",
   "execution_count": 8,
   "id": "475a20cf",
   "metadata": {},
   "outputs": [],
   "source": [
    "\n",
    "# Main execution function\n",
    "def run_financial_forecast(csv_file=\"Quote-CD-USDINR-15-09-2024-to-15-09-2025.csv\", \n",
    "                          prediction_days=30):\n",
    "    \"\"\"Complete pipeline for financial forecasting\"\"\"\n",
    "    \n",
    "    # Initialize predictor\n",
    "    predictor = FinancialTimeSeriesPredictor(\n",
    "        model_name=\"amazon/chronos-bolt-base\",\n",
    "        device=\"cuda\"  # Change to \"cpu\" if no GPU available\n",
    "    )\n",
    "    \n",
    "    # Load and process data\n",
    "    predictor.load_data(csv_file)\n",
    "    predictor.engineer_features()\n",
    "    \n",
    "    # Generate forecasts\n",
    "    forecast_results = predictor.predict(\n",
    "        prediction_length=prediction_days,\n",
    "        lookback_window=60  # Reduced for better performance\n",
    "    )\n",
    "    \n",
    "    # Plot results\n",
    "    fig = predictor.plot_forecast_results(\n",
    "        forecast_results,\n",
    "        prediction_length=prediction_days,\n",
    "        title=\"USD-INR Futures Forecast with Chronos-Bolt\"\n",
    "    )\n",
    "    \n",
    "    # Print forecast summary\n",
    "    mean_forecast = forecast_results['mean']\n",
    "    current_price = predictor.features_df['CLOSE PRICE'].iloc[-1]\n",
    "    \n",
    "    print(\"\\n\" + \"=\"*50)\n",
    "    print(\"FORECAST SUMMARY\")\n",
    "    print(\"=\"*50)\n",
    "    print(f\"Current Price: ₹{current_price:.4f}\")\n",
    "    print(f\"Forecast Period: {prediction_days} days\")\n",
    "    print(f\"Predicted Price ({prediction_days} days): ₹{mean_forecast[-1]:.4f}\")\n",
    "    print(f\"Expected Change: {((mean_forecast[-1] / current_price) - 1) * 100:.2f}%\")\n",
    "    print(f\"Price Range (90% confidence): ₹{forecast_results['quantiles'][0][-1]:.4f} - ₹{forecast_results['quantiles'][4][-1]:.4f}\")\n",
    "    \n",
    "    # Generate trading signals\n",
    "    signals = create_trading_signals(predictor, forecast_results)\n",
    "    \n",
    "    return predictor, forecast_results\n",
    "\n"
   ]
  },
  {
   "cell_type": "code",
   "execution_count": 9,
   "id": "2248eb0e",
   "metadata": {},
   "outputs": [
    {
     "name": "stdout",
     "output_type": "stream",
     "text": [
      "Loading financial data...\n",
      "Data loaded: 92 records from 2024-09-30 00:00:00 to 2025-09-12 00:00:00\n",
      "Engineering financial features...\n",
      "Created 13 features for forecasting\n",
      "Loading amazon/chronos-bolt-base model...\n",
      "Model loaded successfully!\n",
      "Generating forecasts for 5 periods...\n"
     ]
    },
    {
     "name": "stderr",
     "output_type": "stream",
     "text": [
      "Passing a tuple of `past_key_values` is deprecated and will be removed in Transformers v4.48.0. You should pass an instance of `EncoderDecoderCache` instead, e.g. `past_key_values=EncoderDecoderCache.from_legacy_cache(past_key_values)`.\n"
     ]
    },
    {
     "name": "stdout",
     "output_type": "stream",
     "text": [
      "Forecast chart saved to usd-inr_futures_forecast_with_chronos-bolt_chronos_forecast.html\n"
     ]
    },
    {
     "data": {
      "application/vnd.plotly.v1+json": {
       "config": {
        "plotlyServerURL": "https://plot.ly"
       },
       "data": [
        {
         "line": {
          "color": "blue",
          "width": 2
         },
         "mode": "lines",
         "name": "Historical Price",
         "type": "scatter",
         "x": [
          "2025-05-02T00:00:00",
          "2025-05-28T00:00:00",
          "2025-06-11T00:00:00",
          "2025-06-13T00:00:00",
          "2025-06-16T00:00:00",
          "2025-06-18T00:00:00",
          "2025-06-19T00:00:00",
          "2025-06-20T00:00:00",
          "2025-06-26T00:00:00",
          "2025-06-27T00:00:00",
          "2025-06-30T00:00:00",
          "2025-07-02T00:00:00",
          "2025-07-03T00:00:00",
          "2025-07-04T00:00:00",
          "2025-07-07T00:00:00",
          "2025-07-08T00:00:00",
          "2025-07-10T00:00:00",
          "2025-07-11T00:00:00",
          "2025-07-14T00:00:00",
          "2025-07-15T00:00:00",
          "2025-07-16T00:00:00",
          "2025-07-17T00:00:00",
          "2025-07-18T00:00:00",
          "2025-07-21T00:00:00",
          "2025-07-22T00:00:00",
          "2025-07-23T00:00:00",
          "2025-07-24T00:00:00",
          "2025-07-25T00:00:00",
          "2025-07-28T00:00:00",
          "2025-07-29T00:00:00",
          "2025-07-30T00:00:00",
          "2025-07-31T00:00:00",
          "2025-08-01T00:00:00",
          "2025-08-04T00:00:00",
          "2025-08-05T00:00:00",
          "2025-08-06T00:00:00",
          "2025-08-07T00:00:00",
          "2025-08-08T00:00:00",
          "2025-08-11T00:00:00",
          "2025-08-12T00:00:00",
          "2025-08-13T00:00:00",
          "2025-08-14T00:00:00",
          "2025-08-18T00:00:00",
          "2025-08-19T00:00:00",
          "2025-08-20T00:00:00",
          "2025-08-21T00:00:00",
          "2025-08-22T00:00:00",
          "2025-08-25T00:00:00",
          "2025-08-26T00:00:00",
          "2025-08-28T00:00:00",
          "2025-08-29T00:00:00",
          "2025-09-01T00:00:00",
          "2025-09-02T00:00:00",
          "2025-09-03T00:00:00",
          "2025-09-04T00:00:00",
          "2025-09-05T00:00:00",
          "2025-09-09T00:00:00",
          "2025-09-10T00:00:00",
          "2025-09-11T00:00:00",
          "2025-09-12T00:00:00"
         ],
         "xaxis": "x",
         "y": {
          "bdata": "AAAAAABAVUAAAAAAAGBVQAAAAAAAgFVAcT0K16OQVUCPwvUoXM9VQAAAAAAAoFVAAAAAAADAVUAAAAAAAMBVQI/C9Shc/1VAuB6F61F4VUAzMzMzM3NVQAAAAAAAgFVA9ihcj8JlVUAfhetRuG5VQDMzMzMzk1VA4XoUrkeBVUAfhetRuG5VQJqZmZmZiVVAzczMzMyMVUDNzMzMzIxVQI/C9Shcj1VASOF6FK6XVUAfhetRuJ5VQNejcD0Kp1VAmpmZmZmpVUAK16NwPapVQOxRuB6Fq1VApHA9CtezVUCuR+F6FL5VQIXrUbgexVVAexSuR+HqVUD2KFyPwvVVQM3MzMzM7FVA16NwPQr3VUAfhetRuP5VQM3MzMzM/FVAzczMzMzsVUCkcD0K1/NVQClcj8L1+FVAexSuR+H6VUApXI/C9ehVQI/C9Shc71VAMzMzMzPjVUB7FK5H4cpVQB+F61G4zlVAexSuR+HaVUAK16NwPepVQD0K16Nw7VVApHA9CtfzVUDNzMzMzOxVQDMzMzMzE1ZAFK5H4XoUVkBxPQrXoxBWQClcj8L1CFZArkfhehQOVkCF61G4HhVWQB+F61G4DlZAzczMzMwMVkAAAAAAACBWQBSuR+F6FFZA",
          "dtype": "f8"
         },
         "yaxis": "y"
        },
        {
         "line": {
          "color": "red",
          "dash": "dash",
          "width": 2
         },
         "mode": "lines",
         "name": "Forecast (Mean)",
         "type": "scatter",
         "x": [
          "2025-09-13T00:00:00",
          "2025-09-14T00:00:00",
          "2025-09-15T00:00:00",
          "2025-09-16T00:00:00",
          "2025-09-17T00:00:00"
         ],
         "xaxis": "x",
         "y": {
          "bdata": "8emuQqCor0LFE7BCC2CwQsqdsEKk0LBCHwexQsNPsUKE0rFC",
          "dtype": "f4"
         },
         "yaxis": "y"
        },
        {
         "line": {
          "color": "red",
          "width": 1
         },
         "mode": "lines",
         "name": "90% Upper",
         "showlegend": false,
         "type": "scatter",
         "x": [
          "2025-09-13T00:00:00",
          "2025-09-14T00:00:00",
          "2025-09-15T00:00:00",
          "2025-09-16T00:00:00",
          "2025-09-17T00:00:00"
         ],
         "xaxis": "x",
         "y": {
          "bdata": "YRGuQkzwrkJpea9CG9+vQtQwsEIafbBCvsWwQi0ksULizrFC",
          "dtype": "f4"
         },
         "yaxis": "y"
        },
        {
         "fill": "tonexty",
         "fillcolor": "rgba(255,0,0,0.2)",
         "line": {
          "color": "red",
          "width": 1
         },
         "mode": "lines",
         "name": "90% Lower",
         "showlegend": false,
         "type": "scatter",
         "x": [
          "2025-09-13T00:00:00",
          "2025-09-14T00:00:00",
          "2025-09-15T00:00:00",
          "2025-09-16T00:00:00",
          "2025-09-17T00:00:00"
         ],
         "xaxis": "x",
         "y": {
          "bdata": "a76vQpApsEJPZ7BC/4ewQg6lsELZurBCiduwQjn8sEJ/SLFC",
          "dtype": "f4"
         },
         "yaxis": "y"
        },
        {
         "line": {
          "color": "orange",
          "width": 1
         },
         "mode": "lines",
         "name": "50% Upper",
         "showlegend": false,
         "type": "scatter",
         "x": [
          "2025-09-13T00:00:00",
          "2025-09-14T00:00:00",
          "2025-09-15T00:00:00",
          "2025-09-16T00:00:00",
          "2025-09-17T00:00:00"
         ],
         "xaxis": "x",
         "y": {
          "bdata": "+3yuQjFKr0J/x69CTSKwQvFqsEKwqLBCsu2wQpo9sULI2bFC",
          "dtype": "f4"
         },
         "yaxis": "y"
        },
        {
         "fill": "tonexty",
         "fillcolor": "rgba(255,165,0,0.3)",
         "line": {
          "color": "orange",
          "width": 1
         },
         "mode": "lines",
         "name": "50% Lower",
         "showlegend": false,
         "type": "scatter",
         "x": [
          "2025-09-13T00:00:00",
          "2025-09-14T00:00:00",
          "2025-09-15T00:00:00",
          "2025-09-16T00:00:00",
          "2025-09-17T00:00:00"
         ],
         "xaxis": "x",
         "y": {
          "bdata": "YEivQr3ir0IYOLBC1nWwQmyhsEK+xbBCVPGwQs8nsUIkkbFC",
          "dtype": "f4"
         },
         "yaxis": "y"
        },
        {
         "line": {
          "color": "blue"
         },
         "mode": "lines",
         "name": "MACD",
         "showlegend": false,
         "type": "scatter",
         "x": [
          "2025-05-02T00:00:00",
          "2025-05-28T00:00:00",
          "2025-06-11T00:00:00",
          "2025-06-13T00:00:00",
          "2025-06-16T00:00:00",
          "2025-06-18T00:00:00",
          "2025-06-19T00:00:00",
          "2025-06-20T00:00:00",
          "2025-06-26T00:00:00",
          "2025-06-27T00:00:00",
          "2025-06-30T00:00:00",
          "2025-07-02T00:00:00",
          "2025-07-03T00:00:00",
          "2025-07-04T00:00:00",
          "2025-07-07T00:00:00",
          "2025-07-08T00:00:00",
          "2025-07-10T00:00:00",
          "2025-07-11T00:00:00",
          "2025-07-14T00:00:00",
          "2025-07-15T00:00:00",
          "2025-07-16T00:00:00",
          "2025-07-17T00:00:00",
          "2025-07-18T00:00:00",
          "2025-07-21T00:00:00",
          "2025-07-22T00:00:00",
          "2025-07-23T00:00:00",
          "2025-07-24T00:00:00",
          "2025-07-25T00:00:00",
          "2025-07-28T00:00:00",
          "2025-07-29T00:00:00",
          "2025-07-30T00:00:00",
          "2025-07-31T00:00:00",
          "2025-08-01T00:00:00",
          "2025-08-04T00:00:00",
          "2025-08-05T00:00:00",
          "2025-08-06T00:00:00",
          "2025-08-07T00:00:00",
          "2025-08-08T00:00:00",
          "2025-08-11T00:00:00",
          "2025-08-12T00:00:00",
          "2025-08-13T00:00:00",
          "2025-08-14T00:00:00",
          "2025-08-18T00:00:00",
          "2025-08-19T00:00:00",
          "2025-08-20T00:00:00",
          "2025-08-21T00:00:00",
          "2025-08-22T00:00:00",
          "2025-08-25T00:00:00",
          "2025-08-26T00:00:00",
          "2025-08-28T00:00:00",
          "2025-08-29T00:00:00",
          "2025-09-01T00:00:00",
          "2025-09-02T00:00:00",
          "2025-09-03T00:00:00",
          "2025-09-04T00:00:00",
          "2025-09-05T00:00:00",
          "2025-09-09T00:00:00",
          "2025-09-10T00:00:00",
          "2025-09-11T00:00:00",
          "2025-09-12T00:00:00"
         ],
         "xaxis": "x3",
         "y": {
          "bdata": "ACKs0AtZzr8AUokSeJ3SvwCBTJZcstK/ACOLwEBL0b8ATCI+OYXGvwAsCDyQAMS/ABQe9/zbub8AeHHeZfusvwAAvs6j/qs/AJD7zQyGlb8A1OkT2RG2vwCMsjZx7b6/AKKkSd7Rxr8AnN0lie3KvwBq8JtYKci/AJ6cIQODyL8AWJEJWWfLvwB+pFnUJsm/ALjkumCZxr8AxmtpcVfEvwAmWchY8MG/AKTsf20Wvb8ArBxxczi1vwDoycJSY6i/AMD73ru0kL8AYCX8ctSCPwCwjPAeY58/AJgA+rFhrT8AxJ561B+3PwD4eVwnsr8/AEjotU4ByT8AGBfhEM/QPwDrN1LIR9M/AGYLoxHP1T8A4fraeybYPwD7cFqNjtk/AO1ncccY2T8AkG/8ZgLZPwBCUb8CENk/AHnUMZT42D8AlaRcnDDXPwD38Pb8CdY/AJtPdDvr0z8AG34MjRjQPwCypykacso/AL6UU/qTxz8A+GfvCILHPwB6h7TQscc/AJ6x9gWXyD8AGin2yePHPwAiWLaVL80/AHvJ72qa0D8AenI92K7RPwCKV0Mst9E/ACunq3Hy0T8AIlYJIXzSPwDOoKB+L9I/ACA96TeX0T8AUridWnTSPwBjZvevANI/",
          "dtype": "f8"
         },
         "yaxis": "y3"
        },
        {
         "line": {
          "color": "red"
         },
         "mode": "lines",
         "name": "MACD Signal",
         "showlegend": false,
         "type": "scatter",
         "x": [
          "2025-05-02T00:00:00",
          "2025-05-28T00:00:00",
          "2025-06-11T00:00:00",
          "2025-06-13T00:00:00",
          "2025-06-16T00:00:00",
          "2025-06-18T00:00:00",
          "2025-06-19T00:00:00",
          "2025-06-20T00:00:00",
          "2025-06-26T00:00:00",
          "2025-06-27T00:00:00",
          "2025-06-30T00:00:00",
          "2025-07-02T00:00:00",
          "2025-07-03T00:00:00",
          "2025-07-04T00:00:00",
          "2025-07-07T00:00:00",
          "2025-07-08T00:00:00",
          "2025-07-10T00:00:00",
          "2025-07-11T00:00:00",
          "2025-07-14T00:00:00",
          "2025-07-15T00:00:00",
          "2025-07-16T00:00:00",
          "2025-07-17T00:00:00",
          "2025-07-18T00:00:00",
          "2025-07-21T00:00:00",
          "2025-07-22T00:00:00",
          "2025-07-23T00:00:00",
          "2025-07-24T00:00:00",
          "2025-07-25T00:00:00",
          "2025-07-28T00:00:00",
          "2025-07-29T00:00:00",
          "2025-07-30T00:00:00",
          "2025-07-31T00:00:00",
          "2025-08-01T00:00:00",
          "2025-08-04T00:00:00",
          "2025-08-05T00:00:00",
          "2025-08-06T00:00:00",
          "2025-08-07T00:00:00",
          "2025-08-08T00:00:00",
          "2025-08-11T00:00:00",
          "2025-08-12T00:00:00",
          "2025-08-13T00:00:00",
          "2025-08-14T00:00:00",
          "2025-08-18T00:00:00",
          "2025-08-19T00:00:00",
          "2025-08-20T00:00:00",
          "2025-08-21T00:00:00",
          "2025-08-22T00:00:00",
          "2025-08-25T00:00:00",
          "2025-08-26T00:00:00",
          "2025-08-28T00:00:00",
          "2025-08-29T00:00:00",
          "2025-09-01T00:00:00",
          "2025-09-02T00:00:00",
          "2025-09-03T00:00:00",
          "2025-09-04T00:00:00",
          "2025-09-05T00:00:00",
          "2025-09-09T00:00:00",
          "2025-09-10T00:00:00",
          "2025-09-11T00:00:00",
          "2025-09-12T00:00:00"
         ],
         "xaxis": "x3",
         "y": {
          "bdata": "eLXWJ6Sotj9MMSPF68yJP8H4/K9vxKi/7NvkuOu+t79ggV5bggG8v+o2Ytn1Z76/myiakSB/vb8LP4ZLvX66vzlCbpxOZbK/CkyBbsiVr7+ic+/8TQyxv8hd1In40rO/8J2fFcj8uL85gqYc5MK+v3kDZsYJI8G/wnm1M6Scwr8Eu8tsyl7Ev9qHwBqaU8W/UMMiBcKUxb/pAJpZS1XFv21YUumAp8S/lPGVz6Ruw7882olA9arBv2kuaosPtb6/iwpsY65mub+wlG5dodmzv9/hk0wXn6y/z9BlR1QFob/k3MaotXeBv09gD16lXpI/pHpNphtaqz/13DM0TGO4P4bny/uhd8E/InaBx4iyxj/xaJvfa9HLP/o/YUIUPdA/XUsZhZ4C0j/e3AfU+WjTP9S2lQViitQ/9KfM3Dht1T/J2N32f8fVPzzoIyrM1NU/eBLUa+Jy1T9eifxX0WDUP6V+U+N28tI/l7j0I/iD0T9oq62a+lzQP6GwdIGH684/1mqamG2nzT+tw0veTIDMP58o7W9bo8w/NR6RuUCNzT9PMyWt8LbOP9HwudhrqM8/lvPYRahA0D813yqg87LQP1hJEm0P/9A/1gVP7H0d0T/coDJ2EGLRP4fTcPbJgdE/",
          "dtype": "f8"
         },
         "yaxis": "y3"
        }
       ],
       "layout": {
        "annotations": [
         {
          "font": {
           "size": 16
          },
          "showarrow": false,
          "text": "USD-INR Futures Forecast with Chronos-Bolt - Price Forecast",
          "x": 0.5,
          "xanchor": "center",
          "xref": "paper",
          "y": 1,
          "yanchor": "bottom",
          "yref": "paper"
         },
         {
          "font": {
           "size": 16
          },
          "showarrow": false,
          "text": "RSI Indicator",
          "x": 0.5,
          "xanchor": "center",
          "xref": "paper",
          "y": 0.5150000000000001,
          "yanchor": "bottom",
          "yref": "paper"
         },
         {
          "font": {
           "size": 16
          },
          "showarrow": false,
          "text": "MACD",
          "x": 0.5,
          "xanchor": "center",
          "xref": "paper",
          "y": 0.30300000000000005,
          "yanchor": "bottom",
          "yref": "paper"
         },
         {
          "font": {
           "size": 16
          },
          "showarrow": false,
          "text": "Volume (if available)",
          "x": 0.5,
          "xanchor": "center",
          "xref": "paper",
          "y": 0.09100000000000003,
          "yanchor": "bottom",
          "yref": "paper"
         }
        ],
        "height": 800,
        "legend": {
         "orientation": "h",
         "x": 1,
         "xanchor": "right",
         "y": 1.02,
         "yanchor": "bottom"
        },
        "showlegend": true,
        "template": {
         "data": {
          "bar": [
           {
            "error_x": {
             "color": "#2a3f5f"
            },
            "error_y": {
             "color": "#2a3f5f"
            },
            "marker": {
             "line": {
              "color": "#E5ECF6",
              "width": 0.5
             },
             "pattern": {
              "fillmode": "overlay",
              "size": 10,
              "solidity": 0.2
             }
            },
            "type": "bar"
           }
          ],
          "barpolar": [
           {
            "marker": {
             "line": {
              "color": "#E5ECF6",
              "width": 0.5
             },
             "pattern": {
              "fillmode": "overlay",
              "size": 10,
              "solidity": 0.2
             }
            },
            "type": "barpolar"
           }
          ],
          "carpet": [
           {
            "aaxis": {
             "endlinecolor": "#2a3f5f",
             "gridcolor": "white",
             "linecolor": "white",
             "minorgridcolor": "white",
             "startlinecolor": "#2a3f5f"
            },
            "baxis": {
             "endlinecolor": "#2a3f5f",
             "gridcolor": "white",
             "linecolor": "white",
             "minorgridcolor": "white",
             "startlinecolor": "#2a3f5f"
            },
            "type": "carpet"
           }
          ],
          "choropleth": [
           {
            "colorbar": {
             "outlinewidth": 0,
             "ticks": ""
            },
            "type": "choropleth"
           }
          ],
          "contour": [
           {
            "colorbar": {
             "outlinewidth": 0,
             "ticks": ""
            },
            "colorscale": [
             [
              0,
              "#0d0887"
             ],
             [
              0.1111111111111111,
              "#46039f"
             ],
             [
              0.2222222222222222,
              "#7201a8"
             ],
             [
              0.3333333333333333,
              "#9c179e"
             ],
             [
              0.4444444444444444,
              "#bd3786"
             ],
             [
              0.5555555555555556,
              "#d8576b"
             ],
             [
              0.6666666666666666,
              "#ed7953"
             ],
             [
              0.7777777777777778,
              "#fb9f3a"
             ],
             [
              0.8888888888888888,
              "#fdca26"
             ],
             [
              1,
              "#f0f921"
             ]
            ],
            "type": "contour"
           }
          ],
          "contourcarpet": [
           {
            "colorbar": {
             "outlinewidth": 0,
             "ticks": ""
            },
            "type": "contourcarpet"
           }
          ],
          "heatmap": [
           {
            "colorbar": {
             "outlinewidth": 0,
             "ticks": ""
            },
            "colorscale": [
             [
              0,
              "#0d0887"
             ],
             [
              0.1111111111111111,
              "#46039f"
             ],
             [
              0.2222222222222222,
              "#7201a8"
             ],
             [
              0.3333333333333333,
              "#9c179e"
             ],
             [
              0.4444444444444444,
              "#bd3786"
             ],
             [
              0.5555555555555556,
              "#d8576b"
             ],
             [
              0.6666666666666666,
              "#ed7953"
             ],
             [
              0.7777777777777778,
              "#fb9f3a"
             ],
             [
              0.8888888888888888,
              "#fdca26"
             ],
             [
              1,
              "#f0f921"
             ]
            ],
            "type": "heatmap"
           }
          ],
          "histogram": [
           {
            "marker": {
             "pattern": {
              "fillmode": "overlay",
              "size": 10,
              "solidity": 0.2
             }
            },
            "type": "histogram"
           }
          ],
          "histogram2d": [
           {
            "colorbar": {
             "outlinewidth": 0,
             "ticks": ""
            },
            "colorscale": [
             [
              0,
              "#0d0887"
             ],
             [
              0.1111111111111111,
              "#46039f"
             ],
             [
              0.2222222222222222,
              "#7201a8"
             ],
             [
              0.3333333333333333,
              "#9c179e"
             ],
             [
              0.4444444444444444,
              "#bd3786"
             ],
             [
              0.5555555555555556,
              "#d8576b"
             ],
             [
              0.6666666666666666,
              "#ed7953"
             ],
             [
              0.7777777777777778,
              "#fb9f3a"
             ],
             [
              0.8888888888888888,
              "#fdca26"
             ],
             [
              1,
              "#f0f921"
             ]
            ],
            "type": "histogram2d"
           }
          ],
          "histogram2dcontour": [
           {
            "colorbar": {
             "outlinewidth": 0,
             "ticks": ""
            },
            "colorscale": [
             [
              0,
              "#0d0887"
             ],
             [
              0.1111111111111111,
              "#46039f"
             ],
             [
              0.2222222222222222,
              "#7201a8"
             ],
             [
              0.3333333333333333,
              "#9c179e"
             ],
             [
              0.4444444444444444,
              "#bd3786"
             ],
             [
              0.5555555555555556,
              "#d8576b"
             ],
             [
              0.6666666666666666,
              "#ed7953"
             ],
             [
              0.7777777777777778,
              "#fb9f3a"
             ],
             [
              0.8888888888888888,
              "#fdca26"
             ],
             [
              1,
              "#f0f921"
             ]
            ],
            "type": "histogram2dcontour"
           }
          ],
          "mesh3d": [
           {
            "colorbar": {
             "outlinewidth": 0,
             "ticks": ""
            },
            "type": "mesh3d"
           }
          ],
          "parcoords": [
           {
            "line": {
             "colorbar": {
              "outlinewidth": 0,
              "ticks": ""
             }
            },
            "type": "parcoords"
           }
          ],
          "pie": [
           {
            "automargin": true,
            "type": "pie"
           }
          ],
          "scatter": [
           {
            "fillpattern": {
             "fillmode": "overlay",
             "size": 10,
             "solidity": 0.2
            },
            "type": "scatter"
           }
          ],
          "scatter3d": [
           {
            "line": {
             "colorbar": {
              "outlinewidth": 0,
              "ticks": ""
             }
            },
            "marker": {
             "colorbar": {
              "outlinewidth": 0,
              "ticks": ""
             }
            },
            "type": "scatter3d"
           }
          ],
          "scattercarpet": [
           {
            "marker": {
             "colorbar": {
              "outlinewidth": 0,
              "ticks": ""
             }
            },
            "type": "scattercarpet"
           }
          ],
          "scattergeo": [
           {
            "marker": {
             "colorbar": {
              "outlinewidth": 0,
              "ticks": ""
             }
            },
            "type": "scattergeo"
           }
          ],
          "scattergl": [
           {
            "marker": {
             "colorbar": {
              "outlinewidth": 0,
              "ticks": ""
             }
            },
            "type": "scattergl"
           }
          ],
          "scattermap": [
           {
            "marker": {
             "colorbar": {
              "outlinewidth": 0,
              "ticks": ""
             }
            },
            "type": "scattermap"
           }
          ],
          "scattermapbox": [
           {
            "marker": {
             "colorbar": {
              "outlinewidth": 0,
              "ticks": ""
             }
            },
            "type": "scattermapbox"
           }
          ],
          "scatterpolar": [
           {
            "marker": {
             "colorbar": {
              "outlinewidth": 0,
              "ticks": ""
             }
            },
            "type": "scatterpolar"
           }
          ],
          "scatterpolargl": [
           {
            "marker": {
             "colorbar": {
              "outlinewidth": 0,
              "ticks": ""
             }
            },
            "type": "scatterpolargl"
           }
          ],
          "scatterternary": [
           {
            "marker": {
             "colorbar": {
              "outlinewidth": 0,
              "ticks": ""
             }
            },
            "type": "scatterternary"
           }
          ],
          "surface": [
           {
            "colorbar": {
             "outlinewidth": 0,
             "ticks": ""
            },
            "colorscale": [
             [
              0,
              "#0d0887"
             ],
             [
              0.1111111111111111,
              "#46039f"
             ],
             [
              0.2222222222222222,
              "#7201a8"
             ],
             [
              0.3333333333333333,
              "#9c179e"
             ],
             [
              0.4444444444444444,
              "#bd3786"
             ],
             [
              0.5555555555555556,
              "#d8576b"
             ],
             [
              0.6666666666666666,
              "#ed7953"
             ],
             [
              0.7777777777777778,
              "#fb9f3a"
             ],
             [
              0.8888888888888888,
              "#fdca26"
             ],
             [
              1,
              "#f0f921"
             ]
            ],
            "type": "surface"
           }
          ],
          "table": [
           {
            "cells": {
             "fill": {
              "color": "#EBF0F8"
             },
             "line": {
              "color": "white"
             }
            },
            "header": {
             "fill": {
              "color": "#C8D4E3"
             },
             "line": {
              "color": "white"
             }
            },
            "type": "table"
           }
          ]
         },
         "layout": {
          "annotationdefaults": {
           "arrowcolor": "#2a3f5f",
           "arrowhead": 0,
           "arrowwidth": 1
          },
          "autotypenumbers": "strict",
          "coloraxis": {
           "colorbar": {
            "outlinewidth": 0,
            "ticks": ""
           }
          },
          "colorscale": {
           "diverging": [
            [
             0,
             "#8e0152"
            ],
            [
             0.1,
             "#c51b7d"
            ],
            [
             0.2,
             "#de77ae"
            ],
            [
             0.3,
             "#f1b6da"
            ],
            [
             0.4,
             "#fde0ef"
            ],
            [
             0.5,
             "#f7f7f7"
            ],
            [
             0.6,
             "#e6f5d0"
            ],
            [
             0.7,
             "#b8e186"
            ],
            [
             0.8,
             "#7fbc41"
            ],
            [
             0.9,
             "#4d9221"
            ],
            [
             1,
             "#276419"
            ]
           ],
           "sequential": [
            [
             0,
             "#0d0887"
            ],
            [
             0.1111111111111111,
             "#46039f"
            ],
            [
             0.2222222222222222,
             "#7201a8"
            ],
            [
             0.3333333333333333,
             "#9c179e"
            ],
            [
             0.4444444444444444,
             "#bd3786"
            ],
            [
             0.5555555555555556,
             "#d8576b"
            ],
            [
             0.6666666666666666,
             "#ed7953"
            ],
            [
             0.7777777777777778,
             "#fb9f3a"
            ],
            [
             0.8888888888888888,
             "#fdca26"
            ],
            [
             1,
             "#f0f921"
            ]
           ],
           "sequentialminus": [
            [
             0,
             "#0d0887"
            ],
            [
             0.1111111111111111,
             "#46039f"
            ],
            [
             0.2222222222222222,
             "#7201a8"
            ],
            [
             0.3333333333333333,
             "#9c179e"
            ],
            [
             0.4444444444444444,
             "#bd3786"
            ],
            [
             0.5555555555555556,
             "#d8576b"
            ],
            [
             0.6666666666666666,
             "#ed7953"
            ],
            [
             0.7777777777777778,
             "#fb9f3a"
            ],
            [
             0.8888888888888888,
             "#fdca26"
            ],
            [
             1,
             "#f0f921"
            ]
           ]
          },
          "colorway": [
           "#636efa",
           "#EF553B",
           "#00cc96",
           "#ab63fa",
           "#FFA15A",
           "#19d3f3",
           "#FF6692",
           "#B6E880",
           "#FF97FF",
           "#FECB52"
          ],
          "font": {
           "color": "#2a3f5f"
          },
          "geo": {
           "bgcolor": "white",
           "lakecolor": "white",
           "landcolor": "#E5ECF6",
           "showlakes": true,
           "showland": true,
           "subunitcolor": "white"
          },
          "hoverlabel": {
           "align": "left"
          },
          "hovermode": "closest",
          "mapbox": {
           "style": "light"
          },
          "paper_bgcolor": "white",
          "plot_bgcolor": "#E5ECF6",
          "polar": {
           "angularaxis": {
            "gridcolor": "white",
            "linecolor": "white",
            "ticks": ""
           },
           "bgcolor": "#E5ECF6",
           "radialaxis": {
            "gridcolor": "white",
            "linecolor": "white",
            "ticks": ""
           }
          },
          "scene": {
           "xaxis": {
            "backgroundcolor": "#E5ECF6",
            "gridcolor": "white",
            "gridwidth": 2,
            "linecolor": "white",
            "showbackground": true,
            "ticks": "",
            "zerolinecolor": "white"
           },
           "yaxis": {
            "backgroundcolor": "#E5ECF6",
            "gridcolor": "white",
            "gridwidth": 2,
            "linecolor": "white",
            "showbackground": true,
            "ticks": "",
            "zerolinecolor": "white"
           },
           "zaxis": {
            "backgroundcolor": "#E5ECF6",
            "gridcolor": "white",
            "gridwidth": 2,
            "linecolor": "white",
            "showbackground": true,
            "ticks": "",
            "zerolinecolor": "white"
           }
          },
          "shapedefaults": {
           "line": {
            "color": "#2a3f5f"
           }
          },
          "ternary": {
           "aaxis": {
            "gridcolor": "white",
            "linecolor": "white",
            "ticks": ""
           },
           "baxis": {
            "gridcolor": "white",
            "linecolor": "white",
            "ticks": ""
           },
           "bgcolor": "#E5ECF6",
           "caxis": {
            "gridcolor": "white",
            "linecolor": "white",
            "ticks": ""
           }
          },
          "title": {
           "x": 0.05
          },
          "xaxis": {
           "automargin": true,
           "gridcolor": "white",
           "linecolor": "white",
           "ticks": "",
           "title": {
            "standoff": 15
           },
           "zerolinecolor": "white",
           "zerolinewidth": 2
          },
          "yaxis": {
           "automargin": true,
           "gridcolor": "white",
           "linecolor": "white",
           "ticks": "",
           "title": {
            "standoff": 15
           },
           "zerolinecolor": "white",
           "zerolinewidth": 2
          }
         }
        },
        "title": {
         "text": "USD-INR Futures Forecast with Chronos-Bolt - Chronos-Bolt Forecast"
        },
        "xaxis": {
         "anchor": "y",
         "domain": [
          0,
          1
         ],
         "matches": "x4",
         "showticklabels": false,
         "title": {
          "text": "Date"
         }
        },
        "xaxis2": {
         "anchor": "y2",
         "domain": [
          0,
          1
         ],
         "matches": "x4",
         "showticklabels": false
        },
        "xaxis3": {
         "anchor": "y3",
         "domain": [
          0,
          1
         ],
         "matches": "x4",
         "showticklabels": false
        },
        "xaxis4": {
         "anchor": "y4",
         "domain": [
          0,
          1
         ]
        },
        "yaxis": {
         "anchor": "x",
         "domain": [
          0.5450000000000002,
          1
         ],
         "title": {
          "text": "Price"
         }
        },
        "yaxis2": {
         "anchor": "x2",
         "domain": [
          0.3330000000000001,
          0.5150000000000001
         ]
        },
        "yaxis3": {
         "anchor": "x3",
         "domain": [
          0.12100000000000002,
          0.30300000000000005
         ]
        },
        "yaxis4": {
         "anchor": "x4",
         "domain": [
          0,
          0.09100000000000003
         ]
        }
       }
      }
     },
     "metadata": {},
     "output_type": "display_data"
    },
    {
     "name": "stdout",
     "output_type": "stream",
     "text": [
      "\n",
      "==================================================\n",
      "FORECAST SUMMARY\n",
      "==================================================\n",
      "Current Price: ₹88.3200\n",
      "Forecast Period: 5 days\n",
      "Predicted Price (5 days): ₹88.9112\n",
      "Expected Change: 0.67%\n",
      "Price Range (90% confidence): ₹88.6416 - ₹88.9041\n",
      "\n",
      "========================================\n",
      "TRADING SIGNALS\n",
      "========================================\n",
      "Short-term Signal: HOLD ➖\n",
      "Short-term Expected Change: 0.22%\n",
      "Full Period Expected Change: 0.67%\n",
      "Forecast Volatility: 0.48%\n"
     ]
    }
   ],
   "source": [
    "# Run the complete pipeline\n",
    "predictor, results = run_financial_forecast(\n",
    "    csv_file=\"Data/Quote-CD-USDINR-15-09-2024-to-15-09-2025.csv\",\n",
    "    prediction_days=5\n",
    ")"
   ]
  },
  {
   "cell_type": "code",
   "execution_count": null,
   "id": "2c448b1e",
   "metadata": {},
   "outputs": [],
   "source": []
  }
 ],
 "metadata": {
  "kernelspec": {
   "display_name": "base",
   "language": "python",
   "name": "python3"
  },
  "language_info": {
   "codemirror_mode": {
    "name": "ipython",
    "version": 3
   },
   "file_extension": ".py",
   "mimetype": "text/x-python",
   "name": "python",
   "nbconvert_exporter": "python",
   "pygments_lexer": "ipython3",
   "version": "3.11.11"
  }
 },
 "nbformat": 4,
 "nbformat_minor": 5
}
