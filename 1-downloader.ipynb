{
 "cells": [
  {
   "cell_type": "code",
   "execution_count": 2,
   "id": "cccbb877",
   "metadata": {},
   "outputs": [],
   "source": [
    "import yfinance as yf\n",
    "import pandas as pd"
   ]
  },
  {
   "cell_type": "code",
   "execution_count": 3,
   "id": "1f9feba0",
   "metadata": {},
   "outputs": [
    {
     "name": "stderr",
     "output_type": "stream",
     "text": [
      "/tmp/ipykernel_23012/2006118694.py:2: FutureWarning: YF.download() has changed argument auto_adjust default to True\n",
      "  data = yf.download('USDINR=X',\n",
      "[*********************100%***********************]  1 of 1 completed\n"
     ]
    }
   ],
   "source": [
    "\n",
    "# Download EUR/USD data\n",
    "data = yf.download('USDINR=X', \n",
    "                     start='2025-01-01', \n",
    "                     end='2025-09-01',\n",
    "                     interval='1d')\n",
    "data.to_csv('Data/USDINR_day_2025-01-2025-09-Infer.csv')\n",
    "\n",
    "# Available intervals: 1m, 2m, 5m, 15m, 30m, 60m, 90m, 1h, 1d, 5d, 1wk, 1mo, 3mo\n"
   ]
  },
  {
   "cell_type": "code",
   "execution_count": 4,
   "id": "6405b926",
   "metadata": {},
   "outputs": [
    {
     "data": {
      "text/html": [
       "<div>\n",
       "<style scoped>\n",
       "    .dataframe tbody tr th:only-of-type {\n",
       "        vertical-align: middle;\n",
       "    }\n",
       "\n",
       "    .dataframe tbody tr th {\n",
       "        vertical-align: top;\n",
       "    }\n",
       "\n",
       "    .dataframe thead tr th {\n",
       "        text-align: left;\n",
       "    }\n",
       "\n",
       "    .dataframe thead tr:last-of-type th {\n",
       "        text-align: right;\n",
       "    }\n",
       "</style>\n",
       "<table border=\"1\" class=\"dataframe\">\n",
       "  <thead>\n",
       "    <tr>\n",
       "      <th>Price</th>\n",
       "      <th>Close</th>\n",
       "      <th>High</th>\n",
       "      <th>Low</th>\n",
       "      <th>Open</th>\n",
       "      <th>Volume</th>\n",
       "    </tr>\n",
       "    <tr>\n",
       "      <th>Ticker</th>\n",
       "      <th>USDINR=X</th>\n",
       "      <th>USDINR=X</th>\n",
       "      <th>USDINR=X</th>\n",
       "      <th>USDINR=X</th>\n",
       "      <th>USDINR=X</th>\n",
       "    </tr>\n",
       "    <tr>\n",
       "      <th>Date</th>\n",
       "      <th></th>\n",
       "      <th></th>\n",
       "      <th></th>\n",
       "      <th></th>\n",
       "      <th></th>\n",
       "    </tr>\n",
       "  </thead>\n",
       "  <tbody>\n",
       "    <tr>\n",
       "      <th>2025-01-02</th>\n",
       "      <td>85.785698</td>\n",
       "      <td>86.033997</td>\n",
       "      <td>85.573997</td>\n",
       "      <td>85.785698</td>\n",
       "      <td>0</td>\n",
       "    </tr>\n",
       "    <tr>\n",
       "      <th>2025-01-03</th>\n",
       "      <td>85.804001</td>\n",
       "      <td>86.072304</td>\n",
       "      <td>85.706299</td>\n",
       "      <td>85.804001</td>\n",
       "      <td>0</td>\n",
       "    </tr>\n",
       "    <tr>\n",
       "      <th>2025-01-06</th>\n",
       "      <td>85.759003</td>\n",
       "      <td>85.841003</td>\n",
       "      <td>85.584297</td>\n",
       "      <td>85.759003</td>\n",
       "      <td>0</td>\n",
       "    </tr>\n",
       "    <tr>\n",
       "      <th>2025-01-07</th>\n",
       "      <td>85.680702</td>\n",
       "      <td>85.793800</td>\n",
       "      <td>84.939598</td>\n",
       "      <td>85.680702</td>\n",
       "      <td>0</td>\n",
       "    </tr>\n",
       "    <tr>\n",
       "      <th>2025-01-08</th>\n",
       "      <td>85.806503</td>\n",
       "      <td>85.985603</td>\n",
       "      <td>85.706001</td>\n",
       "      <td>85.806503</td>\n",
       "      <td>0</td>\n",
       "    </tr>\n",
       "  </tbody>\n",
       "</table>\n",
       "</div>"
      ],
      "text/plain": [
       "Price           Close       High        Low       Open   Volume\n",
       "Ticker       USDINR=X   USDINR=X   USDINR=X   USDINR=X USDINR=X\n",
       "Date                                                           \n",
       "2025-01-02  85.785698  86.033997  85.573997  85.785698        0\n",
       "2025-01-03  85.804001  86.072304  85.706299  85.804001        0\n",
       "2025-01-06  85.759003  85.841003  85.584297  85.759003        0\n",
       "2025-01-07  85.680702  85.793800  84.939598  85.680702        0\n",
       "2025-01-08  85.806503  85.985603  85.706001  85.806503        0"
      ]
     },
     "execution_count": 4,
     "metadata": {},
     "output_type": "execute_result"
    }
   ],
   "source": [
    "data.head()"
   ]
  },
  {
   "cell_type": "code",
   "execution_count": null,
   "id": "37a3ebdf",
   "metadata": {},
   "outputs": [],
   "source": []
  }
 ],
 "metadata": {
  "kernelspec": {
   "display_name": "base",
   "language": "python",
   "name": "python3"
  },
  "language_info": {
   "codemirror_mode": {
    "name": "ipython",
    "version": 3
   },
   "file_extension": ".py",
   "mimetype": "text/x-python",
   "name": "python",
   "nbconvert_exporter": "python",
   "pygments_lexer": "ipython3",
   "version": "3.11.11"
  }
 },
 "nbformat": 4,
 "nbformat_minor": 5
}
