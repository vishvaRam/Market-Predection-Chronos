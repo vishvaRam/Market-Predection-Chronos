{
 "cells": [
  {
   "cell_type": "code",
   "execution_count": 2,
   "id": "080098bb",
   "metadata": {},
   "outputs": [],
   "source": [
    "import pandas as pd\n",
    "import plotly.graph_objects as go\n",
    "from plotly.subplots import make_subplots\n",
    "import numpy as np"
   ]
  },
  {
   "cell_type": "code",
   "execution_count": 3,
   "id": "0153704d",
   "metadata": {},
   "outputs": [],
   "source": [
    "class FinanceChartVisualizer:\n",
    "    def __init__(self, csv_file_path, date_col=\"DATE\", open_col=\"OPEN PRICE\", \n",
    "                 high_col=\"HIGH PRICE\", low_col=\"LOW PRICE\", close_col=\"CLOSE PRICE\", \n",
    "                 volume_col=\"Volume\"):\n",
    "        \"\"\"\n",
    "        Initialize the visualizer with CSV file and column mappings\n",
    "        \"\"\"\n",
    "        self.csv_file_path = csv_file_path\n",
    "        self.date_col = date_col.strip()\n",
    "        self.open_col = open_col.strip()\n",
    "        self.high_col = high_col.strip()\n",
    "        self.low_col = low_col.strip()\n",
    "        self.close_col = close_col.strip()\n",
    "        self.volume_col = volume_col.strip()\n",
    "        self.df = None\n",
    "        \n",
    "    def load_data(self):\n",
    "        \"\"\"Load and preprocess the CSV data\"\"\"\n",
    "        # Read CSV and clean column names\n",
    "        self.df = pd.read_csv(self.csv_file_path)\n",
    "        self.df.columns = self.df.columns.str.strip()\n",
    "        \n",
    "        # Convert date column to datetime\n",
    "        self.df[self.date_col] = pd.to_datetime(self.df[self.date_col], format='%d-%b-%Y')\n",
    "        \n",
    "        # Convert numeric columns, handling commas in numbers\n",
    "        numeric_cols = [self.open_col, self.high_col, self.low_col, self.close_col]\n",
    "        for col in numeric_cols:\n",
    "            if col in self.df.columns:\n",
    "                self.df[col] = pd.to_numeric(self.df[col], errors='coerce')\n",
    "        \n",
    "        # Handle volume with commas\n",
    "        if self.volume_col in self.df.columns:\n",
    "            self.df[self.volume_col] = self.df[self.volume_col].astype(str).str.replace(',', '')\n",
    "            self.df[self.volume_col] = pd.to_numeric(self.df[self.volume_col], errors='coerce')\n",
    "        \n",
    "        # Sort by date\n",
    "        self.df = self.df.sort_values(self.date_col).reset_index(drop=True)\n",
    "        \n",
    "        # Remove rows with missing OHLC data\n",
    "        self.df = self.df.dropna(subset=[self.open_col, self.high_col, self.low_col, self.close_col])\n",
    "        \n",
    "        print(f\"Data loaded: {len(self.df)} records from {self.df[self.date_col].min()} to {self.df[self.date_col].max()}\")\n",
    "        return self.df\n",
    "    \n",
    "    def calculate_indicators(self, sma_periods=[20, 50], ema_periods=[12, 26], \n",
    "                           rsi_period=14, bb_period=20, bb_std=2):\n",
    "        \"\"\"Calculate technical indicators\"\"\"\n",
    "        if self.df is None:\n",
    "            self.load_data()\n",
    "        \n",
    "        # Simple Moving Averages\n",
    "        for period in sma_periods:\n",
    "            self.df[f'SMA_{period}'] = self.df[self.close_col].rolling(window=period).mean()\n",
    "        \n",
    "        # Exponential Moving Averages\n",
    "        for period in ema_periods:\n",
    "            self.df[f'EMA_{period}'] = self.df[self.close_col].ewm(span=period).mean()\n",
    "        \n",
    "        # RSI (Relative Strength Index)\n",
    "        delta = self.df[self.close_col].diff()\n",
    "        gain = (delta.where(delta > 0, 0)).rolling(window=rsi_period).mean()\n",
    "        loss = (-delta.where(delta < 0, 0)).rolling(window=rsi_period).mean()\n",
    "        rs = gain / loss\n",
    "        self.df['RSI'] = 100 - (100 / (1 + rs))\n",
    "        \n",
    "        # MACD\n",
    "        exp1 = self.df[self.close_col].ewm(span=12).mean()\n",
    "        exp2 = self.df[self.close_col].ewm(span=26).mean()\n",
    "        self.df['MACD'] = exp1 - exp2\n",
    "        self.df['MACD_signal'] = self.df['MACD'].ewm(span=9).mean()\n",
    "        self.df['MACD_histogram'] = self.df['MACD'] - self.df['MACD_signal']\n",
    "        \n",
    "        # Bollinger Bands\n",
    "        self.df['BB_middle'] = self.df[self.close_col].rolling(window=bb_period).mean()\n",
    "        bb_std_dev = self.df[self.close_col].rolling(window=bb_period).std()\n",
    "        self.df['BB_upper'] = self.df['BB_middle'] + (bb_std_dev * bb_std)\n",
    "        self.df['BB_lower'] = self.df['BB_middle'] - (bb_std_dev * bb_std)\n",
    "        \n",
    "        # Stochastic Oscillator\n",
    "        low_14 = self.df[self.low_col].rolling(window=14).min()\n",
    "        high_14 = self.df[self.high_col].rolling(window=14).max()\n",
    "        self.df['%K'] = 100 * ((self.df[self.close_col] - low_14) / (high_14 - low_14))\n",
    "        self.df['%D'] = self.df['%K'].rolling(window=3).mean()\n",
    "        \n",
    "        print(\"Technical indicators calculated\")\n",
    "        \n",
    "    def create_advanced_chart(self, title=\"Advanced Finance Chart\", output_file=\"finance_chart.html\",\n",
    "                            show_volume=True, show_rsi=True, show_macd=True, show_stoch=True):\n",
    "        \"\"\"Create comprehensive financial chart with multiple indicators\"\"\"\n",
    "        \n",
    "        if self.df is None:\n",
    "            self.load_data()\n",
    "        \n",
    "        self.calculate_indicators()\n",
    "        \n",
    "        # Define subplot structure\n",
    "        subplot_titles = [title]\n",
    "        rows = 1\n",
    "        row_heights = [0.6]\n",
    "        \n",
    "        if show_volume:\n",
    "            subplot_titles.append(\"Volume\")\n",
    "            rows += 1\n",
    "            row_heights.append(0.15)\n",
    "        \n",
    "        if show_rsi:\n",
    "            subplot_titles.append(\"RSI (14)\")\n",
    "            rows += 1\n",
    "            row_heights.append(0.1)\n",
    "        \n",
    "        if show_macd:\n",
    "            subplot_titles.append(\"MACD\")\n",
    "            rows += 1\n",
    "            row_heights.append(0.1)\n",
    "            \n",
    "        if show_stoch:\n",
    "            subplot_titles.append(\"Stochastic\")\n",
    "            rows += 1\n",
    "            row_heights.append(0.05)\n",
    "        \n",
    "        # Create subplots\n",
    "        fig = make_subplots(\n",
    "            rows=rows, cols=1, \n",
    "            shared_xaxes=True,\n",
    "            vertical_spacing=0.02,\n",
    "            subplot_titles=subplot_titles,\n",
    "            row_heights=row_heights,\n",
    "            specs=[[{\"secondary_y\": False}] for _ in range(rows)]\n",
    "        )\n",
    "        \n",
    "        current_row = 1\n",
    "        \n",
    "        # Main candlestick chart\n",
    "        fig.add_trace(\n",
    "            go.Candlestick(\n",
    "                x=self.df[self.date_col],\n",
    "                open=self.df[self.open_col],\n",
    "                high=self.df[self.high_col],\n",
    "                low=self.df[self.low_col],\n",
    "                close=self.df[self.close_col],\n",
    "                name=\"OHLC\",\n",
    "                showlegend=False\n",
    "            ),\n",
    "            row=current_row, col=1\n",
    "        )\n",
    "        \n",
    "        # Add moving averages\n",
    "        colors = ['orange', 'purple', 'brown', 'pink']\n",
    "        ma_columns = [col for col in self.df.columns if col.startswith(('SMA_', 'EMA_'))]\n",
    "        for i, ma_col in enumerate(ma_columns):\n",
    "            fig.add_trace(\n",
    "                go.Scatter(\n",
    "                    x=self.df[self.date_col],\n",
    "                    y=self.df[ma_col],\n",
    "                    mode='lines',\n",
    "                    name=ma_col,\n",
    "                    line=dict(color=colors[i % len(colors)], width=1),\n",
    "                    showlegend=True\n",
    "                ),\n",
    "                row=current_row, col=1\n",
    "            )\n",
    "        \n",
    "        # Add Bollinger Bands\n",
    "        if 'BB_upper' in self.df.columns:\n",
    "            fig.add_trace(\n",
    "                go.Scatter(\n",
    "                    x=self.df[self.date_col],\n",
    "                    y=self.df['BB_upper'],\n",
    "                    mode='lines',\n",
    "                    name='BB Upper',\n",
    "                    line=dict(color='gray', width=1, dash='dash'),\n",
    "                    showlegend=False\n",
    "                ),\n",
    "                row=current_row, col=1\n",
    "            )\n",
    "            \n",
    "            fig.add_trace(\n",
    "                go.Scatter(\n",
    "                    x=self.df[self.date_col],\n",
    "                    y=self.df['BB_lower'],\n",
    "                    mode='lines',\n",
    "                    name='BB Lower',\n",
    "                    line=dict(color='gray', width=1, dash='dash'),\n",
    "                    fill='tonexty',\n",
    "                    fillcolor='rgba(128,128,128,0.1)',\n",
    "                    showlegend=False\n",
    "                ),\n",
    "                row=current_row, col=1\n",
    "            )\n",
    "        \n",
    "        current_row += 1\n",
    "        \n",
    "        # Volume chart\n",
    "        if show_volume and self.volume_col in self.df.columns:\n",
    "            colors_vol = ['green' if close >= open else 'red' \n",
    "                         for close, open in zip(self.df[self.close_col], self.df[self.open_col])]\n",
    "            \n",
    "            fig.add_trace(\n",
    "                go.Bar(\n",
    "                    x=self.df[self.date_col],\n",
    "                    y=self.df[self.volume_col],\n",
    "                    name=\"Volume\",\n",
    "                    marker_color=colors_vol,\n",
    "                    showlegend=False\n",
    "                ),\n",
    "                row=current_row, col=1\n",
    "            )\n",
    "            current_row += 1\n",
    "        \n",
    "        # RSI\n",
    "        if show_rsi and 'RSI' in self.df.columns:\n",
    "            fig.add_trace(\n",
    "                go.Scatter(\n",
    "                    x=self.df[self.date_col],\n",
    "                    y=self.df['RSI'],\n",
    "                    mode='lines',\n",
    "                    name='RSI',\n",
    "                    line=dict(color='purple'),\n",
    "                    showlegend=False\n",
    "                ),\n",
    "                row=current_row, col=1\n",
    "            )\n",
    "            \n",
    "            # Add RSI levels\n",
    "            fig.add_hline(y=70, line_dash=\"dash\", line_color=\"red\", \n",
    "                         annotation_text=\"Overbought\", row=current_row, col=1)\n",
    "            fig.add_hline(y=30, line_dash=\"dash\", line_color=\"green\", \n",
    "                         annotation_text=\"Oversold\", row=current_row, col=1)\n",
    "            fig.add_hline(y=50, line_dash=\"dot\", line_color=\"gray\", row=current_row, col=1)\n",
    "            \n",
    "            current_row += 1\n",
    "        \n",
    "        # MACD\n",
    "        if show_macd and 'MACD' in self.df.columns:\n",
    "            fig.add_trace(\n",
    "                go.Scatter(\n",
    "                    x=self.df[self.date_col],\n",
    "                    y=self.df['MACD'],\n",
    "                    mode='lines',\n",
    "                    name='MACD',\n",
    "                    line=dict(color='blue'),\n",
    "                    showlegend=False\n",
    "                ),\n",
    "                row=current_row, col=1\n",
    "            )\n",
    "            \n",
    "            fig.add_trace(\n",
    "                go.Scatter(\n",
    "                    x=self.df[self.date_col],\n",
    "                    y=self.df['MACD_signal'],\n",
    "                    mode='lines',\n",
    "                    name='Signal',\n",
    "                    line=dict(color='red'),\n",
    "                    showlegend=False\n",
    "                ),\n",
    "                row=current_row, col=1\n",
    "            )\n",
    "            \n",
    "            # MACD Histogram\n",
    "            colors_macd = ['green' if val >= 0 else 'red' for val in self.df['MACD_histogram']]\n",
    "            fig.add_trace(\n",
    "                go.Bar(\n",
    "                    x=self.df[self.date_col],\n",
    "                    y=self.df['MACD_histogram'],\n",
    "                    name='MACD Histogram',\n",
    "                    marker_color=colors_macd,\n",
    "                    showlegend=False\n",
    "                ),\n",
    "                row=current_row, col=1\n",
    "            )\n",
    "            \n",
    "            current_row += 1\n",
    "        \n",
    "        # Stochastic\n",
    "        if show_stoch and '%K' in self.df.columns:\n",
    "            fig.add_trace(\n",
    "                go.Scatter(\n",
    "                    x=self.df[self.date_col],\n",
    "                    y=self.df['%K'],\n",
    "                    mode='lines',\n",
    "                    name='%K',\n",
    "                    line=dict(color='blue'),\n",
    "                    showlegend=False\n",
    "                ),\n",
    "                row=current_row, col=1\n",
    "            )\n",
    "            \n",
    "            fig.add_trace(\n",
    "                go.Scatter(\n",
    "                    x=self.df[self.date_col],\n",
    "                    y=self.df['%D'],\n",
    "                    mode='lines',\n",
    "                    name='%D',\n",
    "                    line=dict(color='red'),\n",
    "                    showlegend=False\n",
    "                ),\n",
    "                row=current_row, col=1\n",
    "            )\n",
    "            \n",
    "            fig.add_hline(y=80, line_dash=\"dash\", line_color=\"red\", row=current_row, col=1)\n",
    "            fig.add_hline(y=20, line_dash=\"dash\", line_color=\"green\", row=current_row, col=1)\n",
    "        \n",
    "        # Update layout\n",
    "        fig.update_layout(\n",
    "            title=f\"{title} - Advanced Technical Analysis\",\n",
    "            xaxis_rangeslider_visible=False,\n",
    "            height=800,\n",
    "            showlegend=True,\n",
    "            legend=dict(\n",
    "                orientation=\"h\",\n",
    "                yanchor=\"bottom\",\n",
    "                y=1.02,\n",
    "                xanchor=\"right\",\n",
    "                x=1\n",
    "            )\n",
    "        )\n",
    "        \n",
    "        # Update x-axis labels\n",
    "        fig.update_xaxes(title_text=\"Date\", row=rows, col=1)\n",
    "        \n",
    "        # Save to HTML\n",
    "        fig.write_html(output_file)\n",
    "        print(f\"Advanced chart saved to {output_file}\")\n",
    "        \n",
    "        return fig\n"
   ]
  },
  {
   "cell_type": "code",
   "execution_count": 5,
   "id": "acae8f9c",
   "metadata": {},
   "outputs": [],
   "source": [
    "# Usage example for your USD-INR data\n",
    "def create_usdinr_chart():\n",
    "    # Initialize visualizer\n",
    "    visualizer = FinanceChartVisualizer(\n",
    "        csv_file_path=\"Data/Quote-CD-USDINR-15-09-2024-to-15-09-2025.csv\",\n",
    "        date_col=\"DATE\",\n",
    "        open_col=\"OPEN PRICE\", \n",
    "        high_col=\"HIGH PRICE\",\n",
    "        low_col=\"LOW PRICE\", \n",
    "        close_col=\"CLOSE PRICE\",\n",
    "        volume_col=\"Volume\"\n",
    "    )\n",
    "    \n",
    "    # Create chart\n",
    "    fig = visualizer.create_advanced_chart(\n",
    "        title=\"USD-INR Futures Analysis\",\n",
    "        output_file=\"usdinr_advanced_chart.html\",\n",
    "        show_volume=True,\n",
    "        show_rsi=True, \n",
    "        show_macd=True,\n",
    "        show_stoch=True\n",
    "    )\n",
    "    \n",
    "    return fig"
   ]
  },
  {
   "cell_type": "code",
   "execution_count": 6,
   "id": "578c0005",
   "metadata": {},
   "outputs": [
    {
     "name": "stdout",
     "output_type": "stream",
     "text": [
      "Data loaded: 92 records from 2024-09-30 00:00:00 to 2025-09-12 00:00:00\n",
      "Technical indicators calculated\n",
      "Advanced chart saved to usdinr_advanced_chart.html\n"
     ]
    },
    {
     "data": {
      "application/vnd.plotly.v1+json": {
       "config": {
        "plotlyServerURL": "https://plot.ly"
       },
       "data": [
        {
         "close": {
          "bdata": "MzMzMzNjVUDNzMzMzGxVQDMzMzMzc1VAMzMzMzNzVUDNzMzMzGxVQJqZmZmZaVVAAAAAAABwVUAAAAAAAHBVQAAAAAAAoFVAmpmZmZl5VUCamZmZmXlVQOF6FK5HcVVAAAAAAABwVUAAAAAAAHBVQJqZmZmZqVVAzczMzMysVUAAAAAAAMBVQAAAAAAAwFVAzczMzMzcVUAAAAAAAABWQHE9CtejgFVAAAAAAAAAV0AK16NwPdpVQM3MzMzMLFZAzczMzMwsVkAAAAAAAABWQAAAAAAAwFVAAAAAAADAVUAAAAAAAJBVQDMzMzMzY1VAmpmZmZmJVUAzMzMzM2NVQAAAAAAAQFVAAAAAAABgVUAAAAAAAIBVQHE9CtejkFVAj8L1KFzPVUAAAAAAAKBVQAAAAAAAwFVAAAAAAADAVUCPwvUoXP9VQLgehetReFVAMzMzMzNzVUAAAAAAAIBVQPYoXI/CZVVAH4XrUbhuVUAzMzMzM5NVQOF6FK5HgVVAH4XrUbhuVUCamZmZmYlVQM3MzMzMjFVAzczMzMyMVUCPwvUoXI9VQEjhehSul1VAH4XrUbieVUDXo3A9CqdVQJqZmZmZqVVACtejcD2qVUDsUbgehatVQKRwPQrXs1VArkfhehS+VUCF61G4HsVVQHsUrkfh6lVA9ihcj8L1VUDNzMzMzOxVQNejcD0K91VAH4XrUbj+VUDNzMzMzPxVQM3MzMzM7FVApHA9CtfzVUApXI/C9fhVQHsUrkfh+lVAKVyPwvXoVUCPwvUoXO9VQDMzMzMz41VAexSuR+HKVUAfhetRuM5VQHsUrkfh2lVACtejcD3qVUA9CtejcO1VQKRwPQrX81VAzczMzMzsVUAzMzMzMxNWQBSuR+F6FFZAcT0K16MQVkApXI/C9QhWQK5H4XoUDlZAhetRuB4VVkAfhetRuA5WQM3MzMzMDFZAAAAAAAAgVkAUrkfhehRWQA==",
          "dtype": "f8"
         },
         "high": {
          "bdata": "MzMzMzNjVUDNzMzMzGxVQDMzMzMzc1VAMzMzMzNzVUDNzMzMzGxVQJqZmZmZaVVAAAAAAABwVUAAAAAAAHBVQAAAAAAAoFVAmpmZmZl5VUCamZmZmXlVQOF6FK5HcVVAAAAAAABwVUAAAAAAAHBVQJqZmZmZqVVAAAAAAACwVUAAAAAAAMBVQAAAAAAAwFVAzczMzMzcVUAAAAAAAABWQHE9CtejgFVAAAAAAAAAV0AK16NwPdpVQM3MzMzMLFZAzczMzMwsVkAAAAAAAABWQM3MzMzMzFVAAAAAAADAVUAAAAAAAJBVQHE9CtejkFVAmpmZmZmJVUAAAAAAAIBVQDMzMzMzQ1VAAAAAAABgVUBcj8L1KKxVQHE9CtejkFVAj8L1KFzPVUAAAAAAAKBVQAAAAAAAwFVAAAAAAADAVUCPwvUoXP9VQLgehetReFVAMzMzMzNzVUAAAAAAAIBVQKRwPQrXc1VAH4XrUbhuVUAzMzMzM5NVQI/C9Shcj1VAZmZmZmZ2VUCamZmZmYlVQDMzMzMzk1VAzczMzMyMVUAAAAAAAJBVQEjhehSul1VAH4XrUbieVUCF61G4HrVVQJqZmZmZqVVAzczMzMysVUDNzMzMzKxVQGZmZmZmtlVAH4XrUbi+VUB7FK5H4cpVQFK4HoXr8VVAj8L1KFz/VUAzMzMzM/NVQHsUrkfh+lVA9ihcj8IFVkAzMzMzMwNWQM3MzMzM/FVAexSuR+H6VUCamZmZmflVQOxRuB6F+1VAKVyPwvX4VUAUrkfhevRVQClcj8L16FVAUrgehevhVUBmZmZmZtZVQFyPwvUo3FVAzczMzMzsVUDhehSuR/FVQFyPwvUo/FVApHA9CtfzVUB7FK5H4RpWQHsUrkfhGlZAMzMzMzMTVkCamZmZmRlWQOF6FK5HEVZAzczMzMwcVkBxPQrXoxBWQOF6FK5HEVZAMzMzMzMjVkAAAAAAACBWQA==",
          "dtype": "f8"
         },
         "low": {
          "bdata": "MzMzMzNjVUDNzMzMzGxVQDMzMzMzc1VAMzMzMzNzVUAAAAAAAGBVQJqZmZmZaVVAAAAAAABwVUAAAAAAAHBVQAAAAAAAoFVAAAAAAABwVUCamZmZmXlVQOF6FK5HcVVAAAAAAABwVUAAAAAAAHBVQJqZmZmZqVVAzczMzMysVUAAAAAAAMBVQAAAAAAAwFVAAAAAAADAVUAAAAAAAABWQHE9CtejgFVAAAAAAADAVUAK16NwPdpVQM3MzMzMLFZAzczMzMwsVkAAAAAAAABWQAAAAAAAwFVAAAAAAADAVUAAAAAAAJBVQDMzMzMzY1VAmpmZmZmJVUAzMzMzM2NVQBSuR+F6NFVAAAAAAABgVUAAAAAAAIBVQAAAAAAAkFVAj8L1KFzPVUAAAAAAAKBVQAAAAAAAoFVAAAAAAADAVUAAAAAAAIBVQGZmZmZmZlVAMzMzMzNzVUAAAAAAAIBVQPYoXI/CZVVAH4XrUbhuVUCamZmZmYlVQAAAAAAAgFVAH4XrUbhuVUAzMzMzM3NVQM3MzMzMjFVAzczMzMyMVUAAAAAAAIBVQGZmZmZmhlVAmpmZmZmJVUBSuB6F60FVQHE9CtejoFVAMzMzMzOTVUAAAAAAAKBVQD0K16NwrVVASOF6FK6nVUAAAAAAAMBVQM3MzMzMzFVAPQrXo3DtVUA9CtejcN1VQM3MzMzM3FVACtejcD36VUD2KFyPwvVVQDMzMzMz41VAZmZmZmbmVUB7FK5H4epVQFK4HoXr8VVAhetRuB7lVUAzMzMzM+NVQAAAAAAA4FVAZmZmZmbGVUCamZmZmclVQPYoXI/CxVVACtejcD3aVUAfhetRuN5VQOF6FK5H8VVAmpmZmZnpVUBSuB6F6/FVQM3MzMzMDFZA7FG4HoX7VUAUrkfhegRWQKRwPQrXA1ZAZmZmZmYGVkBxPQrXowBWQLgehetRCFZA7FG4HoULVkBSuB6F6xFWQA==",
          "dtype": "f8"
         },
         "name": "OHLC",
         "open": {
          "bdata": "MzMzMzNjVUDNzMzMzGxVQDMzMzMzc1VAMzMzMzNzVUAAAAAAAGBVQJqZmZmZaVVAAAAAAABwVUAAAAAAAHBVQAAAAAAAoFVAAAAAAABwVUCamZmZmXlVQOF6FK5HcVVAAAAAAABwVUAAAAAAAHBVQJqZmZmZqVVAAAAAAACwVUAAAAAAAMBVQAAAAAAAwFVAAAAAAADAVUAAAAAAAABWQHE9CtejgFVAAAAAAAAAV0AK16NwPdpVQM3MzMzMLFZAzczMzMwsVkAAAAAAAABWQAAAAAAAwFVAAAAAAADAVUAAAAAAAJBVQHE9CtejkFVAmpmZmZmJVUAAAAAAAIBVQDMzMzMzQ1VAAAAAAABgVUBcj8L1KKxVQAAAAAAAkFVAj8L1KFzPVUAAAAAAAKBVQAAAAAAAoFVAAAAAAADAVUAAAAAAAIBVQNejcD0Kd1VAMzMzMzNzVUAAAAAAAIBVQKRwPQrXc1VAH4XrUbhuVUDD9Shcj5JVQI/C9Shcj1VAZmZmZmZ2VUAzMzMzM3NVQM3MzMzMjFVAzczMzMyMVUCkcD0K14NVQGZmZmZmhlVAmpmZmZmJVUCF61G4HrVVQNejcD0Kp1VAMzMzMzOTVUAK16NwPapVQD0K16NwrVVAMzMzMzOzVUBSuB6F68FVQM3MzMzMzFVAmpmZmZn5VUBSuB6F6/FVQGZmZmZm5lVACtejcD36VUAfhetRuP5VQM3MzMzM/FVAZmZmZmbmVUBxPQrXo/BVQGZmZmZm9lVAFK5H4Xr0VUC4HoXrUehVQLgehetR6FVAUrgehevhVUAzMzMzM9NVQArXo3A9ylVACtejcD3aVUBmZmZmZuZVQDMzMzMz81VAzczMzMzsVUBSuB6F6/FVQM3MzMzMDFZAMzMzMzMTVkDhehSuRxFWQNejcD0KB1ZAZmZmZmYGVkDNzMzMzAxWQK5H4XoUDlZAAAAAAAAQVkAzMzMzMxNWQA==",
          "dtype": "f8"
         },
         "showlegend": false,
         "type": "candlestick",
         "x": [
          "2024-09-30T00:00:00",
          "2024-10-01T00:00:00",
          "2024-10-03T00:00:00",
          "2024-10-09T00:00:00",
          "2024-10-11T00:00:00",
          "2024-10-14T00:00:00",
          "2024-10-16T00:00:00",
          "2024-10-17T00:00:00",
          "2024-10-23T00:00:00",
          "2024-11-06T00:00:00",
          "2024-11-07T00:00:00",
          "2024-11-08T00:00:00",
          "2024-11-11T00:00:00",
          "2024-11-27T00:00:00",
          "2024-12-26T00:00:00",
          "2024-12-27T00:00:00",
          "2024-12-30T00:00:00",
          "2024-12-31T00:00:00",
          "2025-01-09T00:00:00",
          "2025-01-13T00:00:00",
          "2025-02-03T00:00:00",
          "2025-02-04T00:00:00",
          "2025-02-05T00:00:00",
          "2025-02-06T00:00:00",
          "2025-02-12T00:00:00",
          "2025-02-21T00:00:00",
          "2025-03-21T00:00:00",
          "2025-03-24T00:00:00",
          "2025-03-25T00:00:00",
          "2025-03-26T00:00:00",
          "2025-04-21T00:00:00",
          "2025-04-30T00:00:00",
          "2025-05-02T00:00:00",
          "2025-05-28T00:00:00",
          "2025-06-11T00:00:00",
          "2025-06-13T00:00:00",
          "2025-06-16T00:00:00",
          "2025-06-18T00:00:00",
          "2025-06-19T00:00:00",
          "2025-06-20T00:00:00",
          "2025-06-26T00:00:00",
          "2025-06-27T00:00:00",
          "2025-06-30T00:00:00",
          "2025-07-02T00:00:00",
          "2025-07-03T00:00:00",
          "2025-07-04T00:00:00",
          "2025-07-07T00:00:00",
          "2025-07-08T00:00:00",
          "2025-07-10T00:00:00",
          "2025-07-11T00:00:00",
          "2025-07-14T00:00:00",
          "2025-07-15T00:00:00",
          "2025-07-16T00:00:00",
          "2025-07-17T00:00:00",
          "2025-07-18T00:00:00",
          "2025-07-21T00:00:00",
          "2025-07-22T00:00:00",
          "2025-07-23T00:00:00",
          "2025-07-24T00:00:00",
          "2025-07-25T00:00:00",
          "2025-07-28T00:00:00",
          "2025-07-29T00:00:00",
          "2025-07-30T00:00:00",
          "2025-07-31T00:00:00",
          "2025-08-01T00:00:00",
          "2025-08-04T00:00:00",
          "2025-08-05T00:00:00",
          "2025-08-06T00:00:00",
          "2025-08-07T00:00:00",
          "2025-08-08T00:00:00",
          "2025-08-11T00:00:00",
          "2025-08-12T00:00:00",
          "2025-08-13T00:00:00",
          "2025-08-14T00:00:00",
          "2025-08-18T00:00:00",
          "2025-08-19T00:00:00",
          "2025-08-20T00:00:00",
          "2025-08-21T00:00:00",
          "2025-08-22T00:00:00",
          "2025-08-25T00:00:00",
          "2025-08-26T00:00:00",
          "2025-08-28T00:00:00",
          "2025-08-29T00:00:00",
          "2025-09-01T00:00:00",
          "2025-09-02T00:00:00",
          "2025-09-03T00:00:00",
          "2025-09-04T00:00:00",
          "2025-09-05T00:00:00",
          "2025-09-09T00:00:00",
          "2025-09-10T00:00:00",
          "2025-09-11T00:00:00",
          "2025-09-12T00:00:00"
         ],
         "xaxis": "x",
         "yaxis": "y"
        },
        {
         "line": {
          "color": "orange",
          "width": 1
         },
         "mode": "lines",
         "name": "SMA_20",
         "showlegend": true,
         "type": "scatter",
         "x": [
          "2024-09-30T00:00:00",
          "2024-10-01T00:00:00",
          "2024-10-03T00:00:00",
          "2024-10-09T00:00:00",
          "2024-10-11T00:00:00",
          "2024-10-14T00:00:00",
          "2024-10-16T00:00:00",
          "2024-10-17T00:00:00",
          "2024-10-23T00:00:00",
          "2024-11-06T00:00:00",
          "2024-11-07T00:00:00",
          "2024-11-08T00:00:00",
          "2024-11-11T00:00:00",
          "2024-11-27T00:00:00",
          "2024-12-26T00:00:00",
          "2024-12-27T00:00:00",
          "2024-12-30T00:00:00",
          "2024-12-31T00:00:00",
          "2025-01-09T00:00:00",
          "2025-01-13T00:00:00",
          "2025-02-03T00:00:00",
          "2025-02-04T00:00:00",
          "2025-02-05T00:00:00",
          "2025-02-06T00:00:00",
          "2025-02-12T00:00:00",
          "2025-02-21T00:00:00",
          "2025-03-21T00:00:00",
          "2025-03-24T00:00:00",
          "2025-03-25T00:00:00",
          "2025-03-26T00:00:00",
          "2025-04-21T00:00:00",
          "2025-04-30T00:00:00",
          "2025-05-02T00:00:00",
          "2025-05-28T00:00:00",
          "2025-06-11T00:00:00",
          "2025-06-13T00:00:00",
          "2025-06-16T00:00:00",
          "2025-06-18T00:00:00",
          "2025-06-19T00:00:00",
          "2025-06-20T00:00:00",
          "2025-06-26T00:00:00",
          "2025-06-27T00:00:00",
          "2025-06-30T00:00:00",
          "2025-07-02T00:00:00",
          "2025-07-03T00:00:00",
          "2025-07-04T00:00:00",
          "2025-07-07T00:00:00",
          "2025-07-08T00:00:00",
          "2025-07-10T00:00:00",
          "2025-07-11T00:00:00",
          "2025-07-14T00:00:00",
          "2025-07-15T00:00:00",
          "2025-07-16T00:00:00",
          "2025-07-17T00:00:00",
          "2025-07-18T00:00:00",
          "2025-07-21T00:00:00",
          "2025-07-22T00:00:00",
          "2025-07-23T00:00:00",
          "2025-07-24T00:00:00",
          "2025-07-25T00:00:00",
          "2025-07-28T00:00:00",
          "2025-07-29T00:00:00",
          "2025-07-30T00:00:00",
          "2025-07-31T00:00:00",
          "2025-08-01T00:00:00",
          "2025-08-04T00:00:00",
          "2025-08-05T00:00:00",
          "2025-08-06T00:00:00",
          "2025-08-07T00:00:00",
          "2025-08-08T00:00:00",
          "2025-08-11T00:00:00",
          "2025-08-12T00:00:00",
          "2025-08-13T00:00:00",
          "2025-08-14T00:00:00",
          "2025-08-18T00:00:00",
          "2025-08-19T00:00:00",
          "2025-08-20T00:00:00",
          "2025-08-21T00:00:00",
          "2025-08-22T00:00:00",
          "2025-08-25T00:00:00",
          "2025-08-26T00:00:00",
          "2025-08-28T00:00:00",
          "2025-08-29T00:00:00",
          "2025-09-01T00:00:00",
          "2025-09-02T00:00:00",
          "2025-09-03T00:00:00",
          "2025-09-04T00:00:00",
          "2025-09-05T00:00:00",
          "2025-09-09T00:00:00",
          "2025-09-10T00:00:00",
          "2025-09-11T00:00:00",
          "2025-09-12T00:00:00"
         ],
         "xaxis": "x",
         "y": {
          "bdata": "AAAAAAAA+H8AAAAAAAD4fwAAAAAAAPh/AAAAAAAA+H8AAAAAAAD4fwAAAAAAAPh/AAAAAAAA+H8AAAAAAAD4fwAAAAAAAPh/AAAAAAAA+H8AAAAAAAD4fwAAAAAAAPh/AAAAAAAA+H8AAAAAAAD4fwAAAAAAAPh/AAAAAAAA+H8AAAAAAAD4fwAAAAAAAPh/AAAAAAAA+H8aL90kBo1VQNEi2/l+jlVALbKd76eiVUArhxbZzqdVQA0CK4cWsVVAppvEILC6VUCS7Xw/NcJVQJLtfD81xlVAku18PzXKVUDFILByaMlVQEA1XrpJyFVADQIrhxbJVUCq8dJNYshVQESLbOf7xVVAd76fGi/FVUDJdr6fGsNVQARWDi2ywVVAWDm0yHbCVUC+nxov3cBVQIKVQ4tsv1VATmIQWDm8VUDD9Shcj8JVQObQItv5rlVA5/up8dKpVUB2vp8aL6FVQKwcWmQ7l1VAhxbZzvePVUB9PzVeuo1VQDvfT42XilVAsHJoke2IVUACK4cW2YpVQF66SQwCi1VADAIrhxaNVUCTGARWDpFVQKNwPQrXk1VASzeJQWCVVUDRItv5fpZVQPhT46WblFVAhetRuB6VVUBqvHSTGJRVQHJoke18k1VATmIQWDmQVUDy0k1iEJRVQDZeukkMmlVADi2yne+fVUCmm8QgsKZVQC/dJAaBrVVAexSuR+GyVUCTGARWDrlVQI/C9Shcv1VA6iYxCKzEVUCuR+F6FMpVQN4kBoGVz1VA8tJNYhDUVUCcxCCwcthVQB1aZDvf21VAi2zn+6ndVUDrUbgehd9VQMuhRbbz4VVADAIrhxblVUCHFtnO9+dVQC2yne+n6lVAcT0K16PsVUAtsp3vp+5VQNZ46SYx8FVARIts5/vxVUB6FK5H4fJVQM73U+Ol81VAvp8aL930VUDC9Shcj/ZVQCuHFtnO91VA9ihcj8L5VUDWo3A9CvtVQA==",
          "dtype": "f8"
         },
         "yaxis": "y"
        },
        {
         "line": {
          "color": "purple",
          "width": 1
         },
         "mode": "lines",
         "name": "SMA_50",
         "showlegend": true,
         "type": "scatter",
         "x": [
          "2024-09-30T00:00:00",
          "2024-10-01T00:00:00",
          "2024-10-03T00:00:00",
          "2024-10-09T00:00:00",
          "2024-10-11T00:00:00",
          "2024-10-14T00:00:00",
          "2024-10-16T00:00:00",
          "2024-10-17T00:00:00",
          "2024-10-23T00:00:00",
          "2024-11-06T00:00:00",
          "2024-11-07T00:00:00",
          "2024-11-08T00:00:00",
          "2024-11-11T00:00:00",
          "2024-11-27T00:00:00",
          "2024-12-26T00:00:00",
          "2024-12-27T00:00:00",
          "2024-12-30T00:00:00",
          "2024-12-31T00:00:00",
          "2025-01-09T00:00:00",
          "2025-01-13T00:00:00",
          "2025-02-03T00:00:00",
          "2025-02-04T00:00:00",
          "2025-02-05T00:00:00",
          "2025-02-06T00:00:00",
          "2025-02-12T00:00:00",
          "2025-02-21T00:00:00",
          "2025-03-21T00:00:00",
          "2025-03-24T00:00:00",
          "2025-03-25T00:00:00",
          "2025-03-26T00:00:00",
          "2025-04-21T00:00:00",
          "2025-04-30T00:00:00",
          "2025-05-02T00:00:00",
          "2025-05-28T00:00:00",
          "2025-06-11T00:00:00",
          "2025-06-13T00:00:00",
          "2025-06-16T00:00:00",
          "2025-06-18T00:00:00",
          "2025-06-19T00:00:00",
          "2025-06-20T00:00:00",
          "2025-06-26T00:00:00",
          "2025-06-27T00:00:00",
          "2025-06-30T00:00:00",
          "2025-07-02T00:00:00",
          "2025-07-03T00:00:00",
          "2025-07-04T00:00:00",
          "2025-07-07T00:00:00",
          "2025-07-08T00:00:00",
          "2025-07-10T00:00:00",
          "2025-07-11T00:00:00",
          "2025-07-14T00:00:00",
          "2025-07-15T00:00:00",
          "2025-07-16T00:00:00",
          "2025-07-17T00:00:00",
          "2025-07-18T00:00:00",
          "2025-07-21T00:00:00",
          "2025-07-22T00:00:00",
          "2025-07-23T00:00:00",
          "2025-07-24T00:00:00",
          "2025-07-25T00:00:00",
          "2025-07-28T00:00:00",
          "2025-07-29T00:00:00",
          "2025-07-30T00:00:00",
          "2025-07-31T00:00:00",
          "2025-08-01T00:00:00",
          "2025-08-04T00:00:00",
          "2025-08-05T00:00:00",
          "2025-08-06T00:00:00",
          "2025-08-07T00:00:00",
          "2025-08-08T00:00:00",
          "2025-08-11T00:00:00",
          "2025-08-12T00:00:00",
          "2025-08-13T00:00:00",
          "2025-08-14T00:00:00",
          "2025-08-18T00:00:00",
          "2025-08-19T00:00:00",
          "2025-08-20T00:00:00",
          "2025-08-21T00:00:00",
          "2025-08-22T00:00:00",
          "2025-08-25T00:00:00",
          "2025-08-26T00:00:00",
          "2025-08-28T00:00:00",
          "2025-08-29T00:00:00",
          "2025-09-01T00:00:00",
          "2025-09-02T00:00:00",
          "2025-09-03T00:00:00",
          "2025-09-04T00:00:00",
          "2025-09-05T00:00:00",
          "2025-09-09T00:00:00",
          "2025-09-10T00:00:00",
          "2025-09-11T00:00:00",
          "2025-09-12T00:00:00"
         ],
         "xaxis": "x",
         "y": {
          "bdata": "AAAAAAAA+H8AAAAAAAD4fwAAAAAAAPh/AAAAAAAA+H8AAAAAAAD4fwAAAAAAAPh/AAAAAAAA+H8AAAAAAAD4fwAAAAAAAPh/AAAAAAAA+H8AAAAAAAD4fwAAAAAAAPh/AAAAAAAA+H8AAAAAAAD4fwAAAAAAAPh/AAAAAAAA+H8AAAAAAAD4fwAAAAAAAPh/AAAAAAAA+H8AAAAAAAD4fwAAAAAAAPh/AAAAAAAA+H8AAAAAAAD4fwAAAAAAAPh/AAAAAAAA+H8AAAAAAAD4fwAAAAAAAPh/AAAAAAAA+H8AAAAAAAD4fwAAAAAAAPh/AAAAAAAA+H8AAAAAAAD4fwAAAAAAAPh/AAAAAAAA+H8AAAAAAAD4fwAAAAAAAPh/AAAAAAAA+H8AAAAAAAD4fwAAAAAAAPh/AAAAAAAA+H8AAAAAAAD4fwAAAAAAAPh/AAAAAAAA+H8AAAAAAAD4fwAAAAAAAPh/AAAAAAAA+H8AAAAAAAD4fwAAAAAAAPh/AAAAAAAA+H87cM6I0p5VQIAmwoann1VA8mPMXUugVUANcayL26BVQDY8vVKWoVVAibDh6ZWiVUDdtYR80KNVQNuK/WX3pFVAPL1SliGmVUA8TtGRXKZVQJ2AJsKGp1VAN4lBYOWoVUAlUwWjkqpVQMxdS8gHrVVADpwzorSvVUDh6ZWyDLFVQPw6cM6IslVAFvvL7smzVUAFo5I6AbVVQL/BFyZTtVVAW9O84xS1VUBzaJHtfLdVQNKRXP5DslVAw/UoXI+yVUBx8IXJVLFVQLj8h/Tbr1VAc7UV+8uuVUBlGeJYF69VQLprCfmgr1VAjNtoAG+xVUCIp1fKMrRVQBE2PL1StlVAqaROQBO5VUD2Bl+YTL1VQJvmHafowFVAeFioNc3DVUCS7Xw/NcZVQKyt2F92x1VA0m9fB87JVUCkTkATYctVQE0VjErqzFVAIbByaJHNVUD/snvysNBVQA==",
          "dtype": "f8"
         },
         "yaxis": "y"
        },
        {
         "line": {
          "color": "brown",
          "width": 1
         },
         "mode": "lines",
         "name": "EMA_12",
         "showlegend": true,
         "type": "scatter",
         "x": [
          "2024-09-30T00:00:00",
          "2024-10-01T00:00:00",
          "2024-10-03T00:00:00",
          "2024-10-09T00:00:00",
          "2024-10-11T00:00:00",
          "2024-10-14T00:00:00",
          "2024-10-16T00:00:00",
          "2024-10-17T00:00:00",
          "2024-10-23T00:00:00",
          "2024-11-06T00:00:00",
          "2024-11-07T00:00:00",
          "2024-11-08T00:00:00",
          "2024-11-11T00:00:00",
          "2024-11-27T00:00:00",
          "2024-12-26T00:00:00",
          "2024-12-27T00:00:00",
          "2024-12-30T00:00:00",
          "2024-12-31T00:00:00",
          "2025-01-09T00:00:00",
          "2025-01-13T00:00:00",
          "2025-02-03T00:00:00",
          "2025-02-04T00:00:00",
          "2025-02-05T00:00:00",
          "2025-02-06T00:00:00",
          "2025-02-12T00:00:00",
          "2025-02-21T00:00:00",
          "2025-03-21T00:00:00",
          "2025-03-24T00:00:00",
          "2025-03-25T00:00:00",
          "2025-03-26T00:00:00",
          "2025-04-21T00:00:00",
          "2025-04-30T00:00:00",
          "2025-05-02T00:00:00",
          "2025-05-28T00:00:00",
          "2025-06-11T00:00:00",
          "2025-06-13T00:00:00",
          "2025-06-16T00:00:00",
          "2025-06-18T00:00:00",
          "2025-06-19T00:00:00",
          "2025-06-20T00:00:00",
          "2025-06-26T00:00:00",
          "2025-06-27T00:00:00",
          "2025-06-30T00:00:00",
          "2025-07-02T00:00:00",
          "2025-07-03T00:00:00",
          "2025-07-04T00:00:00",
          "2025-07-07T00:00:00",
          "2025-07-08T00:00:00",
          "2025-07-10T00:00:00",
          "2025-07-11T00:00:00",
          "2025-07-14T00:00:00",
          "2025-07-15T00:00:00",
          "2025-07-16T00:00:00",
          "2025-07-17T00:00:00",
          "2025-07-18T00:00:00",
          "2025-07-21T00:00:00",
          "2025-07-22T00:00:00",
          "2025-07-23T00:00:00",
          "2025-07-24T00:00:00",
          "2025-07-25T00:00:00",
          "2025-07-28T00:00:00",
          "2025-07-29T00:00:00",
          "2025-07-30T00:00:00",
          "2025-07-31T00:00:00",
          "2025-08-01T00:00:00",
          "2025-08-04T00:00:00",
          "2025-08-05T00:00:00",
          "2025-08-06T00:00:00",
          "2025-08-07T00:00:00",
          "2025-08-08T00:00:00",
          "2025-08-11T00:00:00",
          "2025-08-12T00:00:00",
          "2025-08-13T00:00:00",
          "2025-08-14T00:00:00",
          "2025-08-18T00:00:00",
          "2025-08-19T00:00:00",
          "2025-08-20T00:00:00",
          "2025-08-21T00:00:00",
          "2025-08-22T00:00:00",
          "2025-08-25T00:00:00",
          "2025-08-26T00:00:00",
          "2025-08-28T00:00:00",
          "2025-08-29T00:00:00",
          "2025-09-01T00:00:00",
          "2025-09-02T00:00:00",
          "2025-09-03T00:00:00",
          "2025-09-04T00:00:00",
          "2025-09-05T00:00:00",
          "2025-09-09T00:00:00",
          "2025-09-10T00:00:00",
          "2025-09-11T00:00:00",
          "2025-09-12T00:00:00"
         ],
         "xaxis": "x",
         "y": {
          "bdata": "MzMzMzNjVUBnZmZmZmhVQNA3iICdbFVAgcFsnLFuVUBRbL3jLW5VQMDOKPYQbVVAfeqbjbhtVUAJ5zxPMm5VQEny76YMeFVAxWai31d4VUAwYeO9knhVQOzvx8hGd1VAgtGMVQN2VUDebhY8/XRVQHDxnWrNfVVAsueMspGFVUBr1ZzIHY9VQIAPjy8Hl1VAUZPrGjuiVUACGVaxL7FVQAF+nK18qVVAX2/TM43fVUD2B3Rst95VQLM7Wozz6lVAQP69aT31VUB4MCXG6vZVQNPtCdhf7lVAwr/TQSznVUD8O8W/p9lVQGdfdCdPx1VAGnq3/MK9VUDEUk0pw69VQAS0qZx/nlVAZiles9mUVUBP3QMjopFVQBevF+t6kVVAyWttFQWbVUArU4yRyZtVQEaEa+ddoVVA9hjc5BWmVUCJGriq1bNVQPWo25mrqlVA1F2iQyGiVUC5Tak04JxVQBsnfU9klFVAdjDe75eOVUAw9MRuTY9VQE+wK/skjVVA30lBZHaIVUBw8BY0o4hVQJubkixHiVVAc6zB6NGJVUC+bP8hrIpVQMcIin6sjFVAz8o0T3OPVUBrSr90FJNVQFutWXeLllVAOxLaM5OZVUBiTQL/VZxVQIXNerzzn1VA5c5TW5akVUBn1CCvl6lVQIU7XROjs1VAsxD8XM+9VUCxUdcUCsVVQEoTX167zFVA+2JSKGzUVUCIj8FtotpVQPxtpeBt3VVA7i14huDgVUADKpUHleRVQMj3KzoD6FVAWp9HiijoVUDuUdksROlVQH4BTEFV6FVAyYteQc3jVUA4b5j0juBVQMt3BVCv31VA8sV3Bk/hVUCLDhrQLONVQEThCSi95VVADG93QdPmVUDLlO3wpu1VQNWl6Smg81VANw1J4hb4VUAyCqhTr/pVQLnLZjKr/VVAp7by0EYBVkCTfUxHWANWQF2EoqrMBFZAX9Xp8vsIVkCb7iW1wApWQA==",
          "dtype": "f8"
         },
         "yaxis": "y"
        },
        {
         "line": {
          "color": "pink",
          "width": 1
         },
         "mode": "lines",
         "name": "EMA_26",
         "showlegend": true,
         "type": "scatter",
         "x": [
          "2024-09-30T00:00:00",
          "2024-10-01T00:00:00",
          "2024-10-03T00:00:00",
          "2024-10-09T00:00:00",
          "2024-10-11T00:00:00",
          "2024-10-14T00:00:00",
          "2024-10-16T00:00:00",
          "2024-10-17T00:00:00",
          "2024-10-23T00:00:00",
          "2024-11-06T00:00:00",
          "2024-11-07T00:00:00",
          "2024-11-08T00:00:00",
          "2024-11-11T00:00:00",
          "2024-11-27T00:00:00",
          "2024-12-26T00:00:00",
          "2024-12-27T00:00:00",
          "2024-12-30T00:00:00",
          "2024-12-31T00:00:00",
          "2025-01-09T00:00:00",
          "2025-01-13T00:00:00",
          "2025-02-03T00:00:00",
          "2025-02-04T00:00:00",
          "2025-02-05T00:00:00",
          "2025-02-06T00:00:00",
          "2025-02-12T00:00:00",
          "2025-02-21T00:00:00",
          "2025-03-21T00:00:00",
          "2025-03-24T00:00:00",
          "2025-03-25T00:00:00",
          "2025-03-26T00:00:00",
          "2025-04-21T00:00:00",
          "2025-04-30T00:00:00",
          "2025-05-02T00:00:00",
          "2025-05-28T00:00:00",
          "2025-06-11T00:00:00",
          "2025-06-13T00:00:00",
          "2025-06-16T00:00:00",
          "2025-06-18T00:00:00",
          "2025-06-19T00:00:00",
          "2025-06-20T00:00:00",
          "2025-06-26T00:00:00",
          "2025-06-27T00:00:00",
          "2025-06-30T00:00:00",
          "2025-07-02T00:00:00",
          "2025-07-03T00:00:00",
          "2025-07-04T00:00:00",
          "2025-07-07T00:00:00",
          "2025-07-08T00:00:00",
          "2025-07-10T00:00:00",
          "2025-07-11T00:00:00",
          "2025-07-14T00:00:00",
          "2025-07-15T00:00:00",
          "2025-07-16T00:00:00",
          "2025-07-17T00:00:00",
          "2025-07-18T00:00:00",
          "2025-07-21T00:00:00",
          "2025-07-22T00:00:00",
          "2025-07-23T00:00:00",
          "2025-07-24T00:00:00",
          "2025-07-25T00:00:00",
          "2025-07-28T00:00:00",
          "2025-07-29T00:00:00",
          "2025-07-30T00:00:00",
          "2025-07-31T00:00:00",
          "2025-08-01T00:00:00",
          "2025-08-04T00:00:00",
          "2025-08-05T00:00:00",
          "2025-08-06T00:00:00",
          "2025-08-07T00:00:00",
          "2025-08-08T00:00:00",
          "2025-08-11T00:00:00",
          "2025-08-12T00:00:00",
          "2025-08-13T00:00:00",
          "2025-08-14T00:00:00",
          "2025-08-18T00:00:00",
          "2025-08-19T00:00:00",
          "2025-08-20T00:00:00",
          "2025-08-21T00:00:00",
          "2025-08-22T00:00:00",
          "2025-08-25T00:00:00",
          "2025-08-26T00:00:00",
          "2025-08-28T00:00:00",
          "2025-08-29T00:00:00",
          "2025-09-01T00:00:00",
          "2025-09-02T00:00:00",
          "2025-09-03T00:00:00",
          "2025-09-04T00:00:00",
          "2025-09-05T00:00:00",
          "2025-09-09T00:00:00",
          "2025-09-10T00:00:00",
          "2025-09-11T00:00:00",
          "2025-09-12T00:00:00"
         ],
         "xaxis": "x",
         "y": {
          "bdata": "MzMzMzNjVUBDL/RCL2hVQPHuI3AkbFVA1rqchx1uVUCoE9Nwz21VQKJazY73bFVAt6TfpIFtVUC8fr5/6G1VQG1CLjlVdVVAd9rw9et1VUCRenQXZnZVQG15PxbFdVVA1ZXjCxh1VUD5UCWWhXRVQHp+CnpDelVAhUG304x/VUA4yxyjF4ZVQDPtEELQi1VA6wjULJ+TVUDiKxW5151VQHv2Oqwkm1VA5OYSCYm7VUBm74jPRr5VQImtcw7/x1VAd1fEb73QVUC8+2i8ydRVQEgAWB8H01VAbYWO/W7RVUC/i739AMxVQJ7w+k1iw1VAorzvgKu+VUAiRndqQ7dVQBUKkiKsrVVAuLJwK3enVUDQKZp/VKRVQDo62CvGolVA73wMskemVUBBV6rZyaVVQMtLqebUp1VAJeeXUbWpVUDJQj7WVbBVQK6IqPoDrFVASVjnuaWnVUBc+vaQm6RVQGz5oT7Nn1VARB9xtA6cVUBl7BIbYptVQJ5+vHxmmVVAixLGECqWVUCvwkOeNpVVQPcN8NyTlFVAVmJ2of2TVUBRmWNOpJNVQPAD6hnyk1VA+hERbMGUVUCooxffIJZVQBedF8OWl1VAEDFCkPyYVUCXRBPNX5pVQHKNO4ZHnFVANCc1Zs6eVUDptUklq6FVQGFHAmwip1VAm/kaTACtVUDGGYVMwrFVQOQHvEzstlVAGmh3rEW8VUCNHmfgE8FVQA8GNBlVxFVAXr57H97HVUDB2NUEhctVQE8j+qUKz1VAxfrq7ffQVUD3YOIvOtNVQOOx1wVq1FVArg1StLTTVUBfm4PnVdNVQGyt21Ll01VA9hEAAo7VVUDOyr/nU9dVQHWIDqVx2VVAf1p8XOHaVUC6aBImD99VQFrc+b4F41VAvZoLCmjmVUCosmQn+OhVQI4ku8C461VAhWDpr8ruVUDF3KvIKPFVQD1HuXI181VADR1MmIf2VUA4iC4FwPhVQA==",
          "dtype": "f8"
         },
         "yaxis": "y"
        },
        {
         "line": {
          "color": "gray",
          "dash": "dash",
          "width": 1
         },
         "mode": "lines",
         "name": "BB Upper",
         "showlegend": false,
         "type": "scatter",
         "x": [
          "2024-09-30T00:00:00",
          "2024-10-01T00:00:00",
          "2024-10-03T00:00:00",
          "2024-10-09T00:00:00",
          "2024-10-11T00:00:00",
          "2024-10-14T00:00:00",
          "2024-10-16T00:00:00",
          "2024-10-17T00:00:00",
          "2024-10-23T00:00:00",
          "2024-11-06T00:00:00",
          "2024-11-07T00:00:00",
          "2024-11-08T00:00:00",
          "2024-11-11T00:00:00",
          "2024-11-27T00:00:00",
          "2024-12-26T00:00:00",
          "2024-12-27T00:00:00",
          "2024-12-30T00:00:00",
          "2024-12-31T00:00:00",
          "2025-01-09T00:00:00",
          "2025-01-13T00:00:00",
          "2025-02-03T00:00:00",
          "2025-02-04T00:00:00",
          "2025-02-05T00:00:00",
          "2025-02-06T00:00:00",
          "2025-02-12T00:00:00",
          "2025-02-21T00:00:00",
          "2025-03-21T00:00:00",
          "2025-03-24T00:00:00",
          "2025-03-25T00:00:00",
          "2025-03-26T00:00:00",
          "2025-04-21T00:00:00",
          "2025-04-30T00:00:00",
          "2025-05-02T00:00:00",
          "2025-05-28T00:00:00",
          "2025-06-11T00:00:00",
          "2025-06-13T00:00:00",
          "2025-06-16T00:00:00",
          "2025-06-18T00:00:00",
          "2025-06-19T00:00:00",
          "2025-06-20T00:00:00",
          "2025-06-26T00:00:00",
          "2025-06-27T00:00:00",
          "2025-06-30T00:00:00",
          "2025-07-02T00:00:00",
          "2025-07-03T00:00:00",
          "2025-07-04T00:00:00",
          "2025-07-07T00:00:00",
          "2025-07-08T00:00:00",
          "2025-07-10T00:00:00",
          "2025-07-11T00:00:00",
          "2025-07-14T00:00:00",
          "2025-07-15T00:00:00",
          "2025-07-16T00:00:00",
          "2025-07-17T00:00:00",
          "2025-07-18T00:00:00",
          "2025-07-21T00:00:00",
          "2025-07-22T00:00:00",
          "2025-07-23T00:00:00",
          "2025-07-24T00:00:00",
          "2025-07-25T00:00:00",
          "2025-07-28T00:00:00",
          "2025-07-29T00:00:00",
          "2025-07-30T00:00:00",
          "2025-07-31T00:00:00",
          "2025-08-01T00:00:00",
          "2025-08-04T00:00:00",
          "2025-08-05T00:00:00",
          "2025-08-06T00:00:00",
          "2025-08-07T00:00:00",
          "2025-08-08T00:00:00",
          "2025-08-11T00:00:00",
          "2025-08-12T00:00:00",
          "2025-08-13T00:00:00",
          "2025-08-14T00:00:00",
          "2025-08-18T00:00:00",
          "2025-08-19T00:00:00",
          "2025-08-20T00:00:00",
          "2025-08-21T00:00:00",
          "2025-08-22T00:00:00",
          "2025-08-25T00:00:00",
          "2025-08-26T00:00:00",
          "2025-08-28T00:00:00",
          "2025-08-29T00:00:00",
          "2025-09-01T00:00:00",
          "2025-09-02T00:00:00",
          "2025-09-03T00:00:00",
          "2025-09-04T00:00:00",
          "2025-09-05T00:00:00",
          "2025-09-09T00:00:00",
          "2025-09-10T00:00:00",
          "2025-09-11T00:00:00",
          "2025-09-12T00:00:00"
         ],
         "xaxis": "x",
         "y": {
          "bdata": "AAAAAAAA+H8AAAAAAAD4fwAAAAAAAPh/AAAAAAAA+H8AAAAAAAD4fwAAAAAAAPh/AAAAAAAA+H8AAAAAAAD4fwAAAAAAAPh/AAAAAAAA+H8AAAAAAAD4fwAAAAAAAPh/AAAAAAAA+H8AAAAAAAD4fwAAAAAAAPh/AAAAAAAA+H8AAAAAAAD4fwAAAAAAAPh/AAAAAAAA+H8luCdlyuZVQMEVZ8JR5lVAy73ISWpcVkCPcN2pvWFWQCrNvAVZclZApvi9kK6AVkCBrG4mp4ZWQN8ClFPThlZAfIaFKJCGVkAC+nzZpoZWQF6jgbrFh1ZAkecbWFGHVkAbCWmfFIhWQOws42N0i1ZAfNZanT6MVkBl5AacPIxWQMuJlbDgi1ZAgQO9OLyMVkBxrikDuYtWQEFRmS3biVZADHItV16EVkDJBGIZyYpWQNnUCI2zNlZAs3rGRHQyVkC+Q9WRGxxWQO9N9CuwAVZA9N1YkpnvVUANzj8fr+pVQPVPboiX5FVAoR0247vjVUDR4jPu5uNVQDuvz2oQ5FVA+6CpdybkVUBUrvDcMuBVQO5ZgWSP31VA2WKDhKXgVUCLzteyIuJVQK6Qcg0K3FVAryp8SgrdVUAoTjohANpVQJmSxmL711VARODwSwHDVUDWj3Dis8pVQJurKBXP2lVAYWHhUUbrVUCO0nr9PvRVQEz4mzw//lVAkrFxjUoKVkAt0p4qIBNWQGn9wfEQFVZAQfMSgYMZVkDsaaTQtB1WQNPvGR6uIFZAlCQJNfQfVkBBkR6Poh9WQPSkjRPCHVZA9L/HKlAbVkCYPd1SoxhWQIF7w1VgFVZAvgOPT70RVkBq/v1PNw5WQA+b1o+2C1ZAHOE5CZQIVkCVMmGcdA9WQG7M25kFFVZA83F5EoIZVkABkqm6rRtWQKKdmqfvHVZATUOBs5YhVkBvKhE+jSRWQIBU5fvUJlZA3Heb4hssVkB8BG56yi5WQA==",
          "dtype": "f8"
         },
         "yaxis": "y"
        },
        {
         "fill": "tonexty",
         "fillcolor": "rgba(128,128,128,0.1)",
         "line": {
          "color": "gray",
          "dash": "dash",
          "width": 1
         },
         "mode": "lines",
         "name": "BB Lower",
         "showlegend": false,
         "type": "scatter",
         "x": [
          "2024-09-30T00:00:00",
          "2024-10-01T00:00:00",
          "2024-10-03T00:00:00",
          "2024-10-09T00:00:00",
          "2024-10-11T00:00:00",
          "2024-10-14T00:00:00",
          "2024-10-16T00:00:00",
          "2024-10-17T00:00:00",
          "2024-10-23T00:00:00",
          "2024-11-06T00:00:00",
          "2024-11-07T00:00:00",
          "2024-11-08T00:00:00",
          "2024-11-11T00:00:00",
          "2024-11-27T00:00:00",
          "2024-12-26T00:00:00",
          "2024-12-27T00:00:00",
          "2024-12-30T00:00:00",
          "2024-12-31T00:00:00",
          "2025-01-09T00:00:00",
          "2025-01-13T00:00:00",
          "2025-02-03T00:00:00",
          "2025-02-04T00:00:00",
          "2025-02-05T00:00:00",
          "2025-02-06T00:00:00",
          "2025-02-12T00:00:00",
          "2025-02-21T00:00:00",
          "2025-03-21T00:00:00",
          "2025-03-24T00:00:00",
          "2025-03-25T00:00:00",
          "2025-03-26T00:00:00",
          "2025-04-21T00:00:00",
          "2025-04-30T00:00:00",
          "2025-05-02T00:00:00",
          "2025-05-28T00:00:00",
          "2025-06-11T00:00:00",
          "2025-06-13T00:00:00",
          "2025-06-16T00:00:00",
          "2025-06-18T00:00:00",
          "2025-06-19T00:00:00",
          "2025-06-20T00:00:00",
          "2025-06-26T00:00:00",
          "2025-06-27T00:00:00",
          "2025-06-30T00:00:00",
          "2025-07-02T00:00:00",
          "2025-07-03T00:00:00",
          "2025-07-04T00:00:00",
          "2025-07-07T00:00:00",
          "2025-07-08T00:00:00",
          "2025-07-10T00:00:00",
          "2025-07-11T00:00:00",
          "2025-07-14T00:00:00",
          "2025-07-15T00:00:00",
          "2025-07-16T00:00:00",
          "2025-07-17T00:00:00",
          "2025-07-18T00:00:00",
          "2025-07-21T00:00:00",
          "2025-07-22T00:00:00",
          "2025-07-23T00:00:00",
          "2025-07-24T00:00:00",
          "2025-07-25T00:00:00",
          "2025-07-28T00:00:00",
          "2025-07-29T00:00:00",
          "2025-07-30T00:00:00",
          "2025-07-31T00:00:00",
          "2025-08-01T00:00:00",
          "2025-08-04T00:00:00",
          "2025-08-05T00:00:00",
          "2025-08-06T00:00:00",
          "2025-08-07T00:00:00",
          "2025-08-08T00:00:00",
          "2025-08-11T00:00:00",
          "2025-08-12T00:00:00",
          "2025-08-13T00:00:00",
          "2025-08-14T00:00:00",
          "2025-08-18T00:00:00",
          "2025-08-19T00:00:00",
          "2025-08-20T00:00:00",
          "2025-08-21T00:00:00",
          "2025-08-22T00:00:00",
          "2025-08-25T00:00:00",
          "2025-08-26T00:00:00",
          "2025-08-28T00:00:00",
          "2025-08-29T00:00:00",
          "2025-09-01T00:00:00",
          "2025-09-02T00:00:00",
          "2025-09-03T00:00:00",
          "2025-09-04T00:00:00",
          "2025-09-05T00:00:00",
          "2025-09-09T00:00:00",
          "2025-09-10T00:00:00",
          "2025-09-11T00:00:00",
          "2025-09-12T00:00:00"
         ],
         "xaxis": "x",
         "y": {
          "bdata": "AAAAAAAA+H8AAAAAAAD4fwAAAAAAAPh/AAAAAAAA+H8AAAAAAAD4fwAAAAAAAPh/AAAAAAAA+H8AAAAAAAD4fwAAAAAAAPh/AAAAAAAA+H8AAAAAAAD4fwAAAAAAAPh/AAAAAAAA+H8AAAAAAAD4fwAAAAAAAPh/AAAAAAAA+H8AAAAAAAD4fwAAAAAAAPh/AAAAAAAA+H8PppLkQTNVQOEvTzGsNlVAj6ZyleXoVEDHnU8I4O1UQPA2mQjU71RApj7LsLH0VECjLotYw/1UQEXYZSuXBVVAqFR0VtoNVUCIR+MLKgxVQCLHOrrNCFVAiRw6ttsKVUA52jz8rwhVQJzp9WqDAFVAcqbklx/+VEAtCXaj+PlUQD0ih6mD91RAL2+rWDH4VEALkQtbAfZUQMPZ7ej99FRAkFLzWBT0VEC95u+eVfpUQPPMPClAJ1VAG32NnjEhVUAuOWqjQiZVQGnrv5zGLFVAGk9ZC1YwVUDtsCqdxTBVQIFuMZKXMFVAv8eaPx8uVUAzc9o+yzFVQIHFw63zMVVAHWOslgY2VUDSghfP6UFVQFiH+a8eSFVAvQuP/hpKVUAXd95A20pVQEIXVD4tTVVAW6wnJjNNVUCsKq8FMU5VQEs+XHj+TlVAWOQvZHFdVUAOFivibF1VQNEQTH5JWVVAu/iC6ZhUVUC+ZA5EIVlVQBLCrc/CXFVAZHfqAXhbVUD5XmmB/F5VQLWHKWCnaVVAk1pPj9RvVUBwJR4ldHZVQOlZ8uN8flVAUIGSjyyIVUD39yLRQpFVQEYPO2P8mVVAIhkHzQOgVUA+ZpPqZqZVQBXIxxaHrlVAWgDHvm+4VUCkLrRNuMFVQEvJZE+ZyVVAxpnapLPQVUDFMdpC281VQD4l97Ncy1VAlaRfvHXKVUDzlrLUFMpVQPpRDR9cyVVAL/yzqiPIVUAVwUB6kchVQNa5R7bIyFVAENocPGnHVUAwQ3MASsdVQA==",
          "dtype": "f8"
         },
         "yaxis": "y"
        },
        {
         "marker": {
          "color": [
           "green",
           "green",
           "green",
           "green",
           "green",
           "green",
           "green",
           "green",
           "green",
           "green",
           "green",
           "green",
           "green",
           "green",
           "green",
           "red",
           "green",
           "green",
           "green",
           "green",
           "green",
           "green",
           "green",
           "green",
           "green",
           "green",
           "green",
           "green",
           "green",
           "red",
           "green",
           "red",
           "red",
           "green",
           "red",
           "green",
           "green",
           "green",
           "green",
           "green",
           "green",
           "green",
           "green",
           "green",
           "red",
           "green",
           "green",
           "red",
           "red",
           "green",
           "green",
           "green",
           "green",
           "green",
           "green",
           "red",
           "green",
           "green",
           "green",
           "green",
           "green",
           "green",
           "green",
           "red",
           "red",
           "green",
           "green",
           "red",
           "red",
           "green",
           "green",
           "green",
           "red",
           "green",
           "red",
           "red",
           "red",
           "green",
           "green",
           "green",
           "green",
           "green",
           "green",
           "green",
           "red",
           "red",
           "green",
           "green",
           "green",
           "red",
           "green",
           "green"
          ]
         },
         "name": "Volume",
         "showlegend": false,
         "type": "bar",
         "x": [
          "2024-09-30T00:00:00",
          "2024-10-01T00:00:00",
          "2024-10-03T00:00:00",
          "2024-10-09T00:00:00",
          "2024-10-11T00:00:00",
          "2024-10-14T00:00:00",
          "2024-10-16T00:00:00",
          "2024-10-17T00:00:00",
          "2024-10-23T00:00:00",
          "2024-11-06T00:00:00",
          "2024-11-07T00:00:00",
          "2024-11-08T00:00:00",
          "2024-11-11T00:00:00",
          "2024-11-27T00:00:00",
          "2024-12-26T00:00:00",
          "2024-12-27T00:00:00",
          "2024-12-30T00:00:00",
          "2024-12-31T00:00:00",
          "2025-01-09T00:00:00",
          "2025-01-13T00:00:00",
          "2025-02-03T00:00:00",
          "2025-02-04T00:00:00",
          "2025-02-05T00:00:00",
          "2025-02-06T00:00:00",
          "2025-02-12T00:00:00",
          "2025-02-21T00:00:00",
          "2025-03-21T00:00:00",
          "2025-03-24T00:00:00",
          "2025-03-25T00:00:00",
          "2025-03-26T00:00:00",
          "2025-04-21T00:00:00",
          "2025-04-30T00:00:00",
          "2025-05-02T00:00:00",
          "2025-05-28T00:00:00",
          "2025-06-11T00:00:00",
          "2025-06-13T00:00:00",
          "2025-06-16T00:00:00",
          "2025-06-18T00:00:00",
          "2025-06-19T00:00:00",
          "2025-06-20T00:00:00",
          "2025-06-26T00:00:00",
          "2025-06-27T00:00:00",
          "2025-06-30T00:00:00",
          "2025-07-02T00:00:00",
          "2025-07-03T00:00:00",
          "2025-07-04T00:00:00",
          "2025-07-07T00:00:00",
          "2025-07-08T00:00:00",
          "2025-07-10T00:00:00",
          "2025-07-11T00:00:00",
          "2025-07-14T00:00:00",
          "2025-07-15T00:00:00",
          "2025-07-16T00:00:00",
          "2025-07-17T00:00:00",
          "2025-07-18T00:00:00",
          "2025-07-21T00:00:00",
          "2025-07-22T00:00:00",
          "2025-07-23T00:00:00",
          "2025-07-24T00:00:00",
          "2025-07-25T00:00:00",
          "2025-07-28T00:00:00",
          "2025-07-29T00:00:00",
          "2025-07-30T00:00:00",
          "2025-07-31T00:00:00",
          "2025-08-01T00:00:00",
          "2025-08-04T00:00:00",
          "2025-08-05T00:00:00",
          "2025-08-06T00:00:00",
          "2025-08-07T00:00:00",
          "2025-08-08T00:00:00",
          "2025-08-11T00:00:00",
          "2025-08-12T00:00:00",
          "2025-08-13T00:00:00",
          "2025-08-14T00:00:00",
          "2025-08-18T00:00:00",
          "2025-08-19T00:00:00",
          "2025-08-20T00:00:00",
          "2025-08-21T00:00:00",
          "2025-08-22T00:00:00",
          "2025-08-25T00:00:00",
          "2025-08-26T00:00:00",
          "2025-08-28T00:00:00",
          "2025-08-29T00:00:00",
          "2025-09-01T00:00:00",
          "2025-09-02T00:00:00",
          "2025-09-03T00:00:00",
          "2025-09-04T00:00:00",
          "2025-09-05T00:00:00",
          "2025-09-09T00:00:00",
          "2025-09-10T00:00:00",
          "2025-09-11T00:00:00",
          "2025-09-12T00:00:00"
         ],
         "xaxis": "x2",
         "y": {
          "bdata": "AAAAAAAAFEAAAAAAAAAUQAAAAAAAgEFAAAAAAAAAKkAAAAAAAAAwQAAAAAAAAC5AAAAAAAAAJEAAAAAAAAAkQAAAAAAAABRAAAAAAAAAX0AAAAAAAAAoQAAAAAAAAC5AAAAAAAAASUAAAAAAAAAAQAAAAAAAAFlAAAAAAACAUUAAAAAAAABZQAAAAAAAAPA/AAAAAAAAAEAAAAAAAAA5QAAAAAAAAABAAAAAAAAACEAAAAAAAADwPwAAAAAAAPA/AAAAAAAACEAAAAAAAAAkQAAAAAAAwGJAAAAAAAAA8D8AAAAAAADwPwAAAAAAAFlAAAAAAAAA8D8AAAAAAIBGQAAAAAAAgGFAAAAAAAAAWUAAAAAAAAAAQAAAAAAA+IVAAAAAAAAAAEAAAAAAAABpQAAAAAAAAIBAAAAAAAAAGEAAAAAAACCMQAAAAAAAAE9AAAAAAABAb0AAAAAAAAAQQAAAAAAA4GBAAAAAAAAANUAAAAAAANiHQAAAAAAAwJpAAAAAAACQf0AAAAAAAAAIQAAAAAAAAFxAAAAAAAAAAEAAAAAAAMBjQAAAAAAAAFpAAAAAAACgc0AAAAAAAMBtQAAAAAAAaIlAAAAAAABwgUAAAAAAANCMQAAAAAAADKBAAAAAAEDR10AAAAAAAA6/QAAAAACAZ89AAAAAAACzxEAAAAAAgH3AQAAAAADAwtJAAAAAAAAmr0AAAAAAAFKwQAAAAAAAZMRAAAAAAADuwUAAAAAAACK5QAAAAAAATc1AAAAAAIDB00AAAAAAANnFQAAAAACA6dVAAAAAAHDS8EAAAAAAwD/nQAAAAABgEvBAAAAAACCy90AAAAAAALgRQQAAAAD42hNBAAAAAKAoBUEAAAAAXhYlQQAAAAD0sh5BAAAAAGAkCEEAAAAAQO73QAAAAADYBQNBAAAAAMw1HEEAAAAAANMFQQAAAAAwJvxAAAAAAGhXCEEAAAAA8Kb1QA==",
          "dtype": "f8"
         },
         "yaxis": "y2"
        },
        {
         "line": {
          "color": "purple"
         },
         "mode": "lines",
         "name": "RSI",
         "showlegend": false,
         "type": "scatter",
         "x": [
          "2024-09-30T00:00:00",
          "2024-10-01T00:00:00",
          "2024-10-03T00:00:00",
          "2024-10-09T00:00:00",
          "2024-10-11T00:00:00",
          "2024-10-14T00:00:00",
          "2024-10-16T00:00:00",
          "2024-10-17T00:00:00",
          "2024-10-23T00:00:00",
          "2024-11-06T00:00:00",
          "2024-11-07T00:00:00",
          "2024-11-08T00:00:00",
          "2024-11-11T00:00:00",
          "2024-11-27T00:00:00",
          "2024-12-26T00:00:00",
          "2024-12-27T00:00:00",
          "2024-12-30T00:00:00",
          "2024-12-31T00:00:00",
          "2025-01-09T00:00:00",
          "2025-01-13T00:00:00",
          "2025-02-03T00:00:00",
          "2025-02-04T00:00:00",
          "2025-02-05T00:00:00",
          "2025-02-06T00:00:00",
          "2025-02-12T00:00:00",
          "2025-02-21T00:00:00",
          "2025-03-21T00:00:00",
          "2025-03-24T00:00:00",
          "2025-03-25T00:00:00",
          "2025-03-26T00:00:00",
          "2025-04-21T00:00:00",
          "2025-04-30T00:00:00",
          "2025-05-02T00:00:00",
          "2025-05-28T00:00:00",
          "2025-06-11T00:00:00",
          "2025-06-13T00:00:00",
          "2025-06-16T00:00:00",
          "2025-06-18T00:00:00",
          "2025-06-19T00:00:00",
          "2025-06-20T00:00:00",
          "2025-06-26T00:00:00",
          "2025-06-27T00:00:00",
          "2025-06-30T00:00:00",
          "2025-07-02T00:00:00",
          "2025-07-03T00:00:00",
          "2025-07-04T00:00:00",
          "2025-07-07T00:00:00",
          "2025-07-08T00:00:00",
          "2025-07-10T00:00:00",
          "2025-07-11T00:00:00",
          "2025-07-14T00:00:00",
          "2025-07-15T00:00:00",
          "2025-07-16T00:00:00",
          "2025-07-17T00:00:00",
          "2025-07-18T00:00:00",
          "2025-07-21T00:00:00",
          "2025-07-22T00:00:00",
          "2025-07-23T00:00:00",
          "2025-07-24T00:00:00",
          "2025-07-25T00:00:00",
          "2025-07-28T00:00:00",
          "2025-07-29T00:00:00",
          "2025-07-30T00:00:00",
          "2025-07-31T00:00:00",
          "2025-08-01T00:00:00",
          "2025-08-04T00:00:00",
          "2025-08-05T00:00:00",
          "2025-08-06T00:00:00",
          "2025-08-07T00:00:00",
          "2025-08-08T00:00:00",
          "2025-08-11T00:00:00",
          "2025-08-12T00:00:00",
          "2025-08-13T00:00:00",
          "2025-08-14T00:00:00",
          "2025-08-18T00:00:00",
          "2025-08-19T00:00:00",
          "2025-08-20T00:00:00",
          "2025-08-21T00:00:00",
          "2025-08-22T00:00:00",
          "2025-08-25T00:00:00",
          "2025-08-26T00:00:00",
          "2025-08-28T00:00:00",
          "2025-08-29T00:00:00",
          "2025-09-01T00:00:00",
          "2025-09-02T00:00:00",
          "2025-09-03T00:00:00",
          "2025-09-04T00:00:00",
          "2025-09-05T00:00:00",
          "2025-09-09T00:00:00",
          "2025-09-10T00:00:00",
          "2025-09-11T00:00:00",
          "2025-09-12T00:00:00"
         ],
         "xaxis": "x3",
         "y": {
          "bdata": "AAAAAAAA+H8AAAAAAAD4fwAAAAAAAPh/AAAAAAAA+H8AAAAAAAD4fwAAAAAAAPh/AAAAAAAA+H8AAAAAAAD4fwAAAAAAAPh/AAAAAAAA+H8AAAAAAAD4fwAAAAAAAPh/AAAAAAAA+H8PAAAAAIBLQL7c0wjLPVFAddu2bdv2UEAKAAAAAIBRQAoAAAAAgFFAMfxqTKQHU0D7hDgrPyFUQLsKjD3lIUpAYvF2owcpU0DwfXp7DXZKQJh4JU0XTk1AmHglTRdOTUD9MApvAlBMQD5t6JMvwUpAPm3oky/BSkDLj7AlCm9IQJD5IasIbkdAduVMHa/bR0AaONsT6xxHQBoGtkn800VAZ1apQUPBRUAbuCL/ZfxIQOSasqasKTpAIbC05+9+SEBsySGuMgVCQFfQWa+r7UNArKqqqqq+RUARQ8lbEzpMQI2zwV4TI0ZAIlWfJ93DR0C/M3qpfk5KQCXtcsdYVkdAUAEJP7mQSUAq0aZEmxJNQE0i07DdrEpAg2xANiAbSECwpLCksKRIQKSkggFKKkVAfAg9hB7CR0A4Ydq+UJhFQGPRt9LePUZARkLh/SsvQUCLFtNZTGdPQBDXNLb4R1BACdWxtzZMT0DuRLwkIJxSQFWRz7rBlFJAAOhsx4cgUUDsrkTtSpRUQAAAAAAAAFlAAAAAAAAAWUBPhCIUoQhXQAvbzfIkMldAoC1Whm9EV0BQVVVVVclWQCniE0gl51NAWVpaWlraU0A0sRM7sfNTQAAAAAAAAFRAaFL35bGVUUD86fPSQH1RQO7YiqDhJE9AbRaP6wLbSUA0DMMwDMNDQCD7HFITDERAtth+R6+MSEAfXPwQBjlHQEC1rANt90ZArXpYPaweRkA5z/M8z/NOQDsZeLo1P05As5LWlpLWTEA4MzMzMzNLQAenN73pTU9ApYoFzaFiT0BczUkgLlRQQH6ovxyRYlNAeTVc/BAGVEC3bdu2bdtRQA==",
          "dtype": "f8"
         },
         "yaxis": "y3"
        },
        {
         "line": {
          "color": "blue"
         },
         "mode": "lines",
         "name": "MACD",
         "showlegend": false,
         "type": "scatter",
         "x": [
          "2024-09-30T00:00:00",
          "2024-10-01T00:00:00",
          "2024-10-03T00:00:00",
          "2024-10-09T00:00:00",
          "2024-10-11T00:00:00",
          "2024-10-14T00:00:00",
          "2024-10-16T00:00:00",
          "2024-10-17T00:00:00",
          "2024-10-23T00:00:00",
          "2024-11-06T00:00:00",
          "2024-11-07T00:00:00",
          "2024-11-08T00:00:00",
          "2024-11-11T00:00:00",
          "2024-11-27T00:00:00",
          "2024-12-26T00:00:00",
          "2024-12-27T00:00:00",
          "2024-12-30T00:00:00",
          "2024-12-31T00:00:00",
          "2025-01-09T00:00:00",
          "2025-01-13T00:00:00",
          "2025-02-03T00:00:00",
          "2025-02-04T00:00:00",
          "2025-02-05T00:00:00",
          "2025-02-06T00:00:00",
          "2025-02-12T00:00:00",
          "2025-02-21T00:00:00",
          "2025-03-21T00:00:00",
          "2025-03-24T00:00:00",
          "2025-03-25T00:00:00",
          "2025-03-26T00:00:00",
          "2025-04-21T00:00:00",
          "2025-04-30T00:00:00",
          "2025-05-02T00:00:00",
          "2025-05-28T00:00:00",
          "2025-06-11T00:00:00",
          "2025-06-13T00:00:00",
          "2025-06-16T00:00:00",
          "2025-06-18T00:00:00",
          "2025-06-19T00:00:00",
          "2025-06-20T00:00:00",
          "2025-06-26T00:00:00",
          "2025-06-27T00:00:00",
          "2025-06-30T00:00:00",
          "2025-07-02T00:00:00",
          "2025-07-03T00:00:00",
          "2025-07-04T00:00:00",
          "2025-07-07T00:00:00",
          "2025-07-08T00:00:00",
          "2025-07-10T00:00:00",
          "2025-07-11T00:00:00",
          "2025-07-14T00:00:00",
          "2025-07-15T00:00:00",
          "2025-07-16T00:00:00",
          "2025-07-17T00:00:00",
          "2025-07-18T00:00:00",
          "2025-07-21T00:00:00",
          "2025-07-22T00:00:00",
          "2025-07-23T00:00:00",
          "2025-07-24T00:00:00",
          "2025-07-25T00:00:00",
          "2025-07-28T00:00:00",
          "2025-07-29T00:00:00",
          "2025-07-30T00:00:00",
          "2025-07-31T00:00:00",
          "2025-08-01T00:00:00",
          "2025-08-04T00:00:00",
          "2025-08-05T00:00:00",
          "2025-08-06T00:00:00",
          "2025-08-07T00:00:00",
          "2025-08-08T00:00:00",
          "2025-08-11T00:00:00",
          "2025-08-12T00:00:00",
          "2025-08-13T00:00:00",
          "2025-08-14T00:00:00",
          "2025-08-18T00:00:00",
          "2025-08-19T00:00:00",
          "2025-08-20T00:00:00",
          "2025-08-21T00:00:00",
          "2025-08-22T00:00:00",
          "2025-08-25T00:00:00",
          "2025-08-26T00:00:00",
          "2025-08-28T00:00:00",
          "2025-08-29T00:00:00",
          "2025-09-01T00:00:00",
          "2025-09-02T00:00:00",
          "2025-09-03T00:00:00",
          "2025-09-04T00:00:00",
          "2025-09-05T00:00:00",
          "2025-09-09T00:00:00",
          "2025-09-10T00:00:00",
          "2025-09-11T00:00:00",
          "2025-09-12T00:00:00"
         ],
         "xaxis": "x4",
         "y": {
          "bdata": "AAAAAAAAAAAAAJIbuZFrPwDANxIZRH4/AGDVAJqCgj8AQCqWupx3PwAAHnRbZ1k/AADjIl50az8AQBOa33NyPwDgfg1uu6U/AHBijE1foz8A+DR3M2WhPwDwZ4coG5g/AKB1JzVpjT8AQHlHfOl9PwCwl5uET6w/ALSYVnsTuD8AZhQASwzCPwCaRPzabcY/AMwUL9w3zT8AIO1A+FfTPwAMD8MCsMw/gD1EYBUC4j8ASIx1TjjgPwAVR/M+euE/gGTT/Pw/4j8AXhrehBDhPwCL7bG4WNs/AFU6RUS91T8AemAPhE3LPwBIdsvLZq8/AABRCIcQjb8AeM2nBAG+vwAirNALWc6/AFKJEnid0r8AgUyWXLLSvwAji8BAS9G/AEwiPjmFxr8ALAg8kADEvwAUHvf827m/AHhx3mX7rL8AAL7Oo/6rPwCQ+80MhpW/ANTpE9kRtr8AjLI2ce2+vwCipEne0ca/AJzdJYntyr8AavCbWCnIvwCenCEDg8i/AFiRCVlny78AfqRZ1CbJvwC45Lpgmca/AMZraXFXxL8AJlnIWPDBvwCk7H9tFr2/AKwccXM4tb8A6MnCUmOovwDA+967tJC/AGAl/HLUgj8AsIzwHmOfPwCYAPqxYa0/AMSeetQftz8A+HlcJ7K/PwBI6LVOAck/ABgX4RDP0D8A6zdSyEfTPwBmC6MRz9U/AOH62nsm2D8A+3BajY7ZPwDtZ3HHGNk/AJBv/GYC2T8AQlG/AhDZPwB51DGU+Ng/AJWkXJww1z8A9/D2/AnWPwCbT3Q769M/ABt+DI0Y0D8AsqcpGnLKPwC+lFP6k8c/APhn7wiCxz8Aeoe00LHHPwCesfYFl8g/ABop9snjxz8AIli2lS/NPwB7ye9qmtA/AHpyPdiu0T8AildDLLfRPwArp6tx8tE/ACJWCSF80j8AzqCgfi/SPwAgPek3l9E/AFK4nVp00j8AY2b3rwDSPw==",
          "dtype": "f8"
         },
         "yaxis": "y4"
        },
        {
         "line": {
          "color": "red"
         },
         "mode": "lines",
         "name": "Signal",
         "showlegend": false,
         "type": "scatter",
         "x": [
          "2024-09-30T00:00:00",
          "2024-10-01T00:00:00",
          "2024-10-03T00:00:00",
          "2024-10-09T00:00:00",
          "2024-10-11T00:00:00",
          "2024-10-14T00:00:00",
          "2024-10-16T00:00:00",
          "2024-10-17T00:00:00",
          "2024-10-23T00:00:00",
          "2024-11-06T00:00:00",
          "2024-11-07T00:00:00",
          "2024-11-08T00:00:00",
          "2024-11-11T00:00:00",
          "2024-11-27T00:00:00",
          "2024-12-26T00:00:00",
          "2024-12-27T00:00:00",
          "2024-12-30T00:00:00",
          "2024-12-31T00:00:00",
          "2025-01-09T00:00:00",
          "2025-01-13T00:00:00",
          "2025-02-03T00:00:00",
          "2025-02-04T00:00:00",
          "2025-02-05T00:00:00",
          "2025-02-06T00:00:00",
          "2025-02-12T00:00:00",
          "2025-02-21T00:00:00",
          "2025-03-21T00:00:00",
          "2025-03-24T00:00:00",
          "2025-03-25T00:00:00",
          "2025-03-26T00:00:00",
          "2025-04-21T00:00:00",
          "2025-04-30T00:00:00",
          "2025-05-02T00:00:00",
          "2025-05-28T00:00:00",
          "2025-06-11T00:00:00",
          "2025-06-13T00:00:00",
          "2025-06-16T00:00:00",
          "2025-06-18T00:00:00",
          "2025-06-19T00:00:00",
          "2025-06-20T00:00:00",
          "2025-06-26T00:00:00",
          "2025-06-27T00:00:00",
          "2025-06-30T00:00:00",
          "2025-07-02T00:00:00",
          "2025-07-03T00:00:00",
          "2025-07-04T00:00:00",
          "2025-07-07T00:00:00",
          "2025-07-08T00:00:00",
          "2025-07-10T00:00:00",
          "2025-07-11T00:00:00",
          "2025-07-14T00:00:00",
          "2025-07-15T00:00:00",
          "2025-07-16T00:00:00",
          "2025-07-17T00:00:00",
          "2025-07-18T00:00:00",
          "2025-07-21T00:00:00",
          "2025-07-22T00:00:00",
          "2025-07-23T00:00:00",
          "2025-07-24T00:00:00",
          "2025-07-25T00:00:00",
          "2025-07-28T00:00:00",
          "2025-07-29T00:00:00",
          "2025-07-30T00:00:00",
          "2025-07-31T00:00:00",
          "2025-08-01T00:00:00",
          "2025-08-04T00:00:00",
          "2025-08-05T00:00:00",
          "2025-08-06T00:00:00",
          "2025-08-07T00:00:00",
          "2025-08-08T00:00:00",
          "2025-08-11T00:00:00",
          "2025-08-12T00:00:00",
          "2025-08-13T00:00:00",
          "2025-08-14T00:00:00",
          "2025-08-18T00:00:00",
          "2025-08-19T00:00:00",
          "2025-08-20T00:00:00",
          "2025-08-21T00:00:00",
          "2025-08-22T00:00:00",
          "2025-08-25T00:00:00",
          "2025-08-26T00:00:00",
          "2025-08-28T00:00:00",
          "2025-08-29T00:00:00",
          "2025-09-01T00:00:00",
          "2025-09-02T00:00:00",
          "2025-09-03T00:00:00",
          "2025-09-04T00:00:00",
          "2025-09-05T00:00:00",
          "2025-09-09T00:00:00",
          "2025-09-10T00:00:00",
          "2025-09-11T00:00:00",
          "2025-09-12T00:00:00"
         ],
         "xaxis": "x4",
         "y": {
          "bdata": "AAAAAAAAAADjOKIe6qFeP1zyXCl07HA/a/VlSkG7dz9GqcSXLLJ3P5P0LLiY/nI/Zu5LalmpcT974WEHBdpxP7f+uH7h8Yo/U3vRYoUikz+Q240pbI+WP6j6ZPNo5JY/CARcVN0olT9W2sTvI0ySPye6CQzgPZo/05txkH1UpD8fRu8+//CuP+PXNFO+dLU/SYVXEtP1vD9soXUTxmDDP6oq/73bQcU/vhI24uB8zz/vyfeYWRrTP33c60/USdY/ozld1Tck2T+58IDtxvHaP/btu3RqBts/n5gj80L32T+9YJWcyH/XP1Sn68halNM/Q/7xWK70zj9QZy77xsHFP3i11iekqLY/TDEjxevMiT/B+Pyvb8Sov+zb5Ljrvre/YIFeW4IBvL/qNmLZ9We+v5sompEgf72/Cz+GS71+ur85Qm6cTmWyvwpMgW7Ila+/onPv/E0Msb/IXdSJ+NKzv/CdnxXI/Li/OYKmHOTCvr95A2bGCSPBv8J5tTOknMK/BLvLbMpexL/ah8AamlPFv1DDIgXClMW/6QCaWUtVxb9tWFLpgKfEv5Txlc+kbsO/PNqJQPWqwb9pLmqLD7W+v4sKbGOuZrm/sJRuXaHZs7/f4ZNMF5+sv8/QZUdUBaG/5NzGqLV3gb9PYA9epV6SP6R6TaYbWqs/9dwzNExjuD+G58v7oXfBPyJ2gceIssY/8Wib32vRyz/6P2FCFD3QP11LGYWeAtI/3twH1Plo0z/UtpUFYorUP/SnzNw4bdU/ydjd9n/H1T886CMqzNTVP3gS1GvictU/Xon8V9Fg1D+lflPjdvLSP5e49CP4g9E/aKutmvpc0D+hsHSBh+vOP9Zqmphtp80/rcNL3kyAzD+fKO1vW6PMPzUekblAjc0/TzMlrfC2zj/R8LnYa6jPP5bz2EWoQNA/Nd8qoPOy0D9YSRJtD//QP9YFT+x9HdE/3KAydhBi0T+H03D2yYHRPw==",
          "dtype": "f8"
         },
         "yaxis": "y4"
        },
        {
         "marker": {
          "color": [
           "green",
           "green",
           "green",
           "green",
           "red",
           "red",
           "red",
           "green",
           "green",
           "green",
           "green",
           "green",
           "red",
           "red",
           "green",
           "green",
           "green",
           "green",
           "green",
           "green",
           "green",
           "green",
           "green",
           "green",
           "green",
           "green",
           "green",
           "red",
           "red",
           "red",
           "red",
           "red",
           "red",
           "red",
           "red",
           "red",
           "red",
           "red",
           "green",
           "green",
           "green",
           "green",
           "red",
           "red",
           "red",
           "red",
           "red",
           "red",
           "red",
           "red",
           "red",
           "green",
           "green",
           "green",
           "green",
           "green",
           "green",
           "green",
           "green",
           "green",
           "green",
           "green",
           "green",
           "green",
           "green",
           "green",
           "green",
           "green",
           "green",
           "green",
           "green",
           "green",
           "green",
           "green",
           "red",
           "red",
           "red",
           "red",
           "red",
           "red",
           "red",
           "red",
           "green",
           "green",
           "green",
           "green",
           "green",
           "green",
           "green",
           "green",
           "green",
           "green"
          ]
         },
         "name": "MACD Histogram",
         "showlegend": false,
         "type": "bar",
         "x": [
          "2024-09-30T00:00:00",
          "2024-10-01T00:00:00",
          "2024-10-03T00:00:00",
          "2024-10-09T00:00:00",
          "2024-10-11T00:00:00",
          "2024-10-14T00:00:00",
          "2024-10-16T00:00:00",
          "2024-10-17T00:00:00",
          "2024-10-23T00:00:00",
          "2024-11-06T00:00:00",
          "2024-11-07T00:00:00",
          "2024-11-08T00:00:00",
          "2024-11-11T00:00:00",
          "2024-11-27T00:00:00",
          "2024-12-26T00:00:00",
          "2024-12-27T00:00:00",
          "2024-12-30T00:00:00",
          "2024-12-31T00:00:00",
          "2025-01-09T00:00:00",
          "2025-01-13T00:00:00",
          "2025-02-03T00:00:00",
          "2025-02-04T00:00:00",
          "2025-02-05T00:00:00",
          "2025-02-06T00:00:00",
          "2025-02-12T00:00:00",
          "2025-02-21T00:00:00",
          "2025-03-21T00:00:00",
          "2025-03-24T00:00:00",
          "2025-03-25T00:00:00",
          "2025-03-26T00:00:00",
          "2025-04-21T00:00:00",
          "2025-04-30T00:00:00",
          "2025-05-02T00:00:00",
          "2025-05-28T00:00:00",
          "2025-06-11T00:00:00",
          "2025-06-13T00:00:00",
          "2025-06-16T00:00:00",
          "2025-06-18T00:00:00",
          "2025-06-19T00:00:00",
          "2025-06-20T00:00:00",
          "2025-06-26T00:00:00",
          "2025-06-27T00:00:00",
          "2025-06-30T00:00:00",
          "2025-07-02T00:00:00",
          "2025-07-03T00:00:00",
          "2025-07-04T00:00:00",
          "2025-07-07T00:00:00",
          "2025-07-08T00:00:00",
          "2025-07-10T00:00:00",
          "2025-07-11T00:00:00",
          "2025-07-14T00:00:00",
          "2025-07-15T00:00:00",
          "2025-07-16T00:00:00",
          "2025-07-17T00:00:00",
          "2025-07-18T00:00:00",
          "2025-07-21T00:00:00",
          "2025-07-22T00:00:00",
          "2025-07-23T00:00:00",
          "2025-07-24T00:00:00",
          "2025-07-25T00:00:00",
          "2025-07-28T00:00:00",
          "2025-07-29T00:00:00",
          "2025-07-30T00:00:00",
          "2025-07-31T00:00:00",
          "2025-08-01T00:00:00",
          "2025-08-04T00:00:00",
          "2025-08-05T00:00:00",
          "2025-08-06T00:00:00",
          "2025-08-07T00:00:00",
          "2025-08-08T00:00:00",
          "2025-08-11T00:00:00",
          "2025-08-12T00:00:00",
          "2025-08-13T00:00:00",
          "2025-08-14T00:00:00",
          "2025-08-18T00:00:00",
          "2025-08-19T00:00:00",
          "2025-08-20T00:00:00",
          "2025-08-21T00:00:00",
          "2025-08-22T00:00:00",
          "2025-08-25T00:00:00",
          "2025-08-26T00:00:00",
          "2025-08-28T00:00:00",
          "2025-08-29T00:00:00",
          "2025-09-01T00:00:00",
          "2025-09-02T00:00:00",
          "2025-09-03T00:00:00",
          "2025-09-04T00:00:00",
          "2025-09-05T00:00:00",
          "2025-09-09T00:00:00",
          "2025-09-10T00:00:00",
          "2025-09-11T00:00:00",
          "2025-09-12T00:00:00"
         ],
         "xaxis": "x4",
         "y": {
          "bdata": "AAAAAAAAAAAdx4EYiIFYP0ibtdFJr2o/KpWJbuWTaj8ARmmaAXL1vibpSraDSWm/MHPTxlJ5T7+g0CtWUjsjP6RAoVvr/Z0/rWTztRWckz/gKLiJ9XWIP4BVL0D5a1M/INCEAgvReb+sFM27iaOFv9mlJSspYZ4/Lcy/HHnSqz/wKLFgFqC0Px1cVKX3Zrc/txLSS+V5vT+UnmRuKk/DP1iFPxScuK0/oXFtT7pF1D8ijEGkhqzKPwabRC1TVck/uh6TSIS3xj8cLc86C728P4BCZ0yPk3Q/fA6lt/rnsL96R8opDbLDv6i8+Z4CT8+/Ioe7ZNti0L+okYqnJGHSv16+S/Ku1tS/imuycN9r07/Qw5lAnTPPvwrYo6QLt8a/oBbmIPAIsb8sQlw9VTKjv9ik4NMcGY0/FgabuBQCqD8coeZBUDLAPwqEgwfC0qQ/eIHpWywWlL9wXLxZ8TSmvxCmqX30prS/x7UULy4Yt78cmilWOxmsv/iQnLd7mae/8HMWczoirL8wsR/30ZmevwBLH1zrSYC/IF3HBT67fz9ok8kHQbmVP1B+fj64jaM/8BDuH+46rD9pOgUqZoOyP4sarWt/ObU/sEDzvC80tj/wHG1iUyi2P2g0syCDM7c/nJ+3L8tOuT/sH/YEfhq7P1fpVMzHKsI/hkEUqHtsxT967qOo7hfFP95VlX6a68Q/D1la1ot7xD8Mdh8w8qLCP4yGOrGjWLw/iMyeobRltj+wLO7mghayP2CIPqjaWqw/cMNrXMaRlj8AYodmZphqP4B3R3hvepi/eLn5LREhsb+Ulv45p+W2v1xmqejr57a/oL3mi9hvsr+E2rQz2+asv1gzo4eeQaS/tKaKoAtyor8gLF/NSIdxP1i+DjCpPJ0/xAL/Nv+aoj94GalvZS+eP6B241yWHJs/sCy0ktaSnD+ASug48waTP4CKhjt/bn4/QBJbeKIkkT9A3mM9gLl/Pw==",
          "dtype": "f8"
         },
         "yaxis": "y4"
        },
        {
         "line": {
          "color": "blue"
         },
         "mode": "lines",
         "name": "%K",
         "showlegend": false,
         "type": "scatter",
         "x": [
          "2024-09-30T00:00:00",
          "2024-10-01T00:00:00",
          "2024-10-03T00:00:00",
          "2024-10-09T00:00:00",
          "2024-10-11T00:00:00",
          "2024-10-14T00:00:00",
          "2024-10-16T00:00:00",
          "2024-10-17T00:00:00",
          "2024-10-23T00:00:00",
          "2024-11-06T00:00:00",
          "2024-11-07T00:00:00",
          "2024-11-08T00:00:00",
          "2024-11-11T00:00:00",
          "2024-11-27T00:00:00",
          "2024-12-26T00:00:00",
          "2024-12-27T00:00:00",
          "2024-12-30T00:00:00",
          "2024-12-31T00:00:00",
          "2025-01-09T00:00:00",
          "2025-01-13T00:00:00",
          "2025-02-03T00:00:00",
          "2025-02-04T00:00:00",
          "2025-02-05T00:00:00",
          "2025-02-06T00:00:00",
          "2025-02-12T00:00:00",
          "2025-02-21T00:00:00",
          "2025-03-21T00:00:00",
          "2025-03-24T00:00:00",
          "2025-03-25T00:00:00",
          "2025-03-26T00:00:00",
          "2025-04-21T00:00:00",
          "2025-04-30T00:00:00",
          "2025-05-02T00:00:00",
          "2025-05-28T00:00:00",
          "2025-06-11T00:00:00",
          "2025-06-13T00:00:00",
          "2025-06-16T00:00:00",
          "2025-06-18T00:00:00",
          "2025-06-19T00:00:00",
          "2025-06-20T00:00:00",
          "2025-06-26T00:00:00",
          "2025-06-27T00:00:00",
          "2025-06-30T00:00:00",
          "2025-07-02T00:00:00",
          "2025-07-03T00:00:00",
          "2025-07-04T00:00:00",
          "2025-07-07T00:00:00",
          "2025-07-08T00:00:00",
          "2025-07-10T00:00:00",
          "2025-07-11T00:00:00",
          "2025-07-14T00:00:00",
          "2025-07-15T00:00:00",
          "2025-07-16T00:00:00",
          "2025-07-17T00:00:00",
          "2025-07-18T00:00:00",
          "2025-07-21T00:00:00",
          "2025-07-22T00:00:00",
          "2025-07-23T00:00:00",
          "2025-07-24T00:00:00",
          "2025-07-25T00:00:00",
          "2025-07-28T00:00:00",
          "2025-07-29T00:00:00",
          "2025-07-30T00:00:00",
          "2025-07-31T00:00:00",
          "2025-08-01T00:00:00",
          "2025-08-04T00:00:00",
          "2025-08-05T00:00:00",
          "2025-08-06T00:00:00",
          "2025-08-07T00:00:00",
          "2025-08-08T00:00:00",
          "2025-08-11T00:00:00",
          "2025-08-12T00:00:00",
          "2025-08-13T00:00:00",
          "2025-08-14T00:00:00",
          "2025-08-18T00:00:00",
          "2025-08-19T00:00:00",
          "2025-08-20T00:00:00",
          "2025-08-21T00:00:00",
          "2025-08-22T00:00:00",
          "2025-08-25T00:00:00",
          "2025-08-26T00:00:00",
          "2025-08-28T00:00:00",
          "2025-08-29T00:00:00",
          "2025-09-01T00:00:00",
          "2025-09-02T00:00:00",
          "2025-09-03T00:00:00",
          "2025-09-04T00:00:00",
          "2025-09-05T00:00:00",
          "2025-09-09T00:00:00",
          "2025-09-10T00:00:00",
          "2025-09-11T00:00:00",
          "2025-09-12T00:00:00"
         ],
         "xaxis": "x5",
         "y": {
          "bdata": "AAAAAAAA+H8AAAAAAAD4fwAAAAAAAPh/AAAAAAAA+H8AAAAAAAD4fwAAAAAAAPh/AAAAAAAA+H8AAAAAAAD4fwAAAAAAAPh/AAAAAAAA+H8AAAAAAAD4fwAAAAAAAPh/AAAAAAAA+H8AAAAAAAA5QAAAAAAAAFlAEAAAAAAAWEAAAAAAAABZQAAAAAAAAFlAAAAAAAAAWUAAAAAAAABZQEdyHMdxHCdAAAAAAAAAWUCAwvUoXI86QKCZmZmZmUdAoJmZmZmZR0AAAAAAAABCQAAAAAAAADRAZPGtPw2HMEBmVlOL1gYQQAAAAAAAAAAA7qwpa8qaIkAAAAAAAAAAAO4R2AdDDgRABbv2agbxIkDHuPsJPm8wQCl8cfWDjkJAn37QUYEvT0Bru1meRKZFQGJ6zN9rI1FAIbixDEqFVkAAAAAAAABZQE7dhk0guEBAfj3EETLqPkBD+300q5xCQCNVY+lLSjhANfCjWeW0PEDxRwomcxBAQGaqqqqq6jFAh1VVVVVVF0CHVVVVVVU3QL2qqqqqajlAvaqqqqpqOUANVVVVVRU7QBcAAAAAQEBAAAAAAAAAWUAgx3Ecx/FVQBwAAAAAgFZAMY7jOI6jVkDLqqqqqupWQFRXczVXc1hA4C3f8i3fWEBZAr1T1/JXQAEAAAAAAFhAzsEU+ay7V0DhusEU+YxWQHgwRT7r5ldARu+ZRO8ZWECFMNuFMNtXQFBQUFBQ0FVAN0Nr9+EWVUBoCyiM6jRWQAVnQCi5U1ZAx4fG+tBYUUCZMAzDMAxTQHEzUjG3OklAnSQxb2dIHEDQDol5O0MqQOj/////f0BAoP////9/TEB4//////9OQBoAAAAAwFJAjrgj7oi7UUDQm6Nvjr5WQL8BswfMHldA8s+EPxP+VUDCayivobxTQMkDZg+YPVVANEtLS0vLVkC6tLS0tPRUQIeHh4eHZ1RAWZo0adIkWEA0ZzGdxfRTQA==",
          "dtype": "f8"
         },
         "yaxis": "y5"
        },
        {
         "line": {
          "color": "red"
         },
         "mode": "lines",
         "name": "%D",
         "showlegend": false,
         "type": "scatter",
         "x": [
          "2024-09-30T00:00:00",
          "2024-10-01T00:00:00",
          "2024-10-03T00:00:00",
          "2024-10-09T00:00:00",
          "2024-10-11T00:00:00",
          "2024-10-14T00:00:00",
          "2024-10-16T00:00:00",
          "2024-10-17T00:00:00",
          "2024-10-23T00:00:00",
          "2024-11-06T00:00:00",
          "2024-11-07T00:00:00",
          "2024-11-08T00:00:00",
          "2024-11-11T00:00:00",
          "2024-11-27T00:00:00",
          "2024-12-26T00:00:00",
          "2024-12-27T00:00:00",
          "2024-12-30T00:00:00",
          "2024-12-31T00:00:00",
          "2025-01-09T00:00:00",
          "2025-01-13T00:00:00",
          "2025-02-03T00:00:00",
          "2025-02-04T00:00:00",
          "2025-02-05T00:00:00",
          "2025-02-06T00:00:00",
          "2025-02-12T00:00:00",
          "2025-02-21T00:00:00",
          "2025-03-21T00:00:00",
          "2025-03-24T00:00:00",
          "2025-03-25T00:00:00",
          "2025-03-26T00:00:00",
          "2025-04-21T00:00:00",
          "2025-04-30T00:00:00",
          "2025-05-02T00:00:00",
          "2025-05-28T00:00:00",
          "2025-06-11T00:00:00",
          "2025-06-13T00:00:00",
          "2025-06-16T00:00:00",
          "2025-06-18T00:00:00",
          "2025-06-19T00:00:00",
          "2025-06-20T00:00:00",
          "2025-06-26T00:00:00",
          "2025-06-27T00:00:00",
          "2025-06-30T00:00:00",
          "2025-07-02T00:00:00",
          "2025-07-03T00:00:00",
          "2025-07-04T00:00:00",
          "2025-07-07T00:00:00",
          "2025-07-08T00:00:00",
          "2025-07-10T00:00:00",
          "2025-07-11T00:00:00",
          "2025-07-14T00:00:00",
          "2025-07-15T00:00:00",
          "2025-07-16T00:00:00",
          "2025-07-17T00:00:00",
          "2025-07-18T00:00:00",
          "2025-07-21T00:00:00",
          "2025-07-22T00:00:00",
          "2025-07-23T00:00:00",
          "2025-07-24T00:00:00",
          "2025-07-25T00:00:00",
          "2025-07-28T00:00:00",
          "2025-07-29T00:00:00",
          "2025-07-30T00:00:00",
          "2025-07-31T00:00:00",
          "2025-08-01T00:00:00",
          "2025-08-04T00:00:00",
          "2025-08-05T00:00:00",
          "2025-08-06T00:00:00",
          "2025-08-07T00:00:00",
          "2025-08-08T00:00:00",
          "2025-08-11T00:00:00",
          "2025-08-12T00:00:00",
          "2025-08-13T00:00:00",
          "2025-08-14T00:00:00",
          "2025-08-18T00:00:00",
          "2025-08-19T00:00:00",
          "2025-08-20T00:00:00",
          "2025-08-21T00:00:00",
          "2025-08-22T00:00:00",
          "2025-08-25T00:00:00",
          "2025-08-26T00:00:00",
          "2025-08-28T00:00:00",
          "2025-08-29T00:00:00",
          "2025-09-01T00:00:00",
          "2025-09-02T00:00:00",
          "2025-09-03T00:00:00",
          "2025-09-04T00:00:00",
          "2025-09-05T00:00:00",
          "2025-09-09T00:00:00",
          "2025-09-10T00:00:00",
          "2025-09-11T00:00:00",
          "2025-09-12T00:00:00"
         ],
         "xaxis": "x5",
         "y": {
          "bdata": "AAAAAAAA+H8AAAAAAAD4fwAAAAAAAPh/AAAAAAAA+H8AAAAAAAD4fwAAAAAAAPh/AAAAAAAA+H8AAAAAAAD4fwAAAAAAAPh/AAAAAAAA+H8AAAAAAAD4fwAAAAAAAPh/AAAAAAAA+H8AAAAAAAD4fwAAAAAAAPh/sKqqqqpqUkCwqqqqqqpYQLCqqqqqqlhAAAAAAAAAWUAAAAAAAABZQBjaS2gvoVFAGNpLaC+hUUDwqcAs7gRHQPUoXI/C9UxAK1yPwvUoREDAu7u7u7tFQDUzMzMzM0FAd1CPagQtOECphKxB1wUrQKhertgDYRtAwTridc6+EUCT5ow5Y84IQI3s1ObOfQ9AAKo7kcnwD0AFu/ZqBvEiQDRac2OYATVAZPK/buFRQ0AQkt6hGMxHQJsPQeWJCU1AvVqOvvLTUEAsZn/5kY1VQENifGZzoFJAr/4icmhkS0DFp/fY9u1AQGPYC8xGzz5A9RMB5NcSPkBonF7aB2A8QCkOIXAnQDpAjtoGxEygMkA1juM4jmMvQDfHcRzHMTJAq+M4juO4OECD4ziO4/g5QFNVVVVVVTxAi+M4juOYSkC5l9BeQltSQGlCewntJVdAz3Ecx3FcVkAIE9pLaK9WQHCFALPaVVdAVWVURmUUWECEglopdGxYQBMQNMIBRlhADexFxNbkV0DlfkevjG1XQGPks24wZVdANZ413ZuEV0AXcJOtA/RXQLR67AjQQVdABOzcmctAVkBQivabCbRVQOGRRjnX31VAEf5kOnygVEAhtVv36JJTQLPw0xwfVlBAE5PF4WFJRkDQZ7xTt403QMqahd3nuzFAv2vL9EQwQUAAVVVVVVVJQI2qqqqqKlBAdz1hT9hTUUAoHO3JB75TQF/HKHf2MlVA1Xme53meVkDRaXWn1Z1VQNS/W/9u/VRAlZNIA9dBVUCTVnda3alVQHyCgoKCYlVAM/J6jK/VVUBc2PnZX4BVQA==",
          "dtype": "f8"
         },
         "yaxis": "y5"
        }
       ],
       "layout": {
        "annotations": [
         {
          "font": {
           "size": 16
          },
          "showarrow": false,
          "text": "USD-INR Futures Analysis",
          "x": 0.5,
          "xanchor": "center",
          "xref": "paper",
          "y": 1,
          "yanchor": "bottom",
          "yref": "paper"
         },
         {
          "font": {
           "size": 16
          },
          "showarrow": false,
          "text": "Volume",
          "x": 0.5,
          "xanchor": "center",
          "xref": "paper",
          "y": 0.42800000000000005,
          "yanchor": "bottom",
          "yref": "paper"
         },
         {
          "font": {
           "size": 16
          },
          "showarrow": false,
          "text": "RSI (14)",
          "x": 0.5,
          "xanchor": "center",
          "xref": "paper",
          "y": 0.27,
          "yanchor": "bottom",
          "yref": "paper"
         },
         {
          "font": {
           "size": 16
          },
          "showarrow": false,
          "text": "MACD",
          "x": 0.5,
          "xanchor": "center",
          "xref": "paper",
          "y": 0.15800000000000003,
          "yanchor": "bottom",
          "yref": "paper"
         },
         {
          "font": {
           "size": 16
          },
          "showarrow": false,
          "text": "Stochastic",
          "x": 0.5,
          "xanchor": "center",
          "xref": "paper",
          "y": 0.046000000000000006,
          "yanchor": "bottom",
          "yref": "paper"
         },
         {
          "showarrow": false,
          "text": "Overbought",
          "x": 1,
          "xanchor": "right",
          "xref": "x3 domain",
          "y": 70,
          "yanchor": "bottom",
          "yref": "y3"
         },
         {
          "showarrow": false,
          "text": "Oversold",
          "x": 1,
          "xanchor": "right",
          "xref": "x3 domain",
          "y": 30,
          "yanchor": "bottom",
          "yref": "y3"
         }
        ],
        "height": 800,
        "legend": {
         "orientation": "h",
         "x": 1,
         "xanchor": "right",
         "y": 1.02,
         "yanchor": "bottom"
        },
        "shapes": [
         {
          "line": {
           "color": "red",
           "dash": "dash"
          },
          "type": "line",
          "x0": 0,
          "x1": 1,
          "xref": "x3 domain",
          "y0": 70,
          "y1": 70,
          "yref": "y3"
         },
         {
          "line": {
           "color": "green",
           "dash": "dash"
          },
          "type": "line",
          "x0": 0,
          "x1": 1,
          "xref": "x3 domain",
          "y0": 30,
          "y1": 30,
          "yref": "y3"
         },
         {
          "line": {
           "color": "gray",
           "dash": "dot"
          },
          "type": "line",
          "x0": 0,
          "x1": 1,
          "xref": "x3 domain",
          "y0": 50,
          "y1": 50,
          "yref": "y3"
         },
         {
          "line": {
           "color": "red",
           "dash": "dash"
          },
          "type": "line",
          "x0": 0,
          "x1": 1,
          "xref": "x5 domain",
          "y0": 80,
          "y1": 80,
          "yref": "y5"
         },
         {
          "line": {
           "color": "green",
           "dash": "dash"
          },
          "type": "line",
          "x0": 0,
          "x1": 1,
          "xref": "x5 domain",
          "y0": 20,
          "y1": 20,
          "yref": "y5"
         }
        ],
        "showlegend": true,
        "template": {
         "data": {
          "bar": [
           {
            "error_x": {
             "color": "#2a3f5f"
            },
            "error_y": {
             "color": "#2a3f5f"
            },
            "marker": {
             "line": {
              "color": "#E5ECF6",
              "width": 0.5
             },
             "pattern": {
              "fillmode": "overlay",
              "size": 10,
              "solidity": 0.2
             }
            },
            "type": "bar"
           }
          ],
          "barpolar": [
           {
            "marker": {
             "line": {
              "color": "#E5ECF6",
              "width": 0.5
             },
             "pattern": {
              "fillmode": "overlay",
              "size": 10,
              "solidity": 0.2
             }
            },
            "type": "barpolar"
           }
          ],
          "carpet": [
           {
            "aaxis": {
             "endlinecolor": "#2a3f5f",
             "gridcolor": "white",
             "linecolor": "white",
             "minorgridcolor": "white",
             "startlinecolor": "#2a3f5f"
            },
            "baxis": {
             "endlinecolor": "#2a3f5f",
             "gridcolor": "white",
             "linecolor": "white",
             "minorgridcolor": "white",
             "startlinecolor": "#2a3f5f"
            },
            "type": "carpet"
           }
          ],
          "choropleth": [
           {
            "colorbar": {
             "outlinewidth": 0,
             "ticks": ""
            },
            "type": "choropleth"
           }
          ],
          "contour": [
           {
            "colorbar": {
             "outlinewidth": 0,
             "ticks": ""
            },
            "colorscale": [
             [
              0,
              "#0d0887"
             ],
             [
              0.1111111111111111,
              "#46039f"
             ],
             [
              0.2222222222222222,
              "#7201a8"
             ],
             [
              0.3333333333333333,
              "#9c179e"
             ],
             [
              0.4444444444444444,
              "#bd3786"
             ],
             [
              0.5555555555555556,
              "#d8576b"
             ],
             [
              0.6666666666666666,
              "#ed7953"
             ],
             [
              0.7777777777777778,
              "#fb9f3a"
             ],
             [
              0.8888888888888888,
              "#fdca26"
             ],
             [
              1,
              "#f0f921"
             ]
            ],
            "type": "contour"
           }
          ],
          "contourcarpet": [
           {
            "colorbar": {
             "outlinewidth": 0,
             "ticks": ""
            },
            "type": "contourcarpet"
           }
          ],
          "heatmap": [
           {
            "colorbar": {
             "outlinewidth": 0,
             "ticks": ""
            },
            "colorscale": [
             [
              0,
              "#0d0887"
             ],
             [
              0.1111111111111111,
              "#46039f"
             ],
             [
              0.2222222222222222,
              "#7201a8"
             ],
             [
              0.3333333333333333,
              "#9c179e"
             ],
             [
              0.4444444444444444,
              "#bd3786"
             ],
             [
              0.5555555555555556,
              "#d8576b"
             ],
             [
              0.6666666666666666,
              "#ed7953"
             ],
             [
              0.7777777777777778,
              "#fb9f3a"
             ],
             [
              0.8888888888888888,
              "#fdca26"
             ],
             [
              1,
              "#f0f921"
             ]
            ],
            "type": "heatmap"
           }
          ],
          "histogram": [
           {
            "marker": {
             "pattern": {
              "fillmode": "overlay",
              "size": 10,
              "solidity": 0.2
             }
            },
            "type": "histogram"
           }
          ],
          "histogram2d": [
           {
            "colorbar": {
             "outlinewidth": 0,
             "ticks": ""
            },
            "colorscale": [
             [
              0,
              "#0d0887"
             ],
             [
              0.1111111111111111,
              "#46039f"
             ],
             [
              0.2222222222222222,
              "#7201a8"
             ],
             [
              0.3333333333333333,
              "#9c179e"
             ],
             [
              0.4444444444444444,
              "#bd3786"
             ],
             [
              0.5555555555555556,
              "#d8576b"
             ],
             [
              0.6666666666666666,
              "#ed7953"
             ],
             [
              0.7777777777777778,
              "#fb9f3a"
             ],
             [
              0.8888888888888888,
              "#fdca26"
             ],
             [
              1,
              "#f0f921"
             ]
            ],
            "type": "histogram2d"
           }
          ],
          "histogram2dcontour": [
           {
            "colorbar": {
             "outlinewidth": 0,
             "ticks": ""
            },
            "colorscale": [
             [
              0,
              "#0d0887"
             ],
             [
              0.1111111111111111,
              "#46039f"
             ],
             [
              0.2222222222222222,
              "#7201a8"
             ],
             [
              0.3333333333333333,
              "#9c179e"
             ],
             [
              0.4444444444444444,
              "#bd3786"
             ],
             [
              0.5555555555555556,
              "#d8576b"
             ],
             [
              0.6666666666666666,
              "#ed7953"
             ],
             [
              0.7777777777777778,
              "#fb9f3a"
             ],
             [
              0.8888888888888888,
              "#fdca26"
             ],
             [
              1,
              "#f0f921"
             ]
            ],
            "type": "histogram2dcontour"
           }
          ],
          "mesh3d": [
           {
            "colorbar": {
             "outlinewidth": 0,
             "ticks": ""
            },
            "type": "mesh3d"
           }
          ],
          "parcoords": [
           {
            "line": {
             "colorbar": {
              "outlinewidth": 0,
              "ticks": ""
             }
            },
            "type": "parcoords"
           }
          ],
          "pie": [
           {
            "automargin": true,
            "type": "pie"
           }
          ],
          "scatter": [
           {
            "fillpattern": {
             "fillmode": "overlay",
             "size": 10,
             "solidity": 0.2
            },
            "type": "scatter"
           }
          ],
          "scatter3d": [
           {
            "line": {
             "colorbar": {
              "outlinewidth": 0,
              "ticks": ""
             }
            },
            "marker": {
             "colorbar": {
              "outlinewidth": 0,
              "ticks": ""
             }
            },
            "type": "scatter3d"
           }
          ],
          "scattercarpet": [
           {
            "marker": {
             "colorbar": {
              "outlinewidth": 0,
              "ticks": ""
             }
            },
            "type": "scattercarpet"
           }
          ],
          "scattergeo": [
           {
            "marker": {
             "colorbar": {
              "outlinewidth": 0,
              "ticks": ""
             }
            },
            "type": "scattergeo"
           }
          ],
          "scattergl": [
           {
            "marker": {
             "colorbar": {
              "outlinewidth": 0,
              "ticks": ""
             }
            },
            "type": "scattergl"
           }
          ],
          "scattermap": [
           {
            "marker": {
             "colorbar": {
              "outlinewidth": 0,
              "ticks": ""
             }
            },
            "type": "scattermap"
           }
          ],
          "scattermapbox": [
           {
            "marker": {
             "colorbar": {
              "outlinewidth": 0,
              "ticks": ""
             }
            },
            "type": "scattermapbox"
           }
          ],
          "scatterpolar": [
           {
            "marker": {
             "colorbar": {
              "outlinewidth": 0,
              "ticks": ""
             }
            },
            "type": "scatterpolar"
           }
          ],
          "scatterpolargl": [
           {
            "marker": {
             "colorbar": {
              "outlinewidth": 0,
              "ticks": ""
             }
            },
            "type": "scatterpolargl"
           }
          ],
          "scatterternary": [
           {
            "marker": {
             "colorbar": {
              "outlinewidth": 0,
              "ticks": ""
             }
            },
            "type": "scatterternary"
           }
          ],
          "surface": [
           {
            "colorbar": {
             "outlinewidth": 0,
             "ticks": ""
            },
            "colorscale": [
             [
              0,
              "#0d0887"
             ],
             [
              0.1111111111111111,
              "#46039f"
             ],
             [
              0.2222222222222222,
              "#7201a8"
             ],
             [
              0.3333333333333333,
              "#9c179e"
             ],
             [
              0.4444444444444444,
              "#bd3786"
             ],
             [
              0.5555555555555556,
              "#d8576b"
             ],
             [
              0.6666666666666666,
              "#ed7953"
             ],
             [
              0.7777777777777778,
              "#fb9f3a"
             ],
             [
              0.8888888888888888,
              "#fdca26"
             ],
             [
              1,
              "#f0f921"
             ]
            ],
            "type": "surface"
           }
          ],
          "table": [
           {
            "cells": {
             "fill": {
              "color": "#EBF0F8"
             },
             "line": {
              "color": "white"
             }
            },
            "header": {
             "fill": {
              "color": "#C8D4E3"
             },
             "line": {
              "color": "white"
             }
            },
            "type": "table"
           }
          ]
         },
         "layout": {
          "annotationdefaults": {
           "arrowcolor": "#2a3f5f",
           "arrowhead": 0,
           "arrowwidth": 1
          },
          "autotypenumbers": "strict",
          "coloraxis": {
           "colorbar": {
            "outlinewidth": 0,
            "ticks": ""
           }
          },
          "colorscale": {
           "diverging": [
            [
             0,
             "#8e0152"
            ],
            [
             0.1,
             "#c51b7d"
            ],
            [
             0.2,
             "#de77ae"
            ],
            [
             0.3,
             "#f1b6da"
            ],
            [
             0.4,
             "#fde0ef"
            ],
            [
             0.5,
             "#f7f7f7"
            ],
            [
             0.6,
             "#e6f5d0"
            ],
            [
             0.7,
             "#b8e186"
            ],
            [
             0.8,
             "#7fbc41"
            ],
            [
             0.9,
             "#4d9221"
            ],
            [
             1,
             "#276419"
            ]
           ],
           "sequential": [
            [
             0,
             "#0d0887"
            ],
            [
             0.1111111111111111,
             "#46039f"
            ],
            [
             0.2222222222222222,
             "#7201a8"
            ],
            [
             0.3333333333333333,
             "#9c179e"
            ],
            [
             0.4444444444444444,
             "#bd3786"
            ],
            [
             0.5555555555555556,
             "#d8576b"
            ],
            [
             0.6666666666666666,
             "#ed7953"
            ],
            [
             0.7777777777777778,
             "#fb9f3a"
            ],
            [
             0.8888888888888888,
             "#fdca26"
            ],
            [
             1,
             "#f0f921"
            ]
           ],
           "sequentialminus": [
            [
             0,
             "#0d0887"
            ],
            [
             0.1111111111111111,
             "#46039f"
            ],
            [
             0.2222222222222222,
             "#7201a8"
            ],
            [
             0.3333333333333333,
             "#9c179e"
            ],
            [
             0.4444444444444444,
             "#bd3786"
            ],
            [
             0.5555555555555556,
             "#d8576b"
            ],
            [
             0.6666666666666666,
             "#ed7953"
            ],
            [
             0.7777777777777778,
             "#fb9f3a"
            ],
            [
             0.8888888888888888,
             "#fdca26"
            ],
            [
             1,
             "#f0f921"
            ]
           ]
          },
          "colorway": [
           "#636efa",
           "#EF553B",
           "#00cc96",
           "#ab63fa",
           "#FFA15A",
           "#19d3f3",
           "#FF6692",
           "#B6E880",
           "#FF97FF",
           "#FECB52"
          ],
          "font": {
           "color": "#2a3f5f"
          },
          "geo": {
           "bgcolor": "white",
           "lakecolor": "white",
           "landcolor": "#E5ECF6",
           "showlakes": true,
           "showland": true,
           "subunitcolor": "white"
          },
          "hoverlabel": {
           "align": "left"
          },
          "hovermode": "closest",
          "mapbox": {
           "style": "light"
          },
          "paper_bgcolor": "white",
          "plot_bgcolor": "#E5ECF6",
          "polar": {
           "angularaxis": {
            "gridcolor": "white",
            "linecolor": "white",
            "ticks": ""
           },
           "bgcolor": "#E5ECF6",
           "radialaxis": {
            "gridcolor": "white",
            "linecolor": "white",
            "ticks": ""
           }
          },
          "scene": {
           "xaxis": {
            "backgroundcolor": "#E5ECF6",
            "gridcolor": "white",
            "gridwidth": 2,
            "linecolor": "white",
            "showbackground": true,
            "ticks": "",
            "zerolinecolor": "white"
           },
           "yaxis": {
            "backgroundcolor": "#E5ECF6",
            "gridcolor": "white",
            "gridwidth": 2,
            "linecolor": "white",
            "showbackground": true,
            "ticks": "",
            "zerolinecolor": "white"
           },
           "zaxis": {
            "backgroundcolor": "#E5ECF6",
            "gridcolor": "white",
            "gridwidth": 2,
            "linecolor": "white",
            "showbackground": true,
            "ticks": "",
            "zerolinecolor": "white"
           }
          },
          "shapedefaults": {
           "line": {
            "color": "#2a3f5f"
           }
          },
          "ternary": {
           "aaxis": {
            "gridcolor": "white",
            "linecolor": "white",
            "ticks": ""
           },
           "baxis": {
            "gridcolor": "white",
            "linecolor": "white",
            "ticks": ""
           },
           "bgcolor": "#E5ECF6",
           "caxis": {
            "gridcolor": "white",
            "linecolor": "white",
            "ticks": ""
           }
          },
          "title": {
           "x": 0.05
          },
          "xaxis": {
           "automargin": true,
           "gridcolor": "white",
           "linecolor": "white",
           "ticks": "",
           "title": {
            "standoff": 15
           },
           "zerolinecolor": "white",
           "zerolinewidth": 2
          },
          "yaxis": {
           "automargin": true,
           "gridcolor": "white",
           "linecolor": "white",
           "ticks": "",
           "title": {
            "standoff": 15
           },
           "zerolinecolor": "white",
           "zerolinewidth": 2
          }
         }
        },
        "title": {
         "text": "USD-INR Futures Analysis - Advanced Technical Analysis"
        },
        "xaxis": {
         "anchor": "y",
         "domain": [
          0,
          1
         ],
         "matches": "x5",
         "rangeslider": {
          "visible": false
         },
         "showticklabels": false
        },
        "xaxis2": {
         "anchor": "y2",
         "domain": [
          0,
          1
         ],
         "matches": "x5",
         "showticklabels": false
        },
        "xaxis3": {
         "anchor": "y3",
         "domain": [
          0,
          1
         ],
         "matches": "x5",
         "showticklabels": false
        },
        "xaxis4": {
         "anchor": "y4",
         "domain": [
          0,
          1
         ],
         "matches": "x5",
         "showticklabels": false
        },
        "xaxis5": {
         "anchor": "y5",
         "domain": [
          0,
          1
         ],
         "title": {
          "text": "Date"
         }
        },
        "yaxis": {
         "anchor": "x",
         "domain": [
          0.44800000000000006,
          1
         ]
        },
        "yaxis2": {
         "anchor": "x2",
         "domain": [
          0.29000000000000004,
          0.42800000000000005
         ]
        },
        "yaxis3": {
         "anchor": "x3",
         "domain": [
          0.17800000000000002,
          0.27
         ]
        },
        "yaxis4": {
         "anchor": "x4",
         "domain": [
          0.066,
          0.15800000000000003
         ]
        },
        "yaxis5": {
         "anchor": "x5",
         "domain": [
          0,
          0.046000000000000006
         ]
        }
       }
      }
     },
     "metadata": {},
     "output_type": "display_data"
    }
   ],
   "source": [
    "# Create the chart\n",
    "fig = create_usdinr_chart()\n",
    "\n",
    "# Display in Jupyter (optional)\n",
    "fig.show()"
   ]
  }
 ],
 "metadata": {
  "kernelspec": {
   "display_name": "base",
   "language": "python",
   "name": "python3"
  },
  "language_info": {
   "codemirror_mode": {
    "name": "ipython",
    "version": 3
   },
   "file_extension": ".py",
   "mimetype": "text/x-python",
   "name": "python",
   "nbconvert_exporter": "python",
   "pygments_lexer": "ipython3",
   "version": "3.11.11"
  }
 },
 "nbformat": 4,
 "nbformat_minor": 5
}
