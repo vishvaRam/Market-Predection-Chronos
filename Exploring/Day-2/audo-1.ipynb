{
 "cells": [
  {
   "cell_type": "code",
   "execution_count": 43,
   "metadata": {},
   "outputs": [
    {
     "name": "stdout",
     "output_type": "stream",
     "text": [
      "Loading data from Data/Quote-CD-USDINR-15-09-2024-to-15-09-2025.csv...\n",
      "Predicting last 4 days using context of 30 days...\n",
      "Predicting day 1/4: 2025-09-10\n",
      "  ✓ tiny: 88.2013\n",
      "  ✓ mini: 88.0084\n",
      "  ✓ small: 87.9763\n",
      "  ✓ base: 88.0406\n",
      "  🎯 Ensemble: 88.0422 (Actual: 88.2200)\n",
      "Predicting day 2/4: 2025-09-11\n",
      "  ✓ tiny: 87.9946\n",
      "  ✓ mini: 88.0589\n",
      "  ✓ small: 87.9625\n",
      "  ✓ base: 87.9625\n",
      "  🎯 Ensemble: 87.9866 (Actual: 88.2500)\n",
      "Predicting day 3/4: 2025-09-12\n",
      "  ✓ tiny: 88.1075\n",
      "  ✓ mini: 88.1075\n",
      "  ✓ small: 88.0109\n",
      "  ✓ base: 88.1075\n",
      "  🎯 Ensemble: 88.0833 (Actual: 88.3000)\n",
      "Predicting day 4/4: 2025-09-15\n",
      "  ✓ tiny: 88.1822\n",
      "  ✓ mini: 88.1499\n",
      "  ✓ small: 87.9890\n",
      "  ✓ base: 88.3109\n",
      "  🎯 Ensemble: 88.1789 (Actual: 88.3000)\n",
      "\n",
      "Creating visualizations...\n",
      "Interactive plot saved as 'prediction_analysis.html'\n",
      "\n",
      "Prediction Metrics:\n",
      "        Model    MAE    MSE   RMSE  MAPE (%)  Predictions\n",
      "chronos_small 0.2828 0.0806 0.2839    0.3204            4\n",
      " chronos_mini 0.1863 0.0352 0.1876    0.2111            4\n",
      " chronos_tiny 0.1461 0.0291 0.1707    0.1655            4\n",
      " chronos_base 0.1676 0.0380 0.1950    0.1899            4\n",
      "     ensemble 0.1947 0.0407 0.2016    0.2206            4\n",
      "\n",
      "Results saved to CSV files\n"
     ]
    },
    {
     "data": {
      "application/vnd.plotly.v1+json": {
       "config": {
        "plotlyServerURL": "https://plot.ly"
       },
       "data": [
        {
         "line": {
          "color": "black",
          "width": 3
         },
         "marker": {
          "size": 8
         },
         "mode": "lines+markers",
         "name": "Actual",
         "type": "scatter",
         "x": [
          "2025-09-10T00:00:00",
          "2025-09-11T00:00:00",
          "2025-09-12T00:00:00",
          "2025-09-15T00:00:00"
         ],
         "xaxis": "x",
         "y": [
          88.22,
          88.25,
          88.3,
          88.3
         ],
         "yaxis": "y"
        },
        {
         "line": {
          "color": "rgb(141,211,199)"
         },
         "marker": {
          "size": 6
         },
         "mode": "lines+markers",
         "name": "chronos_base",
         "type": "scatter",
         "x": [
          "2025-09-10T00:00:00",
          "2025-09-11T00:00:00",
          "2025-09-12T00:00:00",
          "2025-09-15T00:00:00"
         ],
         "xaxis": "x",
         "y": [
          88.04057312011719,
          87.96246337890625,
          88.10746765136719,
          88.31092834472656
         ],
         "yaxis": "y"
        },
        {
         "line": {
          "color": "rgb(141,211,199)"
         },
         "mode": "lines+markers",
         "name": "chronos_base Error",
         "showlegend": false,
         "type": "scatter",
         "x": [
          "2025-09-10T00:00:00",
          "2025-09-11T00:00:00",
          "2025-09-12T00:00:00",
          "2025-09-15T00:00:00"
         ],
         "xaxis": "x2",
         "y": [
          0.17942687988281136,
          0.28753662109375,
          0.19253234863280966,
          0.010928344726565342
         ],
         "yaxis": "y2"
        },
        {
         "line": {
          "color": "rgb(255,255,179)"
         },
         "marker": {
          "size": 6
         },
         "mode": "lines+markers",
         "name": "chronos_mini",
         "type": "scatter",
         "x": [
          "2025-09-10T00:00:00",
          "2025-09-11T00:00:00",
          "2025-09-12T00:00:00",
          "2025-09-15T00:00:00"
         ],
         "xaxis": "x",
         "y": [
          88.00843811035156,
          88.05894470214844,
          88.10746765136719,
          88.14994812011719
         ],
         "yaxis": "y"
        },
        {
         "line": {
          "color": "rgb(255,255,179)"
         },
         "mode": "lines+markers",
         "name": "chronos_mini Error",
         "showlegend": false,
         "type": "scatter",
         "x": [
          "2025-09-10T00:00:00",
          "2025-09-11T00:00:00",
          "2025-09-12T00:00:00",
          "2025-09-15T00:00:00"
         ],
         "xaxis": "x2",
         "y": [
          0.21156188964843636,
          0.1910552978515625,
          0.19253234863280966,
          0.15005187988280966
         ],
         "yaxis": "y2"
        },
        {
         "line": {
          "color": "rgb(190,186,218)"
         },
         "marker": {
          "size": 6
         },
         "mode": "lines+markers",
         "name": "chronos_small",
         "type": "scatter",
         "x": [
          "2025-09-10T00:00:00",
          "2025-09-11T00:00:00",
          "2025-09-12T00:00:00",
          "2025-09-15T00:00:00"
         ],
         "xaxis": "x",
         "y": [
          87.9762954711914,
          87.96246337890625,
          88.01093292236328,
          87.98897552490234
         ],
         "yaxis": "y"
        },
        {
         "line": {
          "color": "rgb(190,186,218)"
         },
         "mode": "lines+markers",
         "name": "chronos_small Error",
         "showlegend": false,
         "type": "scatter",
         "x": [
          "2025-09-10T00:00:00",
          "2025-09-11T00:00:00",
          "2025-09-12T00:00:00",
          "2025-09-15T00:00:00"
         ],
         "xaxis": "x2",
         "y": [
          0.2437045288085926,
          0.28753662109375,
          0.2890670776367159,
          0.3110244750976534
         ],
         "yaxis": "y2"
        },
        {
         "line": {
          "color": "rgb(251,128,114)"
         },
         "marker": {
          "size": 6
         },
         "mode": "lines+markers",
         "name": "chronos_tiny",
         "type": "scatter",
         "x": [
          "2025-09-10T00:00:00",
          "2025-09-11T00:00:00",
          "2025-09-12T00:00:00",
          "2025-09-15T00:00:00"
         ],
         "xaxis": "x",
         "y": [
          88.2012939453125,
          87.99462127685547,
          88.10746765136719,
          88.1821517944336
         ],
         "yaxis": "y"
        },
        {
         "line": {
          "color": "rgb(251,128,114)"
         },
         "mode": "lines+markers",
         "name": "chronos_tiny Error",
         "showlegend": false,
         "type": "scatter",
         "x": [
          "2025-09-10T00:00:00",
          "2025-09-11T00:00:00",
          "2025-09-12T00:00:00",
          "2025-09-15T00:00:00"
         ],
         "xaxis": "x2",
         "y": [
          0.018706054687498863,
          0.25537872314453125,
          0.19253234863280966,
          0.11784820556640341
         ],
         "yaxis": "y2"
        },
        {
         "line": {
          "color": "rgb(128,177,211)"
         },
         "marker": {
          "size": 6
         },
         "mode": "lines+markers",
         "name": "ensemble",
         "type": "scatter",
         "x": [
          "2025-09-10T00:00:00",
          "2025-09-11T00:00:00",
          "2025-09-12T00:00:00",
          "2025-09-15T00:00:00"
         ],
         "xaxis": "x",
         "y": [
          88.04218482971191,
          87.98658332824706,
          88.08333396911621,
          88.17892761230469
         ],
         "yaxis": "y"
        },
        {
         "line": {
          "color": "rgb(128,177,211)"
         },
         "mode": "lines+markers",
         "name": "ensemble Error",
         "showlegend": false,
         "type": "scatter",
         "x": [
          "2025-09-10T00:00:00",
          "2025-09-11T00:00:00",
          "2025-09-12T00:00:00",
          "2025-09-15T00:00:00"
         ],
         "xaxis": "x2",
         "y": [
          0.1778151702880848,
          0.26341667175293537,
          0.21666603088378622,
          0.12107238769530682
         ],
         "yaxis": "y2"
        },
        {
         "marker": {
          "color": [
           "rgb(141,211,199)",
           "rgb(255,255,179)",
           "rgb(190,186,218)",
           "rgb(251,128,114)",
           "rgb(128,177,211)"
          ]
         },
         "name": "Mean Absolute Error",
         "type": "bar",
         "x": [
          "chronos_base",
          "chronos_mini",
          "chronos_small",
          "chronos_tiny",
          "ensemble"
         ],
         "xaxis": "x3",
         "y": [
          0.1676060485839841,
          0.18630035400390454,
          0.282833175659178,
          0.1461163330078108,
          0.1947425651550283
         ],
         "yaxis": "y3"
        },
        {
         "marker": {
          "size": 6,
          "symbol": "triangle-down"
         },
         "mode": "markers",
         "name": "chronos_tiny P10",
         "showlegend": true,
         "type": "scatter",
         "x": [
          "2025-09-10T00:00:00"
         ],
         "xaxis": "x4",
         "y": [
          88.00843048095703
         ],
         "yaxis": "y4"
        },
        {
         "marker": {
          "size": 6,
          "symbol": "triangle-up"
         },
         "mode": "markers",
         "name": "chronos_tiny P90",
         "showlegend": true,
         "type": "scatter",
         "x": [
          "2025-09-10T00:00:00"
         ],
         "xaxis": "x4",
         "y": [
          88.71558380126953
         ],
         "yaxis": "y4"
        },
        {
         "marker": {
          "size": 6,
          "symbol": "triangle-down"
         },
         "mode": "markers",
         "name": "chronos_mini P10",
         "showlegend": true,
         "type": "scatter",
         "x": [
          "2025-09-10T00:00:00"
         ],
         "xaxis": "x4",
         "y": [
          87.42984771728516
         ],
         "yaxis": "y4"
        },
        {
         "marker": {
          "size": 6,
          "symbol": "triangle-up"
         },
         "mode": "markers",
         "name": "chronos_mini P90",
         "showlegend": true,
         "type": "scatter",
         "x": [
          "2025-09-10T00:00:00"
         ],
         "xaxis": "x4",
         "y": [
          88.13700103759766
         ],
         "yaxis": "y4"
        },
        {
         "marker": {
          "size": 6,
          "symbol": "triangle-down"
         },
         "mode": "markers",
         "name": "chronos_small P10",
         "showlegend": true,
         "type": "scatter",
         "x": [
          "2025-09-10T00:00:00"
         ],
         "xaxis": "x4",
         "y": [
          87.42984771728516
         ],
         "yaxis": "y4"
        },
        {
         "marker": {
          "size": 6,
          "symbol": "triangle-up"
         },
         "mode": "markers",
         "name": "chronos_small P90",
         "showlegend": true,
         "type": "scatter",
         "x": [
          "2025-09-10T00:00:00"
         ],
         "xaxis": "x4",
         "y": [
          88.13700103759766
         ],
         "yaxis": "y4"
        },
        {
         "marker": {
          "size": 6,
          "symbol": "triangle-down"
         },
         "mode": "markers",
         "name": "chronos_base P10",
         "showlegend": true,
         "type": "scatter",
         "x": [
          "2025-09-10T00:00:00"
         ],
         "xaxis": "x4",
         "y": [
          87.42984771728516
         ],
         "yaxis": "y4"
        },
        {
         "marker": {
          "size": 6,
          "symbol": "triangle-up"
         },
         "mode": "markers",
         "name": "chronos_base P90",
         "showlegend": true,
         "type": "scatter",
         "x": [
          "2025-09-10T00:00:00"
         ],
         "xaxis": "x4",
         "y": [
          88.71558380126953
         ],
         "yaxis": "y4"
        },
        {
         "marker": {
          "size": 6,
          "symbol": "triangle-down"
         },
         "mode": "markers",
         "name": "chronos_tiny P10",
         "showlegend": false,
         "type": "scatter",
         "x": [
          "2025-09-11T00:00:00"
         ],
         "xaxis": "x4",
         "y": [
          87.48003387451172
         ],
         "yaxis": "y4"
        },
        {
         "marker": {
          "size": 6,
          "symbol": "triangle-up"
         },
         "mode": "markers",
         "name": "chronos_tiny P90",
         "showlegend": false,
         "type": "scatter",
         "x": [
          "2025-09-11T00:00:00"
         ],
         "xaxis": "x4",
         "y": [
          88.1232681274414
         ],
         "yaxis": "y4"
        },
        {
         "marker": {
          "size": 6,
          "symbol": "triangle-down"
         },
         "mode": "markers",
         "name": "chronos_mini P10",
         "showlegend": false,
         "type": "scatter",
         "x": [
          "2025-09-11T00:00:00"
         ],
         "xaxis": "x4",
         "y": [
          87.48003387451172
         ],
         "yaxis": "y4"
        },
        {
         "marker": {
          "size": 6,
          "symbol": "triangle-up"
         },
         "mode": "markers",
         "name": "chronos_mini P90",
         "showlegend": false,
         "type": "scatter",
         "x": [
          "2025-09-11T00:00:00"
         ],
         "xaxis": "x4",
         "y": [
          88.18759155273438
         ],
         "yaxis": "y4"
        },
        {
         "marker": {
          "size": 6,
          "symbol": "triangle-down"
         },
         "mode": "markers",
         "name": "chronos_small P10",
         "showlegend": false,
         "type": "scatter",
         "x": [
          "2025-09-11T00:00:00"
         ],
         "xaxis": "x4",
         "y": [
          87.48003387451172
         ],
         "yaxis": "y4"
        },
        {
         "marker": {
          "size": 6,
          "symbol": "triangle-up"
         },
         "mode": "markers",
         "name": "chronos_small P90",
         "showlegend": false,
         "type": "scatter",
         "x": [
          "2025-09-11T00:00:00"
         ],
         "xaxis": "x4",
         "y": [
          88.1232681274414
         ],
         "yaxis": "y4"
        },
        {
         "marker": {
          "size": 6,
          "symbol": "triangle-down"
         },
         "mode": "markers",
         "name": "chronos_base P10",
         "showlegend": false,
         "type": "scatter",
         "x": [
          "2025-09-11T00:00:00"
         ],
         "xaxis": "x4",
         "y": [
          87.48003387451172
         ],
         "yaxis": "y4"
        },
        {
         "marker": {
          "size": 6,
          "symbol": "triangle-up"
         },
         "mode": "markers",
         "name": "chronos_base P90",
         "showlegend": false,
         "type": "scatter",
         "x": [
          "2025-09-11T00:00:00"
         ],
         "xaxis": "x4",
         "y": [
          88.1232681274414
         ],
         "yaxis": "y4"
        },
        {
         "marker": {
          "size": 6,
          "symbol": "triangle-down"
         },
         "mode": "markers",
         "name": "chronos_tiny P10",
         "showlegend": false,
         "type": "scatter",
         "x": [
          "2025-09-12T00:00:00"
         ],
         "xaxis": "x4",
         "y": [
          87.52822875976562
         ],
         "yaxis": "y4"
        },
        {
         "marker": {
          "size": 6,
          "symbol": "triangle-up"
         },
         "mode": "markers",
         "name": "chronos_tiny P90",
         "showlegend": false,
         "type": "scatter",
         "x": [
          "2025-09-12T00:00:00"
         ],
         "xaxis": "x4",
         "y": [
          88.17182159423828
         ],
         "yaxis": "y4"
        },
        {
         "marker": {
          "size": 6,
          "symbol": "triangle-down"
         },
         "mode": "markers",
         "name": "chronos_mini P10",
         "showlegend": false,
         "type": "scatter",
         "x": [
          "2025-09-12T00:00:00"
         ],
         "xaxis": "x4",
         "y": [
          87.52822875976562
         ],
         "yaxis": "y4"
        },
        {
         "marker": {
          "size": 6,
          "symbol": "triangle-up"
         },
         "mode": "markers",
         "name": "chronos_mini P90",
         "showlegend": false,
         "type": "scatter",
         "x": [
          "2025-09-12T00:00:00"
         ],
         "xaxis": "x4",
         "y": [
          88.17182159423828
         ],
         "yaxis": "y4"
        },
        {
         "marker": {
          "size": 6,
          "symbol": "triangle-down"
         },
         "mode": "markers",
         "name": "chronos_small P10",
         "showlegend": false,
         "type": "scatter",
         "x": [
          "2025-09-12T00:00:00"
         ],
         "xaxis": "x4",
         "y": [
          87.52822875976562
         ],
         "yaxis": "y4"
        },
        {
         "marker": {
          "size": 6,
          "symbol": "triangle-up"
         },
         "mode": "markers",
         "name": "chronos_small P90",
         "showlegend": false,
         "type": "scatter",
         "x": [
          "2025-09-12T00:00:00"
         ],
         "xaxis": "x4",
         "y": [
          88.17182159423828
         ],
         "yaxis": "y4"
        },
        {
         "marker": {
          "size": 6,
          "symbol": "triangle-down"
         },
         "mode": "markers",
         "name": "chronos_base P10",
         "showlegend": false,
         "type": "scatter",
         "x": [
          "2025-09-12T00:00:00"
         ],
         "xaxis": "x4",
         "y": [
          87.52822875976562
         ],
         "yaxis": "y4"
        },
        {
         "marker": {
          "size": 6,
          "symbol": "triangle-up"
         },
         "mode": "markers",
         "name": "chronos_base P90",
         "showlegend": false,
         "type": "scatter",
         "x": [
          "2025-09-12T00:00:00"
         ],
         "xaxis": "x4",
         "y": [
          88.17182159423828
         ],
         "yaxis": "y4"
        },
        {
         "marker": {
          "size": 6,
          "symbol": "triangle-down"
         },
         "mode": "markers",
         "name": "chronos_tiny P10",
         "showlegend": false,
         "type": "scatter",
         "x": [
          "2025-09-15T00:00:00"
         ],
         "xaxis": "x4",
         "y": [
          88.14994812011719
         ],
         "yaxis": "y4"
        },
        {
         "marker": {
          "size": 6,
          "symbol": "triangle-up"
         },
         "mode": "markers",
         "name": "chronos_tiny P90",
         "showlegend": false,
         "type": "scatter",
         "x": [
          "2025-09-15T00:00:00"
         ],
         "xaxis": "x4",
         "y": [
          88.21434020996094
         ],
         "yaxis": "y4"
        },
        {
         "marker": {
          "size": 6,
          "symbol": "triangle-down"
         },
         "mode": "markers",
         "name": "chronos_mini P10",
         "showlegend": false,
         "type": "scatter",
         "x": [
          "2025-09-15T00:00:00"
         ],
         "xaxis": "x4",
         "y": [
          87.57044219970703
         ],
         "yaxis": "y4"
        },
        {
         "marker": {
          "size": 6,
          "symbol": "triangle-up"
         },
         "mode": "markers",
         "name": "chronos_mini P90",
         "showlegend": false,
         "type": "scatter",
         "x": [
          "2025-09-15T00:00:00"
         ],
         "xaxis": "x4",
         "y": [
          88.85824584960938
         ],
         "yaxis": "y4"
        },
        {
         "marker": {
          "size": 6,
          "symbol": "triangle-down"
         },
         "mode": "markers",
         "name": "chronos_small P10",
         "showlegend": false,
         "type": "scatter",
         "x": [
          "2025-09-15T00:00:00"
         ],
         "xaxis": "x4",
         "y": [
          87.50605010986328
         ],
         "yaxis": "y4"
        },
        {
         "marker": {
          "size": 6,
          "symbol": "triangle-up"
         },
         "mode": "markers",
         "name": "chronos_small P90",
         "showlegend": false,
         "type": "scatter",
         "x": [
          "2025-09-15T00:00:00"
         ],
         "xaxis": "x4",
         "y": [
          88.21434020996094
         ],
         "yaxis": "y4"
        },
        {
         "marker": {
          "size": 6,
          "symbol": "triangle-down"
         },
         "mode": "markers",
         "name": "chronos_base P10",
         "showlegend": false,
         "type": "scatter",
         "x": [
          "2025-09-15T00:00:00"
         ],
         "xaxis": "x4",
         "y": [
          88.21434020996094
         ],
         "yaxis": "y4"
        },
        {
         "marker": {
          "size": 6,
          "symbol": "triangle-up"
         },
         "mode": "markers",
         "name": "chronos_base P90",
         "showlegend": false,
         "type": "scatter",
         "x": [
          "2025-09-15T00:00:00"
         ],
         "xaxis": "x4",
         "y": [
          88.85824584960938
         ],
         "yaxis": "y4"
        }
       ],
       "layout": {
        "annotations": [
         {
          "font": {
           "size": 16
          },
          "showarrow": false,
          "text": "Predictions vs Actuals",
          "x": 0.225,
          "xanchor": "center",
          "xref": "paper",
          "y": 1,
          "yanchor": "bottom",
          "yref": "paper"
         },
         {
          "font": {
           "size": 16
          },
          "showarrow": false,
          "text": "Prediction Errors",
          "x": 0.775,
          "xanchor": "center",
          "xref": "paper",
          "y": 1,
          "yanchor": "bottom",
          "yref": "paper"
         },
         {
          "font": {
           "size": 16
          },
          "showarrow": false,
          "text": "Model Comparison",
          "x": 0.225,
          "xanchor": "center",
          "xref": "paper",
          "y": 0.375,
          "yanchor": "bottom",
          "yref": "paper"
         },
         {
          "font": {
           "size": 16
          },
          "showarrow": false,
          "text": "Confidence Intervals",
          "x": 0.775,
          "xanchor": "center",
          "xref": "paper",
          "y": 0.375,
          "yanchor": "bottom",
          "yref": "paper"
         }
        ],
        "height": 800,
        "showlegend": true,
        "template": {
         "data": {
          "bar": [
           {
            "error_x": {
             "color": "#2a3f5f"
            },
            "error_y": {
             "color": "#2a3f5f"
            },
            "marker": {
             "line": {
              "color": "white",
              "width": 0.5
             },
             "pattern": {
              "fillmode": "overlay",
              "size": 10,
              "solidity": 0.2
             }
            },
            "type": "bar"
           }
          ],
          "barpolar": [
           {
            "marker": {
             "line": {
              "color": "white",
              "width": 0.5
             },
             "pattern": {
              "fillmode": "overlay",
              "size": 10,
              "solidity": 0.2
             }
            },
            "type": "barpolar"
           }
          ],
          "carpet": [
           {
            "aaxis": {
             "endlinecolor": "#2a3f5f",
             "gridcolor": "#C8D4E3",
             "linecolor": "#C8D4E3",
             "minorgridcolor": "#C8D4E3",
             "startlinecolor": "#2a3f5f"
            },
            "baxis": {
             "endlinecolor": "#2a3f5f",
             "gridcolor": "#C8D4E3",
             "linecolor": "#C8D4E3",
             "minorgridcolor": "#C8D4E3",
             "startlinecolor": "#2a3f5f"
            },
            "type": "carpet"
           }
          ],
          "choropleth": [
           {
            "colorbar": {
             "outlinewidth": 0,
             "ticks": ""
            },
            "type": "choropleth"
           }
          ],
          "contour": [
           {
            "colorbar": {
             "outlinewidth": 0,
             "ticks": ""
            },
            "colorscale": [
             [
              0,
              "#0d0887"
             ],
             [
              0.1111111111111111,
              "#46039f"
             ],
             [
              0.2222222222222222,
              "#7201a8"
             ],
             [
              0.3333333333333333,
              "#9c179e"
             ],
             [
              0.4444444444444444,
              "#bd3786"
             ],
             [
              0.5555555555555556,
              "#d8576b"
             ],
             [
              0.6666666666666666,
              "#ed7953"
             ],
             [
              0.7777777777777778,
              "#fb9f3a"
             ],
             [
              0.8888888888888888,
              "#fdca26"
             ],
             [
              1,
              "#f0f921"
             ]
            ],
            "type": "contour"
           }
          ],
          "contourcarpet": [
           {
            "colorbar": {
             "outlinewidth": 0,
             "ticks": ""
            },
            "type": "contourcarpet"
           }
          ],
          "heatmap": [
           {
            "colorbar": {
             "outlinewidth": 0,
             "ticks": ""
            },
            "colorscale": [
             [
              0,
              "#0d0887"
             ],
             [
              0.1111111111111111,
              "#46039f"
             ],
             [
              0.2222222222222222,
              "#7201a8"
             ],
             [
              0.3333333333333333,
              "#9c179e"
             ],
             [
              0.4444444444444444,
              "#bd3786"
             ],
             [
              0.5555555555555556,
              "#d8576b"
             ],
             [
              0.6666666666666666,
              "#ed7953"
             ],
             [
              0.7777777777777778,
              "#fb9f3a"
             ],
             [
              0.8888888888888888,
              "#fdca26"
             ],
             [
              1,
              "#f0f921"
             ]
            ],
            "type": "heatmap"
           }
          ],
          "histogram": [
           {
            "marker": {
             "pattern": {
              "fillmode": "overlay",
              "size": 10,
              "solidity": 0.2
             }
            },
            "type": "histogram"
           }
          ],
          "histogram2d": [
           {
            "colorbar": {
             "outlinewidth": 0,
             "ticks": ""
            },
            "colorscale": [
             [
              0,
              "#0d0887"
             ],
             [
              0.1111111111111111,
              "#46039f"
             ],
             [
              0.2222222222222222,
              "#7201a8"
             ],
             [
              0.3333333333333333,
              "#9c179e"
             ],
             [
              0.4444444444444444,
              "#bd3786"
             ],
             [
              0.5555555555555556,
              "#d8576b"
             ],
             [
              0.6666666666666666,
              "#ed7953"
             ],
             [
              0.7777777777777778,
              "#fb9f3a"
             ],
             [
              0.8888888888888888,
              "#fdca26"
             ],
             [
              1,
              "#f0f921"
             ]
            ],
            "type": "histogram2d"
           }
          ],
          "histogram2dcontour": [
           {
            "colorbar": {
             "outlinewidth": 0,
             "ticks": ""
            },
            "colorscale": [
             [
              0,
              "#0d0887"
             ],
             [
              0.1111111111111111,
              "#46039f"
             ],
             [
              0.2222222222222222,
              "#7201a8"
             ],
             [
              0.3333333333333333,
              "#9c179e"
             ],
             [
              0.4444444444444444,
              "#bd3786"
             ],
             [
              0.5555555555555556,
              "#d8576b"
             ],
             [
              0.6666666666666666,
              "#ed7953"
             ],
             [
              0.7777777777777778,
              "#fb9f3a"
             ],
             [
              0.8888888888888888,
              "#fdca26"
             ],
             [
              1,
              "#f0f921"
             ]
            ],
            "type": "histogram2dcontour"
           }
          ],
          "mesh3d": [
           {
            "colorbar": {
             "outlinewidth": 0,
             "ticks": ""
            },
            "type": "mesh3d"
           }
          ],
          "parcoords": [
           {
            "line": {
             "colorbar": {
              "outlinewidth": 0,
              "ticks": ""
             }
            },
            "type": "parcoords"
           }
          ],
          "pie": [
           {
            "automargin": true,
            "type": "pie"
           }
          ],
          "scatter": [
           {
            "fillpattern": {
             "fillmode": "overlay",
             "size": 10,
             "solidity": 0.2
            },
            "type": "scatter"
           }
          ],
          "scatter3d": [
           {
            "line": {
             "colorbar": {
              "outlinewidth": 0,
              "ticks": ""
             }
            },
            "marker": {
             "colorbar": {
              "outlinewidth": 0,
              "ticks": ""
             }
            },
            "type": "scatter3d"
           }
          ],
          "scattercarpet": [
           {
            "marker": {
             "colorbar": {
              "outlinewidth": 0,
              "ticks": ""
             }
            },
            "type": "scattercarpet"
           }
          ],
          "scattergeo": [
           {
            "marker": {
             "colorbar": {
              "outlinewidth": 0,
              "ticks": ""
             }
            },
            "type": "scattergeo"
           }
          ],
          "scattergl": [
           {
            "marker": {
             "colorbar": {
              "outlinewidth": 0,
              "ticks": ""
             }
            },
            "type": "scattergl"
           }
          ],
          "scattermap": [
           {
            "marker": {
             "colorbar": {
              "outlinewidth": 0,
              "ticks": ""
             }
            },
            "type": "scattermap"
           }
          ],
          "scattermapbox": [
           {
            "marker": {
             "colorbar": {
              "outlinewidth": 0,
              "ticks": ""
             }
            },
            "type": "scattermapbox"
           }
          ],
          "scatterpolar": [
           {
            "marker": {
             "colorbar": {
              "outlinewidth": 0,
              "ticks": ""
             }
            },
            "type": "scatterpolar"
           }
          ],
          "scatterpolargl": [
           {
            "marker": {
             "colorbar": {
              "outlinewidth": 0,
              "ticks": ""
             }
            },
            "type": "scatterpolargl"
           }
          ],
          "scatterternary": [
           {
            "marker": {
             "colorbar": {
              "outlinewidth": 0,
              "ticks": ""
             }
            },
            "type": "scatterternary"
           }
          ],
          "surface": [
           {
            "colorbar": {
             "outlinewidth": 0,
             "ticks": ""
            },
            "colorscale": [
             [
              0,
              "#0d0887"
             ],
             [
              0.1111111111111111,
              "#46039f"
             ],
             [
              0.2222222222222222,
              "#7201a8"
             ],
             [
              0.3333333333333333,
              "#9c179e"
             ],
             [
              0.4444444444444444,
              "#bd3786"
             ],
             [
              0.5555555555555556,
              "#d8576b"
             ],
             [
              0.6666666666666666,
              "#ed7953"
             ],
             [
              0.7777777777777778,
              "#fb9f3a"
             ],
             [
              0.8888888888888888,
              "#fdca26"
             ],
             [
              1,
              "#f0f921"
             ]
            ],
            "type": "surface"
           }
          ],
          "table": [
           {
            "cells": {
             "fill": {
              "color": "#EBF0F8"
             },
             "line": {
              "color": "white"
             }
            },
            "header": {
             "fill": {
              "color": "#C8D4E3"
             },
             "line": {
              "color": "white"
             }
            },
            "type": "table"
           }
          ]
         },
         "layout": {
          "annotationdefaults": {
           "arrowcolor": "#2a3f5f",
           "arrowhead": 0,
           "arrowwidth": 1
          },
          "autotypenumbers": "strict",
          "coloraxis": {
           "colorbar": {
            "outlinewidth": 0,
            "ticks": ""
           }
          },
          "colorscale": {
           "diverging": [
            [
             0,
             "#8e0152"
            ],
            [
             0.1,
             "#c51b7d"
            ],
            [
             0.2,
             "#de77ae"
            ],
            [
             0.3,
             "#f1b6da"
            ],
            [
             0.4,
             "#fde0ef"
            ],
            [
             0.5,
             "#f7f7f7"
            ],
            [
             0.6,
             "#e6f5d0"
            ],
            [
             0.7,
             "#b8e186"
            ],
            [
             0.8,
             "#7fbc41"
            ],
            [
             0.9,
             "#4d9221"
            ],
            [
             1,
             "#276419"
            ]
           ],
           "sequential": [
            [
             0,
             "#0d0887"
            ],
            [
             0.1111111111111111,
             "#46039f"
            ],
            [
             0.2222222222222222,
             "#7201a8"
            ],
            [
             0.3333333333333333,
             "#9c179e"
            ],
            [
             0.4444444444444444,
             "#bd3786"
            ],
            [
             0.5555555555555556,
             "#d8576b"
            ],
            [
             0.6666666666666666,
             "#ed7953"
            ],
            [
             0.7777777777777778,
             "#fb9f3a"
            ],
            [
             0.8888888888888888,
             "#fdca26"
            ],
            [
             1,
             "#f0f921"
            ]
           ],
           "sequentialminus": [
            [
             0,
             "#0d0887"
            ],
            [
             0.1111111111111111,
             "#46039f"
            ],
            [
             0.2222222222222222,
             "#7201a8"
            ],
            [
             0.3333333333333333,
             "#9c179e"
            ],
            [
             0.4444444444444444,
             "#bd3786"
            ],
            [
             0.5555555555555556,
             "#d8576b"
            ],
            [
             0.6666666666666666,
             "#ed7953"
            ],
            [
             0.7777777777777778,
             "#fb9f3a"
            ],
            [
             0.8888888888888888,
             "#fdca26"
            ],
            [
             1,
             "#f0f921"
            ]
           ]
          },
          "colorway": [
           "#636efa",
           "#EF553B",
           "#00cc96",
           "#ab63fa",
           "#FFA15A",
           "#19d3f3",
           "#FF6692",
           "#B6E880",
           "#FF97FF",
           "#FECB52"
          ],
          "font": {
           "color": "#2a3f5f"
          },
          "geo": {
           "bgcolor": "white",
           "lakecolor": "white",
           "landcolor": "white",
           "showlakes": true,
           "showland": true,
           "subunitcolor": "#C8D4E3"
          },
          "hoverlabel": {
           "align": "left"
          },
          "hovermode": "closest",
          "mapbox": {
           "style": "light"
          },
          "paper_bgcolor": "white",
          "plot_bgcolor": "white",
          "polar": {
           "angularaxis": {
            "gridcolor": "#EBF0F8",
            "linecolor": "#EBF0F8",
            "ticks": ""
           },
           "bgcolor": "white",
           "radialaxis": {
            "gridcolor": "#EBF0F8",
            "linecolor": "#EBF0F8",
            "ticks": ""
           }
          },
          "scene": {
           "xaxis": {
            "backgroundcolor": "white",
            "gridcolor": "#DFE8F3",
            "gridwidth": 2,
            "linecolor": "#EBF0F8",
            "showbackground": true,
            "ticks": "",
            "zerolinecolor": "#EBF0F8"
           },
           "yaxis": {
            "backgroundcolor": "white",
            "gridcolor": "#DFE8F3",
            "gridwidth": 2,
            "linecolor": "#EBF0F8",
            "showbackground": true,
            "ticks": "",
            "zerolinecolor": "#EBF0F8"
           },
           "zaxis": {
            "backgroundcolor": "white",
            "gridcolor": "#DFE8F3",
            "gridwidth": 2,
            "linecolor": "#EBF0F8",
            "showbackground": true,
            "ticks": "",
            "zerolinecolor": "#EBF0F8"
           }
          },
          "shapedefaults": {
           "line": {
            "color": "#2a3f5f"
           }
          },
          "ternary": {
           "aaxis": {
            "gridcolor": "#DFE8F3",
            "linecolor": "#A2B1C6",
            "ticks": ""
           },
           "baxis": {
            "gridcolor": "#DFE8F3",
            "linecolor": "#A2B1C6",
            "ticks": ""
           },
           "bgcolor": "white",
           "caxis": {
            "gridcolor": "#DFE8F3",
            "linecolor": "#A2B1C6",
            "ticks": ""
           }
          },
          "title": {
           "x": 0.05
          },
          "xaxis": {
           "automargin": true,
           "gridcolor": "#EBF0F8",
           "linecolor": "#EBF0F8",
           "ticks": "",
           "title": {
            "standoff": 15
           },
           "zerolinecolor": "#EBF0F8",
           "zerolinewidth": 2
          },
          "yaxis": {
           "automargin": true,
           "gridcolor": "#EBF0F8",
           "linecolor": "#EBF0F8",
           "ticks": "",
           "title": {
            "standoff": 15
           },
           "zerolinecolor": "#EBF0F8",
           "zerolinewidth": 2
          }
         }
        },
        "title": {
         "text": "Currency Prediction Analysis - Last 4 Days",
         "x": 0.5
        },
        "xaxis": {
         "anchor": "y",
         "domain": [
          0,
          0.45
         ],
         "title": {
          "text": "Date"
         }
        },
        "xaxis2": {
         "anchor": "y2",
         "domain": [
          0.55,
          1
         ],
         "title": {
          "text": "Date"
         }
        },
        "xaxis3": {
         "anchor": "y3",
         "domain": [
          0,
          0.45
         ],
         "title": {
          "text": "Model"
         }
        },
        "xaxis4": {
         "anchor": "y4",
         "domain": [
          0.55,
          1
         ],
         "title": {
          "text": "Date"
         }
        },
        "yaxis": {
         "anchor": "x",
         "domain": [
          0.625,
          1
         ],
         "title": {
          "text": "Price"
         }
        },
        "yaxis2": {
         "anchor": "x2",
         "domain": [
          0.625,
          1
         ],
         "title": {
          "text": "Absolute Error"
         }
        },
        "yaxis3": {
         "anchor": "x3",
         "domain": [
          0,
          0.375
         ],
         "title": {
          "text": "Mean Absolute Error"
         }
        },
        "yaxis4": {
         "anchor": "x4",
         "domain": [
          0,
          0.375
         ],
         "title": {
          "text": "Confidence Bounds"
         }
        }
       }
      }
     },
     "metadata": {},
     "output_type": "display_data"
    },
    {
     "name": "stdout",
     "output_type": "stream",
     "text": [
      "\n",
      "============================================================\n",
      "ANALYSIS COMPLETE\n",
      "============================================================\n",
      "✓ Predicted last 4 days\n",
      "✓ Interactive plot created\n",
      "✓ Metrics calculated\n",
      "✓ Results saved to CSV\n"
     ]
    }
   ],
   "source": [
    "import pandas as pd\n",
    "import numpy as np\n",
    "import plotly.graph_objects as go\n",
    "from plotly.subplots import make_subplots\n",
    "import plotly.express as px\n",
    "from typing import Dict, List, Optional\n",
    "import warnings\n",
    "warnings.filterwarnings('ignore')\n",
    "\n",
    "def predict_last_n_days_with_ensemble(\n",
    "    df: pd.DataFrame,\n",
    "    n_days: int = 4,\n",
    "    context_length: int = 10,\n",
    "    target_column: str = 'OPEN PRICE',\n",
    "    date_column: str = 'DATE',\n",
    "    ensemble_models: list = None\n",
    ") -> Dict:\n",
    "    \"\"\"\n",
    "    Predict last n days using sliding window approach with Chronos ensemble\n",
    "    \"\"\"\n",
    "    \n",
    "    if ensemble_models is None:\n",
    "        ensemble_models = [\n",
    "            {'model_size': 'tiny', 'weight': 0.15},\n",
    "            {'model_size': 'mini', 'weight': 0.2},\n",
    "            {'model_size': 'small', 'weight': 0.25},\n",
    "            {'model_size': 'base', 'weight': 0.4}\n",
    "        ]\n",
    "    \n",
    "    # Prepare data\n",
    "    df = df.sort_values(date_column).reset_index(drop=True)\n",
    "    target_series = df[target_column].values\n",
    "    dates = pd.to_datetime(df[date_column])\n",
    "    \n",
    "    predictions_results = []\n",
    "    actual_values = []\n",
    "    prediction_dates = []\n",
    "    \n",
    "    try:\n",
    "        from chronos import ChronosPipeline\n",
    "        import torch\n",
    "        \n",
    "        # For each of the last n_days, predict using previous context_length days\n",
    "        for day_offset in range(n_days):\n",
    "            # Calculate indices for sliding window\n",
    "            prediction_idx = len(df) - n_days + day_offset\n",
    "            context_start = prediction_idx - context_length\n",
    "            context_end = prediction_idx\n",
    "            \n",
    "            # Extract context window\n",
    "            context_data = target_series[context_start:context_end]\n",
    "            actual_value = target_series[prediction_idx]\n",
    "            prediction_date = dates.iloc[prediction_idx]\n",
    "            \n",
    "            # Store actual values for comparison\n",
    "            actual_values.append(actual_value)\n",
    "            prediction_dates.append(prediction_date)\n",
    "            \n",
    "            # Run ensemble predictions\n",
    "            model_predictions = {}\n",
    "            ensemble_preds = []\n",
    "            weights = []\n",
    "            \n",
    "            print(f\"Predicting day {day_offset + 1}/{n_days}: {prediction_date.strftime('%Y-%m-%d')}\")\n",
    "            \n",
    "            for model_config in ensemble_models:\n",
    "                try:\n",
    "                    model_name = f\"amazon/chronos-t5-{model_config['model_size']}\"\n",
    "                    pipeline = ChronosPipeline.from_pretrained(\n",
    "                        model_name,\n",
    "                        device_map=\"auto\",\n",
    "                        torch_dtype=torch.bfloat16,\n",
    "                    )\n",
    "                    \n",
    "                    # Prepare context tensor\n",
    "                    context_tensor = torch.tensor(context_data, dtype=torch.float32).unsqueeze(0)\n",
    "                    \n",
    "                    # Generate forecast\n",
    "                    forecast = pipeline.predict(\n",
    "                        context_tensor,\n",
    "                        prediction_length=1,\n",
    "                        num_samples=20\n",
    "                    )\n",
    "                    \n",
    "                    # Extract prediction statistics\n",
    "                    forecast_samples = forecast[0].cpu().numpy()\n",
    "                    mean_pred = np.mean(forecast_samples)\n",
    "                    p10 = np.percentile(forecast_samples, 10)\n",
    "                    p50 = np.percentile(forecast_samples, 50)\n",
    "                    p90 = np.percentile(forecast_samples, 90)\n",
    "                    \n",
    "                    model_predictions[f\"chronos_{model_config['model_size']}\"] = {\n",
    "                        'prediction': mean_pred,\n",
    "                        'confidence_intervals': {'p10': p10, 'p50': p50, 'p90': p90}\n",
    "                    }\n",
    "                    \n",
    "                    ensemble_preds.append(mean_pred)\n",
    "                    weights.append(model_config['weight'])\n",
    "                    \n",
    "                    print(f\"  ✓ {model_config['model_size']}: {mean_pred:.4f}\")\n",
    "                    \n",
    "                except Exception as e:\n",
    "                    print(f\"  ✗ {model_config['model_size']} failed: {str(e)}\")\n",
    "                    continue\n",
    "            \n",
    "            # Calculate ensemble prediction\n",
    "            if ensemble_preds:\n",
    "                ensemble_pred = np.average(ensemble_preds, weights=weights)\n",
    "                model_predictions['ensemble'] = {\n",
    "                    'prediction': ensemble_pred,\n",
    "                    'individual_predictions': ensemble_preds,\n",
    "                    'weights_used': weights\n",
    "                }\n",
    "                print(f\"  🎯 Ensemble: {ensemble_pred:.4f} (Actual: {actual_value:.4f})\")\n",
    "            \n",
    "            predictions_results.append({\n",
    "                'date': prediction_date,\n",
    "                'actual': actual_value,\n",
    "                'predictions': model_predictions\n",
    "            })\n",
    "    \n",
    "    except ImportError:\n",
    "        print(\"Chronos not available, using statistical fallback...\")\n",
    "        predictions_results = create_statistical_predictions_n_days(\n",
    "            df, n_days, context_length, target_column, date_column\n",
    "        )\n",
    "    \n",
    "    return {\n",
    "        'predictions': predictions_results,\n",
    "        'dates': prediction_dates,\n",
    "        'actuals': actual_values,\n",
    "        'context_length': context_length,\n",
    "        'n_days': n_days\n",
    "    }\n",
    "\n",
    "\n",
    "def create_statistical_predictions_n_days(\n",
    "    df: pd.DataFrame,\n",
    "    n_days: int,\n",
    "    context_length: int,\n",
    "    target_column: str,\n",
    "    date_column: str\n",
    ") -> List[Dict]:\n",
    "    \"\"\"Fallback statistical predictions when Chronos is not available\"\"\"\n",
    "    \n",
    "    target_series = df[target_column].values\n",
    "    dates = pd.to_datetime(df[date_column])\n",
    "    predictions_results = []\n",
    "    \n",
    "    for day_offset in range(n_days):\n",
    "        prediction_idx = len(df) - n_days + day_offset\n",
    "        context_start = prediction_idx - context_length\n",
    "        context_end = prediction_idx\n",
    "        \n",
    "        context_data = target_series[context_start:context_end]\n",
    "        actual_value = target_series[prediction_idx]\n",
    "        prediction_date = dates.iloc[prediction_idx]\n",
    "        \n",
    "        # Statistical methods\n",
    "        ma_5 = np.mean(context_data[-5:])\n",
    "        ma_10 = np.mean(context_data)\n",
    "        \n",
    "        # Exponential smoothing\n",
    "        alpha = 0.3\n",
    "        exp_smooth = context_data[-1]\n",
    "        for i in range(len(context_data)-2, -1, -1):\n",
    "            exp_smooth = alpha * context_data[i] + (1 - alpha) * exp_smooth\n",
    "        \n",
    "        # Linear trend\n",
    "        x = np.arange(len(context_data))\n",
    "        coeffs = np.polyfit(x, context_data, 1)\n",
    "        trend_pred = coeffs[0] * len(x) + coeffs[1]\n",
    "        \n",
    "        ensemble_pred = np.mean([ma_5, ma_10, exp_smooth, trend_pred])\n",
    "        \n",
    "        model_predictions = {\n",
    "            'moving_average_5': {'prediction': ma_5},\n",
    "            'moving_average_10': {'prediction': ma_10},\n",
    "            'exponential_smoothing': {'prediction': exp_smooth},\n",
    "            'linear_trend': {'prediction': trend_pred},\n",
    "            'statistical_ensemble': {'prediction': ensemble_pred}\n",
    "        }\n",
    "        \n",
    "        predictions_results.append({\n",
    "            'date': prediction_date,\n",
    "            'actual': actual_value,\n",
    "            'predictions': model_predictions\n",
    "        })\n",
    "    \n",
    "    return predictions_results\n",
    "\n",
    "\n",
    "def create_prediction_plots(results: Dict, save_plots: bool = True) -> go.Figure:\n",
    "    \"\"\"Create interactive Plotly visualizations for predictions\"\"\"\n",
    "    \n",
    "    predictions_data = results['predictions']\n",
    "    \n",
    "    # Extract data for plotting\n",
    "    dates = [p['date'] for p in predictions_data]\n",
    "    actuals = [p['actual'] for p in predictions_data]\n",
    "    \n",
    "    # Get all model names\n",
    "    all_models = set()\n",
    "    for p in predictions_data:\n",
    "        all_models.update(p['predictions'].keys())\n",
    "    \n",
    "    # Create subplot with secondary y-axis for errors\n",
    "    fig = make_subplots(\n",
    "        rows=2, cols=2,\n",
    "        subplot_titles=('Predictions vs Actuals', 'Prediction Errors', 'Model Comparison', 'Confidence Intervals'),\n",
    "        specs=[[{'secondary_y': False}, {'secondary_y': False}],\n",
    "               [{'secondary_y': False}, {'secondary_y': False}]]\n",
    "    )\n",
    "    \n",
    "    # Plot 1: Predictions vs Actuals\n",
    "    fig.add_trace(\n",
    "        go.Scatter(x=dates, y=actuals, mode='lines+markers', name='Actual', \n",
    "                  line=dict(color='black', width=3), marker=dict(size=8)),\n",
    "        row=1, col=1\n",
    "    )\n",
    "    \n",
    "    # Color palette for models\n",
    "    colors = px.colors.qualitative.Set3\n",
    "    model_errors = {}\n",
    "    \n",
    "    for i, model in enumerate(sorted(all_models)):\n",
    "        predictions = []\n",
    "        errors = []\n",
    "        \n",
    "        for p in predictions_data:\n",
    "            if model in p['predictions']:\n",
    "                pred_value = p['predictions'][model]['prediction']\n",
    "                predictions.append(pred_value)\n",
    "                errors.append(abs(pred_value - p['actual']))\n",
    "            else:\n",
    "                predictions.append(None)\n",
    "                errors.append(None)\n",
    "        \n",
    "        model_errors[model] = np.nanmean(errors) if errors else 0\n",
    "        \n",
    "        # Plot predictions\n",
    "        fig.add_trace(\n",
    "            go.Scatter(x=dates, y=predictions, mode='lines+markers', \n",
    "                      name=f'{model}', line=dict(color=colors[i % len(colors)]),\n",
    "                      marker=dict(size=6)),\n",
    "            row=1, col=1\n",
    "        )\n",
    "        \n",
    "        # Plot errors\n",
    "        fig.add_trace(\n",
    "            go.Scatter(x=dates, y=errors, mode='lines+markers', \n",
    "                      name=f'{model} Error', line=dict(color=colors[i % len(colors)]),\n",
    "                      showlegend=False),\n",
    "            row=1, col=2\n",
    "        )\n",
    "    \n",
    "    # Plot 3: Model Comparison (MAE)\n",
    "    model_names = list(model_errors.keys())\n",
    "    mae_values = list(model_errors.values())\n",
    "    \n",
    "    fig.add_trace(\n",
    "        go.Bar(x=model_names, y=mae_values, name='Mean Absolute Error',\n",
    "               marker_color=colors[:len(model_names)]),\n",
    "        row=2, col=1\n",
    "    )\n",
    "    \n",
    "    # Plot 4: Confidence Intervals (if available)\n",
    "    for i, p in enumerate(predictions_data):\n",
    "        for model, pred_data in p['predictions'].items():\n",
    "            if 'confidence_intervals' in pred_data:\n",
    "                ci = pred_data['confidence_intervals']\n",
    "                fig.add_trace(\n",
    "                    go.Scatter(x=[p['date']], y=[ci.get('p10', 0)], \n",
    "                              mode='markers', name=f'{model} P10', \n",
    "                              marker=dict(symbol='triangle-down', size=6),\n",
    "                              showlegend=i==0),\n",
    "                    row=2, col=2\n",
    "                )\n",
    "                fig.add_trace(\n",
    "                    go.Scatter(x=[p['date']], y=[ci.get('p90', 0)], \n",
    "                              mode='markers', name=f'{model} P90',\n",
    "                              marker=dict(symbol='triangle-up', size=6),\n",
    "                              showlegend=i==0),\n",
    "                    row=2, col=2\n",
    "                )\n",
    "    \n",
    "    # Update layout\n",
    "    fig.update_layout(\n",
    "        title_text=f\"Currency Prediction Analysis - Last {results['n_days']} Days\",\n",
    "        title_x=0.5,\n",
    "        height=800,\n",
    "        showlegend=True,\n",
    "        template='plotly_white'\n",
    "    )\n",
    "    \n",
    "    # Update axes labels\n",
    "    fig.update_xaxes(title_text=\"Date\", row=1, col=1)\n",
    "    fig.update_yaxes(title_text=\"Price\", row=1, col=1)\n",
    "    fig.update_xaxes(title_text=\"Date\", row=1, col=2)\n",
    "    fig.update_yaxes(title_text=\"Absolute Error\", row=1, col=2)\n",
    "    fig.update_xaxes(title_text=\"Model\", row=2, col=1)\n",
    "    fig.update_yaxes(title_text=\"Mean Absolute Error\", row=2, col=1)\n",
    "    fig.update_xaxes(title_text=\"Date\", row=2, col=2)\n",
    "    fig.update_yaxes(title_text=\"Confidence Bounds\", row=2, col=2)\n",
    "    \n",
    "    if save_plots:\n",
    "        fig.write_html(\"prediction_analysis.html\")\n",
    "        print(\"Interactive plot saved as 'prediction_analysis.html'\")\n",
    "    \n",
    "    return fig\n",
    "\n",
    "\n",
    "def calculate_prediction_metrics(results: Dict) -> pd.DataFrame:\n",
    "    \"\"\"Calculate detailed prediction metrics\"\"\"\n",
    "    \n",
    "    predictions_data = results['predictions']\n",
    "    metrics_list = []\n",
    "    \n",
    "    # Get all model names\n",
    "    all_models = set()\n",
    "    for p in predictions_data:\n",
    "        all_models.update(p['predictions'].keys())\n",
    "    \n",
    "    for model in all_models:\n",
    "        actuals = []\n",
    "        predictions = []\n",
    "        \n",
    "        for p in predictions_data:\n",
    "            if model in p['predictions']:\n",
    "                actuals.append(p['actual'])\n",
    "                predictions.append(p['predictions'][model]['prediction'])\n",
    "        \n",
    "        if len(actuals) > 0:\n",
    "            actuals = np.array(actuals)\n",
    "            predictions = np.array(predictions)\n",
    "            \n",
    "            mae = np.mean(np.abs(predictions - actuals))\n",
    "            mse = np.mean((predictions - actuals) ** 2)\n",
    "            rmse = np.sqrt(mse)\n",
    "            mape = np.mean(np.abs((predictions - actuals) / actuals)) * 100\n",
    "            \n",
    "            metrics_list.append({\n",
    "                'Model': model,\n",
    "                'MAE': mae,\n",
    "                'MSE': mse,\n",
    "                'RMSE': rmse,\n",
    "                'MAPE (%)': mape,\n",
    "                'Predictions': len(predictions)\n",
    "            })\n",
    "    \n",
    "    return pd.DataFrame(metrics_list).round(4)\n",
    "\n",
    "\n",
    "# Main execution function\n",
    "def run_multi_day_prediction_with_plots(\n",
    "    csv_file_path: str,\n",
    "    n_days: int = 4,\n",
    "    context_length: int = 10,\n",
    "    target_column: str = 'OPEN PRICE',\n",
    "    date_column: str = 'DATE',\n",
    "    save_results: bool = True\n",
    ") -> Dict:\n",
    "    \"\"\"\n",
    "    Complete pipeline: predict last n days and create visualizations\n",
    "    \"\"\"\n",
    "    \n",
    "    print(f\"Loading data from {csv_file_path}...\")\n",
    "    \n",
    "    # Load and preprocess data\n",
    "    df = pd.read_csv(csv_file_path)\n",
    "    df.columns = df.columns.str.strip()\n",
    "    df[date_column] = pd.to_datetime(df[date_column], format='%d-%b-%Y', errors='coerce')\n",
    "    \n",
    "    # Clean numeric columns\n",
    "    numeric_cols = ['OPEN PRICE', 'HIGH PRICE', 'LOW PRICE', 'CLOSE PRICE', 'Volume']\n",
    "    for col in numeric_cols:\n",
    "        if col in df.columns:\n",
    "            df[col] = pd.to_numeric(df[col].astype(str).str.replace(',', ''), errors='coerce')\n",
    "    \n",
    "    print(f\"Predicting last {n_days} days using context of {context_length} days...\")\n",
    "    \n",
    "    # Run predictions\n",
    "    results = predict_last_n_days_with_ensemble(\n",
    "        df=df,\n",
    "        n_days=n_days,\n",
    "        context_length=context_length,\n",
    "        target_column=target_column,\n",
    "        date_column=date_column\n",
    "    )\n",
    "    \n",
    "    print(\"\\nCreating visualizations...\")\n",
    "    \n",
    "    # Create plots\n",
    "    fig = create_prediction_plots(results, save_plots=save_results)\n",
    "    \n",
    "    # Calculate metrics\n",
    "    metrics_df = calculate_prediction_metrics(results)\n",
    "    print(\"\\nPrediction Metrics:\")\n",
    "    print(metrics_df.to_string(index=False))\n",
    "    \n",
    "    # Save detailed results\n",
    "    if save_results:\n",
    "        results_df = pd.DataFrame([\n",
    "            {\n",
    "                'Date': p['date'].strftime('%Y-%m-%d'),\n",
    "                'Actual': p['actual'],\n",
    "                **{f\"{model}_pred\": pred_data['prediction'] \n",
    "                   for model, pred_data in p['predictions'].items()}\n",
    "            }\n",
    "            for p in results['predictions']\n",
    "        ])\n",
    "        \n",
    "        results_df.to_csv(f'prediction_results_{n_days}days.csv', index=False)\n",
    "        metrics_df.to_csv(f'prediction_metrics_{n_days}days.csv', index=False)\n",
    "        print(f\"\\nResults saved to CSV files\")\n",
    "    \n",
    "    return {\n",
    "        'results': results,\n",
    "        'figure': fig,\n",
    "        'metrics': metrics_df,\n",
    "        'predictions_df': results_df if save_results else None\n",
    "    }\n",
    "\n",
    "\n",
    "# Usage example with your data\n",
    "if __name__ == \"__main__\":\n",
    "    \n",
    "    # Configuration\n",
    "    config = {\n",
    "        'csv_file_path': 'Data/Quote-CD-USDINR-15-09-2024-to-15-09-2025.csv',\n",
    "        'n_days': 4,  # Predict last 4 days\n",
    "        'context_length': 30,  # Use last 10 days as context\n",
    "        'target_column': 'OPEN PRICE',\n",
    "        'date_column': 'DATE',\n",
    "        'save_results': True\n",
    "    }\n",
    "    \n",
    "    # Run complete analysis\n",
    "    analysis_results = run_multi_day_prediction_with_plots(**config)\n",
    "    \n",
    "    # Display the interactive plot\n",
    "    analysis_results['figure'].show()\n",
    "    \n",
    "    print(\"\\n\" + \"=\"*60)\n",
    "    print(\"ANALYSIS COMPLETE\")\n",
    "    print(\"=\"*60)\n",
    "    print(f\"✓ Predicted last {config['n_days']} days\")\n",
    "    print(\"✓ Interactive plot created\")\n",
    "    print(\"✓ Metrics calculated\")\n",
    "    print(\"✓ Results saved to CSV\")\n"
   ]
  },
  {
   "cell_type": "code",
   "execution_count": null,
   "id": "52f9edab",
   "metadata": {},
   "outputs": [],
   "source": []
  }
 ],
 "metadata": {
  "kernelspec": {
   "display_name": "base",
   "language": "python",
   "name": "python3"
  },
  "language_info": {
   "codemirror_mode": {
    "name": "ipython",
    "version": 3
   },
   "file_extension": ".py",
   "mimetype": "text/x-python",
   "name": "python",
   "nbconvert_exporter": "python",
   "pygments_lexer": "ipython3",
   "version": "3.11.11"
  }
 },
 "nbformat": 4,
 "nbformat_minor": 5
}
