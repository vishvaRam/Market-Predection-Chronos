{
 "cells": [
  {
   "cell_type": "code",
   "execution_count": 1,
   "id": "29d49242",
   "metadata": {},
   "outputs": [],
   "source": [
    "import pandas as pd\n",
    "import numpy as np\n",
    "from autogluon.timeseries import TimeSeriesPredictor, TimeSeriesDataFrame\n",
    "import torch"
   ]
  },
  {
   "cell_type": "code",
   "execution_count": 2,
   "id": "ae3a22c3",
   "metadata": {},
   "outputs": [
    {
     "name": "stdout",
     "output_type": "stream",
     "text": [
      "Using device: NVIDIA GeForce GTX 1050 Ti\n"
     ]
    }
   ],
   "source": [
    "torch.device(\"cuda\" if torch.cuda.is_available() else \"cpu\")\n",
    "print(f\"Using device: {torch.cuda.get_device_name(0) if torch.cuda.is_available() else 'CPU'}\")"
   ]
  },
  {
   "cell_type": "code",
   "execution_count": 3,
   "id": "d7e62054",
   "metadata": {},
   "outputs": [],
   "source": [
    "\n",
    "def prepare_usdinr_data(file_path):\n",
    "    \"\"\"Prepare USDINR data for AutoGluon TimeSeriesPredictor\"\"\"\n",
    "    \n",
    "    # Load processed data\n",
    "    data = pd.read_csv(file_path, index_col=0, parse_dates=True)\n",
    "    \n",
    "    # Reset index to get timestamp as column\n",
    "    data = data.reset_index()\n",
    "    data['item_id'] = 'USDINR'\n",
    "    data = data.rename(columns={data.columns[0]: 'timestamp'})\n",
    "    \n",
    "    # Set target as 'Open' (next day opening price)\n",
    "    target_col = 'Open'\n",
    "    \n",
    "    # Select required columns: item_id, timestamp, target\n",
    "    # AutoGluon requires this specific format\n",
    "    ts_data = data[['item_id', 'timestamp', target_col]].copy()\n",
    "    ts_data = ts_data.rename(columns={target_col: 'target'})\n",
    "    \n",
    "    # Known covariates (features) - we'll add these separately\n",
    "    known_covariates = [\n",
    "        'Close', 'High', 'Low', 'Volume',\n",
    "        'SMA_20', 'SMA_50', 'EMA_12', 'EMA_26',\n",
    "        # 'RSI_14', 'MACD', 'MACD_signal', 'MACD_hist',\n",
    "        # 'BB_upper', 'BB_middle', 'BB_lower', 'ATR_14',\n",
    "        # 'Price_Change', 'Volatility_20', 'HL_Ratio',\n",
    "        # 'Stoch_K', 'Stoch_D',\n",
    "        # 'Hour', 'DayOfWeek', 'Month'\n",
    "    ]\n",
    "    \n",
    "    # Add covariates to the dataframe\n",
    "    for covariate in known_covariates:\n",
    "        if covariate in data.columns:\n",
    "            ts_data[covariate] = data[covariate]\n",
    "    \n",
    "    # Create TimeSeriesDataFrame with correct parameters\n",
    "    ts_df = TimeSeriesDataFrame.from_data_frame(\n",
    "        ts_data,\n",
    "        id_column='item_id',\n",
    "        timestamp_column='timestamp'\n",
    "    )\n",
    "    \n",
    "    return ts_df, known_covariates\n",
    "\n"
   ]
  },
  {
   "cell_type": "code",
   "execution_count": null,
   "id": "682f5306",
   "metadata": {},
   "outputs": [
    {
     "name": "stderr",
     "output_type": "stream",
     "text": [
      "Loading predictor from path /workspaces/Market/models/usdinr_chronos_predictor\n"
     ]
    },
    {
     "name": "stdout",
     "output_type": "stream",
     "text": [
      "🚀 Starting USDINR Inference Pipeline...\n",
      "==================================================\n",
      "🔄 Loading model from: models/usdinr_chronos_predictor\n",
      "✅ Model loaded successfully!\n",
      "📊 Loading data from: Data/USDINR_day_2025-01-2025-09-Infer-processed.csv\n",
      "✅ Data preprocessed: 121 rows, 13 columns\n",
      "📅 Date range: 2025-03-12 00:00:00 to 2025-08-29 00:00:00\n",
      "🔮 Generating predictions...\n",
      "❌ Error during prediction: TimeSeriesPredictor.predict() got an unexpected keyword argument 'quantile_levels'\n",
      "❌ Inference failed - check error messages above\n"
     ]
    }
   ],
   "source": [
    "\n",
    "def train_usdinr_forecaster(file_path):\n",
    "    \"\"\"Train USDINR forecasting model with Chronos-Bolt-Base\"\"\"\n",
    "    \n",
    "    # Load and prepare data\n",
    "    ts_df, known_covariates = prepare_usdinr_data(file_path)\n",
    "    \n",
    "    print(f\"Training data shape: {ts_df.shape}\")\n",
    "    print(f\"Available columns: {list(ts_df.columns)}\")\n",
    "    print(f\"Known covariates: {len(known_covariates)}\")\n",
    "    \n",
    "    # Split data for validation (last 300 days for testing)\n",
    "    all_timestamps = ts_df.index.get_level_values('timestamp').unique()\n",
    "    cutoff_date = sorted(all_timestamps)[-300]  # Last 300 days for validation\n",
    "\n",
    "    train_data = ts_df[ts_df.index.get_level_values('timestamp') < cutoff_date]\n",
    "    test_data = ts_df[ts_df.index.get_level_values('timestamp') >= cutoff_date]\n",
    "    \n",
    "    print(f\"Train data: {train_data.shape}\")\n",
    "    print(f\"Test data: {test_data.shape}\")\n",
    "    \n",
    "    # Configure AutoGluon TimeSeriesPredictor with path\n",
    "    predictor = TimeSeriesPredictor(\n",
    "        path='models/usdinr_chronos_predictor',\n",
    "        prediction_length=4,          # Predict next 4 days\n",
    "        target='target',              # Target column name\n",
    "        eval_metric='MASE',           # Mean Absolute Scaled Error\n",
    "        known_covariates_names=known_covariates,  # Technical indicators\n",
    "        freq='D',                     # Daily frequency - CRITICAL FIX\n",
    "        verbosity=2\n",
    "    )\n",
    "    \n",
    "    # Optimized hyperparameters for Chronos-Bolt-Base\n",
    "    hyperparameters = {\n",
    "        \n",
    "        'Chronos': {\n",
    "            \"fine_tune\": True,\n",
    "            'model_path': 'amazon/chronos-bolt-base',\n",
    "            'context_length': 64,           # Reduced context\n",
    "            'num_samples': 25,              # Fewer samples\n",
    "            'learning_rate': 0.0005,        # Lower learning rate\n",
    "            'max_steps': 100,              # Early stopping\n",
    "            'torch_dtype': 'float32',                 # Precision\n",
    "            'device_map': 'auto',                     # GPU allocation\n",
    "            'ag_args': {\n",
    "                'name_suffix': '_USDINR_FineTuned_base_early_stopping'\n",
    "            }\n",
    "        }\n",
    "    }\n",
    "    \n",
    "    # Train the model\n",
    "    print(\"🚀 Starting Chronos-Bolt-Base training for USDINR...\")\n",
    "    \n",
    "    try:\n",
    "        predictor.fit(\n",
    "            train_data=train_data,\n",
    "            hyperparameters=hyperparameters,\n",
    "            time_limit=3600,              # 1 hour maximum\n",
    "            presets='best_quality',       # Focus on accuracy\n",
    "            enable_ensemble=False,        # Single model\n",
    "            verbosity=2\n",
    "        )\n",
    "        \n",
    "        # Evaluate on test data\n",
    "        print(\"📊 Evaluating model performance...\")\n",
    "        \n",
    "        if len(test_data) > 0:\n",
    "            # Use evaluate for metrics\n",
    "            scores = predictor.evaluate(test_data)\n",
    "            print(\"Evaluation scores:\")\n",
    "            print(scores)\n",
    "            \n",
    "            leaderboard = predictor.leaderboard(test_data)\n",
    "            print(\"Leaderboard:\")\n",
    "            print(leaderboard)\n",
    "        \n",
    "        # Generate future forecasts\n",
    "        print(\"🔮 Generating future forecasts...\")\n",
    "        \n",
    "        # Create future known covariates by forward-filling last known values\n",
    "        last_timestamp = train_data.index.get_level_values('timestamp')[-1]\n",
    "        future_timestamps = [last_timestamp + pd.Timedelta(days=i) for i in range(1, 5)]\n",
    "        \n",
    "        future_df = pd.DataFrame({\n",
    "            'timestamp': future_timestamps,\n",
    "            'item_id': 'USDINR'\n",
    "        })\n",
    "        \n",
    "        # Forward-fill covariates from last row\n",
    "        last_values = train_data.iloc[-1]\n",
    "        for col in known_covariates:\n",
    "            future_df[col] = last_values[col]\n",
    "        \n",
    "        # Update time-based covariates\n",
    "        future_df['Hour'] = 0  # Assume market open hour\n",
    "        future_df['DayOfWeek'] = future_df['timestamp'].dt.dayofweek\n",
    "        future_df['Month'] = future_df['timestamp'].dt.month\n",
    "        \n",
    "        # Create TimeSeriesDataFrame for known covariates\n",
    "        future_known = TimeSeriesDataFrame.from_data_frame(\n",
    "            future_df,\n",
    "            id_column='item_id',\n",
    "            timestamp_column='timestamp'\n",
    "        )\n",
    "        \n",
    "        future_predictions = predictor.predict(\n",
    "            data=train_data,\n",
    "            known_covariates=future_known\n",
    "        )\n",
    "        \n",
    "        print(\"Future 4-day USDINR opening price predictions:\")\n",
    "        print(future_predictions.tail())\n",
    "        \n",
    "        return predictor, future_predictions\n",
    "        \n",
    "    except Exception as e:\n",
    "        print(f\"Training error: {str(e)}\")\n",
    "        raise e\n",
    "\n"
   ]
  },
  {
   "cell_type": "code",
   "execution_count": 5,
   "id": "10fea1ba",
   "metadata": {},
   "outputs": [],
   "source": [
    "\n",
    "# def simple_chronos_training():\n",
    "#     \"\"\"Simplified version focusing on core functionality\"\"\"\n",
    "    \n",
    "#     # Load and prepare data\n",
    "#     file_path = 'Data/USDINR-train-processed.csv'\n",
    "#     data = pd.read_csv(file_path, index_col=0, parse_dates=True)\n",
    "    \n",
    "#     # Create minimal TimeSeriesDataFrame\n",
    "#     data_reset = data.reset_index()\n",
    "#     data_reset['item_id'] = 'USDINR'\n",
    "#     data_reset = data_reset.rename(columns={\n",
    "#         data_reset.columns[0]: 'timestamp',\n",
    "#         'Open': 'target'  # Use Open price as target\n",
    "#     })\n",
    "    \n",
    "#     # Keep only essential columns\n",
    "#     essential_cols = ['item_id', 'timestamp', 'target', 'Close', 'High', 'Low', 'Volume',\n",
    "#                       'SMA_20', 'SMA_50', 'EMA_12', 'EMA_26',\n",
    "#                       'RSI_14', 'MACD', 'MACD_signal', 'MACD_hist',\n",
    "#                       'BB_upper', 'BB_middle', 'BB_lower', 'ATR_14',\n",
    "#                       'Price_Change', 'Volatility_20', 'HL_Ratio',\n",
    "#                       'Stoch_K', 'Stoch_D',\n",
    "#                       'Hour', 'DayOfWeek', 'Month']\n",
    "    \n",
    "#     train_data = data_reset[essential_cols].dropna()\n",
    "    \n",
    "#     # Create TimeSeriesDataFrame\n",
    "#     ts_df = TimeSeriesDataFrame.from_data_frame(\n",
    "#         train_data,\n",
    "#         id_column='item_id',\n",
    "#         timestamp_column='timestamp'\n",
    "#     )\n",
    "    \n",
    "#     print(f\"Simplified data shape: {ts_df.shape}\")\n",
    "#     print(f\"Columns: {list(ts_df.columns)}\")\n",
    "    \n",
    "#     # Simple predictor configuration\n",
    "#     predictor = TimeSeriesPredictor(\n",
    "#         prediction_length=4,\n",
    "#         target='target',\n",
    "#         eval_metric='MASE',\n",
    "#         freq='D',                                    # CRITICAL FIX: Added freq\n",
    "#         known_covariates_names=essential_cols[3:],   # All except item_id, timestamp, target\n",
    "#         verbosity=2\n",
    "#     )\n",
    "    \n",
    "#     # Simple hyperparameters\n",
    "#     hyperparameters = {\n",
    "#         'Chronos': {\n",
    "#             'model_path': 'amazon/chronos-bolt-base',\n",
    "#             'context_length': 256,                    # Added context_length\n",
    "#             'ag_args': {'name_suffix': '_Simple'}\n",
    "#         }\n",
    "#     }\n",
    "    \n",
    "#     # Train\n",
    "#     print(\"🚀 Starting simplified Chronos training...\")\n",
    "    \n",
    "#     predictor.fit(\n",
    "#         train_data=ts_df,\n",
    "#         hyperparameters=hyperparameters,\n",
    "#         time_limit=2400,  # 40 minutes\n",
    "#         enable_ensemble=False,  # Single model to avoid ensemble issues\n",
    "#         verbosity=2\n",
    "#     )\n",
    "    \n",
    "#     # CRITICAL FIX: Create future covariate data for prediction\n",
    "#     print(\"🔮 Preparing future covariate data...\")\n",
    "    \n",
    "#     # Get the last timestamp\n",
    "#     last_timestamp = ts_df.index.get_level_values('timestamp')[-1]\n",
    "#     future_timestamps = [last_timestamp + pd.Timedelta(days=i) for i in range(1, 5)]\n",
    "    \n",
    "#     future_df = pd.DataFrame({\n",
    "#         'timestamp': future_timestamps,\n",
    "#         'item_id': 'USDINR'\n",
    "#     })\n",
    "    \n",
    "#     # Forward-fill covariates from last row\n",
    "#     last_values = ts_df.iloc[-1]\n",
    "#     for col in essential_cols[3:]:\n",
    "#         future_df[col] = last_values[col]\n",
    "    \n",
    "#     # Update time-based features\n",
    "#     future_df['Hour'] = 0  # Market opening hour\n",
    "#     future_df['DayOfWeek'] = future_df['timestamp'].dt.dayofweek\n",
    "#     future_df['Month'] = future_df['timestamp'].dt.month\n",
    "    \n",
    "#     # Create TimeSeriesDataFrame for known covariates\n",
    "#     future_known = TimeSeriesDataFrame.from_data_frame(\n",
    "#         future_df,\n",
    "#         id_column='item_id',\n",
    "#         timestamp_column='timestamp'\n",
    "#     )\n",
    "    \n",
    "#     # Predict with history and future known covariates\n",
    "#     predictions = predictor.predict(\n",
    "#         data=ts_df,\n",
    "#         known_covariates=future_known\n",
    "#     )\n",
    "#     print(\"✅ Training completed!\")\n",
    "#     print(\"Last few predictions:\")\n",
    "#     print(predictions.tail())\n",
    "    \n",
    "#     return predictor, predictions\n",
    "\n"
   ]
  },
  {
   "cell_type": "code",
   "execution_count": 6,
   "id": "42636a30",
   "metadata": {},
   "outputs": [
    {
     "name": "stderr",
     "output_type": "stream",
     "text": [
      "Beginning AutoGluon training... Time limit = 3600s\n",
      "AutoGluon will save models to '/workspaces/Market/models/usdinr_chronos_predictor'\n",
      "=================== System Info ===================\n",
      "AutoGluon Version:  1.4.0\n",
      "Python Version:     3.11.11\n",
      "Operating System:   Linux\n",
      "Platform Machine:   x86_64\n",
      "Platform Version:   #29~24.04.1-Ubuntu SMP PREEMPT_DYNAMIC Thu Aug 14 16:52:50 UTC 2\n",
      "CPU Count:          8\n",
      "GPU Count:          1\n",
      "Memory Avail:       13.93 GB / 23.31 GB (59.8%)\n",
      "Disk Space Avail:   357.58 GB / 931.51 GB (38.4%)\n",
      "===================================================\n",
      "Setting presets to: best_quality\n",
      "\n",
      "Fitting with arguments:\n",
      "{'enable_ensemble': False,\n",
      " 'eval_metric': MASE,\n",
      " 'freq': 'D',\n",
      " 'hyperparameters': {'Chronos': {'ag_args': {'name_suffix': '_USDINR_FineTuned_base_early_stopping'},\n",
      "                                 'context_length': 64,\n",
      "                                 'device_map': 'auto',\n",
      "                                 'fine_tune': True,\n",
      "                                 'learning_rate': 0.0005,\n",
      "                                 'max_steps': 100,\n",
      "                                 'model_path': 'amazon/chronos-bolt-base',\n",
      "                                 'num_samples': 25,\n",
      "                                 'torch_dtype': 'float32'}},\n",
      " 'known_covariates_names': ['Close',\n",
      "                            'High',\n",
      "                            'Low',\n",
      "                            'Volume',\n",
      "                            'SMA_20',\n",
      "                            'SMA_50',\n",
      "                            'EMA_12',\n",
      "                            'EMA_26'],\n",
      " 'num_val_windows': 2,\n",
      " 'prediction_length': 4,\n",
      " 'quantile_levels': [0.1, 0.2, 0.3, 0.4, 0.5, 0.6, 0.7, 0.8, 0.9],\n",
      " 'random_seed': 123,\n",
      " 'refit_every_n_windows': 1,\n",
      " 'refit_full': False,\n",
      " 'skip_model_selection': False,\n",
      " 'target': 'target',\n",
      " 'time_limit': 3600,\n",
      " 'verbosity': 2}\n",
      "\n",
      "train_data with frequency 'IRREG' has been resampled to frequency 'D'.\n"
     ]
    },
    {
     "name": "stdout",
     "output_type": "stream",
     "text": [
      "Training data shape: (3077, 9)\n",
      "Available columns: ['target', 'Close', 'High', 'Low', 'Volume', 'SMA_20', 'SMA_50', 'EMA_12', 'EMA_26']\n",
      "Known covariates: 8\n",
      "Train data: (2777, 9)\n",
      "Test data: (300, 9)\n",
      "🚀 Starting Chronos-Bolt-Base training for USDINR...\n"
     ]
    },
    {
     "name": "stderr",
     "output_type": "stream",
     "text": [
      "Provided train_data has 3893 rows (NaN fraction=28.7%), 1 time series. Median time series length is 3893 (min=3893, max=3893). \n",
      "\n",
      "Provided data contains following columns:\n",
      "\ttarget: 'target'\n",
      "\tknown_covariates:\n",
      "\t\tcategorical:        []\n",
      "\t\tcontinuous (float): ['Close', 'High', 'Low', 'Volume', 'SMA_20', 'SMA_50', ...]\n",
      "\n",
      "To learn how to fix incorrectly inferred types, please see documentation for TimeSeriesPredictor.fit\n",
      "\n",
      "AutoGluon will gauge predictive performance using evaluation metric: 'MASE'\n",
      "\tThis metric's sign has been flipped to adhere to being higher_is_better. The metric score can be multiplied by -1 to get the metric value.\n",
      "===================================================\n",
      "\n",
      "Starting training. Start time is 2025-09-18 18:00:28\n",
      "Models that will be trained: ['Chronos_USDINR_FineTuned_base_early_stopping[amazon__chronos-bolt-base]']\n",
      "Training timeseries model Chronos_USDINR_FineTuned_base_early_stopping[amazon__chronos-bolt-base]. Training for up to 3597.9s of the 3597.9s of remaining time.\n",
      "Chronos_USDINR_FineTuned_base_early_stopping[amazon__chronos-bolt-base]/W0 ignores following hyperparameters: ['learning_rate', 'max_steps', 'device_map']. See the documentation for Chronos_USDINR_FineTuned_base_early_stopping[amazon__chronos-bolt-base]/W0 for the list of supported hyperparameters.\n",
      "\tSaving fine-tuned model to /workspaces/Market/models/usdinr_chronos_predictor/models/Chronos_USDINR_FineTuned_base_early_stopping[amazon__chronos-bolt-base]/W0/fine-tuned-ckpt\n",
      "Chronos_USDINR_FineTuned_base_early_stopping[amazon__chronos-bolt-base]/W1 ignores following hyperparameters: ['learning_rate', 'max_steps', 'device_map']. See the documentation for Chronos_USDINR_FineTuned_base_early_stopping[amazon__chronos-bolt-base]/W1 for the list of supported hyperparameters.\n",
      "\tSaving fine-tuned model to /workspaces/Market/models/usdinr_chronos_predictor/models/Chronos_USDINR_FineTuned_base_early_stopping[amazon__chronos-bolt-base]/W1/fine-tuned-ckpt\n",
      "\t-0.8836       = Validation score (-MASE)\n",
      "\t1418.28 s     = Training runtime\n",
      "\t0.10    s     = Validation (prediction) runtime\n",
      "Training complete. Models trained: ['Chronos_USDINR_FineTuned_base_early_stopping[amazon__chronos-bolt-base]']\n",
      "Total runtime: 1418.42 s\n",
      "Best model: Chronos_USDINR_FineTuned_base_early_stopping[amazon__chronos-bolt-base]\n",
      "Best model score: -0.8836\n",
      "data with frequency 'B' has been resampled to frequency 'D'.\n"
     ]
    },
    {
     "name": "stdout",
     "output_type": "stream",
     "text": [
      "📊 Evaluating model performance...\n"
     ]
    },
    {
     "name": "stderr",
     "output_type": "stream",
     "text": [
      "Model not specified in predict, will default to the model with the best validation score: Chronos_USDINR_FineTuned_base_early_stopping[amazon__chronos-bolt-base]\n",
      "data with frequency 'B' has been resampled to frequency 'D'.\n"
     ]
    },
    {
     "name": "stdout",
     "output_type": "stream",
     "text": [
      "Evaluation scores:\n",
      "{'MASE': -0.8907262894238714}\n"
     ]
    },
    {
     "name": "stderr",
     "output_type": "stream",
     "text": [
      "Additional data provided, testing on additional data. Resulting leaderboard will be sorted according to test score (`score_test`).\n",
      "data with frequency 'IRREG' has been resampled to frequency 'D'.\n"
     ]
    },
    {
     "name": "stdout",
     "output_type": "stream",
     "text": [
      "Leaderboard:\n",
      "                                               model  score_test  score_val  \\\n",
      "0  Chronos_USDINR_FineTuned_base_early_stopping[a...   -0.890726  -0.883582   \n",
      "\n",
      "   pred_time_test  pred_time_val  fit_time_marginal  fit_order  \n",
      "0        1.633249       0.101114        1418.279238          1  \n",
      "🔮 Generating future forecasts...\n"
     ]
    },
    {
     "name": "stderr",
     "output_type": "stream",
     "text": [
      "Model not specified in predict, will default to the model with the best validation score: Chronos_USDINR_FineTuned_base_early_stopping[amazon__chronos-bolt-base]\n"
     ]
    },
    {
     "name": "stdout",
     "output_type": "stream",
     "text": [
      "Future 4-day USDINR opening price predictions:\n",
      "                         mean        0.1        0.2        0.3        0.4  \\\n",
      "item_id timestamp                                                           \n",
      "USDINR  2022-11-05  82.570511  82.333870  82.405388  82.465958  82.519760   \n",
      "        2022-11-06  82.529160  82.274330  82.360153  82.416649  82.473732   \n",
      "        2022-11-07  82.530190  82.280724  82.375801  82.424553  82.470108   \n",
      "        2022-11-08  82.575310  82.282120  82.380386  82.451096  82.514839   \n",
      "\n",
      "                          0.5        0.6        0.7        0.8        0.9  \n",
      "item_id timestamp                                                          \n",
      "USDINR  2022-11-05  82.570511  82.631821  82.692719  82.771484  82.913429  \n",
      "        2022-11-06  82.529160  82.592812  82.675163  82.770248  82.916649  \n",
      "        2022-11-07  82.530190  82.595840  82.667358  82.764641  82.906204  \n",
      "        2022-11-08  82.575310  82.640495  82.706879  82.791748  82.939308  \n",
      "✅ Model and predictions saved successfully!\n",
      "\n",
      "🎯 Final Results Summary:\n",
      "Model saved to: models/usdinr_chronos_predictor\n",
      "Predictions saved to: Data/USDINR_predictions.csv\n",
      "Prediction shape: (4, 10)\n",
      "\n",
      "📈 Sample Future USDINR Opening Price Predictions:\n",
      "  2022-11-05 00:00:00: 82.57051086425781\n",
      "  2022-11-06 00:00:00: 82.52915954589844\n",
      "  2022-11-07 00:00:00: 82.53018951416016\n",
      "  2022-11-08 00:00:00: 82.57530975341797\n"
     ]
    }
   ],
   "source": [
    "\n",
    "try:\n",
    "    # Ensure directory exists\n",
    "    import os\n",
    "    os.makedirs('models', exist_ok=True)\n",
    "    file_name = 'Data/USDINR_day_2022-2025-Train-processed.csv'\n",
    "    predictor, predictions = train_usdinr_forecaster(file_name)\n",
    "        \n",
    "        # Save the predictor (no path argument needed since specified in constructor)\n",
    "    predictor.save()\n",
    "        \n",
    "    predictions.to_csv('Data/USDINR_predictions.csv')\n",
    "        \n",
    "    print(\"✅ Model and predictions saved successfully!\")\n",
    "        \n",
    "    # Display final results\n",
    "    print(\"\\n🎯 Final Results Summary:\")\n",
    "    print(\"Model saved to: models/usdinr_chronos_predictor\")\n",
    "    print(\"Predictions saved to: Data/USDINR_predictions.csv\")\n",
    "    print(f\"Prediction shape: {predictions.shape}\")\n",
    "        \n",
    "    # Show sample predictions\n",
    "    print(\"\\n📈 Sample Future USDINR Opening Price Predictions:\")\n",
    "    if not predictions.empty:\n",
    "        latest = predictions.tail(4)  # Last 4 predictions\n",
    "        for idx, row in latest.iterrows():\n",
    "            timestamp = idx[1] if isinstance(idx, tuple) else idx\n",
    "            median_pred = row.get('0.5', row.get('mean', 'N/A'))\n",
    "            print(f\"  {timestamp}: {median_pred}\")\n",
    "        \n",
    "except Exception as e:\n",
    "    print(f\"❌ Error: {str(e)}\")\n",
    "    print(\"\\nTroubleshooting tips:\")\n",
    "    print(\"1. Ensure AutoGluon is installed: pip install autogluon.timeseries\")\n",
    "    print(\"2. Check if chronos models are available: pip install transformers>=4.30.0\")\n",
    "    print(\"3. Try the simplified training mode first\")\n",
    "    print(\"4. Check GPU memory availability for large context windows\")\n"
   ]
  },
  {
   "cell_type": "code",
   "execution_count": 8,
   "id": "b421f70c",
   "metadata": {},
   "outputs": [
    {
     "data": {
      "application/vnd.plotly.v1+json": {
       "config": {
        "plotlyServerURL": "https://plot.ly"
       },
       "data": [
        {
         "line": {
          "color": "blue",
          "width": 2
         },
         "marker": {
          "size": 6
         },
         "mode": "lines+markers",
         "name": "Actual USDINR",
         "type": "scatter",
         "x": [
          "2023-12-02T00:00:00",
          "2023-12-03T00:00:00",
          "2023-12-04T00:00:00",
          "2023-12-05T00:00:00"
         ],
         "y": {
          "bdata": "Ece6uI3YVEClaybfbNhUQEjgDz//11RAEAaeew/XVEA=",
          "dtype": "f8"
         }
        },
        {
         "line": {
          "color": "red",
          "dash": "dash",
          "width": 2
         },
         "marker": {
          "size": 6
         },
         "mode": "lines+markers",
         "name": "Predicted USDINR",
         "type": "scatter",
         "x": [
          "2022-11-05T00:00:00",
          "2022-11-06T00:00:00",
          "2022-11-07T00:00:00",
          "2022-11-08T00:00:00"
         ],
         "y": {
          "bdata": "nwJgPIOkVEB9lufB3aFUQKSqCaLuoVRA9MMI4dGkVEA=",
          "dtype": "f8"
         }
        },
        {
         "hoverinfo": "skip",
         "line": {
          "width": 0
         },
         "mode": "lines",
         "showlegend": false,
         "type": "scatter",
         "x": [
          "2023-12-02T00:00:00",
          "2023-12-03T00:00:00",
          "2023-12-04T00:00:00",
          "2023-12-05T00:00:00"
         ],
         "y": {
          "bdata": "AvG6fsHfVEBhpu1fWeBUQKN1VDVB4FRAnkFD/wTgVEA=",
          "dtype": "f8"
         }
        },
        {
         "fill": "tonexty",
         "fillcolor": "rgba(0, 100, 200, 0.2)",
         "hoverinfo": "skip",
         "line": {
          "width": 0
         },
         "mode": "lines",
         "name": "Confidence Interval (10%-90%)",
         "type": "scatter",
         "x": [
          "2023-12-02T00:00:00",
          "2023-12-03T00:00:00",
          "2023-12-04T00:00:00",
          "2023-12-05T00:00:00"
         ],
         "y": {
          "bdata": "Q1a3ek7SVECPjUC8rtFUQJ4kXTP50FRAUDqRYKrPVEA=",
          "dtype": "f8"
         }
        }
       ],
       "layout": {
        "height": 600,
        "hovermode": "x unified",
        "legend": {
         "x": 0.01,
         "xanchor": "left",
         "y": 0.99,
         "yanchor": "top"
        },
        "template": {
         "data": {
          "bar": [
           {
            "error_x": {
             "color": "#2a3f5f"
            },
            "error_y": {
             "color": "#2a3f5f"
            },
            "marker": {
             "line": {
              "color": "white",
              "width": 0.5
             },
             "pattern": {
              "fillmode": "overlay",
              "size": 10,
              "solidity": 0.2
             }
            },
            "type": "bar"
           }
          ],
          "barpolar": [
           {
            "marker": {
             "line": {
              "color": "white",
              "width": 0.5
             },
             "pattern": {
              "fillmode": "overlay",
              "size": 10,
              "solidity": 0.2
             }
            },
            "type": "barpolar"
           }
          ],
          "carpet": [
           {
            "aaxis": {
             "endlinecolor": "#2a3f5f",
             "gridcolor": "#C8D4E3",
             "linecolor": "#C8D4E3",
             "minorgridcolor": "#C8D4E3",
             "startlinecolor": "#2a3f5f"
            },
            "baxis": {
             "endlinecolor": "#2a3f5f",
             "gridcolor": "#C8D4E3",
             "linecolor": "#C8D4E3",
             "minorgridcolor": "#C8D4E3",
             "startlinecolor": "#2a3f5f"
            },
            "type": "carpet"
           }
          ],
          "choropleth": [
           {
            "colorbar": {
             "outlinewidth": 0,
             "ticks": ""
            },
            "type": "choropleth"
           }
          ],
          "contour": [
           {
            "colorbar": {
             "outlinewidth": 0,
             "ticks": ""
            },
            "colorscale": [
             [
              0,
              "#0d0887"
             ],
             [
              0.1111111111111111,
              "#46039f"
             ],
             [
              0.2222222222222222,
              "#7201a8"
             ],
             [
              0.3333333333333333,
              "#9c179e"
             ],
             [
              0.4444444444444444,
              "#bd3786"
             ],
             [
              0.5555555555555556,
              "#d8576b"
             ],
             [
              0.6666666666666666,
              "#ed7953"
             ],
             [
              0.7777777777777778,
              "#fb9f3a"
             ],
             [
              0.8888888888888888,
              "#fdca26"
             ],
             [
              1,
              "#f0f921"
             ]
            ],
            "type": "contour"
           }
          ],
          "contourcarpet": [
           {
            "colorbar": {
             "outlinewidth": 0,
             "ticks": ""
            },
            "type": "contourcarpet"
           }
          ],
          "heatmap": [
           {
            "colorbar": {
             "outlinewidth": 0,
             "ticks": ""
            },
            "colorscale": [
             [
              0,
              "#0d0887"
             ],
             [
              0.1111111111111111,
              "#46039f"
             ],
             [
              0.2222222222222222,
              "#7201a8"
             ],
             [
              0.3333333333333333,
              "#9c179e"
             ],
             [
              0.4444444444444444,
              "#bd3786"
             ],
             [
              0.5555555555555556,
              "#d8576b"
             ],
             [
              0.6666666666666666,
              "#ed7953"
             ],
             [
              0.7777777777777778,
              "#fb9f3a"
             ],
             [
              0.8888888888888888,
              "#fdca26"
             ],
             [
              1,
              "#f0f921"
             ]
            ],
            "type": "heatmap"
           }
          ],
          "histogram": [
           {
            "marker": {
             "pattern": {
              "fillmode": "overlay",
              "size": 10,
              "solidity": 0.2
             }
            },
            "type": "histogram"
           }
          ],
          "histogram2d": [
           {
            "colorbar": {
             "outlinewidth": 0,
             "ticks": ""
            },
            "colorscale": [
             [
              0,
              "#0d0887"
             ],
             [
              0.1111111111111111,
              "#46039f"
             ],
             [
              0.2222222222222222,
              "#7201a8"
             ],
             [
              0.3333333333333333,
              "#9c179e"
             ],
             [
              0.4444444444444444,
              "#bd3786"
             ],
             [
              0.5555555555555556,
              "#d8576b"
             ],
             [
              0.6666666666666666,
              "#ed7953"
             ],
             [
              0.7777777777777778,
              "#fb9f3a"
             ],
             [
              0.8888888888888888,
              "#fdca26"
             ],
             [
              1,
              "#f0f921"
             ]
            ],
            "type": "histogram2d"
           }
          ],
          "histogram2dcontour": [
           {
            "colorbar": {
             "outlinewidth": 0,
             "ticks": ""
            },
            "colorscale": [
             [
              0,
              "#0d0887"
             ],
             [
              0.1111111111111111,
              "#46039f"
             ],
             [
              0.2222222222222222,
              "#7201a8"
             ],
             [
              0.3333333333333333,
              "#9c179e"
             ],
             [
              0.4444444444444444,
              "#bd3786"
             ],
             [
              0.5555555555555556,
              "#d8576b"
             ],
             [
              0.6666666666666666,
              "#ed7953"
             ],
             [
              0.7777777777777778,
              "#fb9f3a"
             ],
             [
              0.8888888888888888,
              "#fdca26"
             ],
             [
              1,
              "#f0f921"
             ]
            ],
            "type": "histogram2dcontour"
           }
          ],
          "mesh3d": [
           {
            "colorbar": {
             "outlinewidth": 0,
             "ticks": ""
            },
            "type": "mesh3d"
           }
          ],
          "parcoords": [
           {
            "line": {
             "colorbar": {
              "outlinewidth": 0,
              "ticks": ""
             }
            },
            "type": "parcoords"
           }
          ],
          "pie": [
           {
            "automargin": true,
            "type": "pie"
           }
          ],
          "scatter": [
           {
            "fillpattern": {
             "fillmode": "overlay",
             "size": 10,
             "solidity": 0.2
            },
            "type": "scatter"
           }
          ],
          "scatter3d": [
           {
            "line": {
             "colorbar": {
              "outlinewidth": 0,
              "ticks": ""
             }
            },
            "marker": {
             "colorbar": {
              "outlinewidth": 0,
              "ticks": ""
             }
            },
            "type": "scatter3d"
           }
          ],
          "scattercarpet": [
           {
            "marker": {
             "colorbar": {
              "outlinewidth": 0,
              "ticks": ""
             }
            },
            "type": "scattercarpet"
           }
          ],
          "scattergeo": [
           {
            "marker": {
             "colorbar": {
              "outlinewidth": 0,
              "ticks": ""
             }
            },
            "type": "scattergeo"
           }
          ],
          "scattergl": [
           {
            "marker": {
             "colorbar": {
              "outlinewidth": 0,
              "ticks": ""
             }
            },
            "type": "scattergl"
           }
          ],
          "scattermap": [
           {
            "marker": {
             "colorbar": {
              "outlinewidth": 0,
              "ticks": ""
             }
            },
            "type": "scattermap"
           }
          ],
          "scattermapbox": [
           {
            "marker": {
             "colorbar": {
              "outlinewidth": 0,
              "ticks": ""
             }
            },
            "type": "scattermapbox"
           }
          ],
          "scatterpolar": [
           {
            "marker": {
             "colorbar": {
              "outlinewidth": 0,
              "ticks": ""
             }
            },
            "type": "scatterpolar"
           }
          ],
          "scatterpolargl": [
           {
            "marker": {
             "colorbar": {
              "outlinewidth": 0,
              "ticks": ""
             }
            },
            "type": "scatterpolargl"
           }
          ],
          "scatterternary": [
           {
            "marker": {
             "colorbar": {
              "outlinewidth": 0,
              "ticks": ""
             }
            },
            "type": "scatterternary"
           }
          ],
          "surface": [
           {
            "colorbar": {
             "outlinewidth": 0,
             "ticks": ""
            },
            "colorscale": [
             [
              0,
              "#0d0887"
             ],
             [
              0.1111111111111111,
              "#46039f"
             ],
             [
              0.2222222222222222,
              "#7201a8"
             ],
             [
              0.3333333333333333,
              "#9c179e"
             ],
             [
              0.4444444444444444,
              "#bd3786"
             ],
             [
              0.5555555555555556,
              "#d8576b"
             ],
             [
              0.6666666666666666,
              "#ed7953"
             ],
             [
              0.7777777777777778,
              "#fb9f3a"
             ],
             [
              0.8888888888888888,
              "#fdca26"
             ],
             [
              1,
              "#f0f921"
             ]
            ],
            "type": "surface"
           }
          ],
          "table": [
           {
            "cells": {
             "fill": {
              "color": "#EBF0F8"
             },
             "line": {
              "color": "white"
             }
            },
            "header": {
             "fill": {
              "color": "#C8D4E3"
             },
             "line": {
              "color": "white"
             }
            },
            "type": "table"
           }
          ]
         },
         "layout": {
          "annotationdefaults": {
           "arrowcolor": "#2a3f5f",
           "arrowhead": 0,
           "arrowwidth": 1
          },
          "autotypenumbers": "strict",
          "coloraxis": {
           "colorbar": {
            "outlinewidth": 0,
            "ticks": ""
           }
          },
          "colorscale": {
           "diverging": [
            [
             0,
             "#8e0152"
            ],
            [
             0.1,
             "#c51b7d"
            ],
            [
             0.2,
             "#de77ae"
            ],
            [
             0.3,
             "#f1b6da"
            ],
            [
             0.4,
             "#fde0ef"
            ],
            [
             0.5,
             "#f7f7f7"
            ],
            [
             0.6,
             "#e6f5d0"
            ],
            [
             0.7,
             "#b8e186"
            ],
            [
             0.8,
             "#7fbc41"
            ],
            [
             0.9,
             "#4d9221"
            ],
            [
             1,
             "#276419"
            ]
           ],
           "sequential": [
            [
             0,
             "#0d0887"
            ],
            [
             0.1111111111111111,
             "#46039f"
            ],
            [
             0.2222222222222222,
             "#7201a8"
            ],
            [
             0.3333333333333333,
             "#9c179e"
            ],
            [
             0.4444444444444444,
             "#bd3786"
            ],
            [
             0.5555555555555556,
             "#d8576b"
            ],
            [
             0.6666666666666666,
             "#ed7953"
            ],
            [
             0.7777777777777778,
             "#fb9f3a"
            ],
            [
             0.8888888888888888,
             "#fdca26"
            ],
            [
             1,
             "#f0f921"
            ]
           ],
           "sequentialminus": [
            [
             0,
             "#0d0887"
            ],
            [
             0.1111111111111111,
             "#46039f"
            ],
            [
             0.2222222222222222,
             "#7201a8"
            ],
            [
             0.3333333333333333,
             "#9c179e"
            ],
            [
             0.4444444444444444,
             "#bd3786"
            ],
            [
             0.5555555555555556,
             "#d8576b"
            ],
            [
             0.6666666666666666,
             "#ed7953"
            ],
            [
             0.7777777777777778,
             "#fb9f3a"
            ],
            [
             0.8888888888888888,
             "#fdca26"
            ],
            [
             1,
             "#f0f921"
            ]
           ]
          },
          "colorway": [
           "#636efa",
           "#EF553B",
           "#00cc96",
           "#ab63fa",
           "#FFA15A",
           "#19d3f3",
           "#FF6692",
           "#B6E880",
           "#FF97FF",
           "#FECB52"
          ],
          "font": {
           "color": "#2a3f5f"
          },
          "geo": {
           "bgcolor": "white",
           "lakecolor": "white",
           "landcolor": "white",
           "showlakes": true,
           "showland": true,
           "subunitcolor": "#C8D4E3"
          },
          "hoverlabel": {
           "align": "left"
          },
          "hovermode": "closest",
          "mapbox": {
           "style": "light"
          },
          "paper_bgcolor": "white",
          "plot_bgcolor": "white",
          "polar": {
           "angularaxis": {
            "gridcolor": "#EBF0F8",
            "linecolor": "#EBF0F8",
            "ticks": ""
           },
           "bgcolor": "white",
           "radialaxis": {
            "gridcolor": "#EBF0F8",
            "linecolor": "#EBF0F8",
            "ticks": ""
           }
          },
          "scene": {
           "xaxis": {
            "backgroundcolor": "white",
            "gridcolor": "#DFE8F3",
            "gridwidth": 2,
            "linecolor": "#EBF0F8",
            "showbackground": true,
            "ticks": "",
            "zerolinecolor": "#EBF0F8"
           },
           "yaxis": {
            "backgroundcolor": "white",
            "gridcolor": "#DFE8F3",
            "gridwidth": 2,
            "linecolor": "#EBF0F8",
            "showbackground": true,
            "ticks": "",
            "zerolinecolor": "#EBF0F8"
           },
           "zaxis": {
            "backgroundcolor": "white",
            "gridcolor": "#DFE8F3",
            "gridwidth": 2,
            "linecolor": "#EBF0F8",
            "showbackground": true,
            "ticks": "",
            "zerolinecolor": "#EBF0F8"
           }
          },
          "shapedefaults": {
           "line": {
            "color": "#2a3f5f"
           }
          },
          "ternary": {
           "aaxis": {
            "gridcolor": "#DFE8F3",
            "linecolor": "#A2B1C6",
            "ticks": ""
           },
           "baxis": {
            "gridcolor": "#DFE8F3",
            "linecolor": "#A2B1C6",
            "ticks": ""
           },
           "bgcolor": "white",
           "caxis": {
            "gridcolor": "#DFE8F3",
            "linecolor": "#A2B1C6",
            "ticks": ""
           }
          },
          "title": {
           "x": 0.05
          },
          "xaxis": {
           "automargin": true,
           "gridcolor": "#EBF0F8",
           "linecolor": "#EBF0F8",
           "ticks": "",
           "title": {
            "standoff": 15
           },
           "zerolinecolor": "#EBF0F8",
           "zerolinewidth": 2
          },
          "yaxis": {
           "automargin": true,
           "gridcolor": "#EBF0F8",
           "linecolor": "#EBF0F8",
           "ticks": "",
           "title": {
            "standoff": 15
           },
           "zerolinecolor": "#EBF0F8",
           "zerolinewidth": 2
          }
         }
        },
        "title": {
         "font": {
          "size": 20
         },
         "text": "USDINR Exchange Rate: Actual vs Predicted Values",
         "x": 0.5,
         "xanchor": "center"
        },
        "width": 1000,
        "xaxis": {
         "gridcolor": "lightgray",
         "gridwidth": 1,
         "showgrid": true,
         "title": {
          "text": "Date"
         }
        },
        "yaxis": {
         "gridcolor": "lightgray",
         "gridwidth": 1,
         "showgrid": true,
         "title": {
          "text": "USDINR Exchange Rate"
         }
        }
       }
      }
     },
     "metadata": {},
     "output_type": "display_data"
    },
    {
     "name": "stdout",
     "output_type": "stream",
     "text": [
      "No overlapping dates found between actual and predicted data.\n",
      "\n",
      "Plot saved as 'USDINR_actual_vs_predicted.html'\n"
     ]
    }
   ],
   "source": [
    "import pandas as pd\n",
    "import plotly.graph_objects as go\n",
    "import plotly.express as px\n",
    "from datetime import datetime\n",
    "import numpy as np\n",
    "from io import StringIO\n",
    "\n",
    "def load_real_data():\n",
    "    \"\"\"Load real USDINR data from the provided sample\"\"\"\n",
    "    real_data_csv = '''item_id,timestamp,mean,0.1,0.2,0.3,0.4,0.5,0.6,0.7,0.8,0.9\n",
    "USDINR,2023-12-02,83.38365,83.28604,83.318886,83.34383,83.36482,83.38365,83.40262,83.42266,83.447,83.496185\n",
    "USDINR,2023-12-03,83.381645,83.27629,83.3118,83.338394,83.36119,83.381645,83.40211,83.42462,83.45216,83.505455\n",
    "USDINR,2023-12-04,83.374954,83.26521,83.302635,83.330086,83.353065,83.374954,83.39622,83.41901,83.445854,83.50398\n",
    "USDINR,2023-12-05,83.36032,83.244774,83.28433,83.31224,83.33689,83.36032,83.3827,83.40624,83.43437,83.500305'''\n",
    "    \n",
    "    real_df = pd.read_csv(StringIO(real_data_csv))\n",
    "    real_df['timestamp'] = pd.to_datetime(real_df['timestamp'])\n",
    "    return real_df\n",
    "\n",
    "def load_predictions():\n",
    "    \"\"\"Load predictions from CSV file\"\"\"\n",
    "    try:\n",
    "        pred_df = pd.read_csv('Data/USDINR_predictions.csv')\n",
    "        \n",
    "        # Try to identify the date and prediction columns\n",
    "        date_columns = [col for col in pred_df.columns if 'date' in col.lower() or 'timestamp' in col.lower()]\n",
    "        pred_columns = [col for col in pred_df.columns if 'mean' in col.lower() or 'pred' in col.lower() or 'forecast' in col.lower()]\n",
    "        \n",
    "        if date_columns:\n",
    "            date_col = date_columns[0]\n",
    "        elif 'timestamp' in pred_df.columns:\n",
    "            date_col = 'timestamp'\n",
    "        else:\n",
    "            # Assume first column is date\n",
    "            date_col = pred_df.columns[0]\n",
    "            \n",
    "        if pred_columns:\n",
    "            pred_col = pred_columns[0]\n",
    "        elif 'mean' in pred_df.columns:\n",
    "            pred_col = 'mean'\n",
    "        else:\n",
    "            # Assume second column or any numeric column is prediction\n",
    "            numeric_cols = pred_df.select_dtypes(include=[np.number]).columns\n",
    "            pred_col = numeric_cols[0] if len(numeric_cols) > 0 else pred_df.columns[1]\n",
    "        \n",
    "        pred_df['timestamp'] = pd.to_datetime(pred_df[date_col])\n",
    "        pred_df = pred_df.rename(columns={pred_col: 'predicted_mean'})\n",
    "        \n",
    "        return pred_df[['timestamp', 'predicted_mean']]\n",
    "        \n",
    "    except FileNotFoundError:\n",
    "        print(\"Predictions file not found. Creating sample predictions for demonstration.\")\n",
    "        # Create sample predictions based on real data dates + some future dates\n",
    "        real_df = load_real_data()\n",
    "        \n",
    "        # Generate some sample predictions\n",
    "        sample_predictions = []\n",
    "        base_value = 83.37\n",
    "        \n",
    "        for i in range(len(real_df) + 5):  # Include some future predictions\n",
    "            if i < len(real_df):\n",
    "                date = real_df.iloc[i]['timestamp']\n",
    "            else:\n",
    "                # Add future dates\n",
    "                last_date = real_df.iloc[-1]['timestamp']\n",
    "                date = last_date + pd.Timedelta(days=(i - len(real_df) + 1))\n",
    "            \n",
    "            # Simple trend with some noise for demonstration\n",
    "            predicted_value = base_value + (i * 0.01) + np.random.normal(0, 0.05)\n",
    "            sample_predictions.append({'timestamp': date, 'predicted_mean': predicted_value})\n",
    "        \n",
    "        return pd.DataFrame(sample_predictions)\n",
    "\n",
    "def create_visualization():\n",
    "    \"\"\"Create Plotly visualization comparing real vs predicted values\"\"\"\n",
    "    \n",
    "    # Load data\n",
    "    real_df = load_real_data()\n",
    "    pred_df = load_predictions()\n",
    "    \n",
    "    # Create the plot\n",
    "    fig = go.Figure()\n",
    "    \n",
    "    # Add real values line\n",
    "    fig.add_trace(go.Scatter(\n",
    "        x=real_df['timestamp'],\n",
    "        y=real_df['mean'],\n",
    "        mode='lines+markers',\n",
    "        name='Actual USDINR',\n",
    "        line=dict(color='blue', width=2),\n",
    "        marker=dict(size=6)\n",
    "    ))\n",
    "    \n",
    "    # Add prediction values line\n",
    "    fig.add_trace(go.Scatter(\n",
    "        x=pred_df['timestamp'],\n",
    "        y=pred_df['predicted_mean'],\n",
    "        mode='lines+markers',\n",
    "        name='Predicted USDINR',\n",
    "        line=dict(color='red', width=2, dash='dash'),\n",
    "        marker=dict(size=6)\n",
    "    ))\n",
    "    \n",
    "    # Add confidence intervals if available in real data\n",
    "    if all(col in real_df.columns for col in ['0.1', '0.9']):\n",
    "        fig.add_trace(go.Scatter(\n",
    "            x=real_df['timestamp'],\n",
    "            y=real_df['0.9'],\n",
    "            mode='lines',\n",
    "            line=dict(width=0),\n",
    "            showlegend=False,\n",
    "            hoverinfo='skip'\n",
    "        ))\n",
    "        \n",
    "        fig.add_trace(go.Scatter(\n",
    "            x=real_df['timestamp'],\n",
    "            y=real_df['0.1'],\n",
    "            mode='lines',\n",
    "            line=dict(width=0),\n",
    "            fill='tonexty',\n",
    "            fillcolor='rgba(0, 100, 200, 0.2)',\n",
    "            name='Confidence Interval (10%-90%)',\n",
    "            hoverinfo='skip'\n",
    "        ))\n",
    "    \n",
    "    # Update layout\n",
    "    fig.update_layout(\n",
    "        title={\n",
    "            'text': 'USDINR Exchange Rate: Actual vs Predicted Values',\n",
    "            'x': 0.5,\n",
    "            'xanchor': 'center',\n",
    "            'font': {'size': 20}\n",
    "        },\n",
    "        xaxis_title='Date',\n",
    "        yaxis_title='USDINR Exchange Rate',\n",
    "        hovermode='x unified',\n",
    "        template='plotly_white',\n",
    "        width=1000,\n",
    "        height=600,\n",
    "        legend=dict(\n",
    "            yanchor=\"top\",\n",
    "            y=0.99,\n",
    "            xanchor=\"left\",\n",
    "            x=0.01\n",
    "        )\n",
    "    )\n",
    "    \n",
    "    # Add grid\n",
    "    fig.update_xaxes(showgrid=True, gridwidth=1, gridcolor='lightgray')\n",
    "    fig.update_yaxes(showgrid=True, gridwidth=1, gridcolor='lightgray')\n",
    "    \n",
    "    return fig\n",
    "\n",
    "def calculate_metrics(real_df, pred_df):\n",
    "    \"\"\"Calculate prediction accuracy metrics\"\"\"\n",
    "    # Merge dataframes on timestamp for common dates\n",
    "    merged_df = pd.merge(real_df[['timestamp', 'mean']], \n",
    "                        pred_df[['timestamp', 'predicted_mean']], \n",
    "                        on='timestamp', how='inner')\n",
    "    \n",
    "    if len(merged_df) > 0:\n",
    "        mae = np.mean(np.abs(merged_df['mean'] - merged_df['predicted_mean']))\n",
    "        mse = np.mean((merged_df['mean'] - merged_df['predicted_mean'])**2)\n",
    "        rmse = np.sqrt(mse)\n",
    "        mape = np.mean(np.abs((merged_df['mean'] - merged_df['predicted_mean']) / merged_df['mean'])) * 100\n",
    "        \n",
    "        print(f\"\\nPrediction Accuracy Metrics:\")\n",
    "        print(f\"Mean Absolute Error (MAE): {mae:.4f}\")\n",
    "        print(f\"Mean Squared Error (MSE): {mse:.4f}\")\n",
    "        print(f\"Root Mean Squared Error (RMSE): {rmse:.4f}\")\n",
    "        print(f\"Mean Absolute Percentage Error (MAPE): {mape:.2f}%\")\n",
    "    else:\n",
    "        print(\"No overlapping dates found between actual and predicted data.\")\n",
    "\n",
    "if __name__ == \"__main__\":\n",
    "    # Create and display the visualization\n",
    "    fig = create_visualization()\n",
    "    fig.show()\n",
    "    \n",
    "    # Calculate and display metrics\n",
    "    real_data = load_real_data()\n",
    "    pred_data = load_predictions()\n",
    "    calculate_metrics(real_data, pred_data)\n",
    "    \n",
    "    # Optional: Save the plot as HTML\n",
    "    fig.write_html(\"USDINR_actual_vs_predicted.html\")\n",
    "    print(f\"\\nPlot saved as 'USDINR_actual_vs_predicted.html'\")\n"
   ]
  },
  {
   "cell_type": "code",
   "execution_count": null,
   "id": "088563f2",
   "metadata": {},
   "outputs": [],
   "source": []
  }
 ],
 "metadata": {
  "kernelspec": {
   "display_name": "base",
   "language": "python",
   "name": "python3"
  },
  "language_info": {
   "codemirror_mode": {
    "name": "ipython",
    "version": 3
   },
   "file_extension": ".py",
   "mimetype": "text/x-python",
   "name": "python",
   "nbconvert_exporter": "python",
   "pygments_lexer": "ipython3",
   "version": "3.11.11"
  }
 },
 "nbformat": 4,
 "nbformat_minor": 5
}
