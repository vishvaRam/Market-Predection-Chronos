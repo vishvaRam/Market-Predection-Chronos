{
 "cells": [
  {
   "cell_type": "code",
   "execution_count": 9,
   "id": "4d147b35",
   "metadata": {},
   "outputs": [
    {
     "name": "stdout",
     "output_type": "stream",
     "text": [
      "Starting USDINR Prediction Analysis...\n",
      "==================================================\n",
      "Loading USDINR data from USDINR_daily.csv...\n",
      "Loaded 1485 rows of data from 2020-01-01 00:00:00 to 2025-09-12 00:00:00\n",
      "Available columns: ['DATE', 'CLOSE PRICE', 'HIGH PRICE', 'LOW PRICE', 'OPEN PRICE', 'Volume']\n",
      "Target column dtype: float64\n",
      "Sample data:\n",
      "        DATE  OPEN PRICE  HIGH PRICE  LOW PRICE  CLOSE PRICE\n",
      "0 2020-01-01   71.275803   71.430000  71.029999    71.275803\n",
      "1 2020-01-02   71.025002   71.405502  71.025002    71.025002\n",
      "2 2020-01-03   71.415001   71.995003  71.229797    71.415001\n",
      "3 2020-01-06   71.720001   72.190002  71.703003    71.731003\n",
      "4 2020-01-07   72.019997   72.032600  71.668999    71.787003\n",
      "\n",
      "Predicting last 2 days using context of 30 days...\n",
      "Predicting day 1/2: 2025-09-11\n",
      "  Context data shape: (30,), dtype: float32\n",
      "  ✓ tiny: 88.0511\n",
      "  ✓ mini: 88.1154\n",
      "  ✓ small: 87.9547\n",
      "  ✓ base: 87.9869\n",
      "  🎯 Ensemble: 88.0142 (Actual: 88.0534)\n",
      "Predicting day 2/2: 2025-09-12\n",
      "  Context data shape: (30,), dtype: float32\n",
      "  ✓ tiny: 87.9982\n",
      "  ✓ mini: 87.9982\n",
      "  ✓ small: 87.9339\n",
      "  ✓ base: 87.9982\n",
      "  🎯 Ensemble: 87.9821 (Actual: 88.2676)\n",
      "\n",
      "Creating visualizations...\n",
      "Interactive plot saved as 'usdinr_prediction_analysis_final.html'\n",
      "\n",
      "Prediction Metrics (sorted by performance):\n",
      "        Model    MAE    MSE   RMSE  MAPE (%)  Max Error    Bias  Direction Accuracy (%)  Predictions\n",
      " chronos_tiny 0.1358 0.0363 0.1905      0.15     0.2694 -0.1358                     0.0            2\n",
      "     ensemble 0.1623 0.0415 0.2038      0.18     0.2855 -0.1623                     0.0            2\n",
      " chronos_base 0.1680 0.0385 0.1962      0.19     0.2694 -0.1680                   100.0            2\n",
      " chronos_mini 0.1657 0.0382 0.1955      0.19     0.2694 -0.1037                     0.0            2\n",
      "chronos_small 0.2162 0.0605 0.2460      0.25     0.3337 -0.2162                     0.0            2\n",
      "\n",
      "Results saved to CSV files and summary report\n"
     ]
    },
    {
     "data": {
      "application/vnd.plotly.v1+json": {
       "config": {
        "plotlyServerURL": "https://plot.ly"
       },
       "data": [
        {
         "line": {
          "color": "black",
          "width": 4
         },
         "marker": {
          "size": 10
         },
         "mode": "lines+markers",
         "name": "Actual",
         "type": "scatter",
         "x": [
          "2025-09-11T00:00:00",
          "2025-09-12T00:00:00"
         ],
         "xaxis": "x",
         "y": [
          88.05339813232422,
          88.2676010131836
         ],
         "yaxis": "y"
        },
        {
         "line": {
          "color": "rgb(141,211,199)"
         },
         "marker": {
          "size": 6
         },
         "mode": "lines+markers",
         "name": "chronos_base",
         "type": "scatter",
         "x": [
          "2025-09-11T00:00:00",
          "2025-09-12T00:00:00"
         ],
         "xaxis": "x",
         "y": [
          87.98686981201172,
          87.99820709228516
         ],
         "yaxis": "y"
        },
        {
         "line": {
          "color": "rgb(141,211,199)"
         },
         "mode": "lines+markers",
         "name": "chronos_base Error %",
         "showlegend": false,
         "type": "scatter",
         "x": [
          "2025-09-11T00:00:00",
          "2025-09-12T00:00:00"
         ],
         "xaxis": "x2",
         "y": [
          0.07555451773993216,
          0.30520136245483886
         ],
         "yaxis": "y2"
        },
        {
         "line": {
          "color": "rgb(255,255,179)"
         },
         "marker": {
          "size": 6
         },
         "mode": "lines+markers",
         "name": "chronos_mini",
         "type": "scatter",
         "x": [
          "2025-09-11T00:00:00",
          "2025-09-12T00:00:00"
         ],
         "xaxis": "x",
         "y": [
          88.11541748046875,
          87.99820709228516
         ],
         "yaxis": "y"
        },
        {
         "line": {
          "color": "rgb(255,255,179)"
         },
         "mode": "lines+markers",
         "name": "chronos_mini Error %",
         "showlegend": false,
         "type": "scatter",
         "x": [
          "2025-09-11T00:00:00",
          "2025-09-12T00:00:00"
         ],
         "xaxis": "x2",
         "y": [
          0.07043379297109044,
          0.30520136245483886
         ],
         "yaxis": "y2"
        },
        {
         "line": {
          "color": "rgb(190,186,218)"
         },
         "marker": {
          "size": 6
         },
         "mode": "lines+markers",
         "name": "chronos_small",
         "type": "scatter",
         "x": [
          "2025-09-11T00:00:00",
          "2025-09-12T00:00:00"
         ],
         "xaxis": "x",
         "y": [
          87.95472717285156,
          87.93392181396484
         ],
         "yaxis": "y"
        },
        {
         "line": {
          "color": "rgb(190,186,218)"
         },
         "mode": "lines+markers",
         "name": "chronos_small Error %",
         "showlegend": false,
         "type": "scatter",
         "x": [
          "2025-09-11T00:00:00",
          "2025-09-12T00:00:00"
         ],
         "xaxis": "x2",
         "y": [
          0.11205809379937416,
          0.37803134489733314
         ],
         "yaxis": "y2"
        },
        {
         "line": {
          "color": "rgb(251,128,114)"
         },
         "marker": {
          "size": 6
         },
         "mode": "lines+markers",
         "name": "chronos_tiny",
         "type": "scatter",
         "x": [
          "2025-09-11T00:00:00",
          "2025-09-12T00:00:00"
         ],
         "xaxis": "x",
         "y": [
          88.05113983154297,
          87.99820709228516
         ],
         "yaxis": "y"
        },
        {
         "line": {
          "color": "rgb(251,128,114)"
         },
         "mode": "lines+markers",
         "name": "chronos_tiny Error %",
         "showlegend": false,
         "type": "scatter",
         "x": [
          "2025-09-11T00:00:00",
          "2025-09-12T00:00:00"
         ],
         "xaxis": "x2",
         "y": [
          0.0025646946388784312,
          0.30520136245483886
         ],
         "yaxis": "y2"
        },
        {
         "line": {
          "color": "rgb(128,177,211)"
         },
         "marker": {
          "size": 6
         },
         "mode": "lines+markers",
         "name": "ensemble",
         "type": "scatter",
         "x": [
          "2025-09-11T00:00:00",
          "2025-09-12T00:00:00"
         ],
         "xaxis": "x",
         "y": [
          88.01418418884278,
          87.98213577270508
         ],
         "yaxis": "y"
        },
        {
         "line": {
          "color": "rgb(128,177,211)"
         },
         "mode": "lines+markers",
         "name": "ensemble Error %",
         "showlegend": false,
         "type": "scatter",
         "x": [
          "2025-09-11T00:00:00",
          "2025-09-12T00:00:00"
         ],
         "xaxis": "x2",
         "y": [
          0.04453427614742685,
          0.3234088580654625
         ],
         "yaxis": "y2"
        },
        {
         "marker": {
          "color": [
           "rgb(141,211,199)",
           "rgb(255,255,179)",
           "rgb(190,186,218)",
           "rgb(251,128,114)",
           "rgb(128,177,211)"
          ]
         },
         "name": "Mean Absolute Error",
         "showlegend": false,
         "type": "bar",
         "x": [
          "chronos_tiny",
          "ensemble",
          "chronos_mini",
          "chronos_base",
          "chronos_small"
         ],
         "xaxis": "x3",
         "y": [
          0.13582611083984375,
          0.16233959197997905,
          0.16570663452148438,
          0.16796112060546875,
          0.21617507934570312
         ],
         "yaxis": "y3"
        },
        {
         "marker": {
          "color": [
           "rgb(102, 197, 204)",
           "rgb(246, 207, 113)",
           "rgb(248, 156, 116)",
           "rgb(220, 176, 242)",
           "rgb(135, 197, 95)"
          ]
         },
         "name": "MAPE %",
         "showlegend": false,
         "type": "bar",
         "x": [
          "chronos_tiny",
          "ensemble",
          "chronos_mini",
          "chronos_base",
          "chronos_small"
         ],
         "xaxis": "x4",
         "y": [
          0.15388302854685865,
          0.18397156710644466,
          0.18781757771296465,
          0.1903779400973855,
          0.24504471934835365
         ],
         "yaxis": "y4"
        }
       ],
       "layout": {
        "annotations": [
         {
          "font": {
           "size": 16
          },
          "showarrow": false,
          "text": "Predictions vs Actuals",
          "x": 0.225,
          "xanchor": "center",
          "xref": "paper",
          "y": 1,
          "yanchor": "bottom",
          "yref": "paper"
         },
         {
          "font": {
           "size": 16
          },
          "showarrow": false,
          "text": "Prediction Errors (%)",
          "x": 0.775,
          "xanchor": "center",
          "xref": "paper",
          "y": 1,
          "yanchor": "bottom",
          "yref": "paper"
         },
         {
          "font": {
           "size": 16
          },
          "showarrow": false,
          "text": "Model Performance (MAE)",
          "x": 0.225,
          "xanchor": "center",
          "xref": "paper",
          "y": 0.375,
          "yanchor": "bottom",
          "yref": "paper"
         },
         {
          "font": {
           "size": 16
          },
          "showarrow": false,
          "text": "Model Rankings",
          "x": 0.775,
          "xanchor": "center",
          "xref": "paper",
          "y": 0.375,
          "yanchor": "bottom",
          "yref": "paper"
         }
        ],
        "font": {
         "size": 10
        },
        "height": 900,
        "showlegend": true,
        "template": {
         "data": {
          "bar": [
           {
            "error_x": {
             "color": "#2a3f5f"
            },
            "error_y": {
             "color": "#2a3f5f"
            },
            "marker": {
             "line": {
              "color": "white",
              "width": 0.5
             },
             "pattern": {
              "fillmode": "overlay",
              "size": 10,
              "solidity": 0.2
             }
            },
            "type": "bar"
           }
          ],
          "barpolar": [
           {
            "marker": {
             "line": {
              "color": "white",
              "width": 0.5
             },
             "pattern": {
              "fillmode": "overlay",
              "size": 10,
              "solidity": 0.2
             }
            },
            "type": "barpolar"
           }
          ],
          "carpet": [
           {
            "aaxis": {
             "endlinecolor": "#2a3f5f",
             "gridcolor": "#C8D4E3",
             "linecolor": "#C8D4E3",
             "minorgridcolor": "#C8D4E3",
             "startlinecolor": "#2a3f5f"
            },
            "baxis": {
             "endlinecolor": "#2a3f5f",
             "gridcolor": "#C8D4E3",
             "linecolor": "#C8D4E3",
             "minorgridcolor": "#C8D4E3",
             "startlinecolor": "#2a3f5f"
            },
            "type": "carpet"
           }
          ],
          "choropleth": [
           {
            "colorbar": {
             "outlinewidth": 0,
             "ticks": ""
            },
            "type": "choropleth"
           }
          ],
          "contour": [
           {
            "colorbar": {
             "outlinewidth": 0,
             "ticks": ""
            },
            "colorscale": [
             [
              0,
              "#0d0887"
             ],
             [
              0.1111111111111111,
              "#46039f"
             ],
             [
              0.2222222222222222,
              "#7201a8"
             ],
             [
              0.3333333333333333,
              "#9c179e"
             ],
             [
              0.4444444444444444,
              "#bd3786"
             ],
             [
              0.5555555555555556,
              "#d8576b"
             ],
             [
              0.6666666666666666,
              "#ed7953"
             ],
             [
              0.7777777777777778,
              "#fb9f3a"
             ],
             [
              0.8888888888888888,
              "#fdca26"
             ],
             [
              1,
              "#f0f921"
             ]
            ],
            "type": "contour"
           }
          ],
          "contourcarpet": [
           {
            "colorbar": {
             "outlinewidth": 0,
             "ticks": ""
            },
            "type": "contourcarpet"
           }
          ],
          "heatmap": [
           {
            "colorbar": {
             "outlinewidth": 0,
             "ticks": ""
            },
            "colorscale": [
             [
              0,
              "#0d0887"
             ],
             [
              0.1111111111111111,
              "#46039f"
             ],
             [
              0.2222222222222222,
              "#7201a8"
             ],
             [
              0.3333333333333333,
              "#9c179e"
             ],
             [
              0.4444444444444444,
              "#bd3786"
             ],
             [
              0.5555555555555556,
              "#d8576b"
             ],
             [
              0.6666666666666666,
              "#ed7953"
             ],
             [
              0.7777777777777778,
              "#fb9f3a"
             ],
             [
              0.8888888888888888,
              "#fdca26"
             ],
             [
              1,
              "#f0f921"
             ]
            ],
            "type": "heatmap"
           }
          ],
          "histogram": [
           {
            "marker": {
             "pattern": {
              "fillmode": "overlay",
              "size": 10,
              "solidity": 0.2
             }
            },
            "type": "histogram"
           }
          ],
          "histogram2d": [
           {
            "colorbar": {
             "outlinewidth": 0,
             "ticks": ""
            },
            "colorscale": [
             [
              0,
              "#0d0887"
             ],
             [
              0.1111111111111111,
              "#46039f"
             ],
             [
              0.2222222222222222,
              "#7201a8"
             ],
             [
              0.3333333333333333,
              "#9c179e"
             ],
             [
              0.4444444444444444,
              "#bd3786"
             ],
             [
              0.5555555555555556,
              "#d8576b"
             ],
             [
              0.6666666666666666,
              "#ed7953"
             ],
             [
              0.7777777777777778,
              "#fb9f3a"
             ],
             [
              0.8888888888888888,
              "#fdca26"
             ],
             [
              1,
              "#f0f921"
             ]
            ],
            "type": "histogram2d"
           }
          ],
          "histogram2dcontour": [
           {
            "colorbar": {
             "outlinewidth": 0,
             "ticks": ""
            },
            "colorscale": [
             [
              0,
              "#0d0887"
             ],
             [
              0.1111111111111111,
              "#46039f"
             ],
             [
              0.2222222222222222,
              "#7201a8"
             ],
             [
              0.3333333333333333,
              "#9c179e"
             ],
             [
              0.4444444444444444,
              "#bd3786"
             ],
             [
              0.5555555555555556,
              "#d8576b"
             ],
             [
              0.6666666666666666,
              "#ed7953"
             ],
             [
              0.7777777777777778,
              "#fb9f3a"
             ],
             [
              0.8888888888888888,
              "#fdca26"
             ],
             [
              1,
              "#f0f921"
             ]
            ],
            "type": "histogram2dcontour"
           }
          ],
          "mesh3d": [
           {
            "colorbar": {
             "outlinewidth": 0,
             "ticks": ""
            },
            "type": "mesh3d"
           }
          ],
          "parcoords": [
           {
            "line": {
             "colorbar": {
              "outlinewidth": 0,
              "ticks": ""
             }
            },
            "type": "parcoords"
           }
          ],
          "pie": [
           {
            "automargin": true,
            "type": "pie"
           }
          ],
          "scatter": [
           {
            "fillpattern": {
             "fillmode": "overlay",
             "size": 10,
             "solidity": 0.2
            },
            "type": "scatter"
           }
          ],
          "scatter3d": [
           {
            "line": {
             "colorbar": {
              "outlinewidth": 0,
              "ticks": ""
             }
            },
            "marker": {
             "colorbar": {
              "outlinewidth": 0,
              "ticks": ""
             }
            },
            "type": "scatter3d"
           }
          ],
          "scattercarpet": [
           {
            "marker": {
             "colorbar": {
              "outlinewidth": 0,
              "ticks": ""
             }
            },
            "type": "scattercarpet"
           }
          ],
          "scattergeo": [
           {
            "marker": {
             "colorbar": {
              "outlinewidth": 0,
              "ticks": ""
             }
            },
            "type": "scattergeo"
           }
          ],
          "scattergl": [
           {
            "marker": {
             "colorbar": {
              "outlinewidth": 0,
              "ticks": ""
             }
            },
            "type": "scattergl"
           }
          ],
          "scattermap": [
           {
            "marker": {
             "colorbar": {
              "outlinewidth": 0,
              "ticks": ""
             }
            },
            "type": "scattermap"
           }
          ],
          "scattermapbox": [
           {
            "marker": {
             "colorbar": {
              "outlinewidth": 0,
              "ticks": ""
             }
            },
            "type": "scattermapbox"
           }
          ],
          "scatterpolar": [
           {
            "marker": {
             "colorbar": {
              "outlinewidth": 0,
              "ticks": ""
             }
            },
            "type": "scatterpolar"
           }
          ],
          "scatterpolargl": [
           {
            "marker": {
             "colorbar": {
              "outlinewidth": 0,
              "ticks": ""
             }
            },
            "type": "scatterpolargl"
           }
          ],
          "scatterternary": [
           {
            "marker": {
             "colorbar": {
              "outlinewidth": 0,
              "ticks": ""
             }
            },
            "type": "scatterternary"
           }
          ],
          "surface": [
           {
            "colorbar": {
             "outlinewidth": 0,
             "ticks": ""
            },
            "colorscale": [
             [
              0,
              "#0d0887"
             ],
             [
              0.1111111111111111,
              "#46039f"
             ],
             [
              0.2222222222222222,
              "#7201a8"
             ],
             [
              0.3333333333333333,
              "#9c179e"
             ],
             [
              0.4444444444444444,
              "#bd3786"
             ],
             [
              0.5555555555555556,
              "#d8576b"
             ],
             [
              0.6666666666666666,
              "#ed7953"
             ],
             [
              0.7777777777777778,
              "#fb9f3a"
             ],
             [
              0.8888888888888888,
              "#fdca26"
             ],
             [
              1,
              "#f0f921"
             ]
            ],
            "type": "surface"
           }
          ],
          "table": [
           {
            "cells": {
             "fill": {
              "color": "#EBF0F8"
             },
             "line": {
              "color": "white"
             }
            },
            "header": {
             "fill": {
              "color": "#C8D4E3"
             },
             "line": {
              "color": "white"
             }
            },
            "type": "table"
           }
          ]
         },
         "layout": {
          "annotationdefaults": {
           "arrowcolor": "#2a3f5f",
           "arrowhead": 0,
           "arrowwidth": 1
          },
          "autotypenumbers": "strict",
          "coloraxis": {
           "colorbar": {
            "outlinewidth": 0,
            "ticks": ""
           }
          },
          "colorscale": {
           "diverging": [
            [
             0,
             "#8e0152"
            ],
            [
             0.1,
             "#c51b7d"
            ],
            [
             0.2,
             "#de77ae"
            ],
            [
             0.3,
             "#f1b6da"
            ],
            [
             0.4,
             "#fde0ef"
            ],
            [
             0.5,
             "#f7f7f7"
            ],
            [
             0.6,
             "#e6f5d0"
            ],
            [
             0.7,
             "#b8e186"
            ],
            [
             0.8,
             "#7fbc41"
            ],
            [
             0.9,
             "#4d9221"
            ],
            [
             1,
             "#276419"
            ]
           ],
           "sequential": [
            [
             0,
             "#0d0887"
            ],
            [
             0.1111111111111111,
             "#46039f"
            ],
            [
             0.2222222222222222,
             "#7201a8"
            ],
            [
             0.3333333333333333,
             "#9c179e"
            ],
            [
             0.4444444444444444,
             "#bd3786"
            ],
            [
             0.5555555555555556,
             "#d8576b"
            ],
            [
             0.6666666666666666,
             "#ed7953"
            ],
            [
             0.7777777777777778,
             "#fb9f3a"
            ],
            [
             0.8888888888888888,
             "#fdca26"
            ],
            [
             1,
             "#f0f921"
            ]
           ],
           "sequentialminus": [
            [
             0,
             "#0d0887"
            ],
            [
             0.1111111111111111,
             "#46039f"
            ],
            [
             0.2222222222222222,
             "#7201a8"
            ],
            [
             0.3333333333333333,
             "#9c179e"
            ],
            [
             0.4444444444444444,
             "#bd3786"
            ],
            [
             0.5555555555555556,
             "#d8576b"
            ],
            [
             0.6666666666666666,
             "#ed7953"
            ],
            [
             0.7777777777777778,
             "#fb9f3a"
            ],
            [
             0.8888888888888888,
             "#fdca26"
            ],
            [
             1,
             "#f0f921"
            ]
           ]
          },
          "colorway": [
           "#636efa",
           "#EF553B",
           "#00cc96",
           "#ab63fa",
           "#FFA15A",
           "#19d3f3",
           "#FF6692",
           "#B6E880",
           "#FF97FF",
           "#FECB52"
          ],
          "font": {
           "color": "#2a3f5f"
          },
          "geo": {
           "bgcolor": "white",
           "lakecolor": "white",
           "landcolor": "white",
           "showlakes": true,
           "showland": true,
           "subunitcolor": "#C8D4E3"
          },
          "hoverlabel": {
           "align": "left"
          },
          "hovermode": "closest",
          "mapbox": {
           "style": "light"
          },
          "paper_bgcolor": "white",
          "plot_bgcolor": "white",
          "polar": {
           "angularaxis": {
            "gridcolor": "#EBF0F8",
            "linecolor": "#EBF0F8",
            "ticks": ""
           },
           "bgcolor": "white",
           "radialaxis": {
            "gridcolor": "#EBF0F8",
            "linecolor": "#EBF0F8",
            "ticks": ""
           }
          },
          "scene": {
           "xaxis": {
            "backgroundcolor": "white",
            "gridcolor": "#DFE8F3",
            "gridwidth": 2,
            "linecolor": "#EBF0F8",
            "showbackground": true,
            "ticks": "",
            "zerolinecolor": "#EBF0F8"
           },
           "yaxis": {
            "backgroundcolor": "white",
            "gridcolor": "#DFE8F3",
            "gridwidth": 2,
            "linecolor": "#EBF0F8",
            "showbackground": true,
            "ticks": "",
            "zerolinecolor": "#EBF0F8"
           },
           "zaxis": {
            "backgroundcolor": "white",
            "gridcolor": "#DFE8F3",
            "gridwidth": 2,
            "linecolor": "#EBF0F8",
            "showbackground": true,
            "ticks": "",
            "zerolinecolor": "#EBF0F8"
           }
          },
          "shapedefaults": {
           "line": {
            "color": "#2a3f5f"
           }
          },
          "ternary": {
           "aaxis": {
            "gridcolor": "#DFE8F3",
            "linecolor": "#A2B1C6",
            "ticks": ""
           },
           "baxis": {
            "gridcolor": "#DFE8F3",
            "linecolor": "#A2B1C6",
            "ticks": ""
           },
           "bgcolor": "white",
           "caxis": {
            "gridcolor": "#DFE8F3",
            "linecolor": "#A2B1C6",
            "ticks": ""
           }
          },
          "title": {
           "x": 0.05
          },
          "xaxis": {
           "automargin": true,
           "gridcolor": "#EBF0F8",
           "linecolor": "#EBF0F8",
           "ticks": "",
           "title": {
            "standoff": 15
           },
           "zerolinecolor": "#EBF0F8",
           "zerolinewidth": 2
          },
          "yaxis": {
           "automargin": true,
           "gridcolor": "#EBF0F8",
           "linecolor": "#EBF0F8",
           "ticks": "",
           "title": {
            "standoff": 15
           },
           "zerolinecolor": "#EBF0F8",
           "zerolinewidth": 2
          }
         }
        },
        "title": {
         "text": "USDINR Prediction Analysis - Last 2 Days",
         "x": 0.5
        },
        "xaxis": {
         "anchor": "y",
         "domain": [
          0,
          0.45
         ],
         "title": {
          "text": "Date"
         }
        },
        "xaxis2": {
         "anchor": "y2",
         "domain": [
          0.55,
          1
         ],
         "title": {
          "text": "Date"
         }
        },
        "xaxis3": {
         "anchor": "y3",
         "domain": [
          0,
          0.45
         ],
         "tickangle": -45,
         "title": {
          "text": "Model"
         }
        },
        "xaxis4": {
         "anchor": "y4",
         "domain": [
          0.55,
          1
         ],
         "tickangle": -45,
         "title": {
          "text": "Model"
         }
        },
        "yaxis": {
         "anchor": "x",
         "domain": [
          0.625,
          1
         ],
         "title": {
          "text": "USD/INR Rate"
         }
        },
        "yaxis2": {
         "anchor": "x2",
         "domain": [
          0.625,
          1
         ],
         "title": {
          "text": "Error %"
         }
        },
        "yaxis3": {
         "anchor": "x3",
         "domain": [
          0,
          0.375
         ],
         "title": {
          "text": "MAE"
         }
        },
        "yaxis4": {
         "anchor": "x4",
         "domain": [
          0,
          0.375
         ],
         "title": {
          "text": "MAPE %"
         }
        }
       }
      }
     },
     "metadata": {},
     "output_type": "display_data"
    },
    {
     "name": "stdout",
     "output_type": "stream",
     "text": [
      "\n",
      "============================================================\n",
      "✅ ANALYSIS COMPLETE\n",
      "============================================================\n",
      "✓ Loaded 1485 days of USDINR data\n",
      "✓ Predicted last 2 days\n",
      "✓ Interactive plot created and saved\n",
      "✓ Comprehensive metrics calculated\n",
      "✓ Results saved to CSV files\n",
      "✓ Summary report generated\n",
      "\n",
      "🏆 BEST MODEL: chronos_tiny\n",
      "   MAPE: 0.15%\n",
      "   MAE: 0.1358\n",
      "   Direction Accuracy: 0.0\n"
     ]
    }
   ],
   "source": [
    "import pandas as pd\n",
    "import numpy as np\n",
    "import plotly.graph_objects as go\n",
    "from plotly.subplots import make_subplots\n",
    "import plotly.express as px\n",
    "from typing import Dict, List, Optional\n",
    "import warnings\n",
    "warnings.filterwarnings('ignore')\n",
    "\n",
    "\n",
    "def load_and_prepare_yfinance_data_corrected(csv_file_path: str) -> pd.DataFrame:\n",
    "    \"\"\"\n",
    "    Load and prepare the specific malformed yfinance CSV format\n",
    "    \"\"\"\n",
    "    # Your CSV has 3 header rows:\n",
    "    # Row 1: Price,Close,High,Low,Open,Volume  \n",
    "    # Row 2: Ticker,USDINR=X,USDINR=X,USDINR=X,USDINR=X,USDINR=X\n",
    "    # Row 3: Date,,,,,\n",
    "    # Then actual data starts\n",
    "    \n",
    "    # Skip first 3 rows and assign proper column names\n",
    "    df = pd.read_csv(\n",
    "        csv_file_path, \n",
    "        skiprows=3, \n",
    "        names=['DATE', 'CLOSE PRICE', 'HIGH PRICE', 'LOW PRICE', 'OPEN PRICE', 'Volume']\n",
    "    )\n",
    "    \n",
    "    # Convert DATE column to datetime\n",
    "    df['DATE'] = pd.to_datetime(df['DATE'], errors='coerce')\n",
    "    \n",
    "    # Convert all price columns to numeric\n",
    "    price_columns = ['OPEN PRICE', 'HIGH PRICE', 'LOW PRICE', 'CLOSE PRICE']\n",
    "    for col in price_columns:\n",
    "        df[col] = pd.to_numeric(df[col], errors='coerce')\n",
    "    \n",
    "    # Convert Volume to numeric\n",
    "    df['Volume'] = pd.to_numeric(df['Volume'], errors='coerce')\n",
    "    \n",
    "    # Remove rows with invalid dates or prices\n",
    "    df = df.dropna(subset=['DATE'] + price_columns)\n",
    "    \n",
    "    # Sort by date and reset index\n",
    "    df = df.sort_values('DATE').reset_index(drop=True)\n",
    "    \n",
    "    print(f\"Loaded {len(df)} rows of data from {df['DATE'].min()} to {df['DATE'].max()}\")\n",
    "    print(f\"Available columns: {df.columns.tolist()}\")\n",
    "    print(f\"Target column dtype: {df['OPEN PRICE'].dtype}\")\n",
    "    print(f\"Sample data:\\n{df[['DATE', 'OPEN PRICE', 'HIGH PRICE', 'LOW PRICE', 'CLOSE PRICE']].head()}\")\n",
    "    \n",
    "    return df\n",
    "\n",
    "\n",
    "def predict_last_n_days_with_ensemble_final(\n",
    "    df: pd.DataFrame,\n",
    "    n_days: int = 4,\n",
    "    context_length: int = 10,\n",
    "    target_column: str = 'OPEN PRICE',\n",
    "    date_column: str = 'DATE',\n",
    "    ensemble_models: list = None\n",
    ") -> Dict:\n",
    "    \"\"\"\n",
    "    Predict last n days with proper data type handling\n",
    "    \"\"\"\n",
    "    \n",
    "    if ensemble_models is None:\n",
    "        ensemble_models = [\n",
    "            {'model_size': 'tiny', 'weight': 0.15},\n",
    "            {'model_size': 'mini', 'weight': 0.2},\n",
    "            {'model_size': 'small', 'weight': 0.25},\n",
    "            {'model_size': 'base', 'weight': 0.4}\n",
    "        ]\n",
    "    \n",
    "    # Prepare data\n",
    "    df = df.sort_values(date_column).reset_index(drop=True)\n",
    "    \n",
    "    # Ensure target column is proper numeric type\n",
    "    target_series = df[target_column].astype(np.float32).values\n",
    "    dates = pd.to_datetime(df[date_column])\n",
    "    \n",
    "    predictions_results = []\n",
    "    actual_values = []\n",
    "    prediction_dates = []\n",
    "    \n",
    "    try:\n",
    "        from chronos import ChronosPipeline\n",
    "        import torch\n",
    "        \n",
    "        # For each of the last n_days, predict using previous context_length days\n",
    "        for day_offset in range(n_days):\n",
    "            # Calculate indices for sliding window\n",
    "            prediction_idx = len(df) - n_days + day_offset\n",
    "            context_start = max(0, prediction_idx - context_length)\n",
    "            context_end = prediction_idx\n",
    "            \n",
    "            # Extract context window\n",
    "            context_data = target_series[context_start:context_end]\n",
    "            actual_value = target_series[prediction_idx]\n",
    "            prediction_date = dates.iloc[prediction_idx]\n",
    "            \n",
    "            # Ensure context data is float32\n",
    "            context_data = context_data.astype(np.float32)\n",
    "            \n",
    "            # Store actual values for comparison\n",
    "            actual_values.append(float(actual_value))\n",
    "            prediction_dates.append(prediction_date)\n",
    "            \n",
    "            # Run ensemble predictions\n",
    "            model_predictions = {}\n",
    "            ensemble_preds = []\n",
    "            weights = []\n",
    "            \n",
    "            print(f\"Predicting day {day_offset + 1}/{n_days}: {prediction_date.strftime('%Y-%m-%d')}\")\n",
    "            print(f\"  Context data shape: {context_data.shape}, dtype: {context_data.dtype}\")\n",
    "            \n",
    "            for model_config in ensemble_models:\n",
    "                try:\n",
    "                    model_name = f\"amazon/chronos-t5-{model_config['model_size']}\"\n",
    "                    pipeline = ChronosPipeline.from_pretrained(\n",
    "                        model_name,\n",
    "                        device_map=\"auto\",\n",
    "                        torch_dtype=torch.bfloat16,\n",
    "                    )\n",
    "                    \n",
    "                    # Prepare context tensor with explicit float32 conversion\n",
    "                    context_tensor = torch.tensor(context_data, dtype=torch.float32).unsqueeze(0)\n",
    "                    \n",
    "                    # Generate forecast\n",
    "                    forecast = pipeline.predict(\n",
    "                        context_tensor,\n",
    "                        prediction_length=1,\n",
    "                        num_samples=20\n",
    "                    )\n",
    "                    \n",
    "                    # Extract prediction statistics\n",
    "                    forecast_samples = forecast[0].cpu().numpy()\n",
    "                    mean_pred = float(np.mean(forecast_samples))\n",
    "                    p10 = float(np.percentile(forecast_samples, 10))\n",
    "                    p50 = float(np.percentile(forecast_samples, 50))\n",
    "                    p90 = float(np.percentile(forecast_samples, 90))\n",
    "                    \n",
    "                    model_predictions[f\"chronos_{model_config['model_size']}\"] = {\n",
    "                        'prediction': mean_pred,\n",
    "                        'confidence_intervals': {'p10': p10, 'p50': p50, 'p90': p90}\n",
    "                    }\n",
    "                    \n",
    "                    ensemble_preds.append(mean_pred)\n",
    "                    weights.append(model_config['weight'])\n",
    "                    \n",
    "                    print(f\"  ✓ {model_config['model_size']}: {mean_pred:.4f}\")\n",
    "                    \n",
    "                except Exception as e:\n",
    "                    print(f\"  ✗ {model_config['model_size']} failed: {str(e)}\")\n",
    "                    continue\n",
    "            \n",
    "            # Calculate ensemble prediction\n",
    "            if ensemble_preds:\n",
    "                ensemble_pred = float(np.average(ensemble_preds, weights=weights))\n",
    "                model_predictions['ensemble'] = {\n",
    "                    'prediction': ensemble_pred,\n",
    "                    'individual_predictions': ensemble_preds,\n",
    "                    'weights_used': weights\n",
    "                }\n",
    "                print(f\"  🎯 Ensemble: {ensemble_pred:.4f} (Actual: {actual_value:.4f})\")\n",
    "            \n",
    "            predictions_results.append({\n",
    "                'date': prediction_date,\n",
    "                'actual': float(actual_value),\n",
    "                'predictions': model_predictions\n",
    "            })\n",
    "    \n",
    "    except ImportError:\n",
    "        print(\"Chronos not available, using statistical fallback...\")\n",
    "        predictions_results = create_statistical_predictions_n_days_final(\n",
    "            df, n_days, context_length, target_column, date_column\n",
    "        )\n",
    "    \n",
    "    return {\n",
    "        'predictions': predictions_results,\n",
    "        'dates': prediction_dates,\n",
    "        'actuals': actual_values,\n",
    "        'context_length': context_length,\n",
    "        'n_days': n_days\n",
    "    }\n",
    "\n",
    "\n",
    "def create_statistical_predictions_n_days_final(\n",
    "    df: pd.DataFrame,\n",
    "    n_days: int,\n",
    "    context_length: int,\n",
    "    target_column: str,\n",
    "    date_column: str\n",
    ") -> List[Dict]:\n",
    "    \"\"\"Enhanced statistical predictions fallback\"\"\"\n",
    "    \n",
    "    target_series = df[target_column].astype(np.float32).values\n",
    "    dates = pd.to_datetime(df[date_column])\n",
    "    predictions_results = []\n",
    "    \n",
    "    print(\"Using statistical fallback methods...\")\n",
    "    \n",
    "    for day_offset in range(n_days):\n",
    "        prediction_idx = len(df) - n_days + day_offset\n",
    "        context_start = max(0, prediction_idx - context_length)\n",
    "        context_end = prediction_idx\n",
    "        \n",
    "        context_data = target_series[context_start:context_end]\n",
    "        actual_value = float(target_series[prediction_idx])\n",
    "        prediction_date = dates.iloc[prediction_idx]\n",
    "        \n",
    "        # Enhanced statistical methods\n",
    "        ma_3 = float(np.mean(context_data[-3:]))\n",
    "        ma_5 = float(np.mean(context_data[-5:]))\n",
    "        ma_10 = float(np.mean(context_data[-10:]))\n",
    "        ma_full = float(np.mean(context_data))\n",
    "        \n",
    "        # Weighted moving average (recent data has higher weight)\n",
    "        weights = np.exp(np.linspace(-1, 0, len(context_data[-10:])))\n",
    "        weights = weights / weights.sum()\n",
    "        wma = float(np.average(context_data[-10:], weights=weights))\n",
    "        \n",
    "        # Exponential smoothing\n",
    "        alpha = 0.3\n",
    "        exp_smooth = float(context_data[-1])\n",
    "        for i in range(len(context_data)-2, -1, -1):\n",
    "            exp_smooth = alpha * float(context_data[i]) + (1 - alpha) * exp_smooth\n",
    "        \n",
    "        # Linear trend\n",
    "        x = np.arange(len(context_data))\n",
    "        coeffs = np.polyfit(x, context_data, 1)\n",
    "        trend_pred = float(coeffs[0] * len(x) + coeffs[1])\n",
    "        \n",
    "        # Momentum-based prediction\n",
    "        if len(context_data) >= 3:\n",
    "            momentum = float(context_data[-1] + (context_data[-1] - context_data[-3]))\n",
    "        else:\n",
    "            momentum = float(context_data[-1])\n",
    "        \n",
    "        # Median-based robust prediction\n",
    "        median_pred = float(np.median(context_data[-10:]))\n",
    "        \n",
    "        # Create ensemble from all statistical methods\n",
    "        all_preds = [ma_3, ma_5, ma_10, wma, exp_smooth, trend_pred, momentum, median_pred]\n",
    "        statistical_ensemble = float(np.mean(all_preds))\n",
    "        \n",
    "        # Robust ensemble (remove outliers)\n",
    "        q75, q25 = np.percentile(all_preds, [75, 25])\n",
    "        iqr = q75 - q25\n",
    "        lower_bound = q25 - 1.5 * iqr\n",
    "        upper_bound = q75 + 1.5 * iqr\n",
    "        robust_preds = [p for p in all_preds if lower_bound <= p <= upper_bound]\n",
    "        robust_ensemble = float(np.mean(robust_preds)) if robust_preds else statistical_ensemble\n",
    "        \n",
    "        model_predictions = {\n",
    "            'moving_average_3': {'prediction': ma_3},\n",
    "            'moving_average_5': {'prediction': ma_5},\n",
    "            'moving_average_10': {'prediction': ma_10},\n",
    "            'weighted_ma': {'prediction': wma},\n",
    "            'exponential_smoothing': {'prediction': exp_smooth},\n",
    "            'linear_trend': {'prediction': trend_pred},\n",
    "            'momentum': {'prediction': momentum},\n",
    "            'median_prediction': {'prediction': median_pred},\n",
    "            'statistical_ensemble': {'prediction': statistical_ensemble},\n",
    "            'robust_ensemble': {'prediction': robust_ensemble}\n",
    "        }\n",
    "        \n",
    "        predictions_results.append({\n",
    "            'date': prediction_date,\n",
    "            'actual': actual_value,\n",
    "            'predictions': model_predictions\n",
    "        })\n",
    "        \n",
    "        print(f\"  Day {day_offset + 1}/{n_days}: {prediction_date.strftime('%Y-%m-%d')}\")\n",
    "        print(f\"    Statistical Ensemble: {statistical_ensemble:.4f}\")\n",
    "        print(f\"    Robust Ensemble: {robust_ensemble:.4f}\")\n",
    "        print(f\"    Actual: {actual_value:.4f}\")\n",
    "    \n",
    "    return predictions_results\n",
    "\n",
    "\n",
    "def create_prediction_plots_final(results: Dict, save_plots: bool = True) -> go.Figure:\n",
    "    \"\"\"Create enhanced interactive Plotly visualizations\"\"\"\n",
    "    \n",
    "    predictions_data = results['predictions']\n",
    "    \n",
    "    if not predictions_data:\n",
    "        print(\"No prediction data available for plotting\")\n",
    "        return go.Figure()\n",
    "    \n",
    "    # Extract data for plotting\n",
    "    dates = [p['date'] for p in predictions_data]\n",
    "    actuals = [p['actual'] for p in predictions_data]\n",
    "    \n",
    "    # Get all model names\n",
    "    all_models = set()\n",
    "    for p in predictions_data:\n",
    "        all_models.update(p['predictions'].keys())\n",
    "    \n",
    "    # Create subplot layout\n",
    "    fig = make_subplots(\n",
    "        rows=2, cols=2,\n",
    "        subplot_titles=('Predictions vs Actuals', 'Prediction Errors (%)', 'Model Performance (MAE)', 'Model Rankings'),\n",
    "        specs=[[{'secondary_y': False}, {'secondary_y': False}],\n",
    "               [{'secondary_y': False}, {'secondary_y': False}]]\n",
    "    )\n",
    "    \n",
    "    # Plot 1: Predictions vs Actuals\n",
    "    fig.add_trace(\n",
    "        go.Scatter(x=dates, y=actuals, mode='lines+markers', name='Actual', \n",
    "                  line=dict(color='black', width=4), marker=dict(size=10)),\n",
    "        row=1, col=1\n",
    "    )\n",
    "    \n",
    "    # Color palette for models\n",
    "    colors = px.colors.qualitative.Set3\n",
    "    model_errors = {}\n",
    "    model_mapes = {}\n",
    "    \n",
    "    for i, model in enumerate(sorted(all_models)):\n",
    "        predictions = []\n",
    "        errors = []\n",
    "        percentage_errors = []\n",
    "        \n",
    "        for p in predictions_data:\n",
    "            if model in p['predictions']:\n",
    "                pred_value = p['predictions'][model]['prediction']\n",
    "                predictions.append(pred_value)\n",
    "                error = abs(pred_value - p['actual'])\n",
    "                errors.append(error)\n",
    "                percentage_errors.append((error / p['actual']) * 100)\n",
    "            else:\n",
    "                predictions.append(None)\n",
    "                errors.append(None)\n",
    "                percentage_errors.append(None)\n",
    "        \n",
    "        model_errors[model] = np.nanmean(errors) if errors else 0\n",
    "        model_mapes[model] = np.nanmean(percentage_errors) if percentage_errors else 0\n",
    "        \n",
    "        # Plot predictions\n",
    "        fig.add_trace(\n",
    "            go.Scatter(x=dates, y=predictions, mode='lines+markers', \n",
    "                      name=f'{model}', line=dict(color=colors[i % len(colors)]),\n",
    "                      marker=dict(size=6)),\n",
    "            row=1, col=1\n",
    "        )\n",
    "        \n",
    "        # Plot percentage errors\n",
    "        fig.add_trace(\n",
    "            go.Scatter(x=dates, y=percentage_errors, mode='lines+markers', \n",
    "                      name=f'{model} Error %', line=dict(color=colors[i % len(colors)]),\n",
    "                      showlegend=False),\n",
    "            row=1, col=2\n",
    "        )\n",
    "    \n",
    "    # Plot 3: Model Comparison (MAE)\n",
    "    model_names = list(model_errors.keys())\n",
    "    mae_values = list(model_errors.values())\n",
    "    \n",
    "    if model_names:\n",
    "        # Sort by performance\n",
    "        sorted_models = sorted(zip(model_names, mae_values), key=lambda x: x[1])\n",
    "        sorted_names, sorted_maes = zip(*sorted_models)\n",
    "        \n",
    "        fig.add_trace(\n",
    "            go.Bar(x=list(sorted_names), y=list(sorted_maes), name='Mean Absolute Error',\n",
    "                   marker_color=colors[:len(sorted_names)], showlegend=False),\n",
    "            row=2, col=1\n",
    "        )\n",
    "    \n",
    "    # Plot 4: Model Rankings (MAPE)\n",
    "    if model_names:\n",
    "        sorted_mapes = sorted(zip(model_names, [model_mapes[m] for m in model_names]), key=lambda x: x[1])\n",
    "        sorted_mape_names, sorted_mape_values = zip(*sorted_mapes)\n",
    "        \n",
    "        fig.add_trace(\n",
    "            go.Bar(x=list(sorted_mape_names), y=list(sorted_mape_values), name='MAPE %',\n",
    "                   marker_color=px.colors.qualitative.Pastel[:len(sorted_mape_names)], showlegend=False),\n",
    "            row=2, col=2\n",
    "        )\n",
    "    \n",
    "    # Update layout\n",
    "    fig.update_layout(\n",
    "        title_text=f\"USDINR Prediction Analysis - Last {results['n_days']} Days\",\n",
    "        title_x=0.5,\n",
    "        height=900,\n",
    "        showlegend=True,\n",
    "        template='plotly_white',\n",
    "        font=dict(size=10)\n",
    "    )\n",
    "    \n",
    "    # Update axes labels\n",
    "    fig.update_xaxes(title_text=\"Date\", row=1, col=1)\n",
    "    fig.update_yaxes(title_text=\"USD/INR Rate\", row=1, col=1)\n",
    "    fig.update_xaxes(title_text=\"Date\", row=1, col=2)\n",
    "    fig.update_yaxes(title_text=\"Error %\", row=1, col=2)\n",
    "    fig.update_xaxes(title_text=\"Model\", row=2, col=1)\n",
    "    fig.update_yaxes(title_text=\"MAE\", row=2, col=1)\n",
    "    fig.update_xaxes(title_text=\"Model\", row=2, col=2)\n",
    "    fig.update_yaxes(title_text=\"MAPE %\", row=2, col=2)\n",
    "    \n",
    "    # Rotate x-axis labels for better readability\n",
    "    fig.update_xaxes(tickangle=-45, row=2, col=1)\n",
    "    fig.update_xaxes(tickangle=-45, row=2, col=2)\n",
    "    \n",
    "    if save_plots:\n",
    "        fig.write_html(\"usdinr_prediction_analysis_final.html\")\n",
    "        print(\"Interactive plot saved as 'usdinr_prediction_analysis_final.html'\")\n",
    "    \n",
    "    return fig\n",
    "\n",
    "\n",
    "def calculate_prediction_metrics_final(results: Dict) -> pd.DataFrame:\n",
    "    \"\"\"Calculate comprehensive prediction metrics\"\"\"\n",
    "    \n",
    "    predictions_data = results['predictions']\n",
    "    \n",
    "    if not predictions_data:\n",
    "        return pd.DataFrame()\n",
    "    \n",
    "    metrics_list = []\n",
    "    \n",
    "    # Get all model names\n",
    "    all_models = set()\n",
    "    for p in predictions_data:\n",
    "        all_models.update(p['predictions'].keys())\n",
    "    \n",
    "    for model in all_models:\n",
    "        actuals = []\n",
    "        predictions = []\n",
    "        \n",
    "        for p in predictions_data:\n",
    "            if model in p['predictions']:\n",
    "                actuals.append(p['actual'])\n",
    "                predictions.append(p['predictions'][model]['prediction'])\n",
    "        \n",
    "        if len(actuals) > 0:\n",
    "            actuals = np.array(actuals)\n",
    "            predictions = np.array(predictions)\n",
    "            \n",
    "            mae = np.mean(np.abs(predictions - actuals))\n",
    "            mse = np.mean((predictions - actuals) ** 2)\n",
    "            rmse = np.sqrt(mse)\n",
    "            mape = np.mean(np.abs((predictions - actuals) / actuals)) * 100\n",
    "            \n",
    "            # Additional metrics\n",
    "            max_error = np.max(np.abs(predictions - actuals))\n",
    "            bias = np.mean(predictions - actuals)\n",
    "            \n",
    "            # Direction accuracy (did it predict the right trend?)\n",
    "            if len(actuals) > 1:\n",
    "                actual_direction = np.sign(np.diff(actuals))\n",
    "                pred_direction = np.sign(np.diff(predictions))\n",
    "                direction_accuracy = np.mean(actual_direction == pred_direction) * 100\n",
    "            else:\n",
    "                direction_accuracy = np.nan\n",
    "            \n",
    "            metrics_list.append({\n",
    "                'Model': model,\n",
    "                'MAE': round(mae, 4),\n",
    "                'MSE': round(mse, 4),\n",
    "                'RMSE': round(rmse, 4),\n",
    "                'MAPE (%)': round(mape, 2),\n",
    "                'Max Error': round(max_error, 4),\n",
    "                'Bias': round(bias, 4),\n",
    "                'Direction Accuracy (%)': round(direction_accuracy, 1) if not np.isnan(direction_accuracy) else 'N/A',\n",
    "                'Predictions': len(predictions)\n",
    "            })\n",
    "    \n",
    "    df_metrics = pd.DataFrame(metrics_list)\n",
    "    \n",
    "    # Sort by MAPE (best performance first)\n",
    "    if not df_metrics.empty:\n",
    "        df_metrics = df_metrics.sort_values('MAPE (%)')\n",
    "    \n",
    "    return df_metrics\n",
    "\n",
    "\n",
    "def run_usdinr_prediction_final(\n",
    "    csv_file_path: str,\n",
    "    n_days: int = 4,\n",
    "    context_length: int = 30,\n",
    "    target_column: str = 'OPEN PRICE',\n",
    "    date_column: str = 'DATE',\n",
    "    save_results: bool = True\n",
    ") -> Dict:\n",
    "    \"\"\"\n",
    "    Complete pipeline for USDINR prediction with corrected CSV handling\n",
    "    \"\"\"\n",
    "    \n",
    "    print(f\"Loading USDINR data from {csv_file_path}...\")\n",
    "    df = load_and_prepare_yfinance_data_corrected(csv_file_path)\n",
    "    \n",
    "    print(f\"\\nPredicting last {n_days} days using context of {context_length} days...\")\n",
    "    \n",
    "    # Run predictions\n",
    "    results = predict_last_n_days_with_ensemble_final(\n",
    "        df=df,\n",
    "        n_days=n_days,\n",
    "        context_length=context_length,\n",
    "        target_column=target_column,\n",
    "        date_column=date_column\n",
    "    )\n",
    "    \n",
    "    print(\"\\nCreating visualizations...\")\n",
    "    \n",
    "    # Create plots\n",
    "    fig = create_prediction_plots_final(results, save_plots=save_results)\n",
    "    \n",
    "    # Calculate metrics\n",
    "    metrics_df = calculate_prediction_metrics_final(results)\n",
    "    print(\"\\nPrediction Metrics (sorted by performance):\")\n",
    "    print(metrics_df.to_string(index=False))\n",
    "    \n",
    "    # Save detailed results\n",
    "    if save_results:\n",
    "        results_df = pd.DataFrame([\n",
    "            {\n",
    "                'Date': p['date'].strftime('%Y-%m-%d'),\n",
    "                'Actual': p['actual'],\n",
    "                **{f\"{model}_pred\": pred_data['prediction'] \n",
    "                   for model, pred_data in p['predictions'].items()}\n",
    "            }\n",
    "            for p in results['predictions']\n",
    "        ])\n",
    "        \n",
    "        results_df.to_csv(f'USDINR_prediction_results_{n_days}days_final.csv', index=False)\n",
    "        metrics_df.to_csv(f'USDINR_prediction_metrics_{n_days}days_final.csv', index=False)\n",
    "        \n",
    "        # Save summary report\n",
    "        with open(f'USDINR_prediction_summary_{n_days}days.txt', 'w') as f:\n",
    "            f.write(\"=== USDINR PREDICTION ANALYSIS SUMMARY ===\\n\\n\")\n",
    "            f.write(f\"Analysis Period: Last {n_days} days\\n\")\n",
    "            f.write(f\"Context Length: {context_length} days\\n\")\n",
    "            f.write(f\"Data Range: {df['DATE'].min()} to {df['DATE'].max()}\\n\")\n",
    "            f.write(f\"Total Data Points: {len(df)}\\n\\n\")\n",
    "            \n",
    "            f.write(\"MODEL PERFORMANCE RANKING:\\n\")\n",
    "            f.write(metrics_df[['Model', 'MAPE (%)', 'MAE', 'Direction Accuracy (%)']].to_string(index=False))\n",
    "            f.write(\"\\n\\n\")\n",
    "            \n",
    "            if results['predictions']:\n",
    "                best_model = metrics_df.iloc[0]['Model']\n",
    "                f.write(f\"BEST PERFORMING MODEL: {best_model}\\n\")\n",
    "                f.write(f\"Best Model MAPE: {metrics_df.iloc[0]['MAPE (%)']}%\\n\")\n",
    "\n",
    "        print(\"\\nResults saved to CSV files and summary report\")\n",
    "\n",
    "    return {\n",
    "        'results': results,\n",
    "        'figure': fig,\n",
    "        'metrics': metrics_df,\n",
    "        'predictions_df': results_df if save_results else None,\n",
    "        'data': df\n",
    "    }\n",
    "\n",
    "\n",
    "# Usage example\n",
    "if __name__ == \"__main__\":\n",
    "    \n",
    "    # Configuration for your specific CSV format\n",
    "    config = {\n",
    "        'csv_file_path': 'USDINR_daily.csv',\n",
    "        'n_days': 2,\n",
    "        'context_length': 30,\n",
    "        'target_column': 'OPEN PRICE',\n",
    "        'date_column': 'DATE',\n",
    "        'save_results': True\n",
    "    }\n",
    "    \n",
    "    # Run complete analysis\n",
    "    print(\"Starting USDINR Prediction Analysis...\")\n",
    "    print(\"=\"*50)\n",
    "    \n",
    "    analysis_results = run_usdinr_prediction_final(**config)\n",
    "    \n",
    "    # Display the interactive plot\n",
    "    analysis_results['figure'].show()\n",
    "    \n",
    "    print(\"\\n\" + \"=\"*60)\n",
    "    print(\"✅ ANALYSIS COMPLETE\")\n",
    "    print(\"=\"*60)\n",
    "    print(f\"✓ Loaded {len(analysis_results['data'])} days of USDINR data\")\n",
    "    print(f\"✓ Predicted last {config['n_days']} days\")\n",
    "    print(\"✓ Interactive plot created and saved\")\n",
    "    print(\"✓ Comprehensive metrics calculated\")\n",
    "    print(\"✓ Results saved to CSV files\")\n",
    "    print(\"✓ Summary report generated\")\n",
    "    \n",
    "    # Print best model\n",
    "    if not analysis_results['metrics'].empty:\n",
    "        best_model = analysis_results['metrics'].iloc[0]\n",
    "        print(f\"\\n🏆 BEST MODEL: {best_model['Model']}\")\n",
    "        print(f\"   MAPE: {best_model['MAPE (%)']}%\")\n",
    "        print(f\"   MAE: {best_model['MAE']}\")\n",
    "        print(f\"   Direction Accuracy: {best_model['Direction Accuracy (%)']}\")\n"
   ]
  }
 ],
 "metadata": {
  "kernelspec": {
   "display_name": "base",
   "language": "python",
   "name": "python3"
  },
  "language_info": {
   "codemirror_mode": {
    "name": "ipython",
    "version": 3
   },
   "file_extension": ".py",
   "mimetype": "text/x-python",
   "name": "python",
   "nbconvert_exporter": "python",
   "pygments_lexer": "ipython3",
   "version": "3.11.11"
  }
 },
 "nbformat": 4,
 "nbformat_minor": 5
}
